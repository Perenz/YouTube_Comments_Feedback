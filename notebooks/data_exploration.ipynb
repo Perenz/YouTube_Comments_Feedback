{
 "metadata": {
  "language_info": {
   "codemirror_mode": {
    "name": "ipython",
    "version": 3
   },
   "file_extension": ".py",
   "mimetype": "text/x-python",
   "name": "python",
   "nbconvert_exporter": "python",
   "pygments_lexer": "ipython3",
   "version": "3.8.3-final"
  },
  "orig_nbformat": 2,
  "kernelspec": {
   "name": "python3",
   "display_name": "Python 3"
  }
 },
 "nbformat": 4,
 "nbformat_minor": 2,
 "cells": [
  {
   "cell_type": "code",
   "execution_count": 1,
   "metadata": {},
   "outputs": [],
   "source": [
    "import json\n",
    "import pandas as pd"
   ]
  },
  {
   "cell_type": "markdown",
   "metadata": {},
   "source": [
    "# Explore type of videos"
   ]
  },
  {
   "cell_type": "code",
   "execution_count": 19,
   "metadata": {
    "tags": []
   },
   "outputs": [
    {
     "output_type": "stream",
     "name": "stdout",
     "text": "Categories:\nFilm & Animation, id: 1\nAutos & Vehicles, id: 2\nMusic, id: 10\nPets & Animals, id: 15\nSports, id: 17\nShort Movies, id: 18\nTravel & Events, id: 19\nGaming, id: 20\nVideoblogging, id: 21\nPeople & Blogs, id: 22\nComedy, id: 23\nEntertainment, id: 24\nNews & Politics, id: 25\nHowto & Style, id: 26\nEducation, id: 27\nScience & Technology, id: 28\nMovies, id: 30\nAnime/Animation, id: 31\nAction/Adventure, id: 32\nClassics, id: 33\nComedy, id: 34\nDocumentary, id: 35\nDrama, id: 36\nFamily, id: 37\nForeign, id: 38\nHorror, id: 39\nSci-Fi/Fantasy, id: 40\nThriller, id: 41\nShorts, id: 42\nShows, id: 43\nTrailers, id: 44\n{29: 'Unkown', 1: 'Film & Animation', 2: 'Autos & Vehicles', 10: 'Music', 15: 'Pets & Animals', 17: 'Sports', 18: 'Short Movies', 19: 'Travel & Events', 20: 'Gaming', 21: 'Videoblogging', 22: 'People & Blogs', 23: 'Comedy', 24: 'Entertainment', 25: 'News & Politics', 26: 'Howto & Style', 27: 'Education', 28: 'Science & Technology', 30: 'Movies', 31: 'Anime/Animation', 32: 'Action/Adventure', 33: 'Classics', 34: 'Comedy', 35: 'Documentary', 36: 'Drama', 37: 'Family', 38: 'Foreign', 39: 'Horror', 40: 'Sci-Fi/Fantasy', 41: 'Thriller', 42: 'Shorts', 43: 'Shows', 44: 'Trailers'}\n"
    }
   ],
   "source": [
    "with open(\"../data/GB_category_id.json\") as json_input:\n",
    "    categories = json.load(json_input)\n",
    "\n",
    "categories_mapping = {29:'Unkown'}\n",
    "print(\"Categories:\")\n",
    "for c in categories['items']:\n",
    "    print(f\"{c['snippet']['title']}, id: {c['id']}\")\n",
    "    categories_mapping[int(c['id'])] = c['snippet']['title']\n",
    "    \n",
    "print(categories_mapping)\n",
    "#Music, id: 10"
   ]
  },
  {
   "cell_type": "code",
   "execution_count": 42,
   "metadata": {
    "tags": []
   },
   "outputs": [
    {
     "output_type": "stream",
     "name": "stdout",
     "text": "Index(['video_id', 'title', 'channel_title', 'category_id'], dtype='object')\n"
    },
    {
     "output_type": "execute_result",
     "data": {
      "text/plain": "       category_id\ncount  7993.000000\nmean     19.738271\nstd       7.178132\nmin       1.000000\n25%      17.000000\n50%      23.000000\n75%      24.000000\nmax      29.000000",
      "text/html": "<div>\n<style scoped>\n    .dataframe tbody tr th:only-of-type {\n        vertical-align: middle;\n    }\n\n    .dataframe tbody tr th {\n        vertical-align: top;\n    }\n\n    .dataframe thead th {\n        text-align: right;\n    }\n</style>\n<table border=\"1\" class=\"dataframe\">\n  <thead>\n    <tr style=\"text-align: right;\">\n      <th></th>\n      <th>category_id</th>\n    </tr>\n  </thead>\n  <tbody>\n    <tr>\n      <th>count</th>\n      <td>7993.000000</td>\n    </tr>\n    <tr>\n      <th>mean</th>\n      <td>19.738271</td>\n    </tr>\n    <tr>\n      <th>std</th>\n      <td>7.178132</td>\n    </tr>\n    <tr>\n      <th>min</th>\n      <td>1.000000</td>\n    </tr>\n    <tr>\n      <th>25%</th>\n      <td>17.000000</td>\n    </tr>\n    <tr>\n      <th>50%</th>\n      <td>23.000000</td>\n    </tr>\n    <tr>\n      <th>75%</th>\n      <td>24.000000</td>\n    </tr>\n    <tr>\n      <th>max</th>\n      <td>29.000000</td>\n    </tr>\n  </tbody>\n</table>\n</div>"
     },
     "metadata": {},
     "execution_count": 42
    }
   ],
   "source": [
    "column_list = ['video_id', 'title', 'channel_title', 'category_id']\n",
    "videos = pd.read_csv(\"../data/GBvideos.csv\", usecols=column_list)\n",
    "print(videos.columns)\n",
    "\n",
    "videos.describe()"
   ]
  },
  {
   "cell_type": "markdown",
   "metadata": {},
   "source": [
    "Many entries are repeated for the same videos but taken in different dates. \n",
    "We will keep only one entry for each videoID"
   ]
  },
  {
   "cell_type": "code",
   "execution_count": 36,
   "metadata": {},
   "outputs": [],
   "source": [
    "videos = videos.drop_duplicates()"
   ]
  },
  {
   "cell_type": "code",
   "execution_count": 40,
   "metadata": {},
   "outputs": [
    {
     "output_type": "execute_result",
     "data": {
      "text/plain": "       category_id\ncount  1776.000000\nmean     19.766329\nstd       7.025187\nmin       1.000000\n25%      17.000000\n50%      22.000000\n75%      24.000000\nmax      29.000000",
      "text/html": "<div>\n<style scoped>\n    .dataframe tbody tr th:only-of-type {\n        vertical-align: middle;\n    }\n\n    .dataframe tbody tr th {\n        vertical-align: top;\n    }\n\n    .dataframe thead th {\n        text-align: right;\n    }\n</style>\n<table border=\"1\" class=\"dataframe\">\n  <thead>\n    <tr style=\"text-align: right;\">\n      <th></th>\n      <th>category_id</th>\n    </tr>\n  </thead>\n  <tbody>\n    <tr>\n      <th>count</th>\n      <td>1776.000000</td>\n    </tr>\n    <tr>\n      <th>mean</th>\n      <td>19.766329</td>\n    </tr>\n    <tr>\n      <th>std</th>\n      <td>7.025187</td>\n    </tr>\n    <tr>\n      <th>min</th>\n      <td>1.000000</td>\n    </tr>\n    <tr>\n      <th>25%</th>\n      <td>17.000000</td>\n    </tr>\n    <tr>\n      <th>50%</th>\n      <td>22.000000</td>\n    </tr>\n    <tr>\n      <th>75%</th>\n      <td>24.000000</td>\n    </tr>\n    <tr>\n      <th>max</th>\n      <td>29.000000</td>\n    </tr>\n  </tbody>\n</table>\n</div>"
     },
     "metadata": {},
     "execution_count": 40
    }
   ],
   "source": [
    "#Add category column as a name\n",
    "category_name = []\n",
    "for index, row in videos.iterrows():\n",
    "    category_name.append(categories_mapping[int(row['category_id'])])\n",
    "\n",
    "videos['category_name'] = category_name\n",
    "\n",
    "videos.describe()"
   ]
  },
  {
   "cell_type": "code",
   "execution_count": 43,
   "metadata": {},
   "outputs": [
    {
     "output_type": "execute_result",
     "data": {
      "text/plain": "      video_id                                              title  \\\n0  jt2OHQh0HoQ  Live Apple Event - Apple September Event 2017 ...   \n1  AqokkXoa7uE  Holly and Phillip Meet Samantha the Sex Robot ...   \n2  YPVcg45W0z4                    My DNA Test Results! I'm WHAT?!   \n3  T_PuZBdT2iM  getting into a conversation in a language you ...   \n4  NsjsmgmbCfc                               Baby Name Challenge!   \n\n       channel_title  category_id  \n0        Apple Event           28  \n1       This Morning           24  \n2       emmablackery           24  \n3              ProZD            1  \n4  Sprinkleofglitter           26  ",
      "text/html": "<div>\n<style scoped>\n    .dataframe tbody tr th:only-of-type {\n        vertical-align: middle;\n    }\n\n    .dataframe tbody tr th {\n        vertical-align: top;\n    }\n\n    .dataframe thead th {\n        text-align: right;\n    }\n</style>\n<table border=\"1\" class=\"dataframe\">\n  <thead>\n    <tr style=\"text-align: right;\">\n      <th></th>\n      <th>video_id</th>\n      <th>title</th>\n      <th>channel_title</th>\n      <th>category_id</th>\n    </tr>\n  </thead>\n  <tbody>\n    <tr>\n      <th>0</th>\n      <td>jt2OHQh0HoQ</td>\n      <td>Live Apple Event - Apple September Event 2017 ...</td>\n      <td>Apple Event</td>\n      <td>28</td>\n    </tr>\n    <tr>\n      <th>1</th>\n      <td>AqokkXoa7uE</td>\n      <td>Holly and Phillip Meet Samantha the Sex Robot ...</td>\n      <td>This Morning</td>\n      <td>24</td>\n    </tr>\n    <tr>\n      <th>2</th>\n      <td>YPVcg45W0z4</td>\n      <td>My DNA Test Results! I'm WHAT?!</td>\n      <td>emmablackery</td>\n      <td>24</td>\n    </tr>\n    <tr>\n      <th>3</th>\n      <td>T_PuZBdT2iM</td>\n      <td>getting into a conversation in a language you ...</td>\n      <td>ProZD</td>\n      <td>1</td>\n    </tr>\n    <tr>\n      <th>4</th>\n      <td>NsjsmgmbCfc</td>\n      <td>Baby Name Challenge!</td>\n      <td>Sprinkleofglitter</td>\n      <td>26</td>\n    </tr>\n  </tbody>\n</table>\n</div>"
     },
     "metadata": {},
     "execution_count": 43
    }
   ],
   "source": [
    "videos.head()"
   ]
  },
  {
   "cell_type": "code",
   "execution_count": 38,
   "metadata": {},
   "outputs": [
    {
     "output_type": "execute_result",
     "data": {
      "text/plain": "category_id  category_name       \n1            Film & Animation         78\n2            Autos & Vehicles         14\n10           Music                   288\n15           Pets & Animals           21\n17           Sports                  171\n19           Travel & Events          10\n20           Gaming                   67\n22           People & Blogs          250\n23           Comedy                  124\n24           Entertainment           327\n25           News & Politics          69\n26           Howto & Style           256\n27           Education                46\n28           Science & Technology     51\n29           Unkown                    4\ndtype: int64"
     },
     "metadata": {},
     "execution_count": 38
    }
   ],
   "source": [
    "#Count videos per category\n",
    "videos.groupby(['category_id', 'category_name']).size()"
   ]
  },
  {
   "cell_type": "markdown",
   "metadata": {},
   "source": [
    "288 are music videos"
   ]
  },
  {
   "cell_type": "markdown",
   "metadata": {},
   "source": [
    "# Explore the number of comments for a given category"
   ]
  },
  {
   "cell_type": "code",
   "execution_count": null,
   "metadata": {},
   "outputs": [],
   "source": []
  }
 ]
}