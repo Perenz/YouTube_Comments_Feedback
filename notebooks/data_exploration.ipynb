{
 "metadata": {
  "language_info": {
   "codemirror_mode": {
    "name": "ipython",
    "version": 3
   },
   "file_extension": ".py",
   "mimetype": "text/x-python",
   "name": "python",
   "nbconvert_exporter": "python",
   "pygments_lexer": "ipython3",
   "version": "3.8.3-final"
  },
  "orig_nbformat": 2,
  "kernelspec": {
   "name": "python3",
   "display_name": "Python 3"
  }
 },
 "nbformat": 4,
 "nbformat_minor": 2,
 "cells": [
  {
   "cell_type": "code",
   "execution_count": 48,
   "metadata": {},
   "outputs": [],
   "source": [
    "import json\n",
    "import pandas as pd\n",
    "import matplotlib.pyplot as plt"
   ]
  },
  {
   "cell_type": "markdown",
   "metadata": {},
   "source": [
    "# Explore type of videos"
   ]
  },
  {
   "cell_type": "code",
   "execution_count": 18,
   "metadata": {
    "tags": []
   },
   "outputs": [
    {
     "output_type": "stream",
     "name": "stdout",
     "text": "Categories:\nFilm & Animation, id: 1\nAutos & Vehicles, id: 2\nMusic, id: 10\nPets & Animals, id: 15\nSports, id: 17\nShort Movies, id: 18\nTravel & Events, id: 19\nGaming, id: 20\nVideoblogging, id: 21\nPeople & Blogs, id: 22\nComedy, id: 23\nEntertainment, id: 24\nNews & Politics, id: 25\nHowto & Style, id: 26\nEducation, id: 27\nScience & Technology, id: 28\nNonprofits & Activism, id: 29\nMovies, id: 30\nAnime/Animation, id: 31\nAction/Adventure, id: 32\nClassics, id: 33\nComedy, id: 34\nDocumentary, id: 35\nDrama, id: 36\nFamily, id: 37\nForeign, id: 38\nHorror, id: 39\nSci-Fi/Fantasy, id: 40\nThriller, id: 41\nShorts, id: 42\nShows, id: 43\nTrailers, id: 44\n{1: 'Film & Animation', 2: 'Autos & Vehicles', 10: 'Music', 15: 'Pets & Animals', 17: 'Sports', 18: 'Short Movies', 19: 'Travel & Events', 20: 'Gaming', 21: 'Videoblogging', 22: 'People & Blogs', 23: 'Comedy', 24: 'Entertainment', 25: 'News & Politics', 26: 'Howto & Style', 27: 'Education', 28: 'Science & Technology', 29: 'Nonprofits & Activism', 30: 'Movies', 31: 'Anime/Animation', 32: 'Action/Adventure', 33: 'Classics', 34: 'Comedy', 35: 'Documentary', 36: 'Drama', 37: 'Family', 38: 'Foreign', 39: 'Horror', 40: 'Sci-Fi/Fantasy', 41: 'Thriller', 42: 'Shorts', 43: 'Shows', 44: 'Trailers'}\n"
    }
   ],
   "source": [
    "with open(\"../data/US_category_id.json\") as json_input:\n",
    "    categories = json.load(json_input)\n",
    "\n",
    "print(\"Categories:\")\n",
    "categories_mapping = {}\n",
    "for c in categories['items']:\n",
    "    print(f\"{c['snippet']['title']}, id: {c['id']}\")\n",
    "    categories_mapping[int(c['id'])] = c['snippet']['title']\n",
    "    \n",
    "print(categories_mapping)\n",
    "#Music, id: 10"
   ]
  },
  {
   "cell_type": "code",
   "execution_count": 19,
   "metadata": {
    "tags": []
   },
   "outputs": [
    {
     "output_type": "stream",
     "name": "stdout",
     "text": "Index(['video_id', 'title', 'channel_title', 'category_id'], dtype='object')\n"
    },
    {
     "output_type": "execute_result",
     "data": {
      "text/plain": "       category_id\ncount  7998.000000\nmean     20.217679\nstd       7.415364\nmin       1.000000\n25%      17.000000\n50%      23.000000\n75%      25.000000\nmax      43.000000",
      "text/html": "<div>\n<style scoped>\n    .dataframe tbody tr th:only-of-type {\n        vertical-align: middle;\n    }\n\n    .dataframe tbody tr th {\n        vertical-align: top;\n    }\n\n    .dataframe thead th {\n        text-align: right;\n    }\n</style>\n<table border=\"1\" class=\"dataframe\">\n  <thead>\n    <tr style=\"text-align: right;\">\n      <th></th>\n      <th>category_id</th>\n    </tr>\n  </thead>\n  <tbody>\n    <tr>\n      <th>count</th>\n      <td>7998.000000</td>\n    </tr>\n    <tr>\n      <th>mean</th>\n      <td>20.217679</td>\n    </tr>\n    <tr>\n      <th>std</th>\n      <td>7.415364</td>\n    </tr>\n    <tr>\n      <th>min</th>\n      <td>1.000000</td>\n    </tr>\n    <tr>\n      <th>25%</th>\n      <td>17.000000</td>\n    </tr>\n    <tr>\n      <th>50%</th>\n      <td>23.000000</td>\n    </tr>\n    <tr>\n      <th>75%</th>\n      <td>25.000000</td>\n    </tr>\n    <tr>\n      <th>max</th>\n      <td>43.000000</td>\n    </tr>\n  </tbody>\n</table>\n</div>"
     },
     "metadata": {},
     "execution_count": 19
    }
   ],
   "source": [
    "column_list = ['video_id', 'title', 'channel_title', 'category_id']\n",
    "videos = pd.read_csv(\"../data/USvideos.csv\", usecols=column_list, error_bad_lines=False)\n",
    "print(videos.columns)\n",
    "\n",
    "videos.describe()"
   ]
  },
  {
   "cell_type": "markdown",
   "metadata": {},
   "source": [
    "Many entries are repeated for the same videos but taken in different dates. \n",
    "We will keep only one entry for each videoID"
   ]
  },
  {
   "cell_type": "code",
   "execution_count": 20,
   "metadata": {},
   "outputs": [],
   "source": [
    "videos = videos.drop_duplicates()"
   ]
  },
  {
   "cell_type": "code",
   "execution_count": 21,
   "metadata": {},
   "outputs": [
    {
     "output_type": "execute_result",
     "data": {
      "text/plain": "       category_id\ncount  2408.000000\nmean     20.436047\nstd       7.226186\nmin       1.000000\n25%      17.000000\n50%      24.000000\n75%      25.000000\nmax      43.000000",
      "text/html": "<div>\n<style scoped>\n    .dataframe tbody tr th:only-of-type {\n        vertical-align: middle;\n    }\n\n    .dataframe tbody tr th {\n        vertical-align: top;\n    }\n\n    .dataframe thead th {\n        text-align: right;\n    }\n</style>\n<table border=\"1\" class=\"dataframe\">\n  <thead>\n    <tr style=\"text-align: right;\">\n      <th></th>\n      <th>category_id</th>\n    </tr>\n  </thead>\n  <tbody>\n    <tr>\n      <th>count</th>\n      <td>2408.000000</td>\n    </tr>\n    <tr>\n      <th>mean</th>\n      <td>20.436047</td>\n    </tr>\n    <tr>\n      <th>std</th>\n      <td>7.226186</td>\n    </tr>\n    <tr>\n      <th>min</th>\n      <td>1.000000</td>\n    </tr>\n    <tr>\n      <th>25%</th>\n      <td>17.000000</td>\n    </tr>\n    <tr>\n      <th>50%</th>\n      <td>24.000000</td>\n    </tr>\n    <tr>\n      <th>75%</th>\n      <td>25.000000</td>\n    </tr>\n    <tr>\n      <th>max</th>\n      <td>43.000000</td>\n    </tr>\n  </tbody>\n</table>\n</div>"
     },
     "metadata": {},
     "execution_count": 21
    }
   ],
   "source": [
    "#Add category column as a name\n",
    "category_name = []\n",
    "for index, row in videos.iterrows():\n",
    "    category_name.append(categories_mapping[int(row['category_id'])])\n",
    "\n",
    "videos['category_name'] = category_name\n",
    "\n",
    "videos.describe()"
   ]
  },
  {
   "cell_type": "code",
   "execution_count": 22,
   "metadata": {},
   "outputs": [
    {
     "output_type": "execute_result",
     "data": {
      "text/plain": "      video_id                                              title  \\\n0  XpVt6Z1Gjjo  1 YEAR OF VLOGGING -- HOW LOGAN PAUL CHANGED Y...   \n1  K4wEI5zhHB0            iPhone X — Introducing iPhone X — Apple   \n2  cLdxuaxaQwc                                        My Response   \n3  WYYvHb03Eog                          Apple iPhone X first look   \n4  sjlHnJvXdQs                                  iPhone X (parody)   \n\n      channel_title  category_id         category_name  \n0  Logan Paul Vlogs           24         Entertainment  \n1             Apple           28  Science & Technology  \n2         PewDiePie           22        People & Blogs  \n3         The Verge           28  Science & Technology  \n4        jacksfilms           23                Comedy  ",
      "text/html": "<div>\n<style scoped>\n    .dataframe tbody tr th:only-of-type {\n        vertical-align: middle;\n    }\n\n    .dataframe tbody tr th {\n        vertical-align: top;\n    }\n\n    .dataframe thead th {\n        text-align: right;\n    }\n</style>\n<table border=\"1\" class=\"dataframe\">\n  <thead>\n    <tr style=\"text-align: right;\">\n      <th></th>\n      <th>video_id</th>\n      <th>title</th>\n      <th>channel_title</th>\n      <th>category_id</th>\n      <th>category_name</th>\n    </tr>\n  </thead>\n  <tbody>\n    <tr>\n      <th>0</th>\n      <td>XpVt6Z1Gjjo</td>\n      <td>1 YEAR OF VLOGGING -- HOW LOGAN PAUL CHANGED Y...</td>\n      <td>Logan Paul Vlogs</td>\n      <td>24</td>\n      <td>Entertainment</td>\n    </tr>\n    <tr>\n      <th>1</th>\n      <td>K4wEI5zhHB0</td>\n      <td>iPhone X — Introducing iPhone X — Apple</td>\n      <td>Apple</td>\n      <td>28</td>\n      <td>Science &amp; Technology</td>\n    </tr>\n    <tr>\n      <th>2</th>\n      <td>cLdxuaxaQwc</td>\n      <td>My Response</td>\n      <td>PewDiePie</td>\n      <td>22</td>\n      <td>People &amp; Blogs</td>\n    </tr>\n    <tr>\n      <th>3</th>\n      <td>WYYvHb03Eog</td>\n      <td>Apple iPhone X first look</td>\n      <td>The Verge</td>\n      <td>28</td>\n      <td>Science &amp; Technology</td>\n    </tr>\n    <tr>\n      <th>4</th>\n      <td>sjlHnJvXdQs</td>\n      <td>iPhone X (parody)</td>\n      <td>jacksfilms</td>\n      <td>23</td>\n      <td>Comedy</td>\n    </tr>\n  </tbody>\n</table>\n</div>"
     },
     "metadata": {},
     "execution_count": 22
    }
   ],
   "source": [
    "videos.head()"
   ]
  },
  {
   "cell_type": "code",
   "execution_count": 23,
   "metadata": {},
   "outputs": [
    {
     "output_type": "execute_result",
     "data": {
      "text/plain": "category_id  category_name        \n1            Film & Animation         101\n2            Autos & Vehicles          38\n10           Music                    339\n15           Pets & Animals            40\n17           Sports                   153\n19           Travel & Events           18\n20           Gaming                    29\n22           People & Blogs           259\n23           Comedy                   215\n24           Entertainment            488\n25           News & Politics          199\n26           Howto & Style            274\n27           Education                 94\n28           Science & Technology     155\n29           Nonprofits & Activism      5\n43           Shows                      1\ndtype: int64"
     },
     "metadata": {},
     "execution_count": 23
    }
   ],
   "source": [
    "#Count videos per category\n",
    "videos.groupby(['category_id', 'category_name']).size()"
   ]
  },
  {
   "cell_type": "markdown",
   "metadata": {},
   "source": [
    "339 music videos"
   ]
  },
  {
   "cell_type": "markdown",
   "metadata": {},
   "source": [
    "# Explore the number of comments for a given category"
   ]
  },
  {
   "cell_type": "code",
   "execution_count": 24,
   "metadata": {},
   "outputs": [
    {
     "output_type": "execute_result",
     "data": {
      "text/plain": "       video_id                                              title  \\\n20  -Ifnaxi2LQg          Fergie - You Already Know ft. Nicki Minaj   \n24  JhA1Wi9mrns         Kid Rock - Tennessee Mountain Top [Lyrics]   \n30  QBGaO89cBMI                                   Radiohead - Lift   \n41  O78Lpo4ctSE                  LANY - Super Far (Official Video)   \n53  eM_FR7I2Ttw  Harry Styles - The Chain (Fleetwood Mac cover)...   \n\n    channel_title  category_id category_name  \n20     FergieVEVO           10         Music  \n24       Kid Rock           10         Music  \n30      Radiohead           10         Music  \n41       LANYVEVO           10         Music  \n53  BBCRadio1VEVO           10         Music  ",
      "text/html": "<div>\n<style scoped>\n    .dataframe tbody tr th:only-of-type {\n        vertical-align: middle;\n    }\n\n    .dataframe tbody tr th {\n        vertical-align: top;\n    }\n\n    .dataframe thead th {\n        text-align: right;\n    }\n</style>\n<table border=\"1\" class=\"dataframe\">\n  <thead>\n    <tr style=\"text-align: right;\">\n      <th></th>\n      <th>video_id</th>\n      <th>title</th>\n      <th>channel_title</th>\n      <th>category_id</th>\n      <th>category_name</th>\n    </tr>\n  </thead>\n  <tbody>\n    <tr>\n      <th>20</th>\n      <td>-Ifnaxi2LQg</td>\n      <td>Fergie - You Already Know ft. Nicki Minaj</td>\n      <td>FergieVEVO</td>\n      <td>10</td>\n      <td>Music</td>\n    </tr>\n    <tr>\n      <th>24</th>\n      <td>JhA1Wi9mrns</td>\n      <td>Kid Rock - Tennessee Mountain Top [Lyrics]</td>\n      <td>Kid Rock</td>\n      <td>10</td>\n      <td>Music</td>\n    </tr>\n    <tr>\n      <th>30</th>\n      <td>QBGaO89cBMI</td>\n      <td>Radiohead - Lift</td>\n      <td>Radiohead</td>\n      <td>10</td>\n      <td>Music</td>\n    </tr>\n    <tr>\n      <th>41</th>\n      <td>O78Lpo4ctSE</td>\n      <td>LANY - Super Far (Official Video)</td>\n      <td>LANYVEVO</td>\n      <td>10</td>\n      <td>Music</td>\n    </tr>\n    <tr>\n      <th>53</th>\n      <td>eM_FR7I2Ttw</td>\n      <td>Harry Styles - The Chain (Fleetwood Mac cover)...</td>\n      <td>BBCRadio1VEVO</td>\n      <td>10</td>\n      <td>Music</td>\n    </tr>\n  </tbody>\n</table>\n</div>"
     },
     "metadata": {},
     "execution_count": 24
    }
   ],
   "source": [
    "category = 'Music'\n",
    "inv_mapping = {v: k for k, v in categories_mapping.items()}\n",
    "\n",
    "category_id = inv_mapping[category]\n",
    "\n",
    "category_videos = videos[videos['category_id']== category_id] \n",
    "category_videos.head()"
   ]
  },
  {
   "cell_type": "code",
   "execution_count": 25,
   "metadata": {
    "tags": []
   },
   "outputs": [
    {
     "output_type": "stream",
     "name": "stderr",
     "text": "b'Skipping line 41589: expected 4 fields, saw 11\\nSkipping line 51628: expected 4 fields, saw 7\\nSkipping line 114465: expected 4 fields, saw 5\\n'\nb'Skipping line 142496: expected 4 fields, saw 8\\nSkipping line 189732: expected 4 fields, saw 6\\nSkipping line 245218: expected 4 fields, saw 7\\n'\nb'Skipping line 388430: expected 4 fields, saw 5\\n'\n"
    },
    {
     "output_type": "execute_result",
     "data": {
      "text/plain": "           video_id comment_text   likes  replies\ncount        691400       691375  691400   691400\nunique         2266       434076    1284      479\ntop     Hlt3rA-oDao          Lol       0        0\nfreq            800          310  456894   525730",
      "text/html": "<div>\n<style scoped>\n    .dataframe tbody tr th:only-of-type {\n        vertical-align: middle;\n    }\n\n    .dataframe tbody tr th {\n        vertical-align: top;\n    }\n\n    .dataframe thead th {\n        text-align: right;\n    }\n</style>\n<table border=\"1\" class=\"dataframe\">\n  <thead>\n    <tr style=\"text-align: right;\">\n      <th></th>\n      <th>video_id</th>\n      <th>comment_text</th>\n      <th>likes</th>\n      <th>replies</th>\n    </tr>\n  </thead>\n  <tbody>\n    <tr>\n      <th>count</th>\n      <td>691400</td>\n      <td>691375</td>\n      <td>691400</td>\n      <td>691400</td>\n    </tr>\n    <tr>\n      <th>unique</th>\n      <td>2266</td>\n      <td>434076</td>\n      <td>1284</td>\n      <td>479</td>\n    </tr>\n    <tr>\n      <th>top</th>\n      <td>Hlt3rA-oDao</td>\n      <td>Lol</td>\n      <td>0</td>\n      <td>0</td>\n    </tr>\n    <tr>\n      <th>freq</th>\n      <td>800</td>\n      <td>310</td>\n      <td>456894</td>\n      <td>525730</td>\n    </tr>\n  </tbody>\n</table>\n</div>"
     },
     "metadata": {},
     "execution_count": 25
    }
   ],
   "source": [
    "comments = pd.read_csv(\"../data/UScomments.csv\", error_bad_lines=False)\n",
    "\n",
    "comments.describe()"
   ]
  },
  {
   "cell_type": "code",
   "execution_count": 26,
   "metadata": {},
   "outputs": [
    {
     "output_type": "execute_result",
     "data": {
      "text/plain": "      video_id                                       comment_text likes  \\\n0  XpVt6Z1Gjjo                  Logan Paul it's yo big day ‼️‼️‼️     4   \n1  XpVt6Z1Gjjo  I've been following you from the start of your...     3   \n2  XpVt6Z1Gjjo                 Say hi to Kong and maverick for me     3   \n3  XpVt6Z1Gjjo                                MY FAN . attendance     3   \n4  XpVt6Z1Gjjo                                         trending 😉     3   \n\n  replies  \n0       0  \n1       0  \n2       0  \n3       0  \n4       0  ",
      "text/html": "<div>\n<style scoped>\n    .dataframe tbody tr th:only-of-type {\n        vertical-align: middle;\n    }\n\n    .dataframe tbody tr th {\n        vertical-align: top;\n    }\n\n    .dataframe thead th {\n        text-align: right;\n    }\n</style>\n<table border=\"1\" class=\"dataframe\">\n  <thead>\n    <tr style=\"text-align: right;\">\n      <th></th>\n      <th>video_id</th>\n      <th>comment_text</th>\n      <th>likes</th>\n      <th>replies</th>\n    </tr>\n  </thead>\n  <tbody>\n    <tr>\n      <th>0</th>\n      <td>XpVt6Z1Gjjo</td>\n      <td>Logan Paul it's yo big day ‼️‼️‼️</td>\n      <td>4</td>\n      <td>0</td>\n    </tr>\n    <tr>\n      <th>1</th>\n      <td>XpVt6Z1Gjjo</td>\n      <td>I've been following you from the start of your...</td>\n      <td>3</td>\n      <td>0</td>\n    </tr>\n    <tr>\n      <th>2</th>\n      <td>XpVt6Z1Gjjo</td>\n      <td>Say hi to Kong and maverick for me</td>\n      <td>3</td>\n      <td>0</td>\n    </tr>\n    <tr>\n      <th>3</th>\n      <td>XpVt6Z1Gjjo</td>\n      <td>MY FAN . attendance</td>\n      <td>3</td>\n      <td>0</td>\n    </tr>\n    <tr>\n      <th>4</th>\n      <td>XpVt6Z1Gjjo</td>\n      <td>trending 😉</td>\n      <td>3</td>\n      <td>0</td>\n    </tr>\n  </tbody>\n</table>\n</div>"
     },
     "metadata": {},
     "execution_count": 26
    }
   ],
   "source": [
    "comments.head()"
   ]
  },
  {
   "cell_type": "code",
   "execution_count": 27,
   "metadata": {},
   "outputs": [],
   "source": [
    "#Join the two on video_id\n",
    "comments_category = comments.merge(category_videos, how='right')"
   ]
  },
  {
   "cell_type": "code",
   "execution_count": 28,
   "metadata": {},
   "outputs": [
    {
     "output_type": "execute_result",
     "data": {
      "text/plain": "(118606, 8)"
     },
     "metadata": {},
     "execution_count": 28
    }
   ],
   "source": [
    "comments_category.shape"
   ]
  },
  {
   "cell_type": "code",
   "execution_count": 29,
   "metadata": {},
   "outputs": [
    {
     "output_type": "execute_result",
     "data": {
      "text/plain": "      video_id                                       comment_text likes  \\\n0  -Ifnaxi2LQg  Trash and I like fergie but this shit is not g...     0   \n1  -Ifnaxi2LQg                                 So glad she's back     0   \n2  -Ifnaxi2LQg  Nicki Minaj looks like a melted Galaxy bar cov...     0   \n3  -Ifnaxi2LQg  Sorry fergie for my words. but, you are succes...     0   \n4  -Ifnaxi2LQg  Sounds like the song  You know you like it by ...     0   \n\n  replies                                      title channel_title  \\\n0       0  Fergie - You Already Know ft. Nicki Minaj    FergieVEVO   \n1       0  Fergie - You Already Know ft. Nicki Minaj    FergieVEVO   \n2       0  Fergie - You Already Know ft. Nicki Minaj    FergieVEVO   \n3       0  Fergie - You Already Know ft. Nicki Minaj    FergieVEVO   \n4       0  Fergie - You Already Know ft. Nicki Minaj    FergieVEVO   \n\n   category_id category_name  \n0           10         Music  \n1           10         Music  \n2           10         Music  \n3           10         Music  \n4           10         Music  ",
      "text/html": "<div>\n<style scoped>\n    .dataframe tbody tr th:only-of-type {\n        vertical-align: middle;\n    }\n\n    .dataframe tbody tr th {\n        vertical-align: top;\n    }\n\n    .dataframe thead th {\n        text-align: right;\n    }\n</style>\n<table border=\"1\" class=\"dataframe\">\n  <thead>\n    <tr style=\"text-align: right;\">\n      <th></th>\n      <th>video_id</th>\n      <th>comment_text</th>\n      <th>likes</th>\n      <th>replies</th>\n      <th>title</th>\n      <th>channel_title</th>\n      <th>category_id</th>\n      <th>category_name</th>\n    </tr>\n  </thead>\n  <tbody>\n    <tr>\n      <th>0</th>\n      <td>-Ifnaxi2LQg</td>\n      <td>Trash and I like fergie but this shit is not g...</td>\n      <td>0</td>\n      <td>0</td>\n      <td>Fergie - You Already Know ft. Nicki Minaj</td>\n      <td>FergieVEVO</td>\n      <td>10</td>\n      <td>Music</td>\n    </tr>\n    <tr>\n      <th>1</th>\n      <td>-Ifnaxi2LQg</td>\n      <td>So glad she's back</td>\n      <td>0</td>\n      <td>0</td>\n      <td>Fergie - You Already Know ft. Nicki Minaj</td>\n      <td>FergieVEVO</td>\n      <td>10</td>\n      <td>Music</td>\n    </tr>\n    <tr>\n      <th>2</th>\n      <td>-Ifnaxi2LQg</td>\n      <td>Nicki Minaj looks like a melted Galaxy bar cov...</td>\n      <td>0</td>\n      <td>0</td>\n      <td>Fergie - You Already Know ft. Nicki Minaj</td>\n      <td>FergieVEVO</td>\n      <td>10</td>\n      <td>Music</td>\n    </tr>\n    <tr>\n      <th>3</th>\n      <td>-Ifnaxi2LQg</td>\n      <td>Sorry fergie for my words. but, you are succes...</td>\n      <td>0</td>\n      <td>0</td>\n      <td>Fergie - You Already Know ft. Nicki Minaj</td>\n      <td>FergieVEVO</td>\n      <td>10</td>\n      <td>Music</td>\n    </tr>\n    <tr>\n      <th>4</th>\n      <td>-Ifnaxi2LQg</td>\n      <td>Sounds like the song  You know you like it by ...</td>\n      <td>0</td>\n      <td>0</td>\n      <td>Fergie - You Already Know ft. Nicki Minaj</td>\n      <td>FergieVEVO</td>\n      <td>10</td>\n      <td>Music</td>\n    </tr>\n  </tbody>\n</table>\n</div>"
     },
     "metadata": {},
     "execution_count": 29
    }
   ],
   "source": [
    "comments_category.head()"
   ]
  },
  {
   "cell_type": "markdown",
   "metadata": {},
   "source": [
    "Check for missing data in comment_text and remove them"
   ]
  },
  {
   "cell_type": "code",
   "execution_count": 38,
   "metadata": {
    "tags": []
   },
   "outputs": [
    {
     "output_type": "stream",
     "name": "stdout",
     "text": "13\n['7YAAyUFL1GQ' 'zmg9tVaMVd4' 's3Hk_lDw5yo' '941Bl3oxk8Y' '8I1B4n_8Cto'\n 'ZXvbz8cqafM' '-3lMEZ6k5NA' 'AYyXQcuo8wA' 'mP_fKeq_o8A' 'Kn4KUvDzQFg'\n '5gH8iXNW8wE']\n"
    },
    {
     "output_type": "execute_result",
     "data": {
      "text/plain": "           video_id                                       comment_text likes  \\\n34780   7YAAyUFL1GQ                Who's here before a million views ?    98   \n34781   7YAAyUFL1GQ  'IM PRETTY SURE THUS ISNT HOW THE STORY ENDS'\\...     8   \n34782   7YAAyUFL1GQ             This song is keeping me going honestly     0   \n34783   7YAAyUFL1GQ                this band should fall out of a boat     0   \n34784   7YAAyUFL1GQ  Okay pretty good, the video was far out the mu...     0   \n...             ...                                                ...   ...   \n639152  8I1B4n_8Cto  With this and his other new stuff Beck is push...     0   \n639153  8I1B4n_8Cto        Song’s addicting, won’t come out of my head     1   \n639154  8I1B4n_8Cto        i wanna eat some of dat yummy stuff and die     0   \n639155  8I1B4n_8Cto                All of these hands are white... smh     0   \n639156  8I1B4n_8Cto  Wow, video quality is so bad. Even at 1080p it...     0   \n\n       replies  \n34780       12  \n34781        0  \n34782        0  \n34783        0  \n34784        0  \n...        ...  \n639152       0  \n639153       0  \n639154       0  \n639155       0  \n639156       0  \n\n[2200 rows x 4 columns]",
      "text/html": "<div>\n<style scoped>\n    .dataframe tbody tr th:only-of-type {\n        vertical-align: middle;\n    }\n\n    .dataframe tbody tr th {\n        vertical-align: top;\n    }\n\n    .dataframe thead th {\n        text-align: right;\n    }\n</style>\n<table border=\"1\" class=\"dataframe\">\n  <thead>\n    <tr style=\"text-align: right;\">\n      <th></th>\n      <th>video_id</th>\n      <th>comment_text</th>\n      <th>likes</th>\n      <th>replies</th>\n    </tr>\n  </thead>\n  <tbody>\n    <tr>\n      <th>34780</th>\n      <td>7YAAyUFL1GQ</td>\n      <td>Who's here before a million views ?</td>\n      <td>98</td>\n      <td>12</td>\n    </tr>\n    <tr>\n      <th>34781</th>\n      <td>7YAAyUFL1GQ</td>\n      <td>'IM PRETTY SURE THUS ISNT HOW THE STORY ENDS'\\...</td>\n      <td>8</td>\n      <td>0</td>\n    </tr>\n    <tr>\n      <th>34782</th>\n      <td>7YAAyUFL1GQ</td>\n      <td>This song is keeping me going honestly</td>\n      <td>0</td>\n      <td>0</td>\n    </tr>\n    <tr>\n      <th>34783</th>\n      <td>7YAAyUFL1GQ</td>\n      <td>this band should fall out of a boat</td>\n      <td>0</td>\n      <td>0</td>\n    </tr>\n    <tr>\n      <th>34784</th>\n      <td>7YAAyUFL1GQ</td>\n      <td>Okay pretty good, the video was far out the mu...</td>\n      <td>0</td>\n      <td>0</td>\n    </tr>\n    <tr>\n      <th>...</th>\n      <td>...</td>\n      <td>...</td>\n      <td>...</td>\n      <td>...</td>\n    </tr>\n    <tr>\n      <th>639152</th>\n      <td>8I1B4n_8Cto</td>\n      <td>With this and his other new stuff Beck is push...</td>\n      <td>0</td>\n      <td>0</td>\n    </tr>\n    <tr>\n      <th>639153</th>\n      <td>8I1B4n_8Cto</td>\n      <td>Song’s addicting, won’t come out of my head</td>\n      <td>1</td>\n      <td>0</td>\n    </tr>\n    <tr>\n      <th>639154</th>\n      <td>8I1B4n_8Cto</td>\n      <td>i wanna eat some of dat yummy stuff and die</td>\n      <td>0</td>\n      <td>0</td>\n    </tr>\n    <tr>\n      <th>639155</th>\n      <td>8I1B4n_8Cto</td>\n      <td>All of these hands are white... smh</td>\n      <td>0</td>\n      <td>0</td>\n    </tr>\n    <tr>\n      <th>639156</th>\n      <td>8I1B4n_8Cto</td>\n      <td>Wow, video quality is so bad. Even at 1080p it...</td>\n      <td>0</td>\n      <td>0</td>\n    </tr>\n  </tbody>\n</table>\n<p>2200 rows × 4 columns</p>\n</div>"
     },
     "metadata": {},
     "execution_count": 38
    }
   ],
   "source": [
    "print(comments_category['comment_text'].isna().sum())\n",
    "video_nan_comment = comments_category[comments_category['comment_text'].isna()]['video_id'].unique()\n",
    "print(video_nan_comment)\n",
    "comments[comments['video_id'].isin(video_nan_comment)]"
   ]
  },
  {
   "cell_type": "markdown",
   "metadata": {},
   "source": [
    "13 comments have no text. They regard 11 different videos. These videos have other comments with a regular text section.\n",
    "We just remove the 13 comments without text and keep the others"
   ]
  },
  {
   "cell_type": "code",
   "execution_count": 42,
   "metadata": {
    "tags": []
   },
   "outputs": [
    {
     "output_type": "stream",
     "name": "stdout",
     "text": "0\n"
    }
   ],
   "source": [
    "comments_category = comments_category.dropna(subset=['comment_text'])\n",
    "print(comments_category['comment_text'].isna().sum())"
   ]
  },
  {
   "cell_type": "markdown",
   "metadata": {},
   "source": [
    "Check for duplicates text"
   ]
  },
  {
   "cell_type": "code",
   "execution_count": 62,
   "metadata": {},
   "outputs": [
    {
     "output_type": "execute_result",
     "data": {
      "text/plain": "comment_text\n 'Literally' 'like' my bestfriend\\nCamila wut?🤔                                                                                                                          3\n *But I Will Tell You If I Don't Like You* 🔥                                                                                                                             1\n EVE - Love Is Blind  is better                                                                                                                                          1\n I LIKE IT MORE THAN THE ORIGINAL CLUB HERE :))))                                                                                                                        4\n I be like send me the addy, hop out the Porsche wit a bhaddie, got a nice  face and a fattie,, do what I say like I'm daddy I loveeeee this verse😍😍😍 you bad asffff😍    1\n                                                                                                                                                                        ..\n🦀 ass nigga, let them crackers pump n up to promote the fuc shyt...                                                                                                      2\n🦄❤💘💛💚💙💜🦄                                                                                                                                                                 2\n🦄🙌🏾🎉👌🏾                                                                                                                                                                   4\n🦋🦋🦋🦋🦋🦋🦋🦋🦋🦋🦋 Sam                                                                                                                                                          1\n🧐🧐🧐                                                                                                                                                                      1\nLength: 72130, dtype: int64"
     },
     "metadata": {},
     "execution_count": 62
    }
   ],
   "source": [
    "comments_category.pivot_table(columns=['comment_text'], aggfunc='size')"
   ]
  },
  {
   "cell_type": "code",
   "execution_count": 108,
   "metadata": {},
   "outputs": [
    {
     "output_type": "execute_result",
     "data": {
      "text/plain": "12033     7YAAyUFL1GQ\n57234     zmg9tVaMVd4\n57374     zmg9tVaMVd4\n62369     s3Hk_lDw5yo\n87265     941Bl3oxk8Y\n103172    8I1B4n_8Cto\n103274    8I1B4n_8Cto\n118600    ZXvbz8cqafM\n118601    -3lMEZ6k5NA\n118602    AYyXQcuo8wA\n118603    mP_fKeq_o8A\n118604    Kn4KUvDzQFg\n118605    5gH8iXNW8wE\nName: video_id, dtype: object"
     },
     "metadata": {},
     "execution_count": 108
    }
   ],
   "source": [
    "comments_category[comments_category['comment_text'].isna()]['video_id']"
   ]
  },
  {
   "cell_type": "markdown",
   "metadata": {},
   "source": [
    "# Explore some stats about the comments text"
   ]
  },
  {
   "cell_type": "code",
   "execution_count": 57,
   "metadata": {
    "tags": []
   },
   "outputs": [
    {
     "output_type": "execute_result",
     "data": {
      "text/plain": "count    118593.000000\nmean         65.042701\nstd         162.447460\nmin           1.000000\n25%          19.000000\n50%          36.000000\n75%          67.000000\nmax        8163.000000\nName: comment_text, dtype: float64"
     },
     "metadata": {},
     "execution_count": 57
    }
   ],
   "source": [
    "# Average lenght in number of characters\n",
    "comments_len = comments_category['comment_text'].apply(lambda x: len(str(x)))\n",
    "comments_len.describe()"
   ]
  },
  {
   "cell_type": "code",
   "execution_count": 65,
   "metadata": {
    "tags": []
   },
   "outputs": [
    {
     "output_type": "stream",
     "name": "stdout",
     "text": "(The Great and terrible Day of the Lord. When Jesus comes back to take up his bride and punish the UNREPENTANT Sinners of this Earth. Those that trample the blood of Jesus under foot):\\n\\nFor the stars of heaven \\nand the constellations thereof \\n\\nshall not give their light:\\nthe sun shall be darkened \\n\\nin his going forth,\\nand the moon shall not \\ncause her light to shine.\\n\\nAnd I will punish the world for their evil, \\nand the wicked for their iniquity;\\n\\nand I will cause the arrogancy of the proud to cease,\\nand will lay low the haughtiness of the terrible.\\n\\nI will make a man more precious than fine gold; \\neven a man than the golden wedge of Ophir.\\n\\nTherefore I will shake the heavens,\\nand the earth shall remove out of her place,\\n\\nin the wrath of the LORD of hosts,\\nand in the day of his fierce anger.\\n\\n(Isaiah 13:10-13).\\n\\n(2 Thessalonians 1:7-9)<---And to you who are troubled rest with us, when the Lord Jesus shall be revealed from heaven with his mighty angels, In flaming fire taking vengeance on them that know not God, and that obey not the gospel of our Lord Jesus Christ: In flaming fire taking vengeance on them that know not God, and that obey not the gospel of our Lord Jesus Christ).\\n\\n(Isaiah 66:15)<---For, behold, the LORD will come with fire, and with his chariots like a whirlwind, to render his anger with fury, and his rebuke with flames of fire.\\n\\n(Isaiah 29:6)<---Thou shalt be visited of the LORD of hosts with thunder, and with earthquake, and great noise, with storm and tempest, and the flame of devouring fire.\\n\\n(Revelation 19:12)<---His eyes were as a flame of fire, and on his head were many crowns; and he had a name written, that no man knew, but he himself.\\n___________________________________________________________________________________________________________________________\\n(REPENTANCE is required to be hidden from the Lords anger/JUDGMENT DAY!):\\n\\nSeek ye the LORD,\\nall ye meek of the earth,\\nwho have upheld his justice;\\n\\nseek righteousness,\\nseek meekness:\\n\\nit may be ye\\nshall be hid\\n\\nin the day of the LORD'S anger.\\n\\n(Zephaniah 2:3).\\n\\n***(Seek The Lord): This is the language of true (REPENTANCE), renewal, and regeneration.\\n\\n***(You will be hidden): Zephaniah used a play on words with meaning of his own name, Hidden in the Lord. Even in the midst of the most calamitous judgment scenes, the mercy and grace of the Lord is still available to a (REPENTANT) people.\\n\\n***(Luke 13:3)<---Jesus)<---I tell you, Nay: but, except ye (REPENT), ye shall all likewise perish.\\n\\n***(Luke 5:32)<---(Jesus)<---I came not to call the righteous, but sinners to (REPENTANCE).\\n\\n***(2 Peter 3:9)<---The Lord is not slack concerning his promise, as some men count slackness; but is longsuffering to us-ward, not willing that any should perish, but that all should come to (REPENTANCE).\\n\\n***(Romans 2:4)<---Or do you disregard the riches of His kindness, tolerance, and patience, not realizing that God's kindness leads you to (REPENTANCE?)\\n\\n*** (REPENTANCE):\\n\\n(Greek. Metanoia); Strong's #3341; This Greek word is a compound word derived from meta, meaning after and suggesting some type of change, and nous, meaning mind. \\nThus the word strictly denotes a change of mind.\\nBut it also connotes remorse for sin, accompanied by a desire to turn away from one's sin, to God, for salvation.\\nBoth John the Baptist and Jesus began their ministries with a call to repentance. (See Matthew 3:2, 4:17)---A call that many of the social outcasts and sinners of that day answered, (See Luke 19:1-10),\\nbut that the religious people rejected. (Luke 11:39-44; 18:9-14).\\n___________________________________________________________________________________________________________________________\\n(Jesus is warning us to be watchful for his Second coming, because people will be asleep and will be partaking in the world and fulfilling the sinful desires of their flesh and not walking according to the spirit):\\n\\nAnd take heed to yourselves, \\nlest at any time your hearts \\nbe overcharged with\\n\\nsurfeiting, \\nand drunkenness, \\nand cares of this life,\\n\\nand so that day come upon you unawares.\\n\\n(The DAY of Jesus return should not take us by surprise. We should live as if it is imminent. Are you going to be a WISE or FOOLISH Virgin???).\\n\\nFor as a snare \\nshall it come on all them \\nthat dwell on the face \\nof the whole earth.\\n\\nWatch ye therefore, \\nand pray always,\\n\\nthat ye may be (((accounted worthy)))\\n\\nto (((escape))) (((all these things))),\\n\\n(The Wise virgins will go with Jesus when he comes back for his bride. (Revelation 3:10-11)<---Because thou hast kept the word of my patience, I also will keep thee from the hour of temptation, which shall come upon all the world, to try them that dwell upon the earth. Behold, I come quickly: hold that fast which thou hast, that no man take thy crown). (Matthew 13:30)<---Let both grow together until the harvest: and in the time of harvest I will say to the reapers/Angels, Gather ye together first the tares, and bind them in bundles to burn them: but gather the wheat into my barn). (John 14:2-3)<---In my Father's house are many mansions: if it were not so, I would have told you. I go to prepare a place for you. And if I go and prepare a place for you, I will (((come again))), and (((receive you))) (((unto myself))); that where I am, there ye may be also).\\n\\nthat shall come to pass,\\nand to stand before\\nthe Son of man.\\n\\n(Watch...pray): Jesus encouraged his disciples to be persistent in prayer and faith, looking for the day when the Son of Man exonerates the faithful in the judgment, so that they are able to stand before him.\\n\\n***(1 John 2:28)<---And now, little children, abide in him; that, when he shall appear, we may have confidence, and not be ashamed before him at his coming.\\n\\n***(John 3:2)<---Beloved, now are we the sons of God, and it doth not yet appear what we shall be: but we know that, when he shall appear, we shall be like him; for we shall see him as he is.\\n\\n(Luke 21:34-36).\\n___________________________________________________________________________________________________________________________\\n (REPENTANCE):\\n\\n(Greek. Metanoia); Strong's #3341; This Greek word is a compound word derived from meta, meaning after and suggesting some type of change, and nous, meaning mind. \\nThus the word strictly denotes a change of mind.\\nBut it also connotes remorse for sin, accompanied by a desire to turn away from one's sin, to God, for salvation.\\nBoth John the Baptist and Jesus began their ministries with a call to repentance. (See Matthew 3:2, 4:17)---A call that many of the social outcasts and sinners of that day answered, (See Luke 19:1-10),\\nbut that the religious people rejected. (Luke 11:39-44; 18:9-14).\n"
    }
   ],
   "source": [
    "print(comments_category.loc[78758]['comment_text'])"
   ]
  },
  {
   "cell_type": "code",
   "execution_count": null,
   "metadata": {},
   "outputs": [],
   "source": []
  },
  {
   "cell_type": "code",
   "execution_count": 60,
   "metadata": {},
   "outputs": [
    {
     "output_type": "execute_result",
     "data": {
      "text/plain": "3881      Like if you're watching in 2016, 2017, 2018, 2...\n76709     Featuring Sandra Prescott , Kimberly O'Brien ,...\n78758     (The Great and terrible Day of the Lord. When ...\n78879     (The Great and terrible Day of the Lord. When ...\n78963     (The Great and terrible Day of the Lord. When ...\n115887    (JESUS; THE ALMIGHTY!!!):\\n\\nAnd I saw heaven ...\n115964    (JESUS; THE ALMIGHTY!!!):\\n\\nAnd I saw heaven ...\nName: comment_text, dtype: object"
     },
     "metadata": {},
     "execution_count": 60
    }
   ],
   "source": [
    "comments_category[comments_category['comment_text'].apply(lambda x: len(str(x))) >6000]['comment_text']"
   ]
  }
 ]
}