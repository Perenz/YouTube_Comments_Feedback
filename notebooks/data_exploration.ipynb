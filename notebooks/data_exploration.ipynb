{
 "metadata": {
  "language_info": {
   "codemirror_mode": {
    "name": "ipython",
    "version": 3
   },
   "file_extension": ".py",
   "mimetype": "text/x-python",
   "name": "python",
   "nbconvert_exporter": "python",
   "pygments_lexer": "ipython3",
   "version": "3.8.3-final"
  },
  "orig_nbformat": 2,
  "kernelspec": {
   "name": "python3",
   "display_name": "Python 3"
  }
 },
 "nbformat": 4,
 "nbformat_minor": 2,
 "cells": [
  {
   "cell_type": "code",
   "execution_count": 51,
   "metadata": {},
   "outputs": [],
   "source": [
    "import json\n",
    "import pandas as pd"
   ]
  },
  {
   "cell_type": "markdown",
   "metadata": {},
   "source": [
    "# Explore type of videos"
   ]
  },
  {
   "cell_type": "code",
   "execution_count": 52,
   "metadata": {
    "tags": []
   },
   "outputs": [
    {
     "output_type": "stream",
     "name": "stdout",
     "text": "Categories:\nFilm & Animation, id: 1\nAutos & Vehicles, id: 2\nMusic, id: 10\nPets & Animals, id: 15\nSports, id: 17\nShort Movies, id: 18\nTravel & Events, id: 19\nGaming, id: 20\nVideoblogging, id: 21\nPeople & Blogs, id: 22\nComedy, id: 23\nEntertainment, id: 24\nNews & Politics, id: 25\nHowto & Style, id: 26\nEducation, id: 27\nScience & Technology, id: 28\nNonprofits & Activism, id: 29\nMovies, id: 30\nAnime/Animation, id: 31\nAction/Adventure, id: 32\nClassics, id: 33\nComedy, id: 34\nDocumentary, id: 35\nDrama, id: 36\nFamily, id: 37\nForeign, id: 38\nHorror, id: 39\nSci-Fi/Fantasy, id: 40\nThriller, id: 41\nShorts, id: 42\nShows, id: 43\nTrailers, id: 44\n{29: 'Nonprofits & Activism', 1: 'Film & Animation', 2: 'Autos & Vehicles', 10: 'Music', 15: 'Pets & Animals', 17: 'Sports', 18: 'Short Movies', 19: 'Travel & Events', 20: 'Gaming', 21: 'Videoblogging', 22: 'People & Blogs', 23: 'Comedy', 24: 'Entertainment', 25: 'News & Politics', 26: 'Howto & Style', 27: 'Education', 28: 'Science & Technology', 30: 'Movies', 31: 'Anime/Animation', 32: 'Action/Adventure', 33: 'Classics', 34: 'Comedy', 35: 'Documentary', 36: 'Drama', 37: 'Family', 38: 'Foreign', 39: 'Horror', 40: 'Sci-Fi/Fantasy', 41: 'Thriller', 42: 'Shorts', 43: 'Shows', 44: 'Trailers'}\n"
    }
   ],
   "source": [
    "with open(\"../data/US_category_id.json\") as json_input:\n",
    "    categories = json.load(json_input)\n",
    "\n",
    "print(\"Categories:\")\n",
    "for c in categories['items']:\n",
    "    print(f\"{c['snippet']['title']}, id: {c['id']}\")\n",
    "    categories_mapping[int(c['id'])] = c['snippet']['title']\n",
    "    \n",
    "print(categories_mapping)\n",
    "#Music, id: 10"
   ]
  },
  {
   "cell_type": "code",
   "execution_count": 53,
   "metadata": {
    "tags": []
   },
   "outputs": [
    {
     "output_type": "stream",
     "name": "stdout",
     "text": "Index(['video_id', 'title', 'channel_title', 'category_id'], dtype='object')\n"
    },
    {
     "output_type": "execute_result",
     "data": {
      "text/plain": "       category_id\ncount  7998.000000\nmean     20.217679\nstd       7.415364\nmin       1.000000\n25%      17.000000\n50%      23.000000\n75%      25.000000\nmax      43.000000",
      "text/html": "<div>\n<style scoped>\n    .dataframe tbody tr th:only-of-type {\n        vertical-align: middle;\n    }\n\n    .dataframe tbody tr th {\n        vertical-align: top;\n    }\n\n    .dataframe thead th {\n        text-align: right;\n    }\n</style>\n<table border=\"1\" class=\"dataframe\">\n  <thead>\n    <tr style=\"text-align: right;\">\n      <th></th>\n      <th>category_id</th>\n    </tr>\n  </thead>\n  <tbody>\n    <tr>\n      <th>count</th>\n      <td>7998.000000</td>\n    </tr>\n    <tr>\n      <th>mean</th>\n      <td>20.217679</td>\n    </tr>\n    <tr>\n      <th>std</th>\n      <td>7.415364</td>\n    </tr>\n    <tr>\n      <th>min</th>\n      <td>1.000000</td>\n    </tr>\n    <tr>\n      <th>25%</th>\n      <td>17.000000</td>\n    </tr>\n    <tr>\n      <th>50%</th>\n      <td>23.000000</td>\n    </tr>\n    <tr>\n      <th>75%</th>\n      <td>25.000000</td>\n    </tr>\n    <tr>\n      <th>max</th>\n      <td>43.000000</td>\n    </tr>\n  </tbody>\n</table>\n</div>"
     },
     "metadata": {},
     "execution_count": 53
    }
   ],
   "source": [
    "column_list = ['video_id', 'title', 'channel_title', 'category_id']\n",
    "videos = pd.read_csv(\"../data/USvideos.csv\", usecols=column_list, error_bad_lines=False)\n",
    "print(videos.columns)\n",
    "\n",
    "videos.describe()"
   ]
  },
  {
   "cell_type": "markdown",
   "metadata": {},
   "source": [
    "Many entries are repeated for the same videos but taken in different dates. \n",
    "We will keep only one entry for each videoID"
   ]
  },
  {
   "cell_type": "code",
   "execution_count": 54,
   "metadata": {},
   "outputs": [],
   "source": [
    "videos = videos.drop_duplicates()"
   ]
  },
  {
   "cell_type": "code",
   "execution_count": 55,
   "metadata": {},
   "outputs": [
    {
     "output_type": "execute_result",
     "data": {
      "text/plain": "       category_id\ncount  2408.000000\nmean     20.436047\nstd       7.226186\nmin       1.000000\n25%      17.000000\n50%      24.000000\n75%      25.000000\nmax      43.000000",
      "text/html": "<div>\n<style scoped>\n    .dataframe tbody tr th:only-of-type {\n        vertical-align: middle;\n    }\n\n    .dataframe tbody tr th {\n        vertical-align: top;\n    }\n\n    .dataframe thead th {\n        text-align: right;\n    }\n</style>\n<table border=\"1\" class=\"dataframe\">\n  <thead>\n    <tr style=\"text-align: right;\">\n      <th></th>\n      <th>category_id</th>\n    </tr>\n  </thead>\n  <tbody>\n    <tr>\n      <th>count</th>\n      <td>2408.000000</td>\n    </tr>\n    <tr>\n      <th>mean</th>\n      <td>20.436047</td>\n    </tr>\n    <tr>\n      <th>std</th>\n      <td>7.226186</td>\n    </tr>\n    <tr>\n      <th>min</th>\n      <td>1.000000</td>\n    </tr>\n    <tr>\n      <th>25%</th>\n      <td>17.000000</td>\n    </tr>\n    <tr>\n      <th>50%</th>\n      <td>24.000000</td>\n    </tr>\n    <tr>\n      <th>75%</th>\n      <td>25.000000</td>\n    </tr>\n    <tr>\n      <th>max</th>\n      <td>43.000000</td>\n    </tr>\n  </tbody>\n</table>\n</div>"
     },
     "metadata": {},
     "execution_count": 55
    }
   ],
   "source": [
    "#Add category column as a name\n",
    "category_name = []\n",
    "for index, row in videos.iterrows():\n",
    "    category_name.append(categories_mapping[int(row['category_id'])])\n",
    "\n",
    "videos['category_name'] = category_name\n",
    "\n",
    "videos.describe()"
   ]
  },
  {
   "cell_type": "code",
   "execution_count": 56,
   "metadata": {},
   "outputs": [
    {
     "output_type": "execute_result",
     "data": {
      "text/plain": "      video_id                                              title  \\\n0  XpVt6Z1Gjjo  1 YEAR OF VLOGGING -- HOW LOGAN PAUL CHANGED Y...   \n1  K4wEI5zhHB0            iPhone X — Introducing iPhone X — Apple   \n2  cLdxuaxaQwc                                        My Response   \n3  WYYvHb03Eog                          Apple iPhone X first look   \n4  sjlHnJvXdQs                                  iPhone X (parody)   \n\n      channel_title  category_id         category_name  \n0  Logan Paul Vlogs           24         Entertainment  \n1             Apple           28  Science & Technology  \n2         PewDiePie           22        People & Blogs  \n3         The Verge           28  Science & Technology  \n4        jacksfilms           23                Comedy  ",
      "text/html": "<div>\n<style scoped>\n    .dataframe tbody tr th:only-of-type {\n        vertical-align: middle;\n    }\n\n    .dataframe tbody tr th {\n        vertical-align: top;\n    }\n\n    .dataframe thead th {\n        text-align: right;\n    }\n</style>\n<table border=\"1\" class=\"dataframe\">\n  <thead>\n    <tr style=\"text-align: right;\">\n      <th></th>\n      <th>video_id</th>\n      <th>title</th>\n      <th>channel_title</th>\n      <th>category_id</th>\n      <th>category_name</th>\n    </tr>\n  </thead>\n  <tbody>\n    <tr>\n      <th>0</th>\n      <td>XpVt6Z1Gjjo</td>\n      <td>1 YEAR OF VLOGGING -- HOW LOGAN PAUL CHANGED Y...</td>\n      <td>Logan Paul Vlogs</td>\n      <td>24</td>\n      <td>Entertainment</td>\n    </tr>\n    <tr>\n      <th>1</th>\n      <td>K4wEI5zhHB0</td>\n      <td>iPhone X — Introducing iPhone X — Apple</td>\n      <td>Apple</td>\n      <td>28</td>\n      <td>Science &amp; Technology</td>\n    </tr>\n    <tr>\n      <th>2</th>\n      <td>cLdxuaxaQwc</td>\n      <td>My Response</td>\n      <td>PewDiePie</td>\n      <td>22</td>\n      <td>People &amp; Blogs</td>\n    </tr>\n    <tr>\n      <th>3</th>\n      <td>WYYvHb03Eog</td>\n      <td>Apple iPhone X first look</td>\n      <td>The Verge</td>\n      <td>28</td>\n      <td>Science &amp; Technology</td>\n    </tr>\n    <tr>\n      <th>4</th>\n      <td>sjlHnJvXdQs</td>\n      <td>iPhone X (parody)</td>\n      <td>jacksfilms</td>\n      <td>23</td>\n      <td>Comedy</td>\n    </tr>\n  </tbody>\n</table>\n</div>"
     },
     "metadata": {},
     "execution_count": 56
    }
   ],
   "source": [
    "videos.head()"
   ]
  },
  {
   "cell_type": "code",
   "execution_count": 57,
   "metadata": {},
   "outputs": [
    {
     "output_type": "execute_result",
     "data": {
      "text/plain": "category_id  category_name        \n1            Film & Animation         101\n2            Autos & Vehicles          38\n10           Music                    339\n15           Pets & Animals            40\n17           Sports                   153\n19           Travel & Events           18\n20           Gaming                    29\n22           People & Blogs           259\n23           Comedy                   215\n24           Entertainment            488\n25           News & Politics          199\n26           Howto & Style            274\n27           Education                 94\n28           Science & Technology     155\n29           Nonprofits & Activism      5\n43           Shows                      1\ndtype: int64"
     },
     "metadata": {},
     "execution_count": 57
    }
   ],
   "source": [
    "#Count videos per category\n",
    "videos.groupby(['category_id', 'category_name']).size()"
   ]
  },
  {
   "cell_type": "markdown",
   "metadata": {},
   "source": [
    "339 music videos"
   ]
  },
  {
   "cell_type": "markdown",
   "metadata": {},
   "source": [
    "# Explore the number of comments for a given category"
   ]
  },
  {
   "cell_type": "code",
   "execution_count": 90,
   "metadata": {},
   "outputs": [
    {
     "output_type": "execute_result",
     "data": {
      "text/plain": "       video_id                                              title  \\\n20  -Ifnaxi2LQg          Fergie - You Already Know ft. Nicki Minaj   \n24  JhA1Wi9mrns         Kid Rock - Tennessee Mountain Top [Lyrics]   \n30  QBGaO89cBMI                                   Radiohead - Lift   \n41  O78Lpo4ctSE                  LANY - Super Far (Official Video)   \n53  eM_FR7I2Ttw  Harry Styles - The Chain (Fleetwood Mac cover)...   \n\n    channel_title  category_id category_name  \n20     FergieVEVO           10         Music  \n24       Kid Rock           10         Music  \n30      Radiohead           10         Music  \n41       LANYVEVO           10         Music  \n53  BBCRadio1VEVO           10         Music  ",
      "text/html": "<div>\n<style scoped>\n    .dataframe tbody tr th:only-of-type {\n        vertical-align: middle;\n    }\n\n    .dataframe tbody tr th {\n        vertical-align: top;\n    }\n\n    .dataframe thead th {\n        text-align: right;\n    }\n</style>\n<table border=\"1\" class=\"dataframe\">\n  <thead>\n    <tr style=\"text-align: right;\">\n      <th></th>\n      <th>video_id</th>\n      <th>title</th>\n      <th>channel_title</th>\n      <th>category_id</th>\n      <th>category_name</th>\n    </tr>\n  </thead>\n  <tbody>\n    <tr>\n      <th>20</th>\n      <td>-Ifnaxi2LQg</td>\n      <td>Fergie - You Already Know ft. Nicki Minaj</td>\n      <td>FergieVEVO</td>\n      <td>10</td>\n      <td>Music</td>\n    </tr>\n    <tr>\n      <th>24</th>\n      <td>JhA1Wi9mrns</td>\n      <td>Kid Rock - Tennessee Mountain Top [Lyrics]</td>\n      <td>Kid Rock</td>\n      <td>10</td>\n      <td>Music</td>\n    </tr>\n    <tr>\n      <th>30</th>\n      <td>QBGaO89cBMI</td>\n      <td>Radiohead - Lift</td>\n      <td>Radiohead</td>\n      <td>10</td>\n      <td>Music</td>\n    </tr>\n    <tr>\n      <th>41</th>\n      <td>O78Lpo4ctSE</td>\n      <td>LANY - Super Far (Official Video)</td>\n      <td>LANYVEVO</td>\n      <td>10</td>\n      <td>Music</td>\n    </tr>\n    <tr>\n      <th>53</th>\n      <td>eM_FR7I2Ttw</td>\n      <td>Harry Styles - The Chain (Fleetwood Mac cover)...</td>\n      <td>BBCRadio1VEVO</td>\n      <td>10</td>\n      <td>Music</td>\n    </tr>\n  </tbody>\n</table>\n</div>"
     },
     "metadata": {},
     "execution_count": 90
    }
   ],
   "source": [
    "category = 'Music'\n",
    "inv_mapping = {v: k for k, v in categories_mapping.items()}\n",
    "\n",
    "category_id = inv_mapping[category]\n",
    "\n",
    "category_videos = videos[videos['category_id']== category_id] \n",
    "category_videos.head()"
   ]
  },
  {
   "cell_type": "code",
   "execution_count": 73,
   "metadata": {
    "tags": []
   },
   "outputs": [
    {
     "output_type": "stream",
     "name": "stderr",
     "text": "b'Skipping line 41589: expected 4 fields, saw 11\\nSkipping line 51628: expected 4 fields, saw 7\\nSkipping line 114465: expected 4 fields, saw 5\\n'\nb'Skipping line 142496: expected 4 fields, saw 8\\nSkipping line 189732: expected 4 fields, saw 6\\nSkipping line 245218: expected 4 fields, saw 7\\n'\nb'Skipping line 388430: expected 4 fields, saw 5\\n'\n"
    },
    {
     "output_type": "execute_result",
     "data": {
      "text/plain": "           video_id comment_text   likes  replies\ncount        691400       691375  691400   691400\nunique         2266       434076    1284      479\ntop     sjlHnJvXdQs          Lol       0        0\nfreq            800          310  456894   525730",
      "text/html": "<div>\n<style scoped>\n    .dataframe tbody tr th:only-of-type {\n        vertical-align: middle;\n    }\n\n    .dataframe tbody tr th {\n        vertical-align: top;\n    }\n\n    .dataframe thead th {\n        text-align: right;\n    }\n</style>\n<table border=\"1\" class=\"dataframe\">\n  <thead>\n    <tr style=\"text-align: right;\">\n      <th></th>\n      <th>video_id</th>\n      <th>comment_text</th>\n      <th>likes</th>\n      <th>replies</th>\n    </tr>\n  </thead>\n  <tbody>\n    <tr>\n      <th>count</th>\n      <td>691400</td>\n      <td>691375</td>\n      <td>691400</td>\n      <td>691400</td>\n    </tr>\n    <tr>\n      <th>unique</th>\n      <td>2266</td>\n      <td>434076</td>\n      <td>1284</td>\n      <td>479</td>\n    </tr>\n    <tr>\n      <th>top</th>\n      <td>sjlHnJvXdQs</td>\n      <td>Lol</td>\n      <td>0</td>\n      <td>0</td>\n    </tr>\n    <tr>\n      <th>freq</th>\n      <td>800</td>\n      <td>310</td>\n      <td>456894</td>\n      <td>525730</td>\n    </tr>\n  </tbody>\n</table>\n</div>"
     },
     "metadata": {},
     "execution_count": 73
    }
   ],
   "source": [
    "comments = pd.read_csv(\"../data/UScomments.csv\", error_bad_lines=False)\n",
    "\n",
    "comments.describe()"
   ]
  },
  {
   "cell_type": "code",
   "execution_count": 92,
   "metadata": {},
   "outputs": [
    {
     "output_type": "execute_result",
     "data": {
      "text/plain": "      video_id                                       comment_text likes  \\\n0  XpVt6Z1Gjjo                  Logan Paul it's yo big day ‼️‼️‼️     4   \n1  XpVt6Z1Gjjo  I've been following you from the start of your...     3   \n2  XpVt6Z1Gjjo                 Say hi to Kong and maverick for me     3   \n3  XpVt6Z1Gjjo                                MY FAN . attendance     3   \n4  XpVt6Z1Gjjo                                         trending 😉     3   \n\n  replies  \n0       0  \n1       0  \n2       0  \n3       0  \n4       0  ",
      "text/html": "<div>\n<style scoped>\n    .dataframe tbody tr th:only-of-type {\n        vertical-align: middle;\n    }\n\n    .dataframe tbody tr th {\n        vertical-align: top;\n    }\n\n    .dataframe thead th {\n        text-align: right;\n    }\n</style>\n<table border=\"1\" class=\"dataframe\">\n  <thead>\n    <tr style=\"text-align: right;\">\n      <th></th>\n      <th>video_id</th>\n      <th>comment_text</th>\n      <th>likes</th>\n      <th>replies</th>\n    </tr>\n  </thead>\n  <tbody>\n    <tr>\n      <th>0</th>\n      <td>XpVt6Z1Gjjo</td>\n      <td>Logan Paul it's yo big day ‼️‼️‼️</td>\n      <td>4</td>\n      <td>0</td>\n    </tr>\n    <tr>\n      <th>1</th>\n      <td>XpVt6Z1Gjjo</td>\n      <td>I've been following you from the start of your...</td>\n      <td>3</td>\n      <td>0</td>\n    </tr>\n    <tr>\n      <th>2</th>\n      <td>XpVt6Z1Gjjo</td>\n      <td>Say hi to Kong and maverick for me</td>\n      <td>3</td>\n      <td>0</td>\n    </tr>\n    <tr>\n      <th>3</th>\n      <td>XpVt6Z1Gjjo</td>\n      <td>MY FAN . attendance</td>\n      <td>3</td>\n      <td>0</td>\n    </tr>\n    <tr>\n      <th>4</th>\n      <td>XpVt6Z1Gjjo</td>\n      <td>trending 😉</td>\n      <td>3</td>\n      <td>0</td>\n    </tr>\n  </tbody>\n</table>\n</div>"
     },
     "metadata": {},
     "execution_count": 92
    }
   ],
   "source": [
    "comments.head()"
   ]
  },
  {
   "cell_type": "code",
   "execution_count": 95,
   "metadata": {},
   "outputs": [],
   "source": [
    "#Join the two on video_id\n",
    "comments_category = comments.merge(category_videos, how='right')"
   ]
  },
  {
   "cell_type": "code",
   "execution_count": 96,
   "metadata": {},
   "outputs": [
    {
     "output_type": "execute_result",
     "data": {
      "text/plain": "       category_id\ncount     118606.0\nmean          10.0\nstd            0.0\nmin           10.0\n25%           10.0\n50%           10.0\n75%           10.0\nmax           10.0",
      "text/html": "<div>\n<style scoped>\n    .dataframe tbody tr th:only-of-type {\n        vertical-align: middle;\n    }\n\n    .dataframe tbody tr th {\n        vertical-align: top;\n    }\n\n    .dataframe thead th {\n        text-align: right;\n    }\n</style>\n<table border=\"1\" class=\"dataframe\">\n  <thead>\n    <tr style=\"text-align: right;\">\n      <th></th>\n      <th>category_id</th>\n    </tr>\n  </thead>\n  <tbody>\n    <tr>\n      <th>count</th>\n      <td>118606.0</td>\n    </tr>\n    <tr>\n      <th>mean</th>\n      <td>10.0</td>\n    </tr>\n    <tr>\n      <th>std</th>\n      <td>0.0</td>\n    </tr>\n    <tr>\n      <th>min</th>\n      <td>10.0</td>\n    </tr>\n    <tr>\n      <th>25%</th>\n      <td>10.0</td>\n    </tr>\n    <tr>\n      <th>50%</th>\n      <td>10.0</td>\n    </tr>\n    <tr>\n      <th>75%</th>\n      <td>10.0</td>\n    </tr>\n    <tr>\n      <th>max</th>\n      <td>10.0</td>\n    </tr>\n  </tbody>\n</table>\n</div>"
     },
     "metadata": {},
     "execution_count": 96
    }
   ],
   "source": [
    "comments_category.describe()"
   ]
  },
  {
   "cell_type": "code",
   "execution_count": 97,
   "metadata": {},
   "outputs": [
    {
     "output_type": "execute_result",
     "data": {
      "text/plain": "      video_id                                       comment_text likes  \\\n0  -Ifnaxi2LQg  Trash and I like fergie but this shit is not g...     0   \n1  -Ifnaxi2LQg                                 So glad she's back     0   \n2  -Ifnaxi2LQg  Nicki Minaj looks like a melted Galaxy bar cov...     0   \n3  -Ifnaxi2LQg  Sorry fergie for my words. but, you are succes...     0   \n4  -Ifnaxi2LQg  Sounds like the song  You know you like it by ...     0   \n\n  replies                                      title channel_title  \\\n0       0  Fergie - You Already Know ft. Nicki Minaj    FergieVEVO   \n1       0  Fergie - You Already Know ft. Nicki Minaj    FergieVEVO   \n2       0  Fergie - You Already Know ft. Nicki Minaj    FergieVEVO   \n3       0  Fergie - You Already Know ft. Nicki Minaj    FergieVEVO   \n4       0  Fergie - You Already Know ft. Nicki Minaj    FergieVEVO   \n\n   category_id category_name  \n0           10         Music  \n1           10         Music  \n2           10         Music  \n3           10         Music  \n4           10         Music  ",
      "text/html": "<div>\n<style scoped>\n    .dataframe tbody tr th:only-of-type {\n        vertical-align: middle;\n    }\n\n    .dataframe tbody tr th {\n        vertical-align: top;\n    }\n\n    .dataframe thead th {\n        text-align: right;\n    }\n</style>\n<table border=\"1\" class=\"dataframe\">\n  <thead>\n    <tr style=\"text-align: right;\">\n      <th></th>\n      <th>video_id</th>\n      <th>comment_text</th>\n      <th>likes</th>\n      <th>replies</th>\n      <th>title</th>\n      <th>channel_title</th>\n      <th>category_id</th>\n      <th>category_name</th>\n    </tr>\n  </thead>\n  <tbody>\n    <tr>\n      <th>0</th>\n      <td>-Ifnaxi2LQg</td>\n      <td>Trash and I like fergie but this shit is not g...</td>\n      <td>0</td>\n      <td>0</td>\n      <td>Fergie - You Already Know ft. Nicki Minaj</td>\n      <td>FergieVEVO</td>\n      <td>10</td>\n      <td>Music</td>\n    </tr>\n    <tr>\n      <th>1</th>\n      <td>-Ifnaxi2LQg</td>\n      <td>So glad she's back</td>\n      <td>0</td>\n      <td>0</td>\n      <td>Fergie - You Already Know ft. Nicki Minaj</td>\n      <td>FergieVEVO</td>\n      <td>10</td>\n      <td>Music</td>\n    </tr>\n    <tr>\n      <th>2</th>\n      <td>-Ifnaxi2LQg</td>\n      <td>Nicki Minaj looks like a melted Galaxy bar cov...</td>\n      <td>0</td>\n      <td>0</td>\n      <td>Fergie - You Already Know ft. Nicki Minaj</td>\n      <td>FergieVEVO</td>\n      <td>10</td>\n      <td>Music</td>\n    </tr>\n    <tr>\n      <th>3</th>\n      <td>-Ifnaxi2LQg</td>\n      <td>Sorry fergie for my words. but, you are succes...</td>\n      <td>0</td>\n      <td>0</td>\n      <td>Fergie - You Already Know ft. Nicki Minaj</td>\n      <td>FergieVEVO</td>\n      <td>10</td>\n      <td>Music</td>\n    </tr>\n    <tr>\n      <th>4</th>\n      <td>-Ifnaxi2LQg</td>\n      <td>Sounds like the song  You know you like it by ...</td>\n      <td>0</td>\n      <td>0</td>\n      <td>Fergie - You Already Know ft. Nicki Minaj</td>\n      <td>FergieVEVO</td>\n      <td>10</td>\n      <td>Music</td>\n    </tr>\n  </tbody>\n</table>\n</div>"
     },
     "metadata": {},
     "execution_count": 97
    }
   ],
   "source": [
    "comments_category.head()"
   ]
  },
  {
   "cell_type": "code",
   "execution_count": null,
   "metadata": {},
   "outputs": [],
   "source": []
  }
 ]
}