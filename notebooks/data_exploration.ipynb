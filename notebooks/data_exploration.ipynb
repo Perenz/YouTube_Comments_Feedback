{
 "metadata": {
  "language_info": {
   "codemirror_mode": {
    "name": "ipython",
    "version": 3
   },
   "file_extension": ".py",
   "mimetype": "text/x-python",
   "name": "python",
   "nbconvert_exporter": "python",
   "pygments_lexer": "ipython3",
   "version": "3.9.7-final"
  },
  "orig_nbformat": 2,
  "kernelspec": {
   "name": "python37864bit470f42125e7a48ce8ee68e2625482c3d",
   "display_name": "Python 3.7.8 64-bit"
  }
 },
 "nbformat": 4,
 "nbformat_minor": 2,
 "cells": [
  {
   "cell_type": "code",
   "execution_count": 65,
   "metadata": {
    "tags": []
   },
   "outputs": [
    {
     "output_type": "stream",
     "name": "stderr",
     "text": "/Users/stefanoperenzoni/Library/Python/3.9/lib/python/site-packages/ipykernel/ipkernel.py:283: DeprecationWarning: `should_run_async` will not call `transform_cell` automatically in the future. Please pass the result to `transformed_cell` argument and any exception that happen during thetransform in `preprocessing_exc_tuple` in IPython 7.17 and above.\n  and should_run_async(code)\n"
    }
   ],
   "source": [
    "import json\n",
    "import pandas as pd\n",
    "import matplotlib.pyplot as plt\n",
    "from sklearn.feature_extraction.text import CountVectorizer\n",
    "from sklearn.decomposition import LatentDirichletAllocation\n",
    "import pyLDAvis\n",
    "import pyLDAvis.sklearn"
   ]
  },
  {
   "cell_type": "markdown",
   "metadata": {},
   "source": [
    "# Explore type of videos"
   ]
  },
  {
   "cell_type": "code",
   "execution_count": 34,
   "metadata": {
    "tags": []
   },
   "outputs": [
    {
     "output_type": "stream",
     "name": "stdout",
     "text": "Categories:\nFilm & Animation, id: 1\nAutos & Vehicles, id: 2\nMusic, id: 10\nPets & Animals, id: 15\nSports, id: 17\nShort Movies, id: 18\nTravel & Events, id: 19\nGaming, id: 20\nVideoblogging, id: 21\nPeople & Blogs, id: 22\nComedy, id: 23\nEntertainment, id: 24\nNews & Politics, id: 25\nHowto & Style, id: 26\nEducation, id: 27\nScience & Technology, id: 28\nNonprofits & Activism, id: 29\nMovies, id: 30\nAnime/Animation, id: 31\nAction/Adventure, id: 32\nClassics, id: 33\nComedy, id: 34\nDocumentary, id: 35\nDrama, id: 36\nFamily, id: 37\nForeign, id: 38\nHorror, id: 39\nSci-Fi/Fantasy, id: 40\nThriller, id: 41\nShorts, id: 42\nShows, id: 43\nTrailers, id: 44\n{1: 'Film & Animation', 2: 'Autos & Vehicles', 10: 'Music', 15: 'Pets & Animals', 17: 'Sports', 18: 'Short Movies', 19: 'Travel & Events', 20: 'Gaming', 21: 'Videoblogging', 22: 'People & Blogs', 23: 'Comedy', 24: 'Entertainment', 25: 'News & Politics', 26: 'Howto & Style', 27: 'Education', 28: 'Science & Technology', 29: 'Nonprofits & Activism', 30: 'Movies', 31: 'Anime/Animation', 32: 'Action/Adventure', 33: 'Classics', 34: 'Comedy', 35: 'Documentary', 36: 'Drama', 37: 'Family', 38: 'Foreign', 39: 'Horror', 40: 'Sci-Fi/Fantasy', 41: 'Thriller', 42: 'Shorts', 43: 'Shows', 44: 'Trailers'}\n"
    }
   ],
   "source": [
    "with open(\"../data/US_category_id.json\") as json_input:\n",
    "    categories = json.load(json_input)\n",
    "\n",
    "print(\"Categories:\")\n",
    "categories_mapping = {}\n",
    "for c in categories['items']:\n",
    "    print(f\"{c['snippet']['title']}, id: {c['id']}\")\n",
    "    categories_mapping[int(c['id'])] = c['snippet']['title']\n",
    "    \n",
    "print(categories_mapping)\n",
    "#Music, id: 10"
   ]
  },
  {
   "cell_type": "code",
   "execution_count": 35,
   "metadata": {
    "tags": []
   },
   "outputs": [
    {
     "output_type": "stream",
     "name": "stdout",
     "text": "Index(['video_id', 'title', 'channel_title', 'category_id'], dtype='object')\n"
    },
    {
     "output_type": "execute_result",
     "data": {
      "text/plain": "       category_id\ncount  7998.000000\nmean     20.217679\nstd       7.415364\nmin       1.000000\n25%      17.000000\n50%      23.000000\n75%      25.000000\nmax      43.000000",
      "text/html": "<div>\n<style scoped>\n    .dataframe tbody tr th:only-of-type {\n        vertical-align: middle;\n    }\n\n    .dataframe tbody tr th {\n        vertical-align: top;\n    }\n\n    .dataframe thead th {\n        text-align: right;\n    }\n</style>\n<table border=\"1\" class=\"dataframe\">\n  <thead>\n    <tr style=\"text-align: right;\">\n      <th></th>\n      <th>category_id</th>\n    </tr>\n  </thead>\n  <tbody>\n    <tr>\n      <th>count</th>\n      <td>7998.000000</td>\n    </tr>\n    <tr>\n      <th>mean</th>\n      <td>20.217679</td>\n    </tr>\n    <tr>\n      <th>std</th>\n      <td>7.415364</td>\n    </tr>\n    <tr>\n      <th>min</th>\n      <td>1.000000</td>\n    </tr>\n    <tr>\n      <th>25%</th>\n      <td>17.000000</td>\n    </tr>\n    <tr>\n      <th>50%</th>\n      <td>23.000000</td>\n    </tr>\n    <tr>\n      <th>75%</th>\n      <td>25.000000</td>\n    </tr>\n    <tr>\n      <th>max</th>\n      <td>43.000000</td>\n    </tr>\n  </tbody>\n</table>\n</div>"
     },
     "metadata": {},
     "execution_count": 35
    }
   ],
   "source": [
    "column_list = ['video_id', 'title', 'channel_title', 'category_id']\n",
    "videos = pd.read_csv(\"../data/USvideos.csv\", usecols=column_list, error_bad_lines=False)\n",
    "print(videos.columns)\n",
    "\n",
    "videos.describe()"
   ]
  },
  {
   "cell_type": "markdown",
   "metadata": {},
   "source": [
    "Many entries are repeated for the same videos but taken in different dates. \n",
    "We will keep only one entry for each videoID"
   ]
  },
  {
   "cell_type": "code",
   "execution_count": 36,
   "metadata": {},
   "outputs": [],
   "source": [
    "videos = videos.drop_duplicates()"
   ]
  },
  {
   "cell_type": "code",
   "execution_count": 37,
   "metadata": {},
   "outputs": [
    {
     "output_type": "execute_result",
     "data": {
      "text/plain": "       category_id\ncount  2408.000000\nmean     20.436047\nstd       7.226186\nmin       1.000000\n25%      17.000000\n50%      24.000000\n75%      25.000000\nmax      43.000000",
      "text/html": "<div>\n<style scoped>\n    .dataframe tbody tr th:only-of-type {\n        vertical-align: middle;\n    }\n\n    .dataframe tbody tr th {\n        vertical-align: top;\n    }\n\n    .dataframe thead th {\n        text-align: right;\n    }\n</style>\n<table border=\"1\" class=\"dataframe\">\n  <thead>\n    <tr style=\"text-align: right;\">\n      <th></th>\n      <th>category_id</th>\n    </tr>\n  </thead>\n  <tbody>\n    <tr>\n      <th>count</th>\n      <td>2408.000000</td>\n    </tr>\n    <tr>\n      <th>mean</th>\n      <td>20.436047</td>\n    </tr>\n    <tr>\n      <th>std</th>\n      <td>7.226186</td>\n    </tr>\n    <tr>\n      <th>min</th>\n      <td>1.000000</td>\n    </tr>\n    <tr>\n      <th>25%</th>\n      <td>17.000000</td>\n    </tr>\n    <tr>\n      <th>50%</th>\n      <td>24.000000</td>\n    </tr>\n    <tr>\n      <th>75%</th>\n      <td>25.000000</td>\n    </tr>\n    <tr>\n      <th>max</th>\n      <td>43.000000</td>\n    </tr>\n  </tbody>\n</table>\n</div>"
     },
     "metadata": {},
     "execution_count": 37
    }
   ],
   "source": [
    "#Add category column as a name\n",
    "category_name = []\n",
    "for index, row in videos.iterrows():\n",
    "    category_name.append(categories_mapping[int(row['category_id'])])\n",
    "\n",
    "videos['category_name'] = category_name\n",
    "\n",
    "videos.describe()"
   ]
  },
  {
   "cell_type": "code",
   "execution_count": 38,
   "metadata": {},
   "outputs": [
    {
     "output_type": "execute_result",
     "data": {
      "text/plain": "      video_id                                              title  \\\n0  XpVt6Z1Gjjo  1 YEAR OF VLOGGING -- HOW LOGAN PAUL CHANGED Y...   \n1  K4wEI5zhHB0            iPhone X — Introducing iPhone X — Apple   \n2  cLdxuaxaQwc                                        My Response   \n3  WYYvHb03Eog                          Apple iPhone X first look   \n4  sjlHnJvXdQs                                  iPhone X (parody)   \n\n      channel_title  category_id         category_name  \n0  Logan Paul Vlogs           24         Entertainment  \n1             Apple           28  Science & Technology  \n2         PewDiePie           22        People & Blogs  \n3         The Verge           28  Science & Technology  \n4        jacksfilms           23                Comedy  ",
      "text/html": "<div>\n<style scoped>\n    .dataframe tbody tr th:only-of-type {\n        vertical-align: middle;\n    }\n\n    .dataframe tbody tr th {\n        vertical-align: top;\n    }\n\n    .dataframe thead th {\n        text-align: right;\n    }\n</style>\n<table border=\"1\" class=\"dataframe\">\n  <thead>\n    <tr style=\"text-align: right;\">\n      <th></th>\n      <th>video_id</th>\n      <th>title</th>\n      <th>channel_title</th>\n      <th>category_id</th>\n      <th>category_name</th>\n    </tr>\n  </thead>\n  <tbody>\n    <tr>\n      <th>0</th>\n      <td>XpVt6Z1Gjjo</td>\n      <td>1 YEAR OF VLOGGING -- HOW LOGAN PAUL CHANGED Y...</td>\n      <td>Logan Paul Vlogs</td>\n      <td>24</td>\n      <td>Entertainment</td>\n    </tr>\n    <tr>\n      <th>1</th>\n      <td>K4wEI5zhHB0</td>\n      <td>iPhone X — Introducing iPhone X — Apple</td>\n      <td>Apple</td>\n      <td>28</td>\n      <td>Science &amp; Technology</td>\n    </tr>\n    <tr>\n      <th>2</th>\n      <td>cLdxuaxaQwc</td>\n      <td>My Response</td>\n      <td>PewDiePie</td>\n      <td>22</td>\n      <td>People &amp; Blogs</td>\n    </tr>\n    <tr>\n      <th>3</th>\n      <td>WYYvHb03Eog</td>\n      <td>Apple iPhone X first look</td>\n      <td>The Verge</td>\n      <td>28</td>\n      <td>Science &amp; Technology</td>\n    </tr>\n    <tr>\n      <th>4</th>\n      <td>sjlHnJvXdQs</td>\n      <td>iPhone X (parody)</td>\n      <td>jacksfilms</td>\n      <td>23</td>\n      <td>Comedy</td>\n    </tr>\n  </tbody>\n</table>\n</div>"
     },
     "metadata": {},
     "execution_count": 38
    }
   ],
   "source": [
    "videos.head()"
   ]
  },
  {
   "cell_type": "code",
   "execution_count": 39,
   "metadata": {},
   "outputs": [
    {
     "output_type": "execute_result",
     "data": {
      "text/plain": "category_id  category_name        \n1            Film & Animation         101\n2            Autos & Vehicles          38\n10           Music                    339\n15           Pets & Animals            40\n17           Sports                   153\n19           Travel & Events           18\n20           Gaming                    29\n22           People & Blogs           259\n23           Comedy                   215\n24           Entertainment            488\n25           News & Politics          199\n26           Howto & Style            274\n27           Education                 94\n28           Science & Technology     155\n29           Nonprofits & Activism      5\n43           Shows                      1\ndtype: int64"
     },
     "metadata": {},
     "execution_count": 39
    }
   ],
   "source": [
    "#Count videos per category\n",
    "videos.groupby(['category_id', 'category_name']).size()"
   ]
  },
  {
   "cell_type": "markdown",
   "metadata": {},
   "source": [
    "339 music videos"
   ]
  },
  {
   "cell_type": "markdown",
   "metadata": {},
   "source": [
    "# Explore the number of comments for a given category"
   ]
  },
  {
   "cell_type": "code",
   "execution_count": 40,
   "metadata": {},
   "outputs": [
    {
     "output_type": "execute_result",
     "data": {
      "text/plain": "       video_id                                              title  \\\n20  -Ifnaxi2LQg          Fergie - You Already Know ft. Nicki Minaj   \n24  JhA1Wi9mrns         Kid Rock - Tennessee Mountain Top [Lyrics]   \n30  QBGaO89cBMI                                   Radiohead - Lift   \n41  O78Lpo4ctSE                  LANY - Super Far (Official Video)   \n53  eM_FR7I2Ttw  Harry Styles - The Chain (Fleetwood Mac cover)...   \n\n    channel_title  category_id category_name  \n20     FergieVEVO           10         Music  \n24       Kid Rock           10         Music  \n30      Radiohead           10         Music  \n41       LANYVEVO           10         Music  \n53  BBCRadio1VEVO           10         Music  ",
      "text/html": "<div>\n<style scoped>\n    .dataframe tbody tr th:only-of-type {\n        vertical-align: middle;\n    }\n\n    .dataframe tbody tr th {\n        vertical-align: top;\n    }\n\n    .dataframe thead th {\n        text-align: right;\n    }\n</style>\n<table border=\"1\" class=\"dataframe\">\n  <thead>\n    <tr style=\"text-align: right;\">\n      <th></th>\n      <th>video_id</th>\n      <th>title</th>\n      <th>channel_title</th>\n      <th>category_id</th>\n      <th>category_name</th>\n    </tr>\n  </thead>\n  <tbody>\n    <tr>\n      <th>20</th>\n      <td>-Ifnaxi2LQg</td>\n      <td>Fergie - You Already Know ft. Nicki Minaj</td>\n      <td>FergieVEVO</td>\n      <td>10</td>\n      <td>Music</td>\n    </tr>\n    <tr>\n      <th>24</th>\n      <td>JhA1Wi9mrns</td>\n      <td>Kid Rock - Tennessee Mountain Top [Lyrics]</td>\n      <td>Kid Rock</td>\n      <td>10</td>\n      <td>Music</td>\n    </tr>\n    <tr>\n      <th>30</th>\n      <td>QBGaO89cBMI</td>\n      <td>Radiohead - Lift</td>\n      <td>Radiohead</td>\n      <td>10</td>\n      <td>Music</td>\n    </tr>\n    <tr>\n      <th>41</th>\n      <td>O78Lpo4ctSE</td>\n      <td>LANY - Super Far (Official Video)</td>\n      <td>LANYVEVO</td>\n      <td>10</td>\n      <td>Music</td>\n    </tr>\n    <tr>\n      <th>53</th>\n      <td>eM_FR7I2Ttw</td>\n      <td>Harry Styles - The Chain (Fleetwood Mac cover)...</td>\n      <td>BBCRadio1VEVO</td>\n      <td>10</td>\n      <td>Music</td>\n    </tr>\n  </tbody>\n</table>\n</div>"
     },
     "metadata": {},
     "execution_count": 40
    }
   ],
   "source": [
    "category = 'Music'\n",
    "inv_mapping = {v: k for k, v in categories_mapping.items()}\n",
    "\n",
    "category_id = inv_mapping[category]\n",
    "\n",
    "category_videos = videos[videos['category_id']== category_id] \n",
    "category_videos.head()"
   ]
  },
  {
   "cell_type": "code",
   "execution_count": 41,
   "metadata": {
    "tags": []
   },
   "outputs": [
    {
     "output_type": "stream",
     "name": "stderr",
     "text": "b'Skipping line 41589: expected 4 fields, saw 11\\nSkipping line 51628: expected 4 fields, saw 7\\nSkipping line 114465: expected 4 fields, saw 5\\n'\nb'Skipping line 142496: expected 4 fields, saw 8\\nSkipping line 189732: expected 4 fields, saw 6\\nSkipping line 245218: expected 4 fields, saw 7\\n'\nb'Skipping line 388430: expected 4 fields, saw 5\\n'\n"
    },
    {
     "output_type": "execute_result",
     "data": {
      "text/plain": "           video_id comment_text   likes  replies\ncount        691400       691375  691400   691400\nunique         2266       434076    1284      479\ntop     sjlHnJvXdQs          Lol       0        0\nfreq            800          310  456894   525730",
      "text/html": "<div>\n<style scoped>\n    .dataframe tbody tr th:only-of-type {\n        vertical-align: middle;\n    }\n\n    .dataframe tbody tr th {\n        vertical-align: top;\n    }\n\n    .dataframe thead th {\n        text-align: right;\n    }\n</style>\n<table border=\"1\" class=\"dataframe\">\n  <thead>\n    <tr style=\"text-align: right;\">\n      <th></th>\n      <th>video_id</th>\n      <th>comment_text</th>\n      <th>likes</th>\n      <th>replies</th>\n    </tr>\n  </thead>\n  <tbody>\n    <tr>\n      <th>count</th>\n      <td>691400</td>\n      <td>691375</td>\n      <td>691400</td>\n      <td>691400</td>\n    </tr>\n    <tr>\n      <th>unique</th>\n      <td>2266</td>\n      <td>434076</td>\n      <td>1284</td>\n      <td>479</td>\n    </tr>\n    <tr>\n      <th>top</th>\n      <td>sjlHnJvXdQs</td>\n      <td>Lol</td>\n      <td>0</td>\n      <td>0</td>\n    </tr>\n    <tr>\n      <th>freq</th>\n      <td>800</td>\n      <td>310</td>\n      <td>456894</td>\n      <td>525730</td>\n    </tr>\n  </tbody>\n</table>\n</div>"
     },
     "metadata": {},
     "execution_count": 41
    }
   ],
   "source": [
    "comments = pd.read_csv(\"../data/UScomments.csv\", error_bad_lines=False)\n",
    "\n",
    "comments.describe()"
   ]
  },
  {
   "cell_type": "code",
   "execution_count": 42,
   "metadata": {},
   "outputs": [
    {
     "output_type": "execute_result",
     "data": {
      "text/plain": "      video_id                                       comment_text likes  \\\n0  XpVt6Z1Gjjo                  Logan Paul it's yo big day ‼️‼️‼️     4   \n1  XpVt6Z1Gjjo  I've been following you from the start of your...     3   \n2  XpVt6Z1Gjjo                 Say hi to Kong and maverick for me     3   \n3  XpVt6Z1Gjjo                                MY FAN . attendance     3   \n4  XpVt6Z1Gjjo                                         trending 😉     3   \n\n  replies  \n0       0  \n1       0  \n2       0  \n3       0  \n4       0  ",
      "text/html": "<div>\n<style scoped>\n    .dataframe tbody tr th:only-of-type {\n        vertical-align: middle;\n    }\n\n    .dataframe tbody tr th {\n        vertical-align: top;\n    }\n\n    .dataframe thead th {\n        text-align: right;\n    }\n</style>\n<table border=\"1\" class=\"dataframe\">\n  <thead>\n    <tr style=\"text-align: right;\">\n      <th></th>\n      <th>video_id</th>\n      <th>comment_text</th>\n      <th>likes</th>\n      <th>replies</th>\n    </tr>\n  </thead>\n  <tbody>\n    <tr>\n      <th>0</th>\n      <td>XpVt6Z1Gjjo</td>\n      <td>Logan Paul it's yo big day ‼️‼️‼️</td>\n      <td>4</td>\n      <td>0</td>\n    </tr>\n    <tr>\n      <th>1</th>\n      <td>XpVt6Z1Gjjo</td>\n      <td>I've been following you from the start of your...</td>\n      <td>3</td>\n      <td>0</td>\n    </tr>\n    <tr>\n      <th>2</th>\n      <td>XpVt6Z1Gjjo</td>\n      <td>Say hi to Kong and maverick for me</td>\n      <td>3</td>\n      <td>0</td>\n    </tr>\n    <tr>\n      <th>3</th>\n      <td>XpVt6Z1Gjjo</td>\n      <td>MY FAN . attendance</td>\n      <td>3</td>\n      <td>0</td>\n    </tr>\n    <tr>\n      <th>4</th>\n      <td>XpVt6Z1Gjjo</td>\n      <td>trending 😉</td>\n      <td>3</td>\n      <td>0</td>\n    </tr>\n  </tbody>\n</table>\n</div>"
     },
     "metadata": {},
     "execution_count": 42
    }
   ],
   "source": [
    "comments.head()"
   ]
  },
  {
   "cell_type": "code",
   "execution_count": 43,
   "metadata": {},
   "outputs": [],
   "source": [
    "#Join the two on video_id\n",
    "comments_category = comments.merge(category_videos, how='right')"
   ]
  },
  {
   "cell_type": "code",
   "execution_count": 44,
   "metadata": {},
   "outputs": [
    {
     "output_type": "execute_result",
     "data": {
      "text/plain": "(118606, 8)"
     },
     "metadata": {},
     "execution_count": 44
    }
   ],
   "source": [
    "comments_category.shape"
   ]
  },
  {
   "cell_type": "code",
   "execution_count": 45,
   "metadata": {},
   "outputs": [
    {
     "output_type": "execute_result",
     "data": {
      "text/plain": "      video_id                                       comment_text likes  \\\n0  -Ifnaxi2LQg  Trash and I like fergie but this shit is not g...     0   \n1  -Ifnaxi2LQg                                 So glad she's back     0   \n2  -Ifnaxi2LQg  Nicki Minaj looks like a melted Galaxy bar cov...     0   \n3  -Ifnaxi2LQg  Sorry fergie for my words. but, you are succes...     0   \n4  -Ifnaxi2LQg  Sounds like the song  You know you like it by ...     0   \n\n  replies                                      title channel_title  \\\n0       0  Fergie - You Already Know ft. Nicki Minaj    FergieVEVO   \n1       0  Fergie - You Already Know ft. Nicki Minaj    FergieVEVO   \n2       0  Fergie - You Already Know ft. Nicki Minaj    FergieVEVO   \n3       0  Fergie - You Already Know ft. Nicki Minaj    FergieVEVO   \n4       0  Fergie - You Already Know ft. Nicki Minaj    FergieVEVO   \n\n   category_id category_name  \n0           10         Music  \n1           10         Music  \n2           10         Music  \n3           10         Music  \n4           10         Music  ",
      "text/html": "<div>\n<style scoped>\n    .dataframe tbody tr th:only-of-type {\n        vertical-align: middle;\n    }\n\n    .dataframe tbody tr th {\n        vertical-align: top;\n    }\n\n    .dataframe thead th {\n        text-align: right;\n    }\n</style>\n<table border=\"1\" class=\"dataframe\">\n  <thead>\n    <tr style=\"text-align: right;\">\n      <th></th>\n      <th>video_id</th>\n      <th>comment_text</th>\n      <th>likes</th>\n      <th>replies</th>\n      <th>title</th>\n      <th>channel_title</th>\n      <th>category_id</th>\n      <th>category_name</th>\n    </tr>\n  </thead>\n  <tbody>\n    <tr>\n      <th>0</th>\n      <td>-Ifnaxi2LQg</td>\n      <td>Trash and I like fergie but this shit is not g...</td>\n      <td>0</td>\n      <td>0</td>\n      <td>Fergie - You Already Know ft. Nicki Minaj</td>\n      <td>FergieVEVO</td>\n      <td>10</td>\n      <td>Music</td>\n    </tr>\n    <tr>\n      <th>1</th>\n      <td>-Ifnaxi2LQg</td>\n      <td>So glad she's back</td>\n      <td>0</td>\n      <td>0</td>\n      <td>Fergie - You Already Know ft. Nicki Minaj</td>\n      <td>FergieVEVO</td>\n      <td>10</td>\n      <td>Music</td>\n    </tr>\n    <tr>\n      <th>2</th>\n      <td>-Ifnaxi2LQg</td>\n      <td>Nicki Minaj looks like a melted Galaxy bar cov...</td>\n      <td>0</td>\n      <td>0</td>\n      <td>Fergie - You Already Know ft. Nicki Minaj</td>\n      <td>FergieVEVO</td>\n      <td>10</td>\n      <td>Music</td>\n    </tr>\n    <tr>\n      <th>3</th>\n      <td>-Ifnaxi2LQg</td>\n      <td>Sorry fergie for my words. but, you are succes...</td>\n      <td>0</td>\n      <td>0</td>\n      <td>Fergie - You Already Know ft. Nicki Minaj</td>\n      <td>FergieVEVO</td>\n      <td>10</td>\n      <td>Music</td>\n    </tr>\n    <tr>\n      <th>4</th>\n      <td>-Ifnaxi2LQg</td>\n      <td>Sounds like the song  You know you like it by ...</td>\n      <td>0</td>\n      <td>0</td>\n      <td>Fergie - You Already Know ft. Nicki Minaj</td>\n      <td>FergieVEVO</td>\n      <td>10</td>\n      <td>Music</td>\n    </tr>\n  </tbody>\n</table>\n</div>"
     },
     "metadata": {},
     "execution_count": 45
    }
   ],
   "source": [
    "comments_category.head()"
   ]
  },
  {
   "cell_type": "markdown",
   "metadata": {},
   "source": [
    "Check for missing data in comment_text and remove them"
   ]
  },
  {
   "cell_type": "code",
   "execution_count": 46,
   "metadata": {
    "tags": []
   },
   "outputs": [
    {
     "output_type": "stream",
     "name": "stdout",
     "text": "13\n['ZXvbz8cqafM' '7YAAyUFL1GQ' '-3lMEZ6k5NA' 'AYyXQcuo8wA' 'zmg9tVaMVd4'\n 's3Hk_lDw5yo' 'mP_fKeq_o8A' '941Bl3oxk8Y' 'Kn4KUvDzQFg' '8I1B4n_8Cto'\n '5gH8iXNW8wE']\n"
    },
    {
     "output_type": "execute_result",
     "data": {
      "text/plain": "           video_id                                       comment_text likes  \\\n34780   7YAAyUFL1GQ                Who's here before a million views ?    98   \n34781   7YAAyUFL1GQ  'IM PRETTY SURE THUS ISNT HOW THE STORY ENDS'\\...     8   \n34782   7YAAyUFL1GQ             This song is keeping me going honestly     0   \n34783   7YAAyUFL1GQ                this band should fall out of a boat     0   \n34784   7YAAyUFL1GQ  Okay pretty good, the video was far out the mu...     0   \n...             ...                                                ...   ...   \n639152  8I1B4n_8Cto  With this and his other new stuff Beck is push...     0   \n639153  8I1B4n_8Cto        Song’s addicting, won’t come out of my head     1   \n639154  8I1B4n_8Cto        i wanna eat some of dat yummy stuff and die     0   \n639155  8I1B4n_8Cto                All of these hands are white... smh     0   \n639156  8I1B4n_8Cto  Wow, video quality is so bad. Even at 1080p it...     0   \n\n       replies  \n34780       12  \n34781        0  \n34782        0  \n34783        0  \n34784        0  \n...        ...  \n639152       0  \n639153       0  \n639154       0  \n639155       0  \n639156       0  \n\n[2200 rows x 4 columns]",
      "text/html": "<div>\n<style scoped>\n    .dataframe tbody tr th:only-of-type {\n        vertical-align: middle;\n    }\n\n    .dataframe tbody tr th {\n        vertical-align: top;\n    }\n\n    .dataframe thead th {\n        text-align: right;\n    }\n</style>\n<table border=\"1\" class=\"dataframe\">\n  <thead>\n    <tr style=\"text-align: right;\">\n      <th></th>\n      <th>video_id</th>\n      <th>comment_text</th>\n      <th>likes</th>\n      <th>replies</th>\n    </tr>\n  </thead>\n  <tbody>\n    <tr>\n      <th>34780</th>\n      <td>7YAAyUFL1GQ</td>\n      <td>Who's here before a million views ?</td>\n      <td>98</td>\n      <td>12</td>\n    </tr>\n    <tr>\n      <th>34781</th>\n      <td>7YAAyUFL1GQ</td>\n      <td>'IM PRETTY SURE THUS ISNT HOW THE STORY ENDS'\\...</td>\n      <td>8</td>\n      <td>0</td>\n    </tr>\n    <tr>\n      <th>34782</th>\n      <td>7YAAyUFL1GQ</td>\n      <td>This song is keeping me going honestly</td>\n      <td>0</td>\n      <td>0</td>\n    </tr>\n    <tr>\n      <th>34783</th>\n      <td>7YAAyUFL1GQ</td>\n      <td>this band should fall out of a boat</td>\n      <td>0</td>\n      <td>0</td>\n    </tr>\n    <tr>\n      <th>34784</th>\n      <td>7YAAyUFL1GQ</td>\n      <td>Okay pretty good, the video was far out the mu...</td>\n      <td>0</td>\n      <td>0</td>\n    </tr>\n    <tr>\n      <th>...</th>\n      <td>...</td>\n      <td>...</td>\n      <td>...</td>\n      <td>...</td>\n    </tr>\n    <tr>\n      <th>639152</th>\n      <td>8I1B4n_8Cto</td>\n      <td>With this and his other new stuff Beck is push...</td>\n      <td>0</td>\n      <td>0</td>\n    </tr>\n    <tr>\n      <th>639153</th>\n      <td>8I1B4n_8Cto</td>\n      <td>Song’s addicting, won’t come out of my head</td>\n      <td>1</td>\n      <td>0</td>\n    </tr>\n    <tr>\n      <th>639154</th>\n      <td>8I1B4n_8Cto</td>\n      <td>i wanna eat some of dat yummy stuff and die</td>\n      <td>0</td>\n      <td>0</td>\n    </tr>\n    <tr>\n      <th>639155</th>\n      <td>8I1B4n_8Cto</td>\n      <td>All of these hands are white... smh</td>\n      <td>0</td>\n      <td>0</td>\n    </tr>\n    <tr>\n      <th>639156</th>\n      <td>8I1B4n_8Cto</td>\n      <td>Wow, video quality is so bad. Even at 1080p it...</td>\n      <td>0</td>\n      <td>0</td>\n    </tr>\n  </tbody>\n</table>\n<p>2200 rows × 4 columns</p>\n</div>"
     },
     "metadata": {},
     "execution_count": 46
    }
   ],
   "source": [
    "print(comments_category['comment_text'].isna().sum())\n",
    "video_nan_comment = comments_category[comments_category['comment_text'].isna()]['video_id'].unique()\n",
    "print(video_nan_comment)\n",
    "comments[comments['video_id'].isin(video_nan_comment)]"
   ]
  },
  {
   "cell_type": "markdown",
   "metadata": {},
   "source": [
    "13 comments have no text. They regard 11 different videos. These videos have other comments with a regular text section.\n",
    "We just remove the 13 comments without text and keep the others"
   ]
  },
  {
   "cell_type": "code",
   "execution_count": 47,
   "metadata": {
    "tags": []
   },
   "outputs": [
    {
     "output_type": "stream",
     "name": "stdout",
     "text": "0\n"
    }
   ],
   "source": [
    "comments_category = comments_category.dropna(subset=['comment_text'])\n",
    "print(comments_category['comment_text'].isna().sum())"
   ]
  },
  {
   "cell_type": "markdown",
   "metadata": {},
   "source": [
    "Check for duplicates text"
   ]
  },
  {
   "cell_type": "code",
   "execution_count": 48,
   "metadata": {},
   "outputs": [
    {
     "output_type": "execute_result",
     "data": {
      "text/plain": "comment_text\n 'Literally' 'like' my bestfriend\\nCamila wut?🤔                                                                                                                          3\n *But I Will Tell You If I Don't Like You* 🔥                                                                                                                             1\n EVE - Love Is Blind  is better                                                                                                                                          1\n I LIKE IT MORE THAN THE ORIGINAL CLUB HERE :))))                                                                                                                        4\n I be like send me the addy, hop out the Porsche wit a bhaddie, got a nice  face and a fattie,, do what I say like I'm daddy I loveeeee this verse😍😍😍 you bad asffff😍    1\n                                                                                                                                                                        ..\n🦀 ass nigga, let them crackers pump n up to promote the fuc shyt...                                                                                                      2\n🦄❤💘💛💚💙💜🦄                                                                                                                                                                 2\n🦄🙌🏾🎉👌🏾                                                                                                                                                                   4\n🦋🦋🦋🦋🦋🦋🦋🦋🦋🦋🦋 Sam                                                                                                                                                          1\n🧐🧐🧐                                                                                                                                                                      1\nLength: 72130, dtype: int64"
     },
     "metadata": {},
     "execution_count": 48
    }
   ],
   "source": [
    "comments_category.pivot_table(columns=['comment_text'], aggfunc='size')"
   ]
  },
  {
   "cell_type": "code",
   "execution_count": 49,
   "metadata": {},
   "outputs": [
    {
     "output_type": "execute_result",
     "data": {
      "text/plain": "Series([], Name: video_id, dtype: object)"
     },
     "metadata": {},
     "execution_count": 49
    }
   ],
   "source": [
    "comments_category[comments_category['comment_text'].isna()]['video_id']"
   ]
  },
  {
   "cell_type": "markdown",
   "metadata": {},
   "source": [
    "# Explore some stats about the comments text"
   ]
  },
  {
   "cell_type": "code",
   "execution_count": 50,
   "metadata": {
    "tags": []
   },
   "outputs": [
    {
     "output_type": "execute_result",
     "data": {
      "text/plain": "count    118593.000000\nmean         65.042701\nstd         162.447460\nmin           1.000000\n25%          19.000000\n50%          36.000000\n75%          67.000000\nmax        8163.000000\nName: comment_text, dtype: float64"
     },
     "metadata": {},
     "execution_count": 50
    }
   ],
   "source": [
    "# Average lenght in number of characters\n",
    "comments_len = comments_category['comment_text'].apply(lambda x: len(str(x)))\n",
    "comments_len.describe()"
   ]
  },
  {
   "cell_type": "code",
   "execution_count": 51,
   "metadata": {
    "tags": []
   },
   "outputs": [
    {
     "output_type": "stream",
     "name": "stdout",
     "text": "AWSOME!\n"
    }
   ],
   "source": [
    "print(comments_category.loc[115887]['comment_text'])"
   ]
  },
  {
   "cell_type": "code",
   "execution_count": 52,
   "metadata": {
    "tags": []
   },
   "outputs": [
    {
     "output_type": "stream",
     "name": "stdout",
     "text": "Unique comments: 72130\nTotal comments: 118593\n"
    }
   ],
   "source": [
    "print(f\"Unique comments: {comments_category['comment_text'].nunique()}\\nTotal comments: {comments_category.shape[0]}\")"
   ]
  },
  {
   "cell_type": "code",
   "execution_count": 53,
   "metadata": {},
   "outputs": [
    {
     "output_type": "execute_result",
     "data": {
      "text/plain": "3881      Like if you're watching in 2016, 2017, 2018, 2...\n76713     Featuring Sandra Prescott , Kimberly O'Brien ,...\n78762     (The Great and terrible Day of the Lord. When ...\n78883     (The Great and terrible Day of the Lord. When ...\n78967     (The Great and terrible Day of the Lord. When ...\n115893    (JESUS; THE ALMIGHTY!!!):\\n\\nAnd I saw heaven ...\n115970    (JESUS; THE ALMIGHTY!!!):\\n\\nAnd I saw heaven ...\nName: comment_text, dtype: object"
     },
     "metadata": {},
     "execution_count": 53
    }
   ],
   "source": [
    "comments_category[comments_category['comment_text'].apply(lambda x: len(str(x))) >6000]['comment_text']"
   ]
  },
  {
   "cell_type": "code",
   "execution_count": 74,
   "metadata": {
    "tags": []
   },
   "outputs": [
    {
     "output_type": "stream",
     "name": "stdout",
     "text": "Unique comments: 72130\nTotal comments: 72130\n/Users/stefanoperenzoni/Library/Python/3.9/lib/python/site-packages/ipykernel/ipkernel.py:283: DeprecationWarning: `should_run_async` will not call `transform_cell` automatically in the future. Please pass the result to `transformed_cell` argument and any exception that happen during thetransform in `preprocessing_exc_tuple` in IPython 7.17 and above.\n  and should_run_async(code)\n"
    },
    {
     "output_type": "execute_result",
     "data": {
      "text/plain": "       category_id\ncount      72130.0\nmean          10.0\nstd            0.0\nmin           10.0\n25%           10.0\n50%           10.0\n75%           10.0\nmax           10.0",
      "text/html": "<div>\n<style scoped>\n    .dataframe tbody tr th:only-of-type {\n        vertical-align: middle;\n    }\n\n    .dataframe tbody tr th {\n        vertical-align: top;\n    }\n\n    .dataframe thead th {\n        text-align: right;\n    }\n</style>\n<table border=\"1\" class=\"dataframe\">\n  <thead>\n    <tr style=\"text-align: right;\">\n      <th></th>\n      <th>category_id</th>\n    </tr>\n  </thead>\n  <tbody>\n    <tr>\n      <th>count</th>\n      <td>72130.0</td>\n    </tr>\n    <tr>\n      <th>mean</th>\n      <td>10.0</td>\n    </tr>\n    <tr>\n      <th>std</th>\n      <td>0.0</td>\n    </tr>\n    <tr>\n      <th>min</th>\n      <td>10.0</td>\n    </tr>\n    <tr>\n      <th>25%</th>\n      <td>10.0</td>\n    </tr>\n    <tr>\n      <th>50%</th>\n      <td>10.0</td>\n    </tr>\n    <tr>\n      <th>75%</th>\n      <td>10.0</td>\n    </tr>\n    <tr>\n      <th>max</th>\n      <td>10.0</td>\n    </tr>\n  </tbody>\n</table>\n</div>"
     },
     "metadata": {},
     "execution_count": 74
    }
   ],
   "source": [
    "#Keep only uniques\n",
    "comments_category = comments_category.drop_duplicates(subset='comment_text')\n",
    "print(f\"Unique comments: {comments_category['comment_text'].nunique()}\\nTotal comments: {comments_category.shape[0]}\")\n",
    "comments_category.describe()"
   ]
  },
  {
   "cell_type": "code",
   "execution_count": 75,
   "metadata": {
    "tags": []
   },
   "outputs": [
    {
     "output_type": "stream",
     "name": "stderr",
     "text": "/Users/stefanoperenzoni/Library/Python/3.9/lib/python/site-packages/ipykernel/ipkernel.py:283: DeprecationWarning: `should_run_async` will not call `transform_cell` automatically in the future. Please pass the result to `transformed_cell` argument and any exception that happen during thetransform in `preprocessing_exc_tuple` in IPython 7.17 and above.\n  and should_run_async(code)\n"
    }
   ],
   "source": [
    "# Only keep english comments\n",
    "from langdetect import detect, LangDetectException\n",
    "'''\n",
    "filt = [detect(text) == 'en' for text in comments_category['comment_text']]\n",
    "'''\n",
    "\n",
    "filt = []\n",
    "for text in comments_category['comment_text']:\n",
    "    try:\n",
    "        en = detect(text)\n",
    "    except LangDetectException:\n",
    "        filt.append(False)\n",
    "        \n",
    "    else:\n",
    "        if en == 'en':\n",
    "            filt.append(True)\n",
    "        else:\n",
    "            filt.append(False)"
   ]
  },
  {
   "cell_type": "code",
   "execution_count": 76,
   "metadata": {
    "tags": []
   },
   "outputs": [
    {
     "output_type": "stream",
     "name": "stderr",
     "text": "/Users/stefanoperenzoni/Library/Python/3.9/lib/python/site-packages/ipykernel/ipkernel.py:283: DeprecationWarning: `should_run_async` will not call `transform_cell` automatically in the future. Please pass the result to `transformed_cell` argument and any exception that happen during thetransform in `preprocessing_exc_tuple` in IPython 7.17 and above.\n  and should_run_async(code)\n"
    },
    {
     "output_type": "execute_result",
     "data": {
      "text/plain": "count                 50304\nunique                50304\ntop       I LOVEEEE it 💜💜💜💜\nfreq                      1\nName: comment_text, dtype: object"
     },
     "metadata": {},
     "execution_count": 76
    }
   ],
   "source": [
    "comments_category_filtered = comments_category[filt]\n",
    "comments_category_filtered['comment_text'].describe()"
   ]
  },
  {
   "cell_type": "markdown",
   "metadata": {},
   "source": [
    "# Create document term matrix"
   ]
  },
  {
   "cell_type": "code",
   "execution_count": 81,
   "metadata": {
    "tags": []
   },
   "outputs": [
    {
     "output_type": "stream",
     "name": "stderr",
     "text": "/Users/stefanoperenzoni/Library/Python/3.9/lib/python/site-packages/ipykernel/ipkernel.py:283: DeprecationWarning: `should_run_async` will not call `transform_cell` automatically in the future. Please pass the result to `transformed_cell` argument and any exception that happen during thetransform in `preprocessing_exc_tuple` in IPython 7.17 and above.\n  and should_run_async(code)\n"
    },
    {
     "output_type": "execute_result",
     "data": {
      "text/plain": "<50304x12701 sparse matrix of type '<class 'numpy.int64'>'\n\twith 311894 stored elements in Compressed Sparse Row format>"
     },
     "metadata": {},
     "execution_count": 81
    }
   ],
   "source": [
    "cv = CountVectorizer(max_df=0.95, min_df=2, stop_words='english')\n",
    "dtm = cv.fit_transform(comments_category_filtered['comment_text'])\n",
    "id2word = cv.get_feature_names()\n",
    "dtm"
   ]
  },
  {
   "cell_type": "code",
   "execution_count": 82,
   "metadata": {
    "tags": []
   },
   "outputs": [
    {
     "output_type": "stream",
     "name": "stderr",
     "text": "/Users/stefanoperenzoni/Library/Python/3.9/lib/python/site-packages/ipykernel/ipkernel.py:283: DeprecationWarning: `should_run_async` will not call `transform_cell` automatically in the future. Please pass the result to `transformed_cell` argument and any exception that happen during thetransform in `preprocessing_exc_tuple` in IPython 7.17 and above.\n  and should_run_async(code)\n"
    },
    {
     "output_type": "execute_result",
     "data": {
      "text/plain": "\"\\nlda_model = gensim.models.ldamodel.LdaModel(\\n   corpus=dtm, id2word=id2word, num_topics=5, random_state=42, \\n   update_every=1, chunksize=5, passes=10, alpha='auto', per_word_topics=True)\\n   \""
     },
     "metadata": {},
     "execution_count": 82
    }
   ],
   "source": [
    "# LDA for Topic Modelling\n",
    "LDA = LatentDirichletAllocation(n_components=5,random_state=1)\n",
    "LDA.fit(dtm)\n",
    "\n",
    "'''\n",
    "lda_model = gensim.models.ldamodel.LdaModel(\n",
    "   corpus=dtm, id2word=id2word, num_topics=5, random_state=42, \n",
    "   update_every=1, chunksize=5, passes=10, alpha='auto', per_word_topics=True)\n",
    "   '''"
   ]
  },
  {
   "cell_type": "code",
   "execution_count": 83,
   "metadata": {
    "tags": []
   },
   "outputs": [
    {
     "output_type": "stream",
     "name": "stderr",
     "text": "/Users/stefanoperenzoni/Library/Python/3.9/lib/python/site-packages/ipykernel/ipkernel.py:283: DeprecationWarning: `should_run_async` will not call `transform_cell` automatically in the future. Please pass the result to `transformed_cell` argument and any exception that happen during thetransform in `preprocessing_exc_tuple` in IPython 7.17 and above.\n  and should_run_async(code)\ntopic #0 : \n['yeah', 'time', 'nbut', 'right', 'oh', 'baby', 'way', 'want', 'let', 'like', 'need', 'love', 'nand', 'll', 've', 'just', 'nyou', 'know', 'don', 'ni']\ntopic #1 : \n['im', 'smith', 'forever', 'queen', 'going', 'happy', 'heart', 'perfect', 'waiting', 'awesome', 'life', 'like', 'jesus', 'lol', 'got', 'sam', 'chester', 'god', 'shit', 'video']\ntopic #2 : \n['channel', 'voice', 'https', 'taylor', 'really', 'com', 'watch', 'youtube', 'sounds', 'songs', 'video', 'wait', 'just', 'good', 'new', 'music', 'song', 'album', 'like', 'love']\ntopic #3 : \n['lol', 'pretty', 'really', 'shit', 'video', 'don', 'girl', 'look', 'didn', 'cool', 'trending', 'thought', 'better', 'make', 'know', 'did', 'looks', 'people', 'just', 'like']\ntopic #4 : \n['god', 'awesome', 'fuck', 'really', 'songs', 'like', 'wow', 'thank', 'omg', 'best', 'just', 'good', 'voice', 'video', 'great', 'beautiful', 'music', 'amazing', 'love', 'song']\n"
    }
   ],
   "source": [
    "for index,topic in enumerate(LDA.components_):\n",
    "    print(f'topic #{index} : ')\n",
    "    print([cv.get_feature_names()[i] for i in topic.argsort()[-20:]])"
   ]
  },
  {
   "cell_type": "code",
   "execution_count": 84,
   "metadata": {
    "tags": []
   },
   "outputs": [
    {
     "output_type": "stream",
     "name": "stderr",
     "text": "/Users/stefanoperenzoni/Library/Python/3.9/lib/python/site-packages/ipykernel/ipkernel.py:283: DeprecationWarning: `should_run_async` will not call `transform_cell` automatically in the future. Please pass the result to `transformed_cell` argument and any exception that happen during thetransform in `preprocessing_exc_tuple` in IPython 7.17 and above.\n  and should_run_async(code)\n"
    },
    {
     "output_type": "execute_result",
     "data": {
      "text/plain": "<IPython.core.display.HTML object>",
      "text/html": "\n<link rel=\"stylesheet\" type=\"text/css\" href=\"https://cdn.jsdelivr.net/gh/bmabey/pyLDAvis@3.3.1/pyLDAvis/js/ldavis.v1.0.0.css\">\n\n\n<div id=\"ldavis_el2594856953052008391407898\"></div>\n<script type=\"text/javascript\">\n\nvar ldavis_el2594856953052008391407898_data = {\"mdsDat\": {\"x\": [-0.16657483527153644, 0.23652516263504691, -0.14595322907189434, 0.031276854042598744, 0.04472604766578538], \"y\": [-0.07134166487918783, -0.12752231755407142, -0.0503170144280577, 0.015636703442929938, 0.23354429341838698], \"topics\": [1, 2, 3, 4, 5], \"cluster\": [1, 1, 1, 1, 1], \"Freq\": [24.388722929900066, 22.11940540216995, 20.506017384684654, 18.652144661145933, 14.333709622099411]}, \"tinfo\": {\"Term\": [\"song\", \"love\", \"ni\", \"amazing\", \"beautiful\", \"album\", \"music\", \"don\", \"nyou\", \"video\", \"new\", \"great\", \"like\", \"wait\", \"nand\", \"voice\", \"ll\", \"looks\", \"shit\", \"people\", \"baby\", \"let\", \"know\", \"nbut\", \"need\", \"god\", \"sounds\", \"songs\", \"ve\", \"yeah\", \"beautiful\", \"blm\", \"favourite\", \"jessie\", \"relate\", \"soo\", \"soooo\", \"stuck\", \"2umfefur7wm\", \"bebe\", \"yay\", \"sheeran\", \"bowie\", \"obsessed\", \"blake\", \"brilliant\", \"wonderful\", \"voices\", \"eric\", \"nnah\", \"depeche\", \"tone\", \"meh\", \"awsome\", \"shania\", \"bea\", \"blessing\", \"florida\", \"hunter\", \"speechless\", \"amazing\", \"bless\", \"million\", \"addicted\", \"song\", \"talented\", \"talent\", \"kygo\", \"ed\", \"omg\", \"artist\", \"sweet\", \"wow\", \"incredible\", \"great\", \"proud\", \"masterpiece\", \"love\", \"voice\", \"thank\", \"favorite\", \"music\", \"best\", \"fuck\", \"work\", \"cute\", \"heard\", \"absolutely\", \"listen\", \"video\", \"loved\", \"awesome\", \"fucking\", \"good\", \"god\", \"songs\", \"perfect\", \"just\", \"really\", \"guys\", \"like\", \"ve\", \"time\", \"new\", \"nyou\", \"nwe\", \"nmy\", \"ooh\", \"ni\", \"nso\", \"nhow\", \"njust\", \"hurt\", \"somebody\", \"petty\", \"goodbyes\", \"nshe\", \"nlet\", \"jackson\", \"nbut\", \"nit\", \"ncan\", \"lately\", \"baby\", \"tonight\", \"carry\", \"nif\", \"takes\", \"nall\", \"round\", \"nooh\", \"shady\", \"ncause\", \"nyeah\", \"tell\", \"noh\", \"yeah\", \"ndon\", \"chorus\", \"won\", \"nand\", \"let\", \"nwhen\", \"ll\", \"need\", \"cause\", \"don\", \"nbaby\", \"long\", \"gotta\", \"know\", \"wanna\", \"ve\", \"right\", \"want\", \"way\", \"oh\", \"say\", \"just\", \"time\", \"got\", \"think\", \"like\", \"love\", \"feel\", \"good\", \"album\", \"taylor\", \"https\", \"www\", \"hometeam\", \"swift\", \"spotify\", \"google\", \"zayn\", \"sabrina\", \"jam\", \"soundcloud\", \"youtu\", \"weezer\", \"pony\", \"dragons\", \"nhttps\", \"aesthetic\", \"india\", \"nhometeam\", \"tove\", \"itunes\", \"cd\", \"relatable\", \"check\", \"fob\", \"avi\", \"forgot\", \"snake\", \"nyoutube\", \"com\", \"working\", \"kinda\", \"wait\", \"excited\", \"2017\", \"channel\", \"dj\", \"lana\", \"subscribe\", \"single\", \"youtube\", \"100\", \"version\", \"watch\", \"chris\", \"new\", \"type\", \"sounds\", \"charlie\", \"girls\", \"songs\", \"music\", \"like\", \"love\", \"good\", \"crying\", \"videos\", \"watching\", \"just\", \"song\", \"really\", \"video\", \"listening\", \"voice\", \"best\", \"hear\", \"band\", \"feel\", \"time\", \"guys\", \"trending\", \"puerto\", \"eminem\", \"rico\", \"crap\", \"cyrus\", \"looks\", \"noah\", \"sub\", \"1m\", \"spanish\", \"hola\", \"wtf\", \"radiohead\", \"lets\", \"underdog\", \"lin\", \"notes\", \"doo\", \"nervous\", \"hour\", \"complaining\", \"miley\", \"bugg\", \"rainbow\", \"section\", \"thumbnail\", \"deliver\", \"tf\", \"notification\", \"pretty\", \"jake\", \"steve\", \"english\", \"yo\", \"comment\", \"bitch\", \"people\", \"thought\", \"af\", \"cool\", \"pray\", \"women\", \"didn\", \"saying\", \"high\", \"weird\", \"like\", \"did\", \"original\", \"better\", \"sound\", \"just\", \"look\", \"girl\", \"make\", \"lol\", \"sing\", \"doesn\", \"shit\", \"bad\", \"know\", \"comes\", \"does\", \"think\", \"really\", \"don\", \"sounds\", \"video\", \"got\", \"real\", \"time\", \"good\", \"chester\", \"repeat\", \"christ\", \"killed\", \"nicki\", \"button\", \"gucci\", \"nfalling\", \"ndoes\", \"linkin\", \"walker\", \"moves\", \"katy\", \"park\", \"clicked\", \"replay\", \"pls\", \"offset\", \"sins\", \"alan\", \"perry\", \"kris\", \"johnny\", \"ross\", \"enormous\", \"wu\", \"bag\", \"billion\", \"hat\", \"ebro\", \"sam\", \"jesus\", \"50\", \"ending\", \"smith\", \"lord\", \"queen\", \"father\", \"son\", \"xx\", \"falling\", \"dislike\", \"15\", \"official\", \"shit\", \"holy\", \"waiting\", \"video\", \"god\", \"forever\", \"lol\", \"john\", \"perfect\", \"happy\", \"peace\", \"heart\", \"tho\", \"awesome\", \"miss\", \"life\", \"got\", \"going\", \"came\", \"finally\", \"like\", \"im\", \"come\", \"thank\", \"love\"], \"Freq\": [8311.0, 8778.0, 2565.0, 2013.0, 1648.0, 1291.0, 3277.0, 2106.0, 961.0, 3469.0, 1547.0, 1823.0, 5577.0, 856.0, 968.0, 1467.0, 1038.0, 600.0, 871.0, 1161.0, 614.0, 777.0, 2023.0, 586.0, 973.0, 924.0, 829.0, 1354.0, 1534.0, 568.0, 1643.7428171704044, 205.4204727405253, 149.24554347593036, 122.34873641736355, 118.6115051273526, 107.36893564513474, 91.60347228339803, 63.605647932412424, 69.9856076347351, 67.22165447629816, 57.95191613350916, 57.918078916795615, 50.557706642715694, 96.4593230574146, 56.916513000678826, 143.14057948487027, 202.68715158352381, 109.97576218899304, 76.95420445242529, 39.35458372348012, 52.14319527458353, 37.49384451341885, 36.558631058626474, 33.764525765815286, 88.50796095207545, 42.86526523526738, 32.83236906110187, 32.79791653697173, 30.035667829663478, 30.035484201193476, 1896.835053497878, 168.22000928405262, 267.2803964780905, 59.65883500041258, 7061.563300290413, 292.42028445643564, 234.92775183410075, 113.67553739918324, 99.76411200753535, 718.2408639980009, 338.3933124875213, 134.48332980340408, 687.9920068481088, 206.9618363317213, 1448.0411741598707, 385.17418308382304, 127.5322099615448, 5514.185695279493, 1071.4569883199351, 693.6916081298889, 440.71873818714386, 1870.21605978207, 948.0924967828616, 569.8197786647438, 348.8171666205332, 239.07713497707368, 375.54234587815574, 239.66793618745052, 438.6494811342163, 1415.372568719128, 361.22017160515304, 512.470834510338, 408.44020292453075, 982.8983053955925, 478.76274151609647, 596.6656317059384, 416.2618179939909, 949.8419108597974, 573.1703116708388, 432.2700315983444, 651.7294327838679, 433.1470667494344, 423.3579164391632, 400.011724639721, 961.1315555731661, 324.8585607752909, 215.64158341574912, 208.57121386857796, 2555.776114344555, 229.6678936749635, 186.31849215644164, 189.32951164887749, 168.10603617686922, 201.2902545016567, 160.01101022306545, 152.93538684595057, 162.92964272515223, 179.87923745128776, 117.52894734538042, 582.6531302765798, 304.32667077295537, 112.47408189984844, 103.369229617834, 609.9094029745188, 131.39157638333646, 87.18986464158716, 191.40463932421528, 218.24934631085875, 155.19443441261322, 78.08533365246696, 76.06376567201471, 75.05176265762148, 74.04079908574252, 142.0882976667948, 493.72195387093086, 217.74295727819924, 556.2958462387978, 165.90953736855775, 437.5076026972025, 398.7757057142028, 886.3203468674947, 712.1319326744435, 261.23724070904905, 926.2401170183402, 820.1916539846329, 414.0226836546321, 1558.6064712455668, 197.85128512152878, 538.7009426604191, 230.38707320376915, 1206.3509036797916, 413.40389816539476, 947.0210669139336, 587.6597318606979, 704.6966687981268, 699.9035032539407, 608.7743484870848, 485.0901729128667, 950.2104560365517, 564.3502291794197, 529.3363288663465, 465.59669783589993, 809.7365084050336, 849.7741666739003, 427.9301289559832, 430.03140910774755, 1290.1209003505853, 415.25683223817373, 401.08720241272005, 252.83225243825208, 143.88339038671876, 126.97755270582392, 89.39853123403199, 103.30299523875885, 79.98787212065362, 77.18835305373656, 87.40918796891815, 71.5654841905843, 256.568049755458, 69.6661971281157, 61.232369031471805, 58.41496216943802, 196.4765623786087, 47.142529860266194, 57.274347908252984, 42.44897331322193, 41.50673550563301, 42.42667463272761, 41.500790829732416, 40.56439780373674, 324.35376203841037, 38.69055173688775, 38.690369630331425, 49.73318228529045, 37.7183292671278, 35.87714900491833, 501.8640856292589, 103.8492617001292, 201.5438883520409, 817.4000884160264, 187.38468226979708, 173.99497216897637, 362.27697317197084, 75.8023213036851, 91.82970248661206, 134.247422272554, 217.92260746467477, 507.03892408506863, 161.57260418241944, 308.5468106913865, 506.0251411553202, 134.1588763066184, 1083.4706895599138, 158.21599305949806, 569.5531158979536, 140.15833594438521, 161.38601647334028, 658.9147829487848, 1190.3175288360553, 1699.4986544475457, 2225.4238917100106, 961.1938825105514, 240.46193567951588, 263.65168103682674, 255.74680801608076, 868.1542666679306, 1240.6242344539726, 479.4389089419001, 662.2393641320698, 254.20419133188489, 370.5108816424988, 336.64750674553164, 258.52881338218714, 248.04387909942002, 267.67275480976696, 261.6907760874699, 255.69046750372726, 425.0261809024499, 159.75041584367844, 132.3400125659159, 128.42642469560408, 95.13966180427828, 96.09433568839883, 594.6883008230242, 92.0850015649663, 78.49798469135786, 72.62940464010642, 147.97020484349693, 65.77898501800226, 202.79227069396856, 60.84701503633227, 60.83185224431215, 55.98759879687209, 55.00507551807687, 54.0273719862609, 53.05244254528602, 53.04144728423125, 51.07660163671688, 61.6563340751687, 170.34351236663662, 46.1999861234394, 46.19269891469493, 48.11161741625066, 45.22181082964988, 45.213924936156964, 44.23591752800964, 42.27630259139378, 337.43453087320347, 101.59510470658047, 63.09394696433063, 114.28791853321754, 102.94217306925654, 225.2829944858026, 164.58708692614985, 849.9882474481794, 446.19505367309984, 124.92412831633348, 393.3769355421554, 140.79278947623703, 73.86247372830881, 374.5879389964748, 190.2816107065544, 200.43950426460185, 143.64378197136307, 2111.5426348878304, 500.1779832906901, 156.16609272036047, 474.86086725708634, 310.79143784995665, 1085.1467278491002, 366.9618206942015, 356.144965946181, 491.4787626943494, 333.28795321503543, 264.55101064255564, 201.55584824066864, 347.0032519488377, 249.67108300195432, 495.7250168827978, 188.5549242695923, 243.62642540234467, 319.67913304539815, 345.4414332793126, 355.64819156870067, 259.34356157949003, 348.22845154597974, 267.21743212720503, 233.73770709581242, 254.68497444825928, 268.78999233953397, 375.04651182504284, 187.9923606487398, 141.12932025164727, 152.80693130751726, 126.445314344285, 141.00040698778278, 104.91725441255177, 90.23391718979846, 85.34326694705571, 85.34163823386866, 76.53370539853638, 76.52491540946737, 73.5932950674734, 113.27658338896272, 81.32512987829179, 102.46433044635027, 78.27789372862077, 59.89579415316938, 55.00075498604217, 54.02204079045994, 50.10461423161268, 52.982323676602384, 48.085357657585895, 44.23130862940032, 42.27873858491981, 42.27766207170366, 42.277089431171895, 41.29636235255003, 41.29513296112776, 39.34140523266468, 335.41591476698085, 305.6526371143228, 178.04873469778795, 61.16342557851631, 192.46995844257054, 174.60000537764765, 213.96118804143612, 79.51555593292257, 95.93123241393668, 94.7301329857305, 183.7382917993085, 100.2061823282564, 82.51261156862819, 91.85138996739512, 494.02068404185775, 177.11245489034974, 284.55106550809825, 1018.0766906695853, 409.9463226405977, 195.275820536633, 307.109986209421, 117.47477996266001, 283.5119824410902, 235.65821840139873, 137.61569150921915, 263.7502772013067, 160.32398936547878, 285.2266539114137, 186.6802201248145, 288.32996577991656, 321.46969215569817, 220.1069513543987, 173.26001457475294, 158.29384562534807, 304.6449979632992, 192.40327268015704, 190.99689942884206, 175.53482365795512, 188.90065967928481], \"Total\": [8311.0, 8778.0, 2565.0, 2013.0, 1648.0, 1291.0, 3277.0, 2106.0, 961.0, 3469.0, 1547.0, 1823.0, 5577.0, 856.0, 968.0, 1467.0, 1038.0, 600.0, 871.0, 1161.0, 614.0, 777.0, 2023.0, 586.0, 973.0, 924.0, 829.0, 1354.0, 1534.0, 568.0, 1648.6064399658246, 206.20214174190792, 150.2392416056687, 123.17615786348047, 119.4481615750532, 108.25435138164205, 92.39085617824878, 64.40510308901267, 70.94256150676132, 68.14221278646663, 58.80787760140888, 58.807741809285226, 51.344024423202725, 98.024700023849, 57.87542142824455, 145.61887383476866, 206.39146167798066, 112.02992683731539, 78.40208573415555, 40.150314484209574, 53.2116037146954, 38.283912709230606, 37.350964915908165, 34.55219434629736, 90.58553941889657, 43.8825384991526, 33.61930429374537, 33.62217044173032, 30.820586075282506, 30.820597346310638, 2013.0385873386947, 174.75357141092246, 280.8967002161741, 61.70336622019659, 8311.458785706493, 315.38445501948945, 252.12912496483398, 119.47842498828467, 104.54514405704899, 807.0085722752519, 377.3383336107734, 143.33078093623163, 802.5199585652662, 225.9153189876207, 1823.0278850346958, 441.62273891379255, 137.49169224970908, 8778.783711214484, 1467.3848668726991, 904.0307691177735, 572.9318352107706, 3277.555924971619, 1466.523929407162, 810.1055940244464, 462.49755590222435, 293.4413434024211, 519.5031813725462, 301.81782732595207, 682.5517402031162, 3469.9663122381435, 555.3570017155254, 942.3900667534942, 683.4222782711, 2748.8630717884225, 924.9839054786269, 1354.314065217118, 744.3738843308382, 3968.3733212588804, 1687.798572775513, 958.6720571583404, 5577.152228487576, 1534.212255056056, 1513.3290436660664, 1547.5908506164897, 961.9022525421234, 325.6600914024641, 216.41933564876769, 209.33915752890158, 2565.7294449579276, 230.5745490198385, 187.08596359794183, 190.11968685694384, 168.87852435250565, 202.25202025268692, 160.78623503455864, 153.70593495974484, 163.81715831196234, 181.00493765710073, 118.30295300831676, 586.5270604034961, 306.3762895030979, 113.24546306275195, 104.14186515402379, 614.7880084026822, 132.4540671975734, 87.95795882234553, 193.1231973287332, 220.36237433152445, 156.7154067472312, 78.85434001063622, 76.83140166039502, 75.81985550877447, 74.80838400491383, 143.56648032364058, 500.2264001317662, 220.40239223738612, 568.9883308108766, 167.82871389572983, 456.9048422957499, 418.07215835626874, 968.286687882277, 777.3139152055261, 272.7072943890316, 1038.131632247482, 973.5388871470083, 464.4993042295777, 2106.56584768962, 205.07784564169157, 674.2868244282774, 250.13961229456694, 2023.1043596616876, 522.2607214040827, 1534.212255056056, 887.7211541504554, 1148.4186989164339, 1184.4361567966794, 976.023274496998, 874.5987740881903, 3968.3733212588804, 1513.3290436660664, 1330.014028957675, 1251.9616284077258, 5577.152228487576, 8778.783711214484, 1094.144545261913, 2748.8630717884225, 1291.466789706052, 416.1020939179687, 402.02220079938434, 253.61612287512727, 144.66778137141554, 127.7618435600207, 90.19417470984148, 104.28979104304307, 80.80251152113487, 77.98372489331358, 88.32271043784706, 72.34837654165372, 259.3946166372041, 70.47078584140357, 62.017087609181075, 59.19949274051809, 199.28572010116412, 47.92887149099659, 58.268666806647126, 43.23299378417901, 42.29379761103747, 43.23376825347347, 42.29410633882422, 41.35455805331891, 330.81459101164523, 39.47609527904225, 39.476058664195826, 50.76240014316195, 38.538291527445935, 36.65831286950227, 514.536413486388, 106.2772476836514, 207.950310583199, 856.3309083614037, 193.86343806913183, 180.57346468168424, 383.02070668851724, 78.04960590816641, 94.98515899726668, 140.18009481597971, 231.0135619889339, 568.919195311276, 172.31701110153003, 354.0412840219686, 611.747856997498, 144.70071483039237, 1547.5908506164897, 180.86632431889748, 829.5245350789469, 156.96521643906996, 190.7162361237739, 1354.314065217118, 3277.555924971619, 5577.152228487576, 8778.783711214484, 2748.8630717884225, 359.3062266984061, 423.66110342073097, 406.1028704084249, 3968.3733212588804, 8311.458785706493, 1687.798572775513, 3469.9663122381435, 463.0809797214838, 1467.3848668726991, 1466.523929407162, 543.9268807018443, 467.1492894599579, 1094.144545261913, 1513.3290436660664, 958.6720571583404, 425.80287000863, 160.5259044447176, 133.11718636552504, 129.20169490160313, 95.91967844795526, 96.8996461221742, 600.0412200102028, 92.98716880295902, 79.2785507486824, 73.40537941905582, 149.7106511402815, 66.55336138275567, 205.47387816245003, 61.65905105214061, 61.65703607137175, 56.764659602635525, 55.785505591758955, 54.806557478104736, 53.82784057712882, 53.827813225547416, 51.86972638112835, 62.6280594935733, 173.15357925290618, 46.97575795350469, 46.97583659663654, 48.93152640403728, 45.99678942868572, 45.99691895861845, 45.017636579186465, 43.06017875012905, 347.45310833502145, 104.78177364286789, 64.59531634484044, 118.54605520540623, 107.66556627729929, 253.41482797546283, 183.06104983397057, 1161.2371129324097, 572.1150099198395, 140.3469606506837, 517.8301854565217, 162.46710345349425, 78.41665419394991, 555.9426439979862, 249.4113094037094, 273.05737864211795, 181.37825392342134, 5577.152228487576, 944.8963017376766, 207.7453518152939, 1035.1837569244658, 568.105169393355, 3968.3733212588804, 758.0520307044553, 724.3549013197123, 1246.5001317592096, 728.656356880062, 500.41121402770113, 322.23145146764426, 871.4611042905169, 491.3374926488025, 2023.1043596616876, 291.5260029253469, 571.1628911224991, 1251.9616284077258, 1687.798572775513, 2106.56584768962, 829.5245350789469, 3469.9663122381435, 1330.014028957675, 715.0913083784421, 1513.3290436660664, 2748.8630717884225, 375.822823522556, 188.87942280797694, 141.90570117998323, 153.65236914068979, 127.22466472226809, 141.90123668542577, 105.69260923953398, 91.01181399560282, 86.11804859250557, 86.11792301496182, 77.30934694707523, 77.30922473542272, 74.37305675673134, 114.48728491049916, 82.20300275054286, 103.71198697217419, 79.26672469087353, 60.6709117311732, 55.77730940727205, 54.7984543468504, 50.88350622021829, 53.81687633920522, 48.9235295081093, 45.011140369948244, 43.05381408491826, 43.05369219560138, 43.053735989299874, 42.074840053863106, 42.07488428637571, 40.117529929438476, 342.4134028314219, 311.9763299077948, 184.9708414880631, 62.63240988441167, 205.30155701796977, 193.36924704816815, 242.85380019712346, 84.00463050939769, 103.77558026814, 102.41672980022268, 216.33738498230875, 112.53383523518809, 89.86586017938262, 103.2376286914176, 871.4611042905169, 245.69813560880226, 468.5437561379888, 3469.9663122381435, 924.9839054786269, 306.6178842303595, 728.656356880062, 153.081271263061, 744.3738843308382, 547.3856138573263, 206.1336347926263, 708.2296567356461, 282.2898923746251, 942.3900667534942, 398.85659587501834, 987.2319070400579, 1330.014028957675, 814.3582681032578, 415.116280129824, 321.2579957379669, 5577.152228487576, 765.4134381863769, 929.618072498236, 904.0307691177735, 8778.783711214484], \"Category\": [\"Default\", \"Default\", \"Default\", \"Default\", \"Default\", \"Default\", \"Default\", \"Default\", \"Default\", \"Default\", \"Default\", \"Default\", \"Default\", \"Default\", \"Default\", \"Default\", \"Default\", \"Default\", \"Default\", \"Default\", \"Default\", \"Default\", \"Default\", \"Default\", \"Default\", \"Default\", \"Default\", \"Default\", \"Default\", \"Default\", \"Topic1\", \"Topic1\", \"Topic1\", \"Topic1\", \"Topic1\", \"Topic1\", \"Topic1\", \"Topic1\", \"Topic1\", \"Topic1\", \"Topic1\", \"Topic1\", \"Topic1\", \"Topic1\", \"Topic1\", \"Topic1\", \"Topic1\", \"Topic1\", \"Topic1\", \"Topic1\", \"Topic1\", \"Topic1\", \"Topic1\", \"Topic1\", \"Topic1\", \"Topic1\", \"Topic1\", \"Topic1\", \"Topic1\", \"Topic1\", \"Topic1\", \"Topic1\", \"Topic1\", \"Topic1\", \"Topic1\", \"Topic1\", \"Topic1\", \"Topic1\", \"Topic1\", \"Topic1\", \"Topic1\", \"Topic1\", \"Topic1\", \"Topic1\", \"Topic1\", \"Topic1\", \"Topic1\", \"Topic1\", \"Topic1\", \"Topic1\", \"Topic1\", \"Topic1\", \"Topic1\", \"Topic1\", \"Topic1\", \"Topic1\", \"Topic1\", \"Topic1\", \"Topic1\", \"Topic1\", \"Topic1\", \"Topic1\", \"Topic1\", \"Topic1\", \"Topic1\", \"Topic1\", \"Topic1\", \"Topic1\", \"Topic1\", \"Topic1\", \"Topic1\", \"Topic1\", \"Topic1\", \"Topic1\", \"Topic2\", \"Topic2\", \"Topic2\", \"Topic2\", \"Topic2\", \"Topic2\", \"Topic2\", \"Topic2\", \"Topic2\", \"Topic2\", \"Topic2\", \"Topic2\", \"Topic2\", \"Topic2\", \"Topic2\", \"Topic2\", \"Topic2\", \"Topic2\", \"Topic2\", \"Topic2\", \"Topic2\", \"Topic2\", \"Topic2\", \"Topic2\", \"Topic2\", \"Topic2\", \"Topic2\", \"Topic2\", \"Topic2\", \"Topic2\", \"Topic2\", \"Topic2\", \"Topic2\", \"Topic2\", \"Topic2\", \"Topic2\", \"Topic2\", \"Topic2\", \"Topic2\", \"Topic2\", \"Topic2\", \"Topic2\", \"Topic2\", \"Topic2\", \"Topic2\", \"Topic2\", \"Topic2\", \"Topic2\", \"Topic2\", \"Topic2\", \"Topic2\", \"Topic2\", \"Topic2\", \"Topic2\", \"Topic2\", \"Topic2\", \"Topic2\", \"Topic2\", \"Topic2\", \"Topic2\", \"Topic2\", \"Topic2\", \"Topic3\", \"Topic3\", \"Topic3\", \"Topic3\", \"Topic3\", \"Topic3\", \"Topic3\", \"Topic3\", \"Topic3\", \"Topic3\", \"Topic3\", \"Topic3\", \"Topic3\", \"Topic3\", \"Topic3\", \"Topic3\", \"Topic3\", \"Topic3\", \"Topic3\", \"Topic3\", \"Topic3\", \"Topic3\", \"Topic3\", \"Topic3\", \"Topic3\", \"Topic3\", \"Topic3\", \"Topic3\", \"Topic3\", \"Topic3\", \"Topic3\", \"Topic3\", \"Topic3\", \"Topic3\", \"Topic3\", \"Topic3\", \"Topic3\", \"Topic3\", \"Topic3\", \"Topic3\", \"Topic3\", \"Topic3\", \"Topic3\", \"Topic3\", \"Topic3\", \"Topic3\", \"Topic3\", \"Topic3\", \"Topic3\", \"Topic3\", \"Topic3\", \"Topic3\", \"Topic3\", \"Topic3\", \"Topic3\", \"Topic3\", \"Topic3\", \"Topic3\", \"Topic3\", \"Topic3\", \"Topic3\", \"Topic3\", \"Topic3\", \"Topic3\", \"Topic3\", \"Topic3\", \"Topic3\", \"Topic3\", \"Topic3\", \"Topic3\", \"Topic3\", \"Topic4\", \"Topic4\", \"Topic4\", \"Topic4\", \"Topic4\", \"Topic4\", \"Topic4\", \"Topic4\", \"Topic4\", \"Topic4\", \"Topic4\", \"Topic4\", \"Topic4\", \"Topic4\", \"Topic4\", \"Topic4\", \"Topic4\", \"Topic4\", \"Topic4\", \"Topic4\", \"Topic4\", \"Topic4\", \"Topic4\", \"Topic4\", \"Topic4\", \"Topic4\", \"Topic4\", \"Topic4\", \"Topic4\", \"Topic4\", \"Topic4\", \"Topic4\", \"Topic4\", \"Topic4\", \"Topic4\", \"Topic4\", \"Topic4\", \"Topic4\", \"Topic4\", \"Topic4\", \"Topic4\", \"Topic4\", \"Topic4\", \"Topic4\", \"Topic4\", \"Topic4\", \"Topic4\", \"Topic4\", \"Topic4\", \"Topic4\", \"Topic4\", \"Topic4\", \"Topic4\", \"Topic4\", \"Topic4\", \"Topic4\", \"Topic4\", \"Topic4\", \"Topic4\", \"Topic4\", \"Topic4\", \"Topic4\", \"Topic4\", \"Topic4\", \"Topic4\", \"Topic4\", \"Topic4\", \"Topic4\", \"Topic4\", \"Topic4\", \"Topic4\", \"Topic4\", \"Topic4\", \"Topic5\", \"Topic5\", \"Topic5\", \"Topic5\", \"Topic5\", \"Topic5\", \"Topic5\", \"Topic5\", \"Topic5\", \"Topic5\", \"Topic5\", \"Topic5\", \"Topic5\", \"Topic5\", \"Topic5\", \"Topic5\", \"Topic5\", \"Topic5\", \"Topic5\", \"Topic5\", \"Topic5\", \"Topic5\", \"Topic5\", \"Topic5\", \"Topic5\", \"Topic5\", \"Topic5\", \"Topic5\", \"Topic5\", \"Topic5\", \"Topic5\", \"Topic5\", \"Topic5\", \"Topic5\", \"Topic5\", \"Topic5\", \"Topic5\", \"Topic5\", \"Topic5\", \"Topic5\", \"Topic5\", \"Topic5\", \"Topic5\", \"Topic5\", \"Topic5\", \"Topic5\", \"Topic5\", \"Topic5\", \"Topic5\", \"Topic5\", \"Topic5\", \"Topic5\", \"Topic5\", \"Topic5\", \"Topic5\", \"Topic5\", \"Topic5\", \"Topic5\", \"Topic5\", \"Topic5\", \"Topic5\", \"Topic5\", \"Topic5\", \"Topic5\", \"Topic5\", \"Topic5\", \"Topic5\", \"Topic5\", \"Topic5\"], \"logprob\": [30.0, 29.0, 28.0, 27.0, 26.0, 25.0, 24.0, 23.0, 22.0, 21.0, 20.0, 19.0, 18.0, 17.0, 16.0, 15.0, 14.0, 13.0, 12.0, 11.0, 10.0, 9.0, 8.0, 7.0, 6.0, 5.0, 4.0, 3.0, 2.0, 1.0, -3.9735, -6.0532, -6.3727, -6.5714, -6.6024, -6.702, -6.8608, -7.2256, -7.13, -7.1703, -7.3187, -7.3192, -7.4552, -6.8092, -7.3367, -6.4144, -6.0666, -6.678, -7.0351, -7.7057, -7.4243, -7.7541, -7.7794, -7.8589, -6.8952, -7.6202, -7.8869, -7.8879, -7.9759, -7.9759, -3.8303, -6.253, -5.79, -7.2896, -2.5159, -5.7001, -5.919, -6.6449, -6.7755, -4.8015, -5.5541, -6.4768, -4.8445, -6.0457, -4.1003, -5.4246, -6.5299, -2.7632, -4.4015, -4.8362, -5.2899, -3.8445, -4.5238, -5.033, -5.5237, -5.9015, -5.4499, -5.899, -5.2946, -4.1231, -5.4888, -5.139, -5.3659, -4.4878, -5.2071, -4.9869, -5.347, -4.522, -5.0271, -5.3092, -4.8986, -5.3072, -5.3301, -5.3868, -4.4125, -5.4972, -5.907, -5.9403, -3.4345, -5.844, -6.0531, -6.0371, -6.156, -5.9759, -6.2054, -6.2506, -6.1873, -6.0883, -6.5139, -4.913, -5.5625, -6.5579, -6.6423, -4.8673, -6.4024, -6.8125, -6.0262, -5.895, -6.2359, -6.9228, -6.949, -6.9624, -6.976, -6.3242, -5.0786, -5.8973, -4.9593, -6.1692, -5.1995, -5.2922, -4.4935, -4.7123, -5.7152, -4.4495, -4.5711, -5.2547, -3.9291, -5.9931, -4.9914, -5.8408, -4.1853, -5.2562, -4.4273, -4.9045, -4.7228, -4.7297, -4.8692, -5.0963, -4.4239, -4.9449, -5.009, -5.1373, -4.5839, -4.5356, -5.2216, -5.2167, -4.0424, -5.176, -5.2107, -5.6721, -6.2359, -6.3609, -6.7118, -6.5672, -6.823, -6.8586, -6.7343, -6.9343, -5.6575, -6.9612, -7.0902, -7.1373, -5.9243, -7.3517, -7.157, -7.4566, -7.479, -7.4571, -7.4792, -7.502, -5.423, -7.5493, -7.5493, -7.2982, -7.5747, -7.6248, -4.9865, -6.5619, -5.8989, -4.4987, -5.9717, -6.0458, -5.3125, -6.8767, -6.6849, -6.3052, -5.8207, -4.9763, -6.1199, -5.473, -4.9783, -6.3058, -4.2169, -6.1409, -4.86, -6.2621, -6.1211, -4.7143, -4.1229, -3.7668, -3.4972, -4.3367, -5.7223, -5.6302, -5.6607, -4.4385, -4.0815, -5.0323, -4.7092, -5.6667, -5.29, -5.3858, -5.6499, -5.6913, -5.6151, -5.6377, -5.6609, -5.058, -6.0365, -6.2247, -6.2548, -6.5548, -6.5448, -4.7221, -6.5874, -6.747, -6.8247, -6.1131, -6.9238, -5.7979, -7.0017, -7.002, -7.085, -7.1027, -7.1206, -7.1388, -7.139, -7.1768, -6.9885, -5.9723, -7.2771, -7.2773, -7.2366, -7.2985, -7.2987, -7.3206, -7.3659, -5.2887, -6.4891, -6.9655, -6.3714, -6.4759, -5.6928, -6.0067, -4.3649, -5.0094, -6.2824, -5.1353, -6.1628, -6.8079, -5.1843, -5.8616, -5.8096, -6.1428, -3.4549, -4.8951, -6.0592, -4.9471, -5.371, -4.1206, -5.2049, -5.2348, -4.9127, -5.3011, -5.5321, -5.804, -5.2608, -5.59, -4.9041, -5.8707, -5.6145, -5.3428, -5.2653, -5.2362, -5.552, -5.2573, -5.522, -5.6559, -5.5701, -5.5162, -4.9197, -5.6104, -5.8971, -5.8176, -6.007, -5.898, -6.1936, -6.3444, -6.4001, -6.4001, -6.509, -6.5091, -6.5482, -6.1169, -6.4483, -6.2173, -6.4865, -6.7542, -6.8394, -6.8574, -6.9327, -6.8768, -6.9738, -7.0573, -7.1025, -7.1025, -7.1025, -7.126, -7.126, -7.1745, -5.0314, -5.1243, -5.6647, -6.7332, -5.5868, -5.6843, -5.481, -6.4708, -6.2831, -6.2957, -5.6333, -6.2395, -6.4338, -6.3266, -4.6442, -5.67, -5.1959, -3.9211, -4.8307, -5.5724, -5.1196, -6.0805, -5.1995, -5.3844, -5.9223, -5.2718, -5.7696, -5.1935, -5.6174, -5.1827, -5.0739, -5.4527, -5.692, -5.7823, -5.1276, -5.5872, -5.5945, -5.6789, -5.6055], \"loglift\": [30.0, 29.0, 28.0, 27.0, 26.0, 25.0, 24.0, 23.0, 22.0, 21.0, 20.0, 19.0, 18.0, 17.0, 16.0, 15.0, 14.0, 13.0, 12.0, 11.0, 10.0, 9.0, 8.0, 7.0, 6.0, 5.0, 4.0, 3.0, 2.0, 1.0, 1.4081, 1.4073, 1.4044, 1.4043, 1.404, 1.4028, 1.4025, 1.3986, 1.3975, 1.3974, 1.3964, 1.3958, 1.3956, 1.395, 1.3943, 1.3939, 1.3929, 1.3925, 1.3924, 1.391, 1.3908, 1.3902, 1.3896, 1.388, 1.3878, 1.3876, 1.3874, 1.3862, 1.3853, 1.3852, 1.3516, 1.3729, 1.3614, 1.3774, 1.2481, 1.3354, 1.3404, 1.3613, 1.3642, 1.2945, 1.3021, 1.3473, 1.2571, 1.3234, 1.1808, 1.2743, 1.3359, 0.946, 1.0966, 1.1462, 1.1487, 0.85, 0.9749, 1.0592, 1.129, 1.2062, 1.0865, 1.1805, 0.9689, 0.5143, 0.9809, 0.8019, 0.8963, 0.3826, 0.7525, 0.5914, 0.8298, -0.0188, 0.3311, 0.6146, -0.7358, 0.1464, 0.1372, 0.0581, 1.5079, 1.5063, 1.5051, 1.505, 1.5048, 1.5048, 1.5046, 1.5046, 1.5041, 1.5039, 1.5039, 1.5037, 1.5033, 1.5025, 1.5022, 1.5021, 1.502, 1.5019, 1.5013, 1.5007, 1.5007, 1.4999, 1.4998, 1.4991, 1.499, 1.4989, 1.4987, 1.4985, 1.4984, 1.4984, 1.4956, 1.4966, 1.4862, 1.4972, 1.4653, 1.4615, 1.4203, 1.4211, 1.4657, 1.3947, 1.3373, 1.3937, 1.2074, 1.4728, 1.2842, 1.4265, 0.9917, 1.275, 1.0263, 1.0962, 1.0203, 0.9826, 1.0367, 0.9193, 0.0793, 0.5223, 0.5874, 0.5196, -0.421, -0.8264, 0.5699, -0.3464, 1.5834, 1.5824, 1.5821, 1.5814, 1.579, 1.5783, 1.5756, 1.5749, 1.5743, 1.5742, 1.5741, 1.5736, 1.5735, 1.573, 1.5717, 1.5711, 1.5703, 1.5679, 1.5672, 1.5662, 1.5657, 1.5656, 1.5655, 1.5652, 1.5647, 1.5644, 1.5643, 1.564, 1.5629, 1.5629, 1.5595, 1.5613, 1.5532, 1.5379, 1.5505, 1.5473, 1.5288, 1.5552, 1.5507, 1.5412, 1.5261, 1.4693, 1.5201, 1.4469, 1.3947, 1.5088, 1.2279, 1.4507, 1.2085, 1.4712, 1.4175, 0.864, 0.5716, 0.3961, 0.2121, 0.5337, 1.1828, 1.1101, 1.122, 0.0647, -0.3176, 0.3259, -0.0718, 0.9847, 0.2081, 0.1128, 0.8406, 0.9514, 0.1765, -0.1705, 0.2629, 1.6774, 1.6744, 1.6734, 1.6732, 1.671, 1.6709, 1.6702, 1.6695, 1.6693, 1.6686, 1.6675, 1.6675, 1.6661, 1.666, 1.6657, 1.6654, 1.6651, 1.6649, 1.6647, 1.6645, 1.6638, 1.6636, 1.6628, 1.6626, 1.6624, 1.6623, 1.6622, 1.662, 1.6617, 1.6608, 1.65, 1.6483, 1.6557, 1.6426, 1.6343, 1.5615, 1.5728, 1.3672, 1.4306, 1.5628, 1.4043, 1.536, 1.6194, 1.2844, 1.4086, 1.37, 1.446, 0.7079, 1.0431, 1.3938, 0.8999, 1.076, 0.3826, 0.9537, 0.9693, 0.7485, 0.897, 1.0418, 1.21, 0.7584, 1.0022, 0.2728, 1.2435, 0.8272, 0.3141, 0.0929, -0.0997, 0.5165, -0.6198, 0.0743, 0.561, -0.1028, -0.6458, 1.9405, 1.9378, 1.9371, 1.937, 1.9364, 1.9362, 1.9352, 1.934, 1.9335, 1.9335, 1.9325, 1.9324, 1.932, 1.9319, 1.9318, 1.9305, 1.93, 1.9297, 1.9285, 1.9283, 1.9271, 1.9269, 1.9253, 1.9251, 1.9244, 1.9244, 1.9244, 1.9239, 1.9238, 1.923, 1.9219, 1.9221, 1.9044, 1.9188, 1.878, 1.8405, 1.8159, 1.8876, 1.864, 1.8645, 1.7792, 1.8265, 1.8572, 1.8257, 1.375, 1.6152, 1.4438, 0.7163, 1.1288, 1.4914, 1.0786, 1.6778, 0.9773, 1.0998, 1.5385, 0.9548, 1.3768, 0.7474, 1.1834, 0.7118, 0.5225, 0.6343, 1.0688, 1.2348, -0.9647, 0.5617, 0.36, 0.3035, -1.8963]}, \"token.table\": {\"Topic\": [2, 3, 5, 3, 4, 5, 4, 1, 3, 5, 1, 4, 5, 1, 3, 5, 1, 2, 3, 2, 4, 5, 5, 3, 5, 1, 3, 1, 3, 5, 3, 1, 3, 4, 5, 1, 2, 3, 4, 1, 2, 3, 4, 5, 5, 1, 2, 3, 4, 1, 1, 2, 3, 4, 1, 1, 2, 3, 4, 5, 1, 2, 3, 4, 5, 5, 2, 3, 4, 5, 1, 1, 5, 1, 1, 1, 1, 3, 5, 4, 5, 1, 2, 3, 4, 5, 2, 1, 2, 3, 4, 5, 3, 1, 3, 4, 5, 1, 2, 3, 1, 2, 3, 5, 5, 2, 3, 4, 1, 2, 3, 5, 5, 2, 3, 4, 1, 2, 3, 4, 5, 1, 2, 3, 4, 5, 1, 2, 3, 4, 4, 1, 2, 3, 4, 5, 4, 1, 2, 3, 4, 5, 1, 3, 5, 4, 4, 1, 1, 2, 3, 4, 5, 1, 2, 3, 4, 5, 4, 5, 3, 5, 2, 3, 4, 5, 1, 2, 3, 4, 5, 1, 2, 3, 4, 5, 4, 3, 5, 1, 3, 4, 2, 5, 2, 4, 5, 1, 3, 2, 3, 4, 5, 2, 5, 3, 5, 1, 2, 3, 1, 1, 2, 3, 4, 5, 1, 3, 4, 5, 1, 3, 1, 2, 3, 5, 3, 1, 2, 4, 5, 1, 2, 4, 5, 1, 2, 3, 4, 5, 2, 3, 4, 1, 2, 3, 4, 5, 1, 2, 3, 4, 5, 1, 2, 3, 4, 5, 2, 3, 1, 2, 3, 4, 5, 1, 2, 3, 4, 1, 2, 3, 4, 5, 5, 1, 2, 3, 4, 5, 1, 2, 3, 4, 5, 5, 1, 2, 3, 4, 5, 1, 2, 3, 4, 5, 1, 2, 3, 4, 5, 1, 2, 3, 4, 5, 4, 2, 4, 5, 3, 4, 3, 1, 2, 1, 2, 3, 4, 5, 1, 3, 3, 3, 2, 2, 4, 5, 3, 1, 3, 5, 1, 2, 3, 5, 5, 1, 2, 3, 4, 5, 5, 5, 1, 2, 3, 1, 2, 3, 4, 5, 5, 1, 3, 3, 5, 2, 1, 2, 3, 4, 5, 4, 1, 2, 3, 4, 5, 1, 2, 3, 4, 5, 4, 5, 1, 2, 3, 4, 5, 1, 2, 3, 5, 1, 2, 3, 4, 2, 3, 4, 5, 1, 2, 5, 1, 2, 3, 4, 5, 4, 5, 2, 5, 1, 2, 3, 5, 1, 2, 3, 5, 1, 2, 3, 4, 5, 1, 2, 3, 1, 1, 3, 4, 1, 2, 1, 2, 3, 4, 5, 5, 1, 2, 3, 4, 5, 2, 5, 2, 5, 2, 4, 2, 5, 2, 2, 5, 2, 4, 1, 2, 3, 4, 5, 4, 1, 2, 3, 4, 5, 5, 3, 2, 2, 3, 1, 2, 4, 5, 2, 4, 5, 2, 3, 5, 2, 2, 4, 2, 1, 4, 2, 5, 2, 4, 4, 2, 2, 2, 2, 4, 5, 2, 4, 2, 3, 1, 4, 1, 3, 5, 5, 1, 2, 3, 4, 5, 1, 3, 4, 5, 2, 1, 3, 4, 5, 1, 5, 1, 2, 5, 1, 2, 3, 4, 5, 1, 2, 5, 5, 2, 5, 3, 4, 5, 1, 2, 3, 4, 5, 1, 2, 4, 5, 4, 1, 2, 3, 4, 5, 4, 4, 1, 2, 3, 4, 5, 1, 2, 3, 4, 5, 3, 1, 5, 1, 5, 4, 1, 2, 3, 4, 5, 5, 2, 3, 2, 3, 5, 1, 2, 3, 4, 5, 1, 2, 4, 5, 4, 2, 1, 5, 1, 1, 2, 4, 5, 1, 2, 3, 4, 5, 2, 3, 5, 2, 3, 5, 3, 2, 2, 3, 4, 5, 1, 2, 3, 4, 5, 1, 2, 3, 4, 5, 1, 1, 1, 2, 3, 4, 5, 3, 3, 4, 1, 4, 1, 3, 4, 5, 1, 4, 3, 4, 5, 1, 2, 3, 4, 3, 2, 3, 1, 2, 5, 1, 2, 3, 4, 5, 3, 1, 2, 3, 5, 4, 1, 2, 3, 4, 5, 1, 2, 3, 4, 5, 1, 3, 5, 1, 2, 3, 4, 5, 4, 1, 2, 3, 4, 5, 1, 2, 3, 4, 2, 3, 4, 5, 4, 1, 2, 3, 4, 5, 3, 4, 5, 1, 2, 3, 4, 5, 1, 3, 4, 5, 1, 3, 5, 1, 4, 2, 3, 4, 5, 1, 2, 3, 4, 5, 5, 1, 2, 3, 4, 5, 1, 2, 3, 4, 5, 1, 2, 3, 4, 5, 1, 2, 3, 4, 5, 1, 2, 3, 4, 5, 3, 1, 3, 4, 5, 2, 4, 2, 3, 4, 5, 1, 2, 5, 1, 2, 3, 4, 5, 2, 3, 1, 2, 3, 4, 5, 3, 4, 5, 3, 1, 5, 1, 2, 3, 4, 5, 4, 5, 2, 3, 2, 3, 4, 3], \"Freq\": [0.00580325757513746, 0.9401277271722686, 0.058032575751374604, 0.04451078520825972, 0.03338308890619479, 0.9235987930713891, 0.9944775243685944, 0.0055379122384499, 0.9635967294902826, 0.027689561192249502, 0.9867137373285924, 0.03243754502996735, 0.9623138358890315, 0.7951816568502724, 0.1987954142125681, 0.003313256903542802, 0.9723942740154904, 0.016206571233591507, 0.9806197921607422, 0.08550238597519312, 0.8906498539082617, 0.02137559649379828, 0.9854292542304838, 0.998864245122102, 0.000774313368311707, 0.9423565012272807, 0.05762433006977573, 0.8957478472056032, 0.0901048130325163, 0.010600566239119565, 0.9879405725823485, 0.5432994447446, 0.10929656798573009, 0.044567532576705475, 0.3024225424847871, 0.9840185447915977, 0.9922119359238607, 0.0016265769441374766, 0.006506307776549906, 0.2483018329057233, 0.08141043701826993, 0.1526445694092561, 0.508815231364187, 0.010176304627283741, 0.9755250975301711, 0.3724719354730273, 0.044953509453641224, 0.5308795402144297, 0.05137543937558997, 0.9798886179027759, 0.9972058583212133, 0.0012131458130428387, 0.0012131458130428387, 0.0006065729065214193, 0.983237808991529, 0.6464265471503259, 0.009546383607705234, 0.22979509112833313, 0.09137252881660723, 0.02318407447585557, 0.27531343888812154, 0.054096675711350205, 0.20093050978501503, 0.4588557314802026, 0.01159214479528933, 0.9744540905565624, 0.010925317001153026, 0.005462658500576513, 0.9013386525951247, 0.08193987750864769, 0.9848740379483902, 0.961353743122984, 0.03433406225439229, 0.981578908107846, 0.9941700812040422, 0.9932996209964551, 0.9820155604434886, 0.006867241681422997, 0.006867241681422997, 0.9792284787725944, 0.9936488454471776, 0.2023529406597345, 0.02649859937210809, 0.11563025180556256, 0.24089635792825534, 0.41675069921588176, 0.9891089011708379, 0.004305711508690451, 0.8912822822989234, 0.0021528557543452256, 0.025834269052142707, 0.07750280715642813, 0.9930461625913527, 0.005221649809200665, 0.9451186154653204, 0.02088659923680266, 0.026108249046003326, 0.08919173507102739, 0.019112514658077295, 0.8919173507102738, 0.0060456825495027715, 0.0030228412747513858, 0.9794005730194489, 0.012091365099005543, 0.9978106078953807, 0.9586241148140141, 0.032829592973082675, 0.00875455812615538, 0.062197343050786884, 0.006910815894531876, 0.9260493298672714, 0.9936175842658042, 0.9853654646388824, 0.01749147341976817, 0.9756355174137357, 0.005830491139922723, 0.3463788081643723, 0.2151421168722809, 0.04195271279009478, 0.19040077343196862, 0.20546072161302828, 0.010290677229119184, 0.2709878337001385, 0.04802316040255619, 0.6483126654345086, 0.020581354458238367, 0.01973049501461742, 0.007892198005846967, 0.08286807906139315, 0.8878722756577838, 0.9899715958205961, 0.15642193575214236, 0.011586810055714249, 0.0038622700185714162, 0.7589360586492833, 0.06758972532499978, 0.9904119940471415, 0.01948198912198549, 0.23656701076696668, 0.6679539127537882, 0.0723616738816604, 0.0027831413031407844, 0.8144728252291257, 0.013631344355299176, 0.1703918044412397, 0.9907156923871538, 0.9783263970459557, 0.9772304604613751, 0.15874757867519224, 0.0592657627054051, 0.122764794175482, 0.5291585955839742, 0.12911469732248967, 0.12591226946831147, 0.13850349641514262, 0.044968667667254096, 0.6745300150088115, 0.016188720360211475, 0.09774837920533629, 0.8886216291394208, 0.9737397020226086, 0.012812364500297482, 0.024511396341744086, 0.28188105793005697, 0.4271986219561112, 0.26612373171036435, 0.003103359387934891, 0.1334444536812003, 0.22964859470718194, 0.6268785963628479, 0.006206718775869782, 0.07405417693023614, 0.740067063039988, 0.016140012920692493, 0.16899542940489784, 0.0009494125247466172, 0.9846205872601814, 0.9797381246867152, 0.9721436007799068, 0.9565245799023553, 0.038260983196094216, 0.9916074971532423, 0.015966174730391237, 0.9739366585538655, 0.03374216031962557, 0.9616515691093286, 0.9755233280182857, 0.9821167291529754, 0.012754762716272407, 0.02063308089364224, 0.9645965317777748, 0.00515827022341056, 0.00515827022341056, 0.14791710643362374, 0.8505233619933366, 0.04761642275841587, 0.9523284551683174, 0.7697250753010864, 0.0034908166680321377, 0.22515767508807288, 0.9917515451194747, 0.17730746896294297, 0.3911731789491732, 0.24494021485602432, 0.04204197717678029, 0.1444050520419845, 0.39532089997718584, 0.03112762991946345, 0.08093183779060498, 0.4918165527275225, 0.9814952326528537, 0.9879396562482459, 0.24786551570782422, 0.11088720439560558, 0.0032613883645766346, 0.6359707310924437, 0.9849810067882567, 0.7036119787401434, 0.04814187222958875, 0.22095884946400993, 0.025922546585163176, 0.596995463817986, 0.03365415604856293, 0.13169017584220277, 0.2355790923399405, 0.006902693680805404, 0.171186803283974, 0.187753268117907, 0.49147179007334474, 0.14357602856075238, 0.12584140966595062, 0.8441861231757519, 0.020973568277658432, 0.5178468481050431, 0.015135398483237167, 0.008648799133278382, 0.015135398483237167, 0.443250955580517, 0.22471681957159945, 0.29716650457009325, 0.13630364465818326, 0.07122172423580747, 0.27015136779099386, 0.3576023884523487, 0.15642830827518814, 0.349599079656874, 0.09785863936285026, 0.03856139692365103, 0.9954072368127508, 0.9876326241509993, 0.055638510864425554, 0.39774016550379887, 0.10300643227603108, 0.2007497621729949, 0.24135083766865678, 0.0039977674500526125, 0.9194865135121009, 0.0039977674500526125, 0.07195981410094703, 0.7942829683992693, 0.0016456138848051159, 0.08612045997146774, 0.023587132348873326, 0.0943485293954933, 0.9934469472887711, 0.4506233354506213, 0.0052155478640118205, 0.2670360506374052, 0.22009611986129882, 0.05737102650413002, 0.2959522426218249, 0.07307462780785799, 0.16624477826287695, 0.03471044820873255, 0.43114030406636217, 0.9744530661318117, 0.24267967751414796, 0.08273170824345953, 0.47616694300124485, 0.16546341648691906, 0.03309268329738381, 0.7237684262232896, 0.06159731287006721, 0.10779529752261761, 0.10009563341385921, 0.005774748081568801, 0.17367247873652797, 0.42217944018066556, 0.0042359141155250725, 0.026827456064992126, 0.37276044216620635, 0.007324467882705692, 0.15747605947817236, 0.032960105472175615, 0.7324467882705692, 0.06958244488570407, 0.9916854480185723, 0.004070034953753937, 0.27269234190151376, 0.7203961868144468, 0.9953840353043011, 0.9832324856557412, 0.9974573523617557, 0.9733753902901736, 0.9947978918226934, 0.29003932897496815, 0.01829076849391691, 0.28220042819186086, 0.15808449912599615, 0.2508448250594319, 0.9162725260403559, 0.07967587182959616, 0.9782272896193602, 0.9714628563894764, 0.9974391762790954, 0.019087289043385386, 0.9734517412126548, 0.009543644521692693, 0.9850241185841114, 0.9904514162165697, 0.01923222829684967, 0.9808436431393333, 0.006532477760009974, 0.07838973312011968, 0.1502469884802294, 0.7642998979211669, 0.9811229991500058, 0.23939279979299757, 0.23939279979299757, 0.21872942128454936, 0.2734117766056867, 0.028979128395994442, 0.9949839797770907, 0.9957542526396553, 0.004808841098604222, 0.024044205493021113, 0.971385901918053, 0.07710922041910236, 0.596113588624599, 0.05882049506328962, 0.24516777774278697, 0.022737334226145565, 0.9848211863123291, 0.9541471609721851, 0.0418485596917625, 0.9685723640537088, 0.031583881436533984, 0.9890354839301659, 0.05145926146121259, 0.9159748540095841, 0.011578333828772833, 0.020583704584485035, 0.0012864815365303147, 0.9893436967905627, 0.25525917284779864, 0.35553956218086236, 0.030387996767595075, 0.06685359288870917, 0.2917247689689127, 0.11690554126703669, 0.1452354116967787, 0.30463575860842845, 0.3786878882760452, 0.0546874081080463, 0.9859191812743022, 0.9870186951121941, 0.64317468426549, 0.029301807939202278, 0.31499443534642446, 0.001465090396960114, 0.010255632778720797, 0.40813595953276355, 0.034551192341397974, 0.5485001784196928, 0.008637798085349493, 0.024081724536104115, 0.8919870768172964, 0.016375572684550796, 0.06742882870109151, 0.0041171671277875155, 0.11665306862064627, 0.4570055511844142, 0.4213234360769224, 0.17351666347507738, 0.7993630907099718, 0.02669487130385806, 0.001319170663088526, 0.17544969819077397, 0.15038545559209196, 0.484135633353489, 0.18864140482165923, 0.9915985438298438, 0.008332760872519695, 0.09308615653613324, 0.9050042996568509, 0.628105234322623, 0.09682434696667203, 0.253451967059818, 0.021529178325530605, 0.6500323195437404, 0.1944695027997894, 0.08463024658879724, 0.06842445468881478, 0.1989570587930808, 0.2575210317442699, 0.08744483632437824, 0.39390288656210753, 0.06257520397524315, 0.9309653398368936, 0.029092666869902924, 0.04363900030485439, 0.9906035917225077, 0.011550439838606064, 0.005775219919303032, 0.9817873862815154, 0.9505273639545092, 0.04628035854460157, 0.04512900171679823, 0.21060200801172507, 0.25322384296647893, 0.020057334096354767, 0.4688401845022927, 0.9960001573359326, 0.5705470914325261, 0.00793274030868753, 0.36307542182069846, 0.007322529515711565, 0.05095260121349297, 0.9890540006063474, 0.006380993552299015, 0.9150182596620793, 0.0836529108720411, 0.9654870294763197, 0.034133379829970896, 0.9939865342255997, 0.005114853520886448, 0.9890020930722689, 0.9891939384112249, 0.9870172558391799, 0.9891036887950772, 0.00595845595659685, 0.06984826276357231, 0.8422878745019013, 0.025679508368960408, 0.05444055774219606, 0.007190262343308914, 0.9846210875764404, 0.2584662476136107, 0.03683144028493952, 0.699797365413851, 0.0019384968571020801, 0.002584662476136107, 0.9888826081891774, 0.9714802590277656, 0.9941953764084855, 0.010035842001046201, 0.9835125161025277, 0.0011692581249731862, 0.9962079224771546, 0.0027282689582707677, 0.9903739992167279, 0.9890059953537373, 0.005178041860490771, 0.005178041860490771, 0.9922438857558072, 0.003263960150512524, 0.003263960150512524, 0.9941106211805074, 0.9944480097056551, 0.005524711165031417, 0.9980623928656346, 0.9713498013904232, 0.9893838169753201, 0.989099972042052, 0.00907431167011057, 0.9891788820400554, 0.9852835588437213, 0.9753791372701659, 0.9950117660421981, 0.9975081854338178, 0.9979730663354499, 0.9570701091246555, 0.0330024175560226, 0.007333870568005023, 0.9890888157172254, 0.006965414195191728, 0.9990620122369618, 0.9820419212459188, 0.9793450015826991, 0.010201510433153116, 0.06780473446288995, 0.029059171912667124, 0.8911479386551252, 0.988941789202939, 0.25511686709348635, 0.6239605303611775, 0.01024565731299142, 0.06044937814664938, 0.050203720833657955, 0.88970554299776, 0.06939207577698406, 0.03841347051940189, 0.0024782884206065734, 0.9983798657981379, 0.12996680678567318, 0.04332226892855772, 0.7509193280950005, 0.07220378154759621, 0.008734594420522362, 0.987009169519027, 0.038809775066781925, 0.29592453488421216, 0.6694686199019882, 0.12745028414245524, 0.04305752842650515, 0.01722301137060206, 0.7319779832505875, 0.08008700287329958, 0.5588589400526417, 0.05911008019787557, 0.381528699459015, 0.9826366874877968, 0.9951100600471822, 0.984019464714689, 0.9835998811232389, 0.8678679991384277, 0.1292569360418935, 0.005756172421607922, 0.011512344843215843, 0.005756172421607922, 0.9699150530409348, 0.005756172421607922, 0.8717848201089898, 0.03849439465416318, 0.0022643761561272463, 0.08604629393283536, 0.9967238655559252, 0.008235407468924134, 0.037059333610158604, 0.008235407468924134, 0.06588325975139307, 0.8811885991748823, 0.9893113656325444, 0.9792268394277749, 0.22095080467176215, 0.26150506628873116, 0.11886593922215052, 0.3272309385645085, 0.07131956353329032, 0.3394954879347515, 0.13982711195916467, 0.28380163825610116, 0.2044082780758975, 0.031994339177097, 0.9914263851432827, 0.9962480663649929, 0.99534399885968, 0.009642086987189812, 0.9834928726933608, 0.9906990778834727, 0.19375453563974504, 0.662370156721919, 0.09913022753661374, 0.03604735546785954, 0.007885359008594274, 0.9775357753294486, 0.9891655930349429, 0.9873855103143717, 0.005840892860682345, 0.014602232151705863, 0.9783495541642928, 0.10633447330972629, 0.5545399952173897, 0.02286762866875834, 0.26526449255759676, 0.051452164504706265, 0.004009441281515229, 0.22452871176485284, 0.7617938434878936, 0.008018882563030459, 0.9809626538860554, 0.9891867967398119, 0.9824967712389001, 0.011039289564482024, 0.9862647028361546, 0.009179985154372489, 0.025244959174524344, 0.39818185607090667, 0.5668640832825012, 0.3417189607396248, 0.01199013897332017, 0.10990960725543489, 0.5295644713216409, 0.007993425982213446, 0.0519450022617063, 0.9436675410876645, 0.9860640569519707, 0.019483534650688916, 0.03896706930137783, 0.9352096632330679, 0.9860322939572301, 0.9938096032310447, 0.028908535054667634, 0.019272356703111754, 0.028908535054667634, 0.9250731217493643, 0.8496703385144337, 0.00012031582250275188, 0.14931193572591508, 0.0007218949350165112, 0.0003609474675082556, 0.44081355671683986, 0.0007383811670298825, 0.48659318907269256, 0.06940782970080896, 0.00295352466811953, 0.9884129241399273, 0.9957695361379192, 0.014081899674566795, 0.008801187296604247, 0.38373176613194515, 0.5474338498487842, 0.04576617394234209, 0.9951847358806573, 0.6871406159743695, 0.31222705181993277, 0.006679551470676475, 0.9885736176601183, 0.9733750343288247, 0.9867599574619627, 0.975302909945918, 0.015480998570570127, 0.9937100777798183, 0.9838726775829255, 0.955913178514449, 0.028534721746699968, 0.014267360873349984, 0.9349003690952962, 0.0488380789825901, 0.0069768684260843004, 0.0069768684260843004, 0.9940370024508703, 0.9892795930399154, 0.009075959569173536, 0.9320620933134041, 0.04759466008408872, 0.01586488669469624, 0.9258541293100689, 0.0031707333195550307, 0.006341466639110061, 0.05707319975199055, 0.006341466639110061, 0.9973513857919062, 0.001999094809343503, 0.9875528358156905, 0.009995474046717516, 0.001999094809343503, 0.9773947133498128, 0.7676729860392489, 0.00553078520201188, 0.016592355606035638, 0.016592355606035638, 0.19468363911081818, 0.15335933278098157, 0.37221588060384064, 0.17891922157781182, 0.2555988879683026, 0.03993732624504728, 0.17358042680101496, 0.2550569536667975, 0.5667932303706611, 0.024470604261827664, 0.06467231126340169, 0.0034958006088325233, 0.7795635357696526, 0.1275967222223871, 0.9783291520763386, 0.279516210813793, 0.37268828108505736, 0.17312824405015076, 0.1685026802778185, 0.005947153421570065, 0.9664633884477267, 0.9890221023156317, 0.9930534114306918, 0.9981144560894722, 0.09952101402947183, 0.8735733453698084, 0.011057890447719093, 0.011057890447719093, 0.9865293017171546, 0.2822295276113404, 0.6172548790945482, 0.0013036005894288241, 0.05540302505072502, 0.043670619745865606, 0.8727795710424162, 0.10733211553272433, 0.019771705492870273, 0.4077849387210099, 0.007492868131976154, 0.19077995012954668, 0.10028915807414236, 0.2933746060904509, 0.08497357843174237, 0.6231395751661107, 0.12982074482627307, 0.1605056481488467, 0.7298698686204408, 0.25283073880315926, 0.017037111779188627, 0.9818804948407834, 0.008926186316734395, 0.03853650461262198, 0.9540704323791562, 0.0035033186011474526, 0.0035033186011474526, 0.05762535440136854, 0.26891832053971987, 0.006402817155707615, 0.05975962678660441, 0.6082676297922235, 0.9959985828455258, 0.09765237535552738, 0.7907927651339767, 0.024891781953369725, 0.03829504915903035, 0.04978356390673945, 0.056599566047931274, 0.6138876009814085, 0.1558664972704569, 0.028735164301257415, 0.1454173466154542, 0.0016346604055273214, 0.08990632230400268, 0.8271381651968246, 0.07682903905978411, 0.0032693208110546428, 0.007387290803886332, 0.0024624302679621107, 0.6303821485983003, 0.07879776857478754, 0.2831794808156427, 0.2304894176300152, 0.5909985067436287, 0.06500983574179917, 0.049812731282677276, 0.06416555216073683, 0.99331941831239, 0.17091354299335315, 0.01654002028967934, 0.7939209739046083, 0.01654002028967934, 0.05100957240673261, 0.9436770895245532, 0.954380702050922, 0.002391931584087524, 0.014351589504525144, 0.028703179009050287, 0.9835678198584002, 0.009690323348358624, 0.004845161674179312, 0.7545985822977654, 0.04972999252965216, 0.08648694352982984, 0.09945998505930433, 0.008648694352982985, 0.018818703378104696, 0.9785725756614442, 0.8572995508173986, 0.003738224785540982, 0.046104772355005444, 0.08597917006744259, 0.006230374642568304, 0.009733597369582798, 0.9879601330126541, 0.9755260898225814, 0.9975706478431159, 0.06834820847779871, 0.927582829341554, 0.9862624254715574, 0.9771729399223941, 0.0017575052876302052, 0.0035150105752604103, 0.017575052876302052, 0.9566661241971938, 0.0371520824930949, 0.007710260243362147, 0.9907684412720359, 0.005273156583086624, 0.8911634625416396, 0.10194769393967473, 0.9900682354294771], \"Term\": [\"100\", \"100\", \"100\", \"15\", \"15\", \"15\", \"1m\", \"2017\", \"2017\", \"2017\", \"2umfefur7wm\", \"50\", \"50\", \"absolutely\", \"absolutely\", \"absolutely\", \"addicted\", \"addicted\", \"aesthetic\", \"af\", \"af\", \"af\", \"alan\", \"album\", \"album\", \"amazing\", \"amazing\", \"artist\", \"artist\", \"artist\", \"avi\", \"awesome\", \"awesome\", \"awesome\", \"awesome\", \"awsome\", \"baby\", \"baby\", \"baby\", \"bad\", \"bad\", \"bad\", \"bad\", \"bad\", \"bag\", \"band\", \"band\", \"band\", \"band\", \"bea\", \"beautiful\", \"beautiful\", \"beautiful\", \"beautiful\", \"bebe\", \"best\", \"best\", \"best\", \"best\", \"best\", \"better\", \"better\", \"better\", \"better\", \"better\", \"billion\", \"bitch\", \"bitch\", \"bitch\", \"bitch\", \"blake\", \"bless\", \"bless\", \"blessing\", \"blm\", \"bowie\", \"brilliant\", \"brilliant\", \"brilliant\", \"bugg\", \"button\", \"came\", \"came\", \"came\", \"came\", \"came\", \"carry\", \"cause\", \"cause\", \"cause\", \"cause\", \"cause\", \"cd\", \"channel\", \"channel\", \"channel\", \"channel\", \"charlie\", \"charlie\", \"charlie\", \"check\", \"check\", \"check\", \"check\", \"chester\", \"chorus\", \"chorus\", \"chorus\", \"chris\", \"chris\", \"chris\", \"christ\", \"clicked\", \"com\", \"com\", \"com\", \"come\", \"come\", \"come\", \"come\", \"come\", \"comes\", \"comes\", \"comes\", \"comes\", \"comes\", \"comment\", \"comment\", \"comment\", \"comment\", \"complaining\", \"cool\", \"cool\", \"cool\", \"cool\", \"cool\", \"crap\", \"crying\", \"crying\", \"crying\", \"crying\", \"crying\", \"cute\", \"cute\", \"cute\", \"cyrus\", \"deliver\", \"depeche\", \"did\", \"did\", \"did\", \"did\", \"did\", \"didn\", \"didn\", \"didn\", \"didn\", \"didn\", \"dislike\", \"dislike\", \"dj\", \"dj\", \"does\", \"does\", \"does\", \"does\", \"doesn\", \"doesn\", \"doesn\", \"doesn\", \"doesn\", \"don\", \"don\", \"don\", \"don\", \"don\", \"doo\", \"dragons\", \"ebro\", \"ed\", \"ed\", \"eminem\", \"ending\", \"ending\", \"english\", \"english\", \"enormous\", \"eric\", \"eric\", \"excited\", \"excited\", \"excited\", \"excited\", \"falling\", \"falling\", \"father\", \"father\", \"favorite\", \"favorite\", \"favorite\", \"favourite\", \"feel\", \"feel\", \"feel\", \"feel\", \"feel\", \"finally\", \"finally\", \"finally\", \"finally\", \"florida\", \"fob\", \"forever\", \"forever\", \"forever\", \"forever\", \"forgot\", \"fuck\", \"fuck\", \"fuck\", \"fuck\", \"fucking\", \"fucking\", \"fucking\", \"fucking\", \"girl\", \"girl\", \"girl\", \"girl\", \"girl\", \"girls\", \"girls\", \"girls\", \"god\", \"god\", \"god\", \"god\", \"god\", \"going\", \"going\", \"going\", \"going\", \"going\", \"good\", \"good\", \"good\", \"good\", \"good\", \"goodbyes\", \"google\", \"got\", \"got\", \"got\", \"got\", \"got\", \"gotta\", \"gotta\", \"gotta\", \"gotta\", \"great\", \"great\", \"great\", \"great\", \"great\", \"gucci\", \"guys\", \"guys\", \"guys\", \"guys\", \"guys\", \"happy\", \"happy\", \"happy\", \"happy\", \"happy\", \"hat\", \"hear\", \"hear\", \"hear\", \"hear\", \"hear\", \"heard\", \"heard\", \"heard\", \"heard\", \"heard\", \"heart\", \"heart\", \"heart\", \"heart\", \"heart\", \"high\", \"high\", \"high\", \"high\", \"high\", \"hola\", \"holy\", \"holy\", \"holy\", \"hometeam\", \"hour\", \"https\", \"hunter\", \"hurt\", \"im\", \"im\", \"im\", \"im\", \"im\", \"incredible\", \"incredible\", \"india\", \"itunes\", \"jackson\", \"jake\", \"jake\", \"jake\", \"jam\", \"jessie\", \"jesus\", \"jesus\", \"john\", \"john\", \"john\", \"john\", \"johnny\", \"just\", \"just\", \"just\", \"just\", \"just\", \"katy\", \"killed\", \"kinda\", \"kinda\", \"kinda\", \"know\", \"know\", \"know\", \"know\", \"know\", \"kris\", \"kygo\", \"kygo\", \"lana\", \"lana\", \"lately\", \"let\", \"let\", \"let\", \"let\", \"let\", \"lets\", \"life\", \"life\", \"life\", \"life\", \"life\", \"like\", \"like\", \"like\", \"like\", \"like\", \"lin\", \"linkin\", \"listen\", \"listen\", \"listen\", \"listen\", \"listen\", \"listening\", \"listening\", \"listening\", \"listening\", \"ll\", \"ll\", \"ll\", \"ll\", \"lol\", \"lol\", \"lol\", \"lol\", \"long\", \"long\", \"long\", \"look\", \"look\", \"look\", \"look\", \"look\", \"looks\", \"looks\", \"lord\", \"lord\", \"love\", \"love\", \"love\", \"love\", \"loved\", \"loved\", \"loved\", \"loved\", \"make\", \"make\", \"make\", \"make\", \"make\", \"masterpiece\", \"masterpiece\", \"masterpiece\", \"meh\", \"miley\", \"miley\", \"miley\", \"million\", \"million\", \"miss\", \"miss\", \"miss\", \"miss\", \"miss\", \"moves\", \"music\", \"music\", \"music\", \"music\", \"music\", \"nall\", \"nall\", \"nand\", \"nand\", \"nbaby\", \"nbaby\", \"nbut\", \"nbut\", \"ncan\", \"ncause\", \"ndoes\", \"ndon\", \"ndon\", \"need\", \"need\", \"need\", \"need\", \"need\", \"nervous\", \"new\", \"new\", \"new\", \"new\", \"new\", \"nfalling\", \"nhometeam\", \"nhow\", \"nhttps\", \"nhttps\", \"ni\", \"ni\", \"ni\", \"nicki\", \"nif\", \"nif\", \"nif\", \"nit\", \"nit\", \"nit\", \"njust\", \"nlet\", \"nlet\", \"nmy\", \"nnah\", \"noah\", \"noh\", \"noh\", \"nooh\", \"notes\", \"notification\", \"nshe\", \"nso\", \"nwe\", \"nwhen\", \"nwhen\", \"nwhen\", \"nyeah\", \"nyeah\", \"nyou\", \"nyoutube\", \"obsessed\", \"obsessed\", \"official\", \"official\", \"official\", \"offset\", \"oh\", \"oh\", \"oh\", \"oh\", \"oh\", \"omg\", \"omg\", \"omg\", \"omg\", \"ooh\", \"original\", \"original\", \"original\", \"original\", \"park\", \"park\", \"peace\", \"peace\", \"peace\", \"people\", \"people\", \"people\", \"people\", \"people\", \"perfect\", \"perfect\", \"perfect\", \"perry\", \"petty\", \"pls\", \"pony\", \"pray\", \"pray\", \"pretty\", \"pretty\", \"pretty\", \"pretty\", \"pretty\", \"proud\", \"proud\", \"proud\", \"proud\", \"puerto\", \"queen\", \"queen\", \"queen\", \"queen\", \"queen\", \"radiohead\", \"rainbow\", \"real\", \"real\", \"real\", \"real\", \"real\", \"really\", \"really\", \"really\", \"really\", \"really\", \"relatable\", \"relate\", \"repeat\", \"replay\", \"replay\", \"rico\", \"right\", \"right\", \"right\", \"right\", \"right\", \"ross\", \"round\", \"sabrina\", \"sam\", \"sam\", \"sam\", \"say\", \"say\", \"say\", \"say\", \"say\", \"saying\", \"saying\", \"saying\", \"saying\", \"section\", \"shady\", \"shania\", \"shania\", \"sheeran\", \"shit\", \"shit\", \"shit\", \"shit\", \"sing\", \"sing\", \"sing\", \"sing\", \"sing\", \"single\", \"single\", \"sins\", \"smith\", \"smith\", \"smith\", \"snake\", \"somebody\", \"son\", \"son\", \"son\", \"son\", \"song\", \"song\", \"song\", \"song\", \"song\", \"songs\", \"songs\", \"songs\", \"songs\", \"songs\", \"soo\", \"soooo\", \"sound\", \"sound\", \"sound\", \"sound\", \"sound\", \"soundcloud\", \"sounds\", \"sounds\", \"spanish\", \"spanish\", \"speechless\", \"spotify\", \"steve\", \"steve\", \"stuck\", \"sub\", \"subscribe\", \"subscribe\", \"subscribe\", \"sweet\", \"sweet\", \"sweet\", \"sweet\", \"swift\", \"takes\", \"takes\", \"talent\", \"talent\", \"talent\", \"talented\", \"talented\", \"talented\", \"talented\", \"talented\", \"taylor\", \"tell\", \"tell\", \"tell\", \"tell\", \"tf\", \"thank\", \"thank\", \"thank\", \"thank\", \"thank\", \"think\", \"think\", \"think\", \"think\", \"think\", \"tho\", \"tho\", \"tho\", \"thought\", \"thought\", \"thought\", \"thought\", \"thought\", \"thumbnail\", \"time\", \"time\", \"time\", \"time\", \"time\", \"tone\", \"tonight\", \"tove\", \"trending\", \"type\", \"type\", \"type\", \"type\", \"underdog\", \"ve\", \"ve\", \"ve\", \"ve\", \"ve\", \"version\", \"version\", \"version\", \"video\", \"video\", \"video\", \"video\", \"video\", \"videos\", \"videos\", \"videos\", \"videos\", \"voice\", \"voice\", \"voice\", \"voices\", \"voices\", \"wait\", \"wait\", \"wait\", \"wait\", \"waiting\", \"waiting\", \"waiting\", \"waiting\", \"waiting\", \"walker\", \"wanna\", \"wanna\", \"wanna\", \"wanna\", \"wanna\", \"want\", \"want\", \"want\", \"want\", \"want\", \"watch\", \"watch\", \"watch\", \"watch\", \"watch\", \"watching\", \"watching\", \"watching\", \"watching\", \"watching\", \"way\", \"way\", \"way\", \"way\", \"way\", \"weezer\", \"weird\", \"weird\", \"weird\", \"weird\", \"women\", \"women\", \"won\", \"won\", \"won\", \"won\", \"wonderful\", \"wonderful\", \"wonderful\", \"work\", \"work\", \"work\", \"work\", \"work\", \"working\", \"working\", \"wow\", \"wow\", \"wow\", \"wow\", \"wow\", \"wtf\", \"wtf\", \"wu\", \"www\", \"xx\", \"xx\", \"yay\", \"yeah\", \"yeah\", \"yeah\", \"yeah\", \"yo\", \"yo\", \"youtu\", \"youtu\", \"youtube\", \"youtube\", \"youtube\", \"zayn\"]}, \"R\": 30, \"lambda.step\": 0.01, \"plot.opts\": {\"xlab\": \"PC1\", \"ylab\": \"PC2\"}, \"topic.order\": [5, 1, 3, 4, 2]};\n\nfunction LDAvis_load_lib(url, callback){\n  var s = document.createElement('script');\n  s.src = url;\n  s.async = true;\n  s.onreadystatechange = s.onload = callback;\n  s.onerror = function(){console.warn(\"failed to load library \" + url);};\n  document.getElementsByTagName(\"head\")[0].appendChild(s);\n}\n\nif(typeof(LDAvis) !== \"undefined\"){\n   // already loaded: just create the visualization\n   !function(LDAvis){\n       new LDAvis(\"#\" + \"ldavis_el2594856953052008391407898\", ldavis_el2594856953052008391407898_data);\n   }(LDAvis);\n}else if(typeof define === \"function\" && define.amd){\n   // require.js is available: use it to load d3/LDAvis\n   require.config({paths: {d3: \"https://d3js.org/d3.v5\"}});\n   require([\"d3\"], function(d3){\n      window.d3 = d3;\n      LDAvis_load_lib(\"https://cdn.jsdelivr.net/gh/bmabey/pyLDAvis@3.3.1/pyLDAvis/js/ldavis.v3.0.0.js\", function(){\n        new LDAvis(\"#\" + \"ldavis_el2594856953052008391407898\", ldavis_el2594856953052008391407898_data);\n      });\n    });\n}else{\n    // require.js not available: dynamically load d3 & LDAvis\n    LDAvis_load_lib(\"https://d3js.org/d3.v5.js\", function(){\n         LDAvis_load_lib(\"https://cdn.jsdelivr.net/gh/bmabey/pyLDAvis@3.3.1/pyLDAvis/js/ldavis.v3.0.0.js\", function(){\n                 new LDAvis(\"#\" + \"ldavis_el2594856953052008391407898\", ldavis_el2594856953052008391407898_data);\n            })\n         });\n}\n</script>"
     },
     "metadata": {},
     "execution_count": 84
    }
   ],
   "source": [
    "pyLDAvis.enable_notebook()\n",
    "vis = pyLDAvis.sklearn.prepare(LDA, dtm, cv)\n",
    "pyLDAvis.display(vis)"
   ]
  },
  {
   "cell_type": "code",
   "execution_count": null,
   "metadata": {},
   "outputs": [],
   "source": []
  }
 ]
}