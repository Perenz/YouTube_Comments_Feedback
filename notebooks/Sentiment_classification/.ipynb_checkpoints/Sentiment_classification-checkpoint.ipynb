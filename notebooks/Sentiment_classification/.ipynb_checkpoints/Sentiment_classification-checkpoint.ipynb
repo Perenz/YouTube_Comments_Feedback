{
 "cells": [
  {
   "cell_type": "markdown",
   "id": "reflected-confirmation",
   "metadata": {},
   "source": [
    "# Youtube comment's sentiment analysis\n",
    "\n",
    "Authors: Stefano Perenzoni & Nicolás Arrieta Larraza"
   ]
  },
  {
   "cell_type": "markdown",
   "id": "destroyed-literature",
   "metadata": {},
   "source": [
    "## Introduction\n",
    "\n",
    "This notebook is part of the project named \"Topic modelling and sentiment analysis of Youtube comments\" and it contains our sentiment analysis approach on a british Youtube music videos comment's dataset. \n",
    "\n",
    "We mention more of the dataset in previous notebooks, thus, what it matters for this notebook is that the already-cleaned and filtered datase contains 51790 unlabebeled comments in english.\n",
    "\n",
    "For such an unsupervised task, in the following sections we present:\n",
    "* An implementation of our own sentiment analysis classifier that includes:\n",
    "    * Data preprocessing\n",
    "    \n",
    "    * Word embedding (Word2Vec)\n",
    "    \n",
    "    * Clustering of words (K-Means)\n",
    "    \n",
    "    * Sentiment prediction based on TF-iDF and closeness scores of the words\n",
    "    \n",
    "    \n",
    "* An analysis and comparison of more suitable models for this scenerario, which include: \n",
    "\n",
    "    * Sentiment analysis with Vader: A rule-based sentiment analysis tool tuned for social media content\n",
    "\n",
    "    * Sentiment analysis with TextBlob: A rule-based sentiment analysis tool with Subjectivity analysis\n",
    "\n",
    "    * Sentiment analysis with Flair: An embedding-based NLP framework with pre-trained sentiment analysis models\n",
    "    \n",
    "    \n",
    "* A final approach with Ensemble Learning\n"
   ]
  },
  {
   "cell_type": "markdown",
   "id": "magnetic-tuesday",
   "metadata": {},
   "source": [
    "## Importing libraries"
   ]
  },
  {
   "cell_type": "code",
   "execution_count": 1,
   "id": "pleasant-arctic",
   "metadata": {},
   "outputs": [
    {
     "name": "stderr",
     "output_type": "stream",
     "text": [
      "[nltk_data] Downloading package wordnet to\n",
      "[nltk_data]     /home/narrietal/nltk_data...\n",
      "[nltk_data]   Package wordnet is already up-to-date!\n"
     ]
    }
   ],
   "source": [
    "import json\n",
    "from time import time\n",
    "import re\n",
    "from sklearn.feature_extraction.text import TfidfVectorizer\n",
    "import pandas as pd\n",
    "import numpy as np\n",
    "import matplotlib.pyplot as plt\n",
    "import flair\n",
    "from flair.models import TextClassifier\n",
    "from flair.data import Sentence\n",
    "from gensim.models import Word2Vec\n",
    "from gensim.models.phrases import Phrases, Phraser\n",
    "from vaderSentiment.vaderSentiment import SentimentIntensityAnalyzer\n",
    "from textblob import TextBlob\n",
    "import spacy \n",
    "from scipy.spatial import distance\n",
    "import multiprocessing\n",
    "from sklearn.cluster import KMeans\n",
    "import seaborn as sns\n",
    "import nltk\n",
    "from nltk.corpus import stopwords\n",
    "from nltk.stem import WordNetLemmatizer \n",
    "from nltk.tokenize import word_tokenize\n",
    "nltk.download('wordnet')\n",
    "data_path = '../../data/'\n",
    "models_path = '../../data/models/'"
   ]
  },
  {
   "cell_type": "markdown",
   "id": "excited-princeton",
   "metadata": {},
   "source": [
    "## Importing already filtered comments\n",
    "We already filtered the coments from the initial raw dataset as follows:\n",
    "* Keep only british comments\n",
    "* Removing missing cells\n",
    "* Removing duplicates"
   ]
  },
  {
   "cell_type": "code",
   "execution_count": 2,
   "id": "proper-recruitment",
   "metadata": {},
   "outputs": [],
   "source": [
    "#Importing filtered comments\n",
    "comments_df = pd.read_csv(data_path+'GB_comments_filtered.csv')"
   ]
  },
  {
   "cell_type": "code",
   "execution_count": 3,
   "id": "meaning-absence",
   "metadata": {},
   "outputs": [
    {
     "data": {
      "text/html": [
       "<div>\n",
       "<style scoped>\n",
       "    .dataframe tbody tr th:only-of-type {\n",
       "        vertical-align: middle;\n",
       "    }\n",
       "\n",
       "    .dataframe tbody tr th {\n",
       "        vertical-align: top;\n",
       "    }\n",
       "\n",
       "    .dataframe thead th {\n",
       "        text-align: right;\n",
       "    }\n",
       "</style>\n",
       "<table border=\"1\" class=\"dataframe\">\n",
       "  <thead>\n",
       "    <tr style=\"text-align: right;\">\n",
       "      <th></th>\n",
       "      <th>comment_text</th>\n",
       "    </tr>\n",
       "  </thead>\n",
       "  <tbody>\n",
       "    <tr>\n",
       "      <th>0</th>\n",
       "      <td>I didn't really like the song</td>\n",
       "    </tr>\n",
       "    <tr>\n",
       "      <th>1</th>\n",
       "      <td>alright... I'll take the stairs</td>\n",
       "    </tr>\n",
       "    <tr>\n",
       "      <th>2</th>\n",
       "      <td>a fable on a realistic ground  is a cry of pro...</td>\n",
       "    </tr>\n",
       "    <tr>\n",
       "      <th>3</th>\n",
       "      <td>hope you will exist for many years..</td>\n",
       "    </tr>\n",
       "    <tr>\n",
       "      <th>4</th>\n",
       "      <td>Would this song exist if he lived on the first...</td>\n",
       "    </tr>\n",
       "  </tbody>\n",
       "</table>\n",
       "</div>"
      ],
      "text/plain": [
       "                                        comment_text\n",
       "0                      I didn't really like the song\n",
       "1                    alright... I'll take the stairs\n",
       "2  a fable on a realistic ground  is a cry of pro...\n",
       "3               hope you will exist for many years..\n",
       "4  Would this song exist if he lived on the first..."
      ]
     },
     "execution_count": 3,
     "metadata": {},
     "output_type": "execute_result"
    }
   ],
   "source": [
    "#Getting only the comments \n",
    "comments_text_df = comments_df['comment_text'].to_frame()\n",
    "comments_text_df.head()"
   ]
  },
  {
   "cell_type": "code",
   "execution_count": 164,
   "id": "external-program",
   "metadata": {},
   "outputs": [
    {
     "data": {
      "text/html": [
       "<div>\n",
       "<style scoped>\n",
       "    .dataframe tbody tr th:only-of-type {\n",
       "        vertical-align: middle;\n",
       "    }\n",
       "\n",
       "    .dataframe tbody tr th {\n",
       "        vertical-align: top;\n",
       "    }\n",
       "\n",
       "    .dataframe thead th {\n",
       "        text-align: right;\n",
       "    }\n",
       "</style>\n",
       "<table border=\"1\" class=\"dataframe\">\n",
       "  <thead>\n",
       "    <tr style=\"text-align: right;\">\n",
       "      <th></th>\n",
       "      <th>comment_text</th>\n",
       "    </tr>\n",
       "  </thead>\n",
       "  <tbody>\n",
       "    <tr>\n",
       "      <th>0</th>\n",
       "      <td>I didn't really like the song</td>\n",
       "    </tr>\n",
       "    <tr>\n",
       "      <th>1</th>\n",
       "      <td>alright... I'll take the stairs</td>\n",
       "    </tr>\n",
       "    <tr>\n",
       "      <th>2</th>\n",
       "      <td>a fable on a realistic ground  is a cry of pro...</td>\n",
       "    </tr>\n",
       "    <tr>\n",
       "      <th>3</th>\n",
       "      <td>hope you will exist for many years..</td>\n",
       "    </tr>\n",
       "    <tr>\n",
       "      <th>4</th>\n",
       "      <td>Would this song exist if he lived on the first...</td>\n",
       "    </tr>\n",
       "    <tr>\n",
       "      <th>...</th>\n",
       "      <td>...</td>\n",
       "    </tr>\n",
       "    <tr>\n",
       "      <th>51785</th>\n",
       "      <td>Whatever is related to him is = PURE PERFECTION</td>\n",
       "    </tr>\n",
       "    <tr>\n",
       "      <th>51786</th>\n",
       "      <td>Zhu is awesome! Unfortunately, Adidas must of ...</td>\n",
       "    </tr>\n",
       "    <tr>\n",
       "      <th>51787</th>\n",
       "      <td>Once again the Asians dominate!</td>\n",
       "    </tr>\n",
       "    <tr>\n",
       "      <th>51788</th>\n",
       "      <td>ZHU is a fucking magical aesthetic unicorn god</td>\n",
       "    </tr>\n",
       "    <tr>\n",
       "      <th>51789</th>\n",
       "      <td>sold out to a global corp of scumbags</td>\n",
       "    </tr>\n",
       "  </tbody>\n",
       "</table>\n",
       "<p>51790 rows × 1 columns</p>\n",
       "</div>"
      ],
      "text/plain": [
       "                                            comment_text\n",
       "0                          I didn't really like the song\n",
       "1                        alright... I'll take the stairs\n",
       "2      a fable on a realistic ground  is a cry of pro...\n",
       "3                   hope you will exist for many years..\n",
       "4      Would this song exist if he lived on the first...\n",
       "...                                                  ...\n",
       "51785    Whatever is related to him is = PURE PERFECTION\n",
       "51786  Zhu is awesome! Unfortunately, Adidas must of ...\n",
       "51787                    Once again the Asians dominate!\n",
       "51788     ZHU is a fucking magical aesthetic unicorn god\n",
       "51789              sold out to a global corp of scumbags\n",
       "\n",
       "[51790 rows x 1 columns]"
      ]
     },
     "execution_count": 164,
     "metadata": {},
     "output_type": "execute_result"
    }
   ],
   "source": [
    "comments_text_df"
   ]
  },
  {
   "cell_type": "markdown",
   "id": "casual-contrast",
   "metadata": {},
   "source": [
    "## Implementing our own sentiment analysis classifier\n",
    "\n",
    "First, we attempt to implement our own classifier. We can foresee that it is a complex challenge as it is an unsupervised task on a dataset with a wide variety of comments.\n",
    "\n",
    "Anyway, we believe it is interesting to develop this classic approach in order to compare it with the performance of more suitable models for this task.\n",
    "\n",
    "In the following sections we proceed to do the tasks listed below:\n",
    "* Preprocess the data: Clean, tokenize and lemmatize the comments\n",
    "* Detect common phrases\n",
    "* Create Word2Vec model\n",
    "* Apply K-Means algorithm\n",
    "* Estimate comment's sentiment analysis by computing the dot product of the tf-idf scores and sentiment analaysis scores of every word in the comment.\n"
   ]
  },
  {
   "cell_type": "markdown",
   "id": "wrapped-making",
   "metadata": {},
   "source": [
    "### Data preprocessing"
   ]
  },
  {
   "cell_type": "markdown",
   "id": "painted-definition",
   "metadata": {},
   "source": [
    "Keeping only alphanumerical words, tokenizing, lemmatizing and erasing stop words"
   ]
  },
  {
   "cell_type": "code",
   "execution_count": 4,
   "id": "regulated-burlington",
   "metadata": {},
   "outputs": [],
   "source": [
    "stop_words = set(stopwords.words('english'))\n",
    "lemmatizer = WordNetLemmatizer()\n",
    "\n",
    "def comment_to_word_list(comment):\n",
    "    # Keeps only alpha numerical tokens\n",
    "    comment = re.sub(r\"[^A-Za-z']+\", ' ', str(comment).lower())\n",
    "    # Divides comment in tokens\n",
    "    comment = word_tokenize(comment)\n",
    "    # Lemmatizes and removes stopwords\n",
    "    comment = [lemmatizer.lemmatize(token) for token in comment if not token in stop_words]\n",
    "    \n",
    "    return comment"
   ]
  },
  {
   "cell_type": "code",
   "execution_count": 5,
   "id": "periodic-favorite",
   "metadata": {},
   "outputs": [
    {
     "name": "stdout",
     "output_type": "stream",
     "text": [
      "Cleaning time: 0.31 mins\n"
     ]
    }
   ],
   "source": [
    "t = time()\n",
    "\n",
    "clean_comments_df = comments_text_df.copy()\n",
    "\n",
    "clean_comments_df.comment_text = clean_comments_df.comment_text.apply(lambda x: comment_to_word_list(x))\n",
    "\n",
    "print('Cleaning time: {} mins'.format(round((time() - t) / 60, 2)))"
   ]
  },
  {
   "cell_type": "markdown",
   "id": "consolidated-longitude",
   "metadata": {},
   "source": [
    "### Bigram \n",
    "\n",
    "We use the Gensim Phrases to automatically detect common phrases from a given list of sentences. (E.g. \"New York\" would be returned as \"New_York\")"
   ]
  },
  {
   "cell_type": "code",
   "execution_count": 6,
   "id": "grave-corrections",
   "metadata": {},
   "outputs": [],
   "source": [
    "sent = [word for word in clean_comments_df.comment_text]\n",
    "phrases = Phrases(sent, min_count=30, progress_per=10000)\n",
    "bigram = Phraser(phrases)\n",
    "sentences = bigram[sent]"
   ]
  },
  {
   "cell_type": "markdown",
   "id": "dangerous-spencer",
   "metadata": {},
   "source": [
    "### Word2Vec\n",
    "\n",
    "We are going to embed the commets in 300 dimensional vectors with Word2Vec. We use the following parameters for the vectorization:\n",
    "\n",
    "* min count = 3 - remove most unusual words from training embeddings (words that appear less than 3 times)\n",
    "* window = 4 - Word2Vec model will learn to predict given word from up to 4 words to the left, and up to 4 words to the right\n",
    "* vector_size = 300 - size of hidden layer used to predict surroundings of embedded word, which also stands for dimensions of trained embeddings\n",
    "* sample = 1e-5 - probability baseline for subsampling most frequent words from surrounding of embedded word\n",
    "* alpha = learning rate\n",
    "* min_alpha = learning rate will decay to this value\n",
    "* negative = 20 - If > 0, negative sampling will be used, the int for negative specifies how many \"noise words\" should be drown."
   ]
  },
  {
   "cell_type": "code",
   "execution_count": 9,
   "id": "exceptional-anchor",
   "metadata": {},
   "outputs": [
    {
     "name": "stdout",
     "output_type": "stream",
     "text": [
      "Time to build vocab: 0.02 mins\n"
     ]
    }
   ],
   "source": [
    "w2v_model = Word2Vec(min_count=3,\n",
    "                     window=4,\n",
    "                     vector_size=300,\n",
    "                     sample=1e-5, \n",
    "                     alpha=0.03, \n",
    "                     min_alpha=0.0007, \n",
    "                     negative=20,\n",
    "                     workers=multiprocessing.cpu_count()-1)\n",
    "\n",
    "start = time()\n",
    "\n",
    "w2v_model.build_vocab(sentences, progress_per=50000)\n",
    "\n",
    "print('Time to build vocab: {} mins'.format(round((time() - start) / 60, 2)))"
   ]
  },
  {
   "cell_type": "code",
   "execution_count": 10,
   "id": "infrared-database",
   "metadata": {},
   "outputs": [
    {
     "name": "stdout",
     "output_type": "stream",
     "text": [
      "Time to train the model: 0.68 mins\n"
     ]
    }
   ],
   "source": [
    "start = time()\n",
    "\n",
    "w2v_model.train(sentences, total_examples=w2v_model.corpus_count, epochs=30, report_delay=1)\n",
    "\n",
    "print('Time to train the model: {} mins'.format(round((time() - start) / 60, 2)))\n",
    "\n",
    "w2v_model.save(models_path+\"word2vec.model\")"
   ]
  },
  {
   "cell_type": "markdown",
   "id": "abandoned-lyric",
   "metadata": {},
   "source": [
    "### K-Means\n",
    "\n",
    "K-Means it is an iterative clustering algorithm, in which in first step K random data points are chosen as coordinates of clusters centroids (where n is the number of seeked clusters). In every step all points are assigned to their closest centroid, based on euclidean distance. Then, new coordinates of every centroid are calculated, as mean of coordinates of all data points assigned to each centroid, and iterations are repeated till reaching minimal value of squared sum of distances between points assigned to centroids, and their centroid coordinates (which just simply means that coordinates of clusters stop to change), or number of iterations reach given limit.\n",
    "\n",
    "For our task, we choose K=50 clusters and a stoping criteria of 1000 iterations."
   ]
  },
  {
   "cell_type": "code",
   "execution_count": 11,
   "id": "charming-speed",
   "metadata": {},
   "outputs": [
    {
     "name": "stdout",
     "output_type": "stream",
     "text": [
      "Time to compute K-Means algorithm: 0.12 mins\n"
     ]
    }
   ],
   "source": [
    "word_vectors = w2v_model.wv\n",
    "start = time()\n",
    "kmeans_model = KMeans(n_clusters=2, max_iter=1000, n_init=50)\n",
    "kmeans_model.fit(X=word_vectors.vectors.astype('double'))\n",
    "\n",
    "print('Time to compute K-Means algorithm: {} mins'.format(round((time() - start) / 60, 2)))\n"
   ]
  },
  {
   "cell_type": "markdown",
   "id": "prescribed-pierre",
   "metadata": {},
   "source": [
    "#### Discussing results\n",
    "\n",
    "In order to understand which cluster belongs to positive or negative, we take a look at the words that are closest, in terms of cosine similarity, to the coordinates of the centroids of each cluster."
   ]
  },
  {
   "cell_type": "code",
   "execution_count": 12,
   "id": "tracked-edward",
   "metadata": {},
   "outputs": [
    {
     "data": {
      "text/plain": [
       "[('juss', 0.9997978806495667),\n",
       " ('freshly', 0.9997945427894592),\n",
       " ('chipmunk', 0.9997785687446594),\n",
       " ('racial', 0.9997736215591431),\n",
       " ('lotta', 0.9997729659080505),\n",
       " ('guccimane', 0.999771237373352),\n",
       " ('heared', 0.9997678399085999),\n",
       " ('wholesome', 0.9997676014900208),\n",
       " ('earthquake', 0.9997669458389282),\n",
       " ('tm', 0.9997663497924805)]"
      ]
     },
     "execution_count": 12,
     "metadata": {},
     "output_type": "execute_result"
    }
   ],
   "source": [
    "word_vectors.similar_by_vector(kmeans_model.cluster_centers_[0], topn=10, restrict_vocab=None)"
   ]
  },
  {
   "cell_type": "code",
   "execution_count": 13,
   "id": "little-logging",
   "metadata": {},
   "outputs": [
    {
     "data": {
      "text/plain": [
       "[('ntake', 0.9858958721160889),\n",
       " ('nhow', 0.9841887950897217),\n",
       " ('nwithout', 0.9833437204360962),\n",
       " ('nwill', 0.981657087802887),\n",
       " ('nare', 0.9787806868553162),\n",
       " ('nam', 0.9782816767692566),\n",
       " ('say', 0.976513683795929),\n",
       " ('mind', 0.9759274125099182),\n",
       " ('unsure', 0.9748870730400085),\n",
       " ('try', 0.9748343825340271)]"
      ]
     },
     "execution_count": 13,
     "metadata": {},
     "output_type": "execute_result"
    }
   ],
   "source": [
    "word_vectors.similar_by_vector(kmeans_model.cluster_centers_[1], topn=10, restrict_vocab=None)"
   ]
  },
  {
   "cell_type": "markdown",
   "id": "outside-thirty",
   "metadata": {},
   "source": [
    "We can observe that the 2 closest words to the centroid of the first cluster are \"goooood\" and \"wholesome\". This could suggest that such a cluster could be the positive one.\n",
    "\n",
    "However, based on the closest words, it is not clear if the second cluster belongs to negative reviews."
   ]
  },
  {
   "cell_type": "markdown",
   "id": "worst-trouble",
   "metadata": {},
   "source": [
    "We can also check for certain words to see to which cluster they have been assigned to:"
   ]
  },
  {
   "cell_type": "code",
   "execution_count": 16,
   "id": "collect-preservation",
   "metadata": {
    "scrolled": true
   },
   "outputs": [
    {
     "name": "stdout",
     "output_type": "stream",
     "text": [
      "The word good was assigned to cluster: 0 at a distance from its centroid of: 0.026116818818596843 \n",
      "\n",
      "The word bad was assigned to cluster: 0 at a distance from its centroid of: 0.08549509233707464 \n",
      "\n",
      "The word wrong was assigned to cluster: 1 at a distance from its centroid of: 0.09559552489929268 \n",
      "\n",
      "The word great was assigned to cluster: 0 at a distance from its centroid of: 0.05570642855848751 \n",
      "\n",
      "The word terrible was assigned to cluster: 0 at a distance from its centroid of: 0.012777189218619145 \n",
      "\n"
     ]
    }
   ],
   "source": [
    "test_words = ['good', 'bad', 'wrong', \"great\", \"terrible\"]\n",
    "for w in test_words:\n",
    "    cluster_index = kmeans_model.labels_[word_vectors.key_to_index[w]]\n",
    "    print('The word', w, 'was assigned to cluster:', cluster_index, 'at a distance from its centroid of:',distance.cosine(word_vectors[w], kmeans_model.cluster_centers_[cluster_index]),'\\n')"
   ]
  },
  {
   "cell_type": "markdown",
   "id": "breathing-survivor",
   "metadata": {},
   "source": [
    "As we can observe, the results seem to show that the clusters are not dividing correctly the words in terms of positive/negative sentiment. The words \"good\",\"bad\",\"great\" and \"terrible\" are assigned to the same, while \"wrong\" it is assigned differently.\n",
    "\n",
    "We can guess that the final result will not be accurate, but we will continue with the task assuming that the first cluster belongs to positive words."
   ]
  },
  {
   "cell_type": "markdown",
   "id": "elegant-spending",
   "metadata": {},
   "source": [
    "#### Assigning clusters\n",
    "\n",
    "We will assign to each word a sentiment score, -1 or 1, depending on the cluster they belong to, negative or positive respectively. To get this score we multiply it by the distance to the centroid of their cluster. As the score that K-means algorithm outputs is distance from both clusters, to properly weigh them we multiplied them by the inverse of closeness score."
   ]
  },
  {
   "cell_type": "code",
   "execution_count": 17,
   "id": "ultimate-partner",
   "metadata": {},
   "outputs": [],
   "source": [
    "words = pd.DataFrame(word_vectors.index_to_key)\n",
    "words.columns = ['words']\n",
    "words['vectors'] = words.words.apply(lambda x: word_vectors[f'{x}'])\n",
    "words['cluster'] = words.vectors.apply(lambda x: kmeans_model.predict([np.array(x)]))\n",
    "words.cluster = words.cluster.apply(lambda x: x[0])"
   ]
  },
  {
   "cell_type": "code",
   "execution_count": 18,
   "id": "governmental-homeless",
   "metadata": {},
   "outputs": [
    {
     "data": {
      "text/html": [
       "<div>\n",
       "<style scoped>\n",
       "    .dataframe tbody tr th:only-of-type {\n",
       "        vertical-align: middle;\n",
       "    }\n",
       "\n",
       "    .dataframe tbody tr th {\n",
       "        vertical-align: top;\n",
       "    }\n",
       "\n",
       "    .dataframe thead th {\n",
       "        text-align: right;\n",
       "    }\n",
       "</style>\n",
       "<table border=\"1\" class=\"dataframe\">\n",
       "  <thead>\n",
       "    <tr style=\"text-align: right;\">\n",
       "      <th></th>\n",
       "      <th>words</th>\n",
       "      <th>vectors</th>\n",
       "      <th>cluster</th>\n",
       "      <th>cluster_value</th>\n",
       "      <th>closeness_score</th>\n",
       "      <th>sentiment_coeff</th>\n",
       "    </tr>\n",
       "  </thead>\n",
       "  <tbody>\n",
       "    <tr>\n",
       "      <th>0</th>\n",
       "      <td>song</td>\n",
       "      <td>[0.0847291, -0.046834808, -0.031612296, 0.0978...</td>\n",
       "      <td>0</td>\n",
       "      <td>1</td>\n",
       "      <td>0.950590</td>\n",
       "      <td>0.950590</td>\n",
       "    </tr>\n",
       "    <tr>\n",
       "      <th>1</th>\n",
       "      <td>love</td>\n",
       "      <td>[0.18501046, 0.11311181, 0.0032570814, -0.0501...</td>\n",
       "      <td>1</td>\n",
       "      <td>-1</td>\n",
       "      <td>0.556316</td>\n",
       "      <td>-0.556316</td>\n",
       "    </tr>\n",
       "    <tr>\n",
       "      <th>2</th>\n",
       "      <td>'s</td>\n",
       "      <td>[0.04604786, -0.050572217, -0.061958257, 0.062...</td>\n",
       "      <td>1</td>\n",
       "      <td>-1</td>\n",
       "      <td>0.656895</td>\n",
       "      <td>-0.656895</td>\n",
       "    </tr>\n",
       "    <tr>\n",
       "      <th>3</th>\n",
       "      <td>n</td>\n",
       "      <td>[0.014859654, -0.17155193, -0.14537424, 0.1939...</td>\n",
       "      <td>1</td>\n",
       "      <td>-1</td>\n",
       "      <td>0.389754</td>\n",
       "      <td>-0.389754</td>\n",
       "    </tr>\n",
       "    <tr>\n",
       "      <th>4</th>\n",
       "      <td>like</td>\n",
       "      <td>[0.09511839, 0.0051237526, -0.031544328, 0.093...</td>\n",
       "      <td>0</td>\n",
       "      <td>1</td>\n",
       "      <td>0.863353</td>\n",
       "      <td>0.863353</td>\n",
       "    </tr>\n",
       "  </tbody>\n",
       "</table>\n",
       "</div>"
      ],
      "text/plain": [
       "  words                                            vectors  cluster  \\\n",
       "0  song  [0.0847291, -0.046834808, -0.031612296, 0.0978...        0   \n",
       "1  love  [0.18501046, 0.11311181, 0.0032570814, -0.0501...        1   \n",
       "2    's  [0.04604786, -0.050572217, -0.061958257, 0.062...        1   \n",
       "3     n  [0.014859654, -0.17155193, -0.14537424, 0.1939...        1   \n",
       "4  like  [0.09511839, 0.0051237526, -0.031544328, 0.093...        0   \n",
       "\n",
       "   cluster_value  closeness_score  sentiment_coeff  \n",
       "0              1         0.950590         0.950590  \n",
       "1             -1         0.556316        -0.556316  \n",
       "2             -1         0.656895        -0.656895  \n",
       "3             -1         0.389754        -0.389754  \n",
       "4              1         0.863353         0.863353  "
      ]
     },
     "execution_count": 18,
     "metadata": {},
     "output_type": "execute_result"
    }
   ],
   "source": [
    "words['cluster_value'] = [1 if i==0 else -1 for i in words.cluster]\n",
    "words['closeness_score'] = words.apply(lambda x: 1/(kmeans_model.transform([x.vectors]).min()), axis=1)\n",
    "words['sentiment_coeff'] = words.closeness_score * words.cluster_value\n",
    "words.head()"
   ]
  },
  {
   "cell_type": "code",
   "execution_count": 19,
   "id": "alone-cutting",
   "metadata": {
    "scrolled": true
   },
   "outputs": [],
   "source": [
    "sentiment_dict_df = words[['words', 'sentiment_coeff']]\n",
    "sentiment_dict = {row['words']:row['sentiment_coeff'] for index,row in sentiment_dict_df.iterrows()}"
   ]
  },
  {
   "cell_type": "markdown",
   "id": "ultimate-benjamin",
   "metadata": {},
   "source": [
    "### Sentiment prediction\n",
    "\n",
    "The last step is to predict the sentiment of every comment.\n",
    "\n",
    "For that we first produce a vector with the tf-idf score of every word in a sentence. This gives more weight to the words that are more important in a sentence.\n",
    "\n",
    "Then, we produce a second vector with the sentiment scores that we computed in the previous section for the same words in a sentence.\n",
    "\n",
    "In order to get the final sentiment prediction score for that sentence, we compute the dot product of the vectors. If the dot product is positive, the sentiment is positive, otherwise is negative"
   ]
  },
  {
   "cell_type": "code",
   "execution_count": 20,
   "id": "irish-youth",
   "metadata": {},
   "outputs": [],
   "source": [
    "def dummy_fun(doc):\n",
    "    return doc\n",
    "\n",
    "tfidf = TfidfVectorizer(analyzer='word',\n",
    "    tokenizer=dummy_fun,\n",
    "    preprocessor=dummy_fun,\n",
    "    token_pattern=None)\n",
    "\n",
    "tfidf.fit(clean_comments_df.comment_text)\n",
    "features = pd.Series(tfidf.get_feature_names())\n",
    "transformed = tfidf.transform(clean_comments_df.comment_text)"
   ]
  },
  {
   "cell_type": "code",
   "execution_count": 21,
   "id": "artistic-pocket",
   "metadata": {
    "scrolled": true
   },
   "outputs": [
    {
     "name": "stdout",
     "output_type": "stream",
     "text": [
      "Time to create tf-idf and closeness vectors: 0.37 mins\n"
     ]
    }
   ],
   "source": [
    "def create_tfidf_dictionary(x, transformed_file, features):\n",
    "    vector_coo = transformed_file[x.name].tocoo()\n",
    "    vector_coo.col = features.iloc[vector_coo.col].values\n",
    "    dict_from_coo = dict(zip(vector_coo.col, vector_coo.data))\n",
    "    return dict_from_coo\n",
    "\n",
    "def replace_tfidf_words(x, transformed_file, features):\n",
    "    dictionary = create_tfidf_dictionary(x, transformed_file, features)   \n",
    "    return list(map(lambda y:dictionary[f'{y}'], x.comment_text))\n",
    "\n",
    "\n",
    "def replace_sentiment_words(word, sentiment_dict):\n",
    "    try:\n",
    "        out = sentiment_dict[word]\n",
    "    except KeyError:\n",
    "        out = 0\n",
    "    return out\n",
    "\n",
    "start = time()\n",
    "replaced_tfidf_scores = clean_comments_df.apply(lambda x: replace_tfidf_words(x, transformed, features),axis=1)\n",
    "replaced_closeness_scores = clean_comments_df.comment_text.apply(lambda x: list(map(lambda y: replace_sentiment_words(y, sentiment_dict), x)))\n",
    "print('Time to create tf-idf and closeness vectors: {} mins'.format(round((time() - start) / 60, 2)))"
   ]
  },
  {
   "cell_type": "code",
   "execution_count": 22,
   "id": "modified-soccer",
   "metadata": {},
   "outputs": [],
   "source": [
    "sentiment_df = pd.DataFrame(data=[comments_text_df.comment_text, replaced_closeness_scores, replaced_tfidf_scores]).T\n",
    "sentiment_df.columns = ['comment_text','sentiment_coeff', 'tfidf_scores']\n",
    "sentiment_df['sentiment_rate'] = sentiment_df.apply(lambda x: np.array(x.loc['sentiment_coeff']) @ np.array(x.loc['tfidf_scores']), axis=1)\n",
    "sentiment_df['prediction'] = (sentiment_df.sentiment_rate>0).astype('int8')"
   ]
  },
  {
   "cell_type": "code",
   "execution_count": 25,
   "id": "broad-marina",
   "metadata": {
    "scrolled": false
   },
   "outputs": [
    {
     "data": {
      "text/html": [
       "<div>\n",
       "<style scoped>\n",
       "    .dataframe tbody tr th:only-of-type {\n",
       "        vertical-align: middle;\n",
       "    }\n",
       "\n",
       "    .dataframe tbody tr th {\n",
       "        vertical-align: top;\n",
       "    }\n",
       "\n",
       "    .dataframe thead th {\n",
       "        text-align: right;\n",
       "    }\n",
       "</style>\n",
       "<table border=\"1\" class=\"dataframe\">\n",
       "  <thead>\n",
       "    <tr style=\"text-align: right;\">\n",
       "      <th></th>\n",
       "      <th>comment_text</th>\n",
       "      <th>sentiment_coeff</th>\n",
       "      <th>tfidf_scores</th>\n",
       "      <th>sentiment_rate</th>\n",
       "      <th>prediction</th>\n",
       "    </tr>\n",
       "  </thead>\n",
       "  <tbody>\n",
       "    <tr>\n",
       "      <th>0</th>\n",
       "      <td>I didn't really like the song</td>\n",
       "      <td>[-0.8887895303099768, 0.5568657165960161, 0.86...</td>\n",
       "      <td>[0.49077125350687817, 0.6206134296985032, 0.46...</td>\n",
       "      <td>0.687134</td>\n",
       "      <td>1</td>\n",
       "    </tr>\n",
       "    <tr>\n",
       "      <th>1</th>\n",
       "      <td>alright... I'll take the stairs</td>\n",
       "      <td>[1.621816551909419, -0.37983587693121174, 0.53...</td>\n",
       "      <td>[0.5612342998154032, 0.39085294001535686, 0.38...</td>\n",
       "      <td>8.743038</td>\n",
       "      <td>1</td>\n",
       "    </tr>\n",
       "    <tr>\n",
       "      <th>2</th>\n",
       "      <td>a fable on a realistic ground  is a cry of pro...</td>\n",
       "      <td>[0, 9.191734999382218, -0.5380640659852599, -0...</td>\n",
       "      <td>[0.3803346994119293, 0.35037504803931013, 0.28...</td>\n",
       "      <td>11.256144</td>\n",
       "      <td>1</td>\n",
       "    </tr>\n",
       "    <tr>\n",
       "      <th>3</th>\n",
       "      <td>hope you will exist for many years..</td>\n",
       "      <td>[0.9417209272109989, 5.508054667285054, 1.3563...</td>\n",
       "      <td>[0.43309359691929417, 0.6754506092727891, 0.43...</td>\n",
       "      <td>5.378246</td>\n",
       "      <td>1</td>\n",
       "    </tr>\n",
       "    <tr>\n",
       "      <th>4</th>\n",
       "      <td>Would this song exist if he lived on the first...</td>\n",
       "      <td>[1.00602934646922, 0.950590108676847, 5.508054...</td>\n",
       "      <td>[0.30266359901576395, 0.176829989718542, 0.540...</td>\n",
       "      <td>5.489792</td>\n",
       "      <td>1</td>\n",
       "    </tr>\n",
       "  </tbody>\n",
       "</table>\n",
       "</div>"
      ],
      "text/plain": [
       "                                        comment_text  \\\n",
       "0                      I didn't really like the song   \n",
       "1                    alright... I'll take the stairs   \n",
       "2  a fable on a realistic ground  is a cry of pro...   \n",
       "3               hope you will exist for many years..   \n",
       "4  Would this song exist if he lived on the first...   \n",
       "\n",
       "                                     sentiment_coeff  \\\n",
       "0  [-0.8887895303099768, 0.5568657165960161, 0.86...   \n",
       "1  [1.621816551909419, -0.37983587693121174, 0.53...   \n",
       "2  [0, 9.191734999382218, -0.5380640659852599, -0...   \n",
       "3  [0.9417209272109989, 5.508054667285054, 1.3563...   \n",
       "4  [1.00602934646922, 0.950590108676847, 5.508054...   \n",
       "\n",
       "                                        tfidf_scores  sentiment_rate  \\\n",
       "0  [0.49077125350687817, 0.6206134296985032, 0.46...        0.687134   \n",
       "1  [0.5612342998154032, 0.39085294001535686, 0.38...        8.743038   \n",
       "2  [0.3803346994119293, 0.35037504803931013, 0.28...       11.256144   \n",
       "3  [0.43309359691929417, 0.6754506092727891, 0.43...        5.378246   \n",
       "4  [0.30266359901576395, 0.176829989718542, 0.540...        5.489792   \n",
       "\n",
       "   prediction  \n",
       "0           1  \n",
       "1           1  \n",
       "2           1  \n",
       "3           1  \n",
       "4           1  "
      ]
     },
     "execution_count": 25,
     "metadata": {},
     "output_type": "execute_result"
    }
   ],
   "source": [
    "sentiment_df.head()"
   ]
  },
  {
   "cell_type": "code",
   "execution_count": 151,
   "id": "martial-limitation",
   "metadata": {},
   "outputs": [
    {
     "data": {
      "text/plain": [
       "Text(0.5, 1.0, 'Histogram of prediction')"
      ]
     },
     "execution_count": 151,
     "metadata": {},
     "output_type": "execute_result"
    },
    {
     "data": {
      "image/png": "[encoded data removed]",
      "text/plain": [
       "<Figure size 432x288 with 1 Axes>"
      ]
     },
     "metadata": {
      "needs_background": "light"
     },
     "output_type": "display_data"
    }
   ],
   "source": [
    "plt.hist(sentiment_df.prediction)\n",
    "plt.xlabel(\"Prediction\")\n",
    "plt.ylabel(\"Frequency\")\n",
    "plt.title(\"Histogram of prediction\")"
   ]
  },
  {
   "cell_type": "code",
   "execution_count": 27,
   "id": "vulnerable-xerox",
   "metadata": {},
   "outputs": [
    {
     "data": {
      "text/plain": [
       "1    50344\n",
       "0     1446\n",
       "Name: prediction, dtype: int64"
      ]
     },
     "execution_count": 27,
     "metadata": {},
     "output_type": "execute_result"
    }
   ],
   "source": [
    "sentiment_df['prediction'].value_counts()"
   ]
  },
  {
   "cell_type": "markdown",
   "id": "nonprofit-ranch",
   "metadata": {},
   "source": [
    "### Discussion\n",
    "\n",
    "We can observe that, as it was expected from the little promising results of the K-Means algorithm, the model does not classify correctly the comments.\n",
    "\n",
    "The last histogram clearly shows that 97% of the instances belong to the \"positive\" cluster. This is undoubtly a wrong result since we know from the clustering section that negative words like \"bad\" or \"terrible\" were assigned a positive score.\n",
    "\n",
    "Further development could be done to attempt achieving better results such as: Including 3rd \"Neutral\" cluster, computing K-means with cosine similarity, changing word2vector parameters, etc.\n",
    "\n",
    "Given the results, seems like performing such a task through this approach might not be the best solution. Therefore, in the following sections, we will attempt the sentiment analysis tasks with three different approaches:\n",
    "\n",
    "* Sentiment analysis with Vader: A rule-based sentiment analysis tool tuned for social media content\n",
    "\n",
    "* Sentiment analysis with TextBlob: A rule-based sentiment analysis tool with Subjectivity analysis\n",
    "\n",
    "* Sentiment analysis with Flair: An embedding-based NLP framework with pre-trained sentiment analysis models"
   ]
  },
  {
   "cell_type": "markdown",
   "id": "coral-houston",
   "metadata": {},
   "source": [
    "## Sentiment Analysis with Vader\n",
    "\n",
    "Vader (Valence Aware Dictionary and sEntiment Reasoner) is a lexicon and rule-based sentiment analysis tool that is specifically attuned to sentiments expressed in social media.\n",
    "\n",
    "The scores provided by Vader are the following:\n",
    "\n",
    "* Neg, Neu and Pos are a proportional score oh how many negative, neutral or positive words are found in a sentence. They should sum up to 1.\n",
    "\n",
    "* Compound is the score computed by summing the scores of each word in the lexicon and normalized. Thus, the value is bounded between -1 (most negative) and 1 (most positive).\n",
    "    * If compound score <=  -0.05 NEGATIVE\n",
    "    * If compound score > -0.05 and <0.05 NEUTRAL\n",
    "    * If compound score >=  0.05 POSITIVE"
   ]
  },
  {
   "cell_type": "code",
   "execution_count": 28,
   "id": "sharp-purchase",
   "metadata": {},
   "outputs": [],
   "source": [
    "vader_analyser = SentimentIntensityAnalyzer()"
   ]
  },
  {
   "cell_type": "code",
   "execution_count": 29,
   "id": "approximate-family",
   "metadata": {},
   "outputs": [
    {
     "data": {
      "text/plain": [
       "{'neg': 0.0, 'neu': 1.0, 'pos': 0.0, 'compound': 0.0}"
      ]
     },
     "execution_count": 29,
     "metadata": {},
     "output_type": "execute_result"
    }
   ],
   "source": [
    "vader_analyser.polarity_scores(\"aaaaa\")"
   ]
  },
  {
   "cell_type": "code",
   "execution_count": 30,
   "id": "unsigned-bulletin",
   "metadata": {},
   "outputs": [],
   "source": [
    "vader_scores = []\n",
    "for row in comments_text_df.comment_text:\n",
    "    score = vader_analyser.polarity_scores(row)\n",
    "    vader_scores.append(score)\n",
    "\n",
    "#Converting List of Dictionaries into Dataframe\n",
    "vader_scores_df= pd.DataFrame(vader_scores)"
   ]
  },
  {
   "cell_type": "code",
   "execution_count": 31,
   "id": "secret-program",
   "metadata": {},
   "outputs": [
    {
     "data": {
      "text/html": [
       "<div>\n",
       "<style scoped>\n",
       "    .dataframe tbody tr th:only-of-type {\n",
       "        vertical-align: middle;\n",
       "    }\n",
       "\n",
       "    .dataframe tbody tr th {\n",
       "        vertical-align: top;\n",
       "    }\n",
       "\n",
       "    .dataframe thead th {\n",
       "        text-align: right;\n",
       "    }\n",
       "</style>\n",
       "<table border=\"1\" class=\"dataframe\">\n",
       "  <thead>\n",
       "    <tr style=\"text-align: right;\">\n",
       "      <th></th>\n",
       "      <th>comment_text</th>\n",
       "      <th>neg</th>\n",
       "      <th>neu</th>\n",
       "      <th>pos</th>\n",
       "      <th>compound</th>\n",
       "      <th>prediction</th>\n",
       "    </tr>\n",
       "  </thead>\n",
       "  <tbody>\n",
       "    <tr>\n",
       "      <th>0</th>\n",
       "      <td>I didn't really like the song</td>\n",
       "      <td>0.318</td>\n",
       "      <td>0.682</td>\n",
       "      <td>0.000</td>\n",
       "      <td>-0.3241</td>\n",
       "      <td>-1</td>\n",
       "    </tr>\n",
       "    <tr>\n",
       "      <th>1</th>\n",
       "      <td>alright... I'll take the stairs</td>\n",
       "      <td>0.000</td>\n",
       "      <td>0.667</td>\n",
       "      <td>0.333</td>\n",
       "      <td>0.2500</td>\n",
       "      <td>1</td>\n",
       "    </tr>\n",
       "    <tr>\n",
       "      <th>2</th>\n",
       "      <td>a fable on a realistic ground  is a cry of pro...</td>\n",
       "      <td>0.223</td>\n",
       "      <td>0.699</td>\n",
       "      <td>0.079</td>\n",
       "      <td>-0.5106</td>\n",
       "      <td>-1</td>\n",
       "    </tr>\n",
       "    <tr>\n",
       "      <th>3</th>\n",
       "      <td>hope you will exist for many years..</td>\n",
       "      <td>0.000</td>\n",
       "      <td>0.674</td>\n",
       "      <td>0.326</td>\n",
       "      <td>0.4404</td>\n",
       "      <td>1</td>\n",
       "    </tr>\n",
       "    <tr>\n",
       "      <th>4</th>\n",
       "      <td>Would this song exist if he lived on the first...</td>\n",
       "      <td>0.000</td>\n",
       "      <td>1.000</td>\n",
       "      <td>0.000</td>\n",
       "      <td>0.0000</td>\n",
       "      <td>0</td>\n",
       "    </tr>\n",
       "  </tbody>\n",
       "</table>\n",
       "</div>"
      ],
      "text/plain": [
       "                                        comment_text    neg    neu    pos  \\\n",
       "0                      I didn't really like the song  0.318  0.682  0.000   \n",
       "1                    alright... I'll take the stairs  0.000  0.667  0.333   \n",
       "2  a fable on a realistic ground  is a cry of pro...  0.223  0.699  0.079   \n",
       "3               hope you will exist for many years..  0.000  0.674  0.326   \n",
       "4  Would this song exist if he lived on the first...  0.000  1.000  0.000   \n",
       "\n",
       "   compound  prediction  \n",
       "0   -0.3241          -1  \n",
       "1    0.2500           1  \n",
       "2   -0.5106          -1  \n",
       "3    0.4404           1  \n",
       "4    0.0000           0  "
      ]
     },
     "execution_count": 31,
     "metadata": {},
     "output_type": "execute_result"
    }
   ],
   "source": [
    "vader_rated_comments_df = pd.concat([comments_text_df, vader_scores_df], axis=1)\n",
    "vader_rated_comments_df['Prediction'] = [1 if i>0.05 else -1 if i<0.05 else 0 for i in vader_rated_comments_df.compound]\n",
    "vader_rated_comments_df.head()"
   ]
  },
  {
   "cell_type": "markdown",
   "id": "primary-management",
   "metadata": {},
   "source": [
    "## Sentiment Analysis with TextBlob\n",
    "\n",
    "TextBlov is another rule-based sentiment analysis tool in which sentiments are defined based on semantic relations and the frequency of each word in an input sentence.\n",
    "\n",
    "The scores provided by TextBob are the following:\n",
    "\n",
    "* Polarity score: float within the range [-1.0, 1.0] where -1.0 is a negative polarity and 1.0 is positive. This score can also be equal to 0, which stands for a neutral evaluation\n",
    "\n",
    "* Subjectivity score: loat within the range [0.0, 1.0] where 0.0 is a very objective sentence and 1.0 is very subjective."
   ]
  },
  {
   "cell_type": "code",
   "execution_count": 33,
   "id": "lesser-guitar",
   "metadata": {},
   "outputs": [],
   "source": [
    "textblob_scores = []\n",
    "for row in comments_text_df.comment_text:\n",
    "    score = {}\n",
    "    score['Polarity'] = TextBlob(row).sentiment.polarity\n",
    "    score['Subjectivity'] = TextBlob(row).sentiment.subjectivity\n",
    "    textblob_scores.append(score)\n",
    "\n",
    "#Converting List of Dictionaries into Dataframe\n",
    "text_blob_scores_df= pd.DataFrame(textblob_scores)"
   ]
  },
  {
   "cell_type": "code",
   "execution_count": 34,
   "id": "dominican-relief",
   "metadata": {},
   "outputs": [
    {
     "data": {
      "text/html": [
       "<div>\n",
       "<style scoped>\n",
       "    .dataframe tbody tr th:only-of-type {\n",
       "        vertical-align: middle;\n",
       "    }\n",
       "\n",
       "    .dataframe tbody tr th {\n",
       "        vertical-align: top;\n",
       "    }\n",
       "\n",
       "    .dataframe thead th {\n",
       "        text-align: right;\n",
       "    }\n",
       "</style>\n",
       "<table border=\"1\" class=\"dataframe\">\n",
       "  <thead>\n",
       "    <tr style=\"text-align: right;\">\n",
       "      <th></th>\n",
       "      <th>comment_text</th>\n",
       "      <th>Polarity</th>\n",
       "      <th>Subjectivity</th>\n",
       "      <th>prediction</th>\n",
       "    </tr>\n",
       "  </thead>\n",
       "  <tbody>\n",
       "    <tr>\n",
       "      <th>0</th>\n",
       "      <td>I didn't really like the song</td>\n",
       "      <td>0.200000</td>\n",
       "      <td>0.200000</td>\n",
       "      <td>1</td>\n",
       "    </tr>\n",
       "    <tr>\n",
       "      <th>1</th>\n",
       "      <td>alright... I'll take the stairs</td>\n",
       "      <td>0.000000</td>\n",
       "      <td>0.000000</td>\n",
       "      <td>0</td>\n",
       "    </tr>\n",
       "    <tr>\n",
       "      <th>2</th>\n",
       "      <td>a fable on a realistic ground  is a cry of pro...</td>\n",
       "      <td>0.166667</td>\n",
       "      <td>0.333333</td>\n",
       "      <td>1</td>\n",
       "    </tr>\n",
       "    <tr>\n",
       "      <th>3</th>\n",
       "      <td>hope you will exist for many years..</td>\n",
       "      <td>0.500000</td>\n",
       "      <td>0.500000</td>\n",
       "      <td>1</td>\n",
       "    </tr>\n",
       "    <tr>\n",
       "      <th>4</th>\n",
       "      <td>Would this song exist if he lived on the first...</td>\n",
       "      <td>0.250000</td>\n",
       "      <td>0.333333</td>\n",
       "      <td>1</td>\n",
       "    </tr>\n",
       "  </tbody>\n",
       "</table>\n",
       "</div>"
      ],
      "text/plain": [
       "                                        comment_text  Polarity  Subjectivity  \\\n",
       "0                      I didn't really like the song  0.200000      0.200000   \n",
       "1                    alright... I'll take the stairs  0.000000      0.000000   \n",
       "2  a fable on a realistic ground  is a cry of pro...  0.166667      0.333333   \n",
       "3               hope you will exist for many years..  0.500000      0.500000   \n",
       "4  Would this song exist if he lived on the first...  0.250000      0.333333   \n",
       "\n",
       "   prediction  \n",
       "0           1  \n",
       "1           0  \n",
       "2           1  \n",
       "3           1  \n",
       "4           1  "
      ]
     },
     "execution_count": 34,
     "metadata": {},
     "output_type": "execute_result"
    }
   ],
   "source": [
    "textblob_rated_comments_df = pd.concat([comments_text_df, text_blob_scores_df], axis=1)\n",
    "textblob_rated_comments_df['Prediction'] = [1 if i>0 else -1 if i<0 else 0 for i in textblob_rated_comments_df.Polarity]\n",
    "textblob_rated_comments_df.head()"
   ]
  },
  {
   "cell_type": "markdown",
   "id": "minus-marker",
   "metadata": {},
   "source": [
    "## Sentiment Analysis with Flair\n",
    "\n",
    "Flair is an state-of-the-art NLP framework that provides, among other things, a sentiment analysis tool. Flair’s sentiment classifier is based on a character-level LSTM neural network which takes sequences of letters and words into account when predicting.\n",
    "\n",
    "The score provided by Flair is a confidence value within the range [0, 1] for Positive and Negative analysis. We decided to turn the the Negative analysis confidence number into a negative value within the range [-1, 0]. Therefore, the final prediction scores are computed as following:\n",
    "* If confidence score <0 NEGATIVE\n",
    "* If confidence score >0 POSITIVE"
   ]
  },
  {
   "cell_type": "code",
   "execution_count": 58,
   "id": "cubic-silence",
   "metadata": {},
   "outputs": [],
   "source": [
    "flair_classifier = TextClassifier.load('en-sentiment')\n",
    "def predict(comment):\n",
    "    text = Sentence(comment)\n",
    "    classifier.predict(text)\n",
    "    value = text.labels[0].to_dict()['value'] \n",
    "    if value == 'POSITIVE':\n",
    "        result = text.to_dict()['labels'][0]['confidence']\n",
    "    else:\n",
    "        result = -(text.to_dict()['labels'][0]['confidence'])\n",
    "    return round(result, 3)"
   ]
  },
  {
   "cell_type": "code",
   "execution_count": 65,
   "id": "equipped-headquarters",
   "metadata": {},
   "outputs": [
    {
     "name": "stdout",
     "output_type": "stream",
     "text": [
      "Time to classify all comments : 58.01 mins\n"
     ]
    }
   ],
   "source": [
    "t = time()\n",
    "flair_scores = []\n",
    "for row in comments_text_df.comment_text:\n",
    "    sent = predict(row)\n",
    "    score = {}\n",
    "    score['Sentiment'] = sent\n",
    "    flair_scores.append(score)\n",
    "\n",
    "#Converting List of Dictionaries into Dataframe\n",
    "flair_scores_df= pd.DataFrame(flair_scores)\n",
    "print('Time to classify all comments : {} mins'.format(round((time() - t) / 60, 2)))"
   ]
  },
  {
   "cell_type": "code",
   "execution_count": 88,
   "id": "retired-tuition",
   "metadata": {},
   "outputs": [
    {
     "data": {
      "text/html": [
       "<div>\n",
       "<style scoped>\n",
       "    .dataframe tbody tr th:only-of-type {\n",
       "        vertical-align: middle;\n",
       "    }\n",
       "\n",
       "    .dataframe tbody tr th {\n",
       "        vertical-align: top;\n",
       "    }\n",
       "\n",
       "    .dataframe thead th {\n",
       "        text-align: right;\n",
       "    }\n",
       "</style>\n",
       "<table border=\"1\" class=\"dataframe\">\n",
       "  <thead>\n",
       "    <tr style=\"text-align: right;\">\n",
       "      <th></th>\n",
       "      <th>comment_text</th>\n",
       "      <th>Sentiment</th>\n",
       "      <th>Prediction</th>\n",
       "    </tr>\n",
       "  </thead>\n",
       "  <tbody>\n",
       "    <tr>\n",
       "      <th>0</th>\n",
       "      <td>I didn't really like the song</td>\n",
       "      <td>-1.000</td>\n",
       "      <td>-1</td>\n",
       "    </tr>\n",
       "    <tr>\n",
       "      <th>1</th>\n",
       "      <td>alright... I'll take the stairs</td>\n",
       "      <td>-0.841</td>\n",
       "      <td>-1</td>\n",
       "    </tr>\n",
       "    <tr>\n",
       "      <th>2</th>\n",
       "      <td>a fable on a realistic ground  is a cry of pro...</td>\n",
       "      <td>-0.895</td>\n",
       "      <td>-1</td>\n",
       "    </tr>\n",
       "    <tr>\n",
       "      <th>3</th>\n",
       "      <td>hope you will exist for many years..</td>\n",
       "      <td>0.997</td>\n",
       "      <td>1</td>\n",
       "    </tr>\n",
       "    <tr>\n",
       "      <th>4</th>\n",
       "      <td>Would this song exist if he lived on the first...</td>\n",
       "      <td>0.875</td>\n",
       "      <td>1</td>\n",
       "    </tr>\n",
       "  </tbody>\n",
       "</table>\n",
       "</div>"
      ],
      "text/plain": [
       "                                        comment_text  Sentiment  Prediction\n",
       "0                      I didn't really like the song     -1.000          -1\n",
       "1                    alright... I'll take the stairs     -0.841          -1\n",
       "2  a fable on a realistic ground  is a cry of pro...     -0.895          -1\n",
       "3               hope you will exist for many years..      0.997           1\n",
       "4  Would this song exist if he lived on the first...      0.875           1"
      ]
     },
     "execution_count": 88,
     "metadata": {},
     "output_type": "execute_result"
    }
   ],
   "source": [
    "flair_rated_comments_df = pd.concat([comments_text_df, flair_scores_df], axis=1)\n",
    "flair_rated_comments_df['Prediction'] = [1 if i>0 else -1 for i in flair_rated_comments_df.Sentiment]\n",
    "flair_rated_comments_df.head()"
   ]
  },
  {
   "cell_type": "code",
   "execution_count": 90,
   "id": "republican-perth",
   "metadata": {},
   "outputs": [],
   "source": [
    "#Saving dataframes\n",
    "vader_rated_comments_df.to_csv(data_path+'vader_rated_comments.csv', index = False)\n",
    "textblob_rated_comments_df.to_csv(data_path+'textblob_rated_comments.csv', index = False)\n",
    "flair_rated_comments_df.to_csv(data_path+'flair_rated_comments.csv', index = False)"
   ]
  },
  {
   "cell_type": "markdown",
   "id": "silver-court",
   "metadata": {},
   "source": [
    "### Discussion of results\n",
    "\n",
    "In this section we discuss the predictions of each model based on certain chosen samples."
   ]
  },
  {
   "cell_type": "code",
   "execution_count": 106,
   "id": "nuclear-member",
   "metadata": {},
   "outputs": [],
   "source": [
    "rates_combined = vader_rated_comments_df['comment_text'].to_frame().copy()\n",
    "rates_combined['vader_sentiment'] = vader_rated_comments_df['compound'].copy()\n",
    "rates_combined['textblob_sentiment'] = textblob_rated_comments_df['Polarity'].copy()\n",
    "rates_combined['flair_sentiment'] = flair_rated_comments_df['Sentiment'].copy()"
   ]
  },
  {
   "cell_type": "markdown",
   "id": "amazing-september",
   "metadata": {},
   "source": [
    "#### Positve comments\n",
    "For the first positive comment shown below, the three models were able to predict the sentiment correctly. We can observe that Vader and Flair's predictions are much better than Textblob's. This is probably because Vader and Flair models are able to indetify intesinfiers (\"SO MUCH\") and also understand emojis in contexts.\n",
    "\n",
    "The second positive comment is trickier since it contains words that are probably Out Of the Vocabulary (OOV) for the vader and textblob models. However we can observe that Flair works acccurately for this kind of cases of OOV words."
   ]
  },
  {
   "cell_type": "code",
   "execution_count": 142,
   "id": "medieval-murder",
   "metadata": {},
   "outputs": [
    {
     "data": {
      "text/plain": [
       "{'comment_text': 'LOVE THIS SO MUCH ❤️😍',\n",
       " 'vader_sentiment': 0.8374,\n",
       " 'textblob_sentiment': 0.35,\n",
       " 'flair_sentiment': 0.989}"
      ]
     },
     "execution_count": 142,
     "metadata": {},
     "output_type": "execute_result"
    }
   ],
   "source": [
    "rates_combined.loc[45484,:].to_dict()"
   ]
  },
  {
   "cell_type": "code",
   "execution_count": 138,
   "id": "abroad-techno",
   "metadata": {},
   "outputs": [
    {
     "data": {
      "text/plain": [
       "{'comment_text': 'Oh My Gawd! ♡♡♡ This is so aesthetic and BOBBYYYYY NADEO SARANGHAE!',\n",
       " 'vader_sentiment': 0.0,\n",
       " 'textblob_sentiment': 0.0,\n",
       " 'flair_sentiment': 0.791}"
      ]
     },
     "execution_count": 138,
     "metadata": {},
     "output_type": "execute_result"
    }
   ],
   "source": [
    "rates_combined.loc[9372,:].to_dict()"
   ]
  },
  {
   "cell_type": "markdown",
   "id": "alien-watch",
   "metadata": {},
   "source": [
    "#### Negative comments\n",
    "The results in the examples below are quite surprising. The Flair model was accurate about the negativity of the comments, however the vader and textblob models did not perform well. \n",
    "\n",
    "In the case of the vader model, it predicts the first comment as positive and the second as negative. \n",
    "\n",
    "In the case of the textblob model, it is not able to detect the negative comment in any situation and predicts a neutral comment."
   ]
  },
  {
   "cell_type": "code",
   "execution_count": 146,
   "id": "broadband-establishment",
   "metadata": {},
   "outputs": [
    {
     "data": {
      "text/plain": [
       "{'comment_text': 'I don’t like his glasses and hair',\n",
       " 'vader_sentiment': 0.3612,\n",
       " 'textblob_sentiment': 0.0,\n",
       " 'flair_sentiment': -1.0}"
      ]
     },
     "execution_count": 146,
     "metadata": {},
     "output_type": "execute_result"
    }
   ],
   "source": [
    "rates_combined.loc[45878,:].to_dict()"
   ]
  },
  {
   "cell_type": "code",
   "execution_count": 133,
   "id": "amino-cover",
   "metadata": {},
   "outputs": [
    {
     "data": {
      "text/plain": [
       "{'comment_text': \"I don't like this one Tamar\",\n",
       " 'vader_sentiment': -0.2755,\n",
       " 'textblob_sentiment': 0.0,\n",
       " 'flair_sentiment': -1.0}"
      ]
     },
     "execution_count": 133,
     "metadata": {},
     "output_type": "execute_result"
    }
   ],
   "source": [
    "rates_combined.loc[23039,:].to_dict()"
   ]
  },
  {
   "cell_type": "markdown",
   "id": "pending-criterion",
   "metadata": {},
   "source": [
    "#### Mixed-sentiment comments\n",
    "\n",
    "In the dataset there are also some comments with mixed feelings as we can see below. \n",
    "\n",
    "In this sorts of cases, we can observe that the Textblob and Vader models perform better than Flair's. Both comments are hard to indentify as they could be seen as neutral or slightly positive/negative. Vader model tend to predict them as sligthly negative, while Textblob predict them as neutral or slightly positive.\n",
    "\n",
    "Flair model performs poorly in both cases predicting a high negative score."
   ]
  },
  {
   "cell_type": "code",
   "execution_count": 131,
   "id": "unique-march",
   "metadata": {},
   "outputs": [
    {
     "data": {
      "text/plain": [
       "{'comment_text': \"I like the song but I don't like the vocals at the beginning\",\n",
       " 'vader_sentiment': -0.2299,\n",
       " 'textblob_sentiment': 0.0,\n",
       " 'flair_sentiment': -0.998}"
      ]
     },
     "execution_count": 131,
     "metadata": {},
     "output_type": "execute_result"
    }
   ],
   "source": [
    "rates_combined.loc[46227,:].to_dict()"
   ]
  },
  {
   "cell_type": "code",
   "execution_count": 147,
   "id": "seasonal-latvia",
   "metadata": {},
   "outputs": [
    {
     "data": {
      "text/plain": [
       "{'comment_text': \"This is a good song and all, but for me it doesn't have that special feeling.\",\n",
       " 'vader_sentiment': -0.0482,\n",
       " 'textblob_sentiment': 0.5285714285714286,\n",
       " 'flair_sentiment': -0.873}"
      ]
     },
     "execution_count": 147,
     "metadata": {},
     "output_type": "execute_result"
    }
   ],
   "source": [
    "rates_combined.loc[9720,:].to_dict()"
   ]
  },
  {
   "cell_type": "markdown",
   "id": "overhead-flexibility",
   "metadata": {},
   "source": [
    "#### Missleading comments\n",
    "\n",
    "We call the comments below \"missleading\" since they have a clear positive feeling, but contain expressions that might misslead the prediction of the models.\n",
    "\n",
    "The first comment, is well predicted by the Flair model, but the rest of the models perform poorly. It is worth highlighting that the Vader model predicts quite negative score and it mght be due to the swearing word at the start of the comment.\n",
    "\n",
    "The second comment shows interesting results as it is properly detected by the rule-based models. However, the Flair model is unable to detect the positivism on the comment and performs a poor prediction providing a high negative score."
   ]
  },
  {
   "cell_type": "code",
   "execution_count": 134,
   "id": "common-gravity",
   "metadata": {},
   "outputs": [
    {
     "data": {
      "text/plain": [
       "{'comment_text': 'Damn, I miss this Radiohead',\n",
       " 'vader_sentiment': -0.5106,\n",
       " 'textblob_sentiment': 0.0,\n",
       " 'flair_sentiment': 0.999}"
      ]
     },
     "execution_count": 134,
     "metadata": {},
     "output_type": "execute_result"
    }
   ],
   "source": [
    "rates_combined.loc[116,:].to_dict()"
   ]
  },
  {
   "cell_type": "code",
   "execution_count": 135,
   "id": "editorial-defense",
   "metadata": {},
   "outputs": [
    {
     "data": {
      "text/plain": [
       "{'comment_text': 'Not bad not bad at all🤔',\n",
       " 'vader_sentiment': 0.1232,\n",
       " 'textblob_sentiment': 0.3499999999999999,\n",
       " 'flair_sentiment': -0.959}"
      ]
     },
     "execution_count": 135,
     "metadata": {},
     "output_type": "execute_result"
    }
   ],
   "source": [
    "rates_combined.loc[22408,:].to_dict()"
   ]
  },
  {
   "cell_type": "markdown",
   "id": "violent-pilot",
   "metadata": {},
   "source": [
    "### Conclusions\n",
    "\n",
    "After studying the sentiment analysis results of the three models in a few comments, we can draw the following conclusions:\n",
    "\n",
    "* **Emoji comprehension**: Both Vader and Flair models seem to handle them correctly, however TextBlob is unable to process them.\n",
    "\n",
    "* **Out Of the Vocabulary words**: Only the Flair model is able to capture the sentiment of sentences with OOV words.\n",
    "\n",
    "* **Intensifiers**: Both Vader and Flair models seem to handle them correctly, however TextBlob is unable to take them into account.\n",
    "\n",
    "* **Clear Positive comments**: Correctly predicted by all the models\n",
    "\n",
    "* **Clear Negative comments**: Only the Flair model is able to correctly predict them\n",
    "* **Mixed-sentiment comments**: Vader and Textblob seem to handle them correctly, however Flair model seem to perform badly.\n",
    "\n",
    "* **Missleading comments**: Neither of the models is able to analyse correctly the sentiment of such comments in all the cases\n",
    "\n",
    "Based on these conclusions, we think that a combination of the three model predictions could be a good approach to compute a final sentiment score on the comments. For that reason, in the next section we compute an ensemble technique of the three models, in which we will calculate the sentiment score through a weighted average of the previous results."
   ]
  },
  {
   "cell_type": "markdown",
   "id": "crucial-reporter",
   "metadata": {},
   "source": [
    "### Ensemble technique\n",
    "\n",
    "As we mention in the conclusions, we are going to implement an ensemble technique to obtain the final sentiment scores on the comments. This technique produces an output that is the weighted average of the three models. The weights are assigned as follows:\n",
    "\n",
    "* The Flair model seems to give (generally) better predictions, so we assign it a weight of 50%.\n",
    "* The Vader model seems to perform better than TextBlob, so we assign it a weight of 30%\n",
    "* Finally the TextBlob is assigned with a weight of 20%\n"
   ]
  },
  {
   "cell_type": "code",
   "execution_count": 153,
   "id": "systematic-onion",
   "metadata": {},
   "outputs": [],
   "source": [
    "ensemble_sentiment = []\n",
    "for index, row in rates_combined.iterrows():\n",
    "    score = (row['flair_sentiment']*0.5 + row['vader_sentiment']*0.3+ row['textblob_sentiment']*0.2)/3\n",
    "    ensemble_sentiment.append(score)\n",
    "    \n",
    "ensemble_rates_df = rates_combined['comment_text'].to_frame().copy()\n",
    "ensemble_rates_df['ensemble_sentiment'] = ensemble_sentiment\n",
    "ensemble_rates_df['prediction'] = [1 if i>0 else -1 for i in ensemble_rates_df.ensemble_sentiment]"
   ]
  },
  {
   "cell_type": "code",
   "execution_count": 163,
   "id": "finite-ghana",
   "metadata": {},
   "outputs": [
    {
     "data": {
      "text/html": [
       "<div>\n",
       "<style scoped>\n",
       "    .dataframe tbody tr th:only-of-type {\n",
       "        vertical-align: middle;\n",
       "    }\n",
       "\n",
       "    .dataframe tbody tr th {\n",
       "        vertical-align: top;\n",
       "    }\n",
       "\n",
       "    .dataframe thead th {\n",
       "        text-align: right;\n",
       "    }\n",
       "</style>\n",
       "<table border=\"1\" class=\"dataframe\">\n",
       "  <thead>\n",
       "    <tr style=\"text-align: right;\">\n",
       "      <th></th>\n",
       "      <th>comment_text</th>\n",
       "      <th>ensemble_sentiment</th>\n",
       "      <th>prediction</th>\n",
       "    </tr>\n",
       "  </thead>\n",
       "  <tbody>\n",
       "    <tr>\n",
       "      <th>0</th>\n",
       "      <td>I didn't really like the song</td>\n",
       "      <td>-0.185743</td>\n",
       "      <td>-1</td>\n",
       "    </tr>\n",
       "    <tr>\n",
       "      <th>1</th>\n",
       "      <td>alright... I'll take the stairs</td>\n",
       "      <td>-0.115167</td>\n",
       "      <td>-1</td>\n",
       "    </tr>\n",
       "    <tr>\n",
       "      <th>2</th>\n",
       "      <td>a fable on a realistic ground  is a cry of pro...</td>\n",
       "      <td>-0.189116</td>\n",
       "      <td>-1</td>\n",
       "    </tr>\n",
       "    <tr>\n",
       "      <th>3</th>\n",
       "      <td>hope you will exist for many years..</td>\n",
       "      <td>0.243540</td>\n",
       "      <td>1</td>\n",
       "    </tr>\n",
       "    <tr>\n",
       "      <th>4</th>\n",
       "      <td>Would this song exist if he lived on the first...</td>\n",
       "      <td>0.162500</td>\n",
       "      <td>1</td>\n",
       "    </tr>\n",
       "  </tbody>\n",
       "</table>\n",
       "</div>"
      ],
      "text/plain": [
       "                                        comment_text  ensemble_sentiment  \\\n",
       "0                      I didn't really like the song           -0.185743   \n",
       "1                    alright... I'll take the stairs           -0.115167   \n",
       "2  a fable on a realistic ground  is a cry of pro...           -0.189116   \n",
       "3               hope you will exist for many years..            0.243540   \n",
       "4  Would this song exist if he lived on the first...            0.162500   \n",
       "\n",
       "   prediction  \n",
       "0          -1  \n",
       "1          -1  \n",
       "2          -1  \n",
       "3           1  \n",
       "4           1  "
      ]
     },
     "execution_count": 163,
     "metadata": {},
     "output_type": "execute_result"
    }
   ],
   "source": [
    "ensemble_rates_df.head()"
   ]
  },
  {
   "cell_type": "markdown",
   "id": "handled-establishment",
   "metadata": {},
   "source": [
    "### Final thoughts\n",
    "\n",
    "After applying the ensemble technique and overviewing the results, a high improvement can be observed.\n",
    "\n",
    "All the simple comments are predicted correctly and this time taking account the negative too. The trickier cases such as mixed-sentiment or missleading comments are not fixed completely, in some cases the final prediction is still wrong but the \"confidence\" on such a result lowers."
   ]
  }
 ],
 "metadata": {
  "kernelspec": {
   "display_name": "Python 3",
   "language": "python",
   "name": "python3"
  },
  "language_info": {
   "codemirror_mode": {
    "name": "ipython",
    "version": 3
   },
   "file_extension": ".py",
   "mimetype": "text/x-python",
   "name": "python",
   "nbconvert_exporter": "python",
   "pygments_lexer": "ipython3",
   "version": "3.8.3"
  }
 },
 "nbformat": 4,
 "nbformat_minor": 5
}
