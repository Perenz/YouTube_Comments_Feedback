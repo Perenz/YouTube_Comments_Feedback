{
 "metadata": {
  "language_info": {
   "codemirror_mode": {
    "name": "ipython",
    "version": 3
   },
   "file_extension": ".py",
   "mimetype": "text/x-python",
   "name": "python",
   "nbconvert_exporter": "python",
   "pygments_lexer": "ipython3",
   "version": "3.9.7-final"
  },
  "orig_nbformat": 2,
  "kernelspec": {
   "name": "python37864bit470f42125e7a48ce8ee68e2625482c3d",
   "display_name": "Python 3.7.8 64-bit"
  }
 },
 "nbformat": 4,
 "nbformat_minor": 2,
 "cells": [
  {
   "cell_type": "code",
   "execution_count": 2,
   "metadata": {
    "tags": []
   },
   "outputs": [],
   "source": [
    "import json\n",
    "import pandas as pd\n",
    "import matplotlib.pyplot as plt\n",
    "from sklearn.feature_extraction.text import CountVectorizer, TfidfVectorizer\n",
    "from sklearn.decomposition import LatentDirichletAllocation\n",
    "import pyLDAvis\n",
    "import pyLDAvis.sklearn"
   ]
  },
  {
   "cell_type": "markdown",
   "metadata": {},
   "source": [
    "# Explore type of videos"
   ]
  },
  {
   "cell_type": "code",
   "execution_count": 4,
   "metadata": {
    "tags": []
   },
   "outputs": [
    {
     "output_type": "stream",
     "name": "stdout",
     "text": "Categories:\nFilm & Animation, id: 1\nAutos & Vehicles, id: 2\nMusic, id: 10\nPets & Animals, id: 15\nSports, id: 17\nShort Movies, id: 18\nTravel & Events, id: 19\nGaming, id: 20\nVideoblogging, id: 21\nPeople & Blogs, id: 22\nComedy, id: 23\nEntertainment, id: 24\nNews & Politics, id: 25\nHowto & Style, id: 26\nEducation, id: 27\nScience & Technology, id: 28\nMovies, id: 30\nAnime/Animation, id: 31\nAction/Adventure, id: 32\nClassics, id: 33\nComedy, id: 34\nDocumentary, id: 35\nDrama, id: 36\nFamily, id: 37\nForeign, id: 38\nHorror, id: 39\nSci-Fi/Fantasy, id: 40\nThriller, id: 41\nShorts, id: 42\nShows, id: 43\nTrailers, id: 44\n{29: 'Others', 1: 'Film & Animation', 2: 'Autos & Vehicles', 10: 'Music', 15: 'Pets & Animals', 17: 'Sports', 18: 'Short Movies', 19: 'Travel & Events', 20: 'Gaming', 21: 'Videoblogging', 22: 'People & Blogs', 23: 'Comedy', 24: 'Entertainment', 25: 'News & Politics', 26: 'Howto & Style', 27: 'Education', 28: 'Science & Technology', 30: 'Movies', 31: 'Anime/Animation', 32: 'Action/Adventure', 33: 'Classics', 34: 'Comedy', 35: 'Documentary', 36: 'Drama', 37: 'Family', 38: 'Foreign', 39: 'Horror', 40: 'Sci-Fi/Fantasy', 41: 'Thriller', 42: 'Shorts', 43: 'Shows', 44: 'Trailers'}\n/Users/stefanoperenzoni/Library/Python/3.9/lib/python/site-packages/ipykernel/ipkernel.py:283: DeprecationWarning: `should_run_async` will not call `transform_cell` automatically in the future. Please pass the result to `transformed_cell` argument and any exception that happen during thetransform in `preprocessing_exc_tuple` in IPython 7.17 and above.\n  and should_run_async(code)\n"
    }
   ],
   "source": [
    "with open(\"../data/GB_category_id.json\") as json_input:\n",
    "    categories = json.load(json_input)\n",
    "\n",
    "print(\"Categories:\")\n",
    "categories_mapping = {29: 'Others'}\n",
    "for c in categories['items']:\n",
    "    print(f\"{c['snippet']['title']}, id: {c['id']}\")\n",
    "    categories_mapping[int(c['id'])] = c['snippet']['title']\n",
    "    \n",
    "print(categories_mapping)\n",
    "#Music, id: 10"
   ]
  },
  {
   "cell_type": "code",
   "execution_count": 5,
   "metadata": {
    "tags": []
   },
   "outputs": [
    {
     "output_type": "stream",
     "name": "stdout",
     "text": "Index(['video_id', 'title', 'channel_title', 'category_id'], dtype='object')\n/Users/stefanoperenzoni/Library/Python/3.9/lib/python/site-packages/ipykernel/ipkernel.py:283: DeprecationWarning: `should_run_async` will not call `transform_cell` automatically in the future. Please pass the result to `transformed_cell` argument and any exception that happen during thetransform in `preprocessing_exc_tuple` in IPython 7.17 and above.\n  and should_run_async(code)\n"
    },
    {
     "output_type": "execute_result",
     "data": {
      "text/plain": "       category_id\ncount  7995.000000\nmean     19.738462\nstd       7.177458\nmin       1.000000\n25%      17.000000\n50%      23.000000\n75%      24.000000\nmax      29.000000",
      "text/html": "<div>\n<style scoped>\n    .dataframe tbody tr th:only-of-type {\n        vertical-align: middle;\n    }\n\n    .dataframe tbody tr th {\n        vertical-align: top;\n    }\n\n    .dataframe thead th {\n        text-align: right;\n    }\n</style>\n<table border=\"1\" class=\"dataframe\">\n  <thead>\n    <tr style=\"text-align: right;\">\n      <th></th>\n      <th>category_id</th>\n    </tr>\n  </thead>\n  <tbody>\n    <tr>\n      <th>count</th>\n      <td>7995.000000</td>\n    </tr>\n    <tr>\n      <th>mean</th>\n      <td>19.738462</td>\n    </tr>\n    <tr>\n      <th>std</th>\n      <td>7.177458</td>\n    </tr>\n    <tr>\n      <th>min</th>\n      <td>1.000000</td>\n    </tr>\n    <tr>\n      <th>25%</th>\n      <td>17.000000</td>\n    </tr>\n    <tr>\n      <th>50%</th>\n      <td>23.000000</td>\n    </tr>\n    <tr>\n      <th>75%</th>\n      <td>24.000000</td>\n    </tr>\n    <tr>\n      <th>max</th>\n      <td>29.000000</td>\n    </tr>\n  </tbody>\n</table>\n</div>"
     },
     "metadata": {},
     "execution_count": 5
    }
   ],
   "source": [
    "column_list = ['video_id', 'title', 'channel_title', 'category_id']\n",
    "videos = pd.read_csv(\"../data/GBvideos.csv\", usecols=column_list, error_bad_lines=False)\n",
    "print(videos.columns)\n",
    "\n",
    "videos.describe()"
   ]
  },
  {
   "cell_type": "markdown",
   "metadata": {},
   "source": [
    "Many entries are repeated for the same videos but taken in different dates. \n",
    "We will keep only one entry for each videoID"
   ]
  },
  {
   "cell_type": "code",
   "execution_count": 6,
   "metadata": {
    "tags": []
   },
   "outputs": [
    {
     "output_type": "stream",
     "name": "stderr",
     "text": "/Users/stefanoperenzoni/Library/Python/3.9/lib/python/site-packages/ipykernel/ipkernel.py:283: DeprecationWarning: `should_run_async` will not call `transform_cell` automatically in the future. Please pass the result to `transformed_cell` argument and any exception that happen during thetransform in `preprocessing_exc_tuple` in IPython 7.17 and above.\n  and should_run_async(code)\n"
    }
   ],
   "source": [
    "videos = videos.drop_duplicates()"
   ]
  },
  {
   "cell_type": "code",
   "execution_count": 7,
   "metadata": {
    "tags": []
   },
   "outputs": [
    {
     "output_type": "stream",
     "name": "stderr",
     "text": "/Users/stefanoperenzoni/Library/Python/3.9/lib/python/site-packages/ipykernel/ipkernel.py:283: DeprecationWarning: `should_run_async` will not call `transform_cell` automatically in the future. Please pass the result to `transformed_cell` argument and any exception that happen during thetransform in `preprocessing_exc_tuple` in IPython 7.17 and above.\n  and should_run_async(code)\n"
    },
    {
     "output_type": "execute_result",
     "data": {
      "text/plain": "       category_id\ncount  1776.000000\nmean     19.766329\nstd       7.025187\nmin       1.000000\n25%      17.000000\n50%      22.000000\n75%      24.000000\nmax      29.000000",
      "text/html": "<div>\n<style scoped>\n    .dataframe tbody tr th:only-of-type {\n        vertical-align: middle;\n    }\n\n    .dataframe tbody tr th {\n        vertical-align: top;\n    }\n\n    .dataframe thead th {\n        text-align: right;\n    }\n</style>\n<table border=\"1\" class=\"dataframe\">\n  <thead>\n    <tr style=\"text-align: right;\">\n      <th></th>\n      <th>category_id</th>\n    </tr>\n  </thead>\n  <tbody>\n    <tr>\n      <th>count</th>\n      <td>1776.000000</td>\n    </tr>\n    <tr>\n      <th>mean</th>\n      <td>19.766329</td>\n    </tr>\n    <tr>\n      <th>std</th>\n      <td>7.025187</td>\n    </tr>\n    <tr>\n      <th>min</th>\n      <td>1.000000</td>\n    </tr>\n    <tr>\n      <th>25%</th>\n      <td>17.000000</td>\n    </tr>\n    <tr>\n      <th>50%</th>\n      <td>22.000000</td>\n    </tr>\n    <tr>\n      <th>75%</th>\n      <td>24.000000</td>\n    </tr>\n    <tr>\n      <th>max</th>\n      <td>29.000000</td>\n    </tr>\n  </tbody>\n</table>\n</div>"
     },
     "metadata": {},
     "execution_count": 7
    }
   ],
   "source": [
    "#Add category column as a name\n",
    "category_name = []\n",
    "for index, row in videos.iterrows():\n",
    "    category_name.append(categories_mapping[int(row['category_id'])])\n",
    "\n",
    "videos['category_name'] = category_name\n",
    "\n",
    "videos.describe()"
   ]
  },
  {
   "cell_type": "code",
   "execution_count": 8,
   "metadata": {
    "tags": []
   },
   "outputs": [
    {
     "output_type": "stream",
     "name": "stderr",
     "text": "/Users/stefanoperenzoni/Library/Python/3.9/lib/python/site-packages/ipykernel/ipkernel.py:283: DeprecationWarning: `should_run_async` will not call `transform_cell` automatically in the future. Please pass the result to `transformed_cell` argument and any exception that happen during thetransform in `preprocessing_exc_tuple` in IPython 7.17 and above.\n  and should_run_async(code)\n"
    },
    {
     "output_type": "execute_result",
     "data": {
      "text/plain": "      video_id                                              title  \\\n0  jt2OHQh0HoQ  Live Apple Event - Apple September Event 2017 ...   \n1  AqokkXoa7uE  Holly and Phillip Meet Samantha the Sex Robot ...   \n2  YPVcg45W0z4                    My DNA Test Results! I'm WHAT?!   \n3  T_PuZBdT2iM  getting into a conversation in a language you ...   \n4  NsjsmgmbCfc                               Baby Name Challenge!   \n\n       channel_title  category_id         category_name  \n0        Apple Event           28  Science & Technology  \n1       This Morning           24         Entertainment  \n2       emmablackery           24         Entertainment  \n3              ProZD            1      Film & Animation  \n4  Sprinkleofglitter           26         Howto & Style  ",
      "text/html": "<div>\n<style scoped>\n    .dataframe tbody tr th:only-of-type {\n        vertical-align: middle;\n    }\n\n    .dataframe tbody tr th {\n        vertical-align: top;\n    }\n\n    .dataframe thead th {\n        text-align: right;\n    }\n</style>\n<table border=\"1\" class=\"dataframe\">\n  <thead>\n    <tr style=\"text-align: right;\">\n      <th></th>\n      <th>video_id</th>\n      <th>title</th>\n      <th>channel_title</th>\n      <th>category_id</th>\n      <th>category_name</th>\n    </tr>\n  </thead>\n  <tbody>\n    <tr>\n      <th>0</th>\n      <td>jt2OHQh0HoQ</td>\n      <td>Live Apple Event - Apple September Event 2017 ...</td>\n      <td>Apple Event</td>\n      <td>28</td>\n      <td>Science &amp; Technology</td>\n    </tr>\n    <tr>\n      <th>1</th>\n      <td>AqokkXoa7uE</td>\n      <td>Holly and Phillip Meet Samantha the Sex Robot ...</td>\n      <td>This Morning</td>\n      <td>24</td>\n      <td>Entertainment</td>\n    </tr>\n    <tr>\n      <th>2</th>\n      <td>YPVcg45W0z4</td>\n      <td>My DNA Test Results! I'm WHAT?!</td>\n      <td>emmablackery</td>\n      <td>24</td>\n      <td>Entertainment</td>\n    </tr>\n    <tr>\n      <th>3</th>\n      <td>T_PuZBdT2iM</td>\n      <td>getting into a conversation in a language you ...</td>\n      <td>ProZD</td>\n      <td>1</td>\n      <td>Film &amp; Animation</td>\n    </tr>\n    <tr>\n      <th>4</th>\n      <td>NsjsmgmbCfc</td>\n      <td>Baby Name Challenge!</td>\n      <td>Sprinkleofglitter</td>\n      <td>26</td>\n      <td>Howto &amp; Style</td>\n    </tr>\n  </tbody>\n</table>\n</div>"
     },
     "metadata": {},
     "execution_count": 8
    }
   ],
   "source": [
    "videos.head()"
   ]
  },
  {
   "cell_type": "code",
   "execution_count": 9,
   "metadata": {
    "tags": []
   },
   "outputs": [
    {
     "output_type": "stream",
     "name": "stderr",
     "text": "/Users/stefanoperenzoni/Library/Python/3.9/lib/python/site-packages/ipykernel/ipkernel.py:283: DeprecationWarning: `should_run_async` will not call `transform_cell` automatically in the future. Please pass the result to `transformed_cell` argument and any exception that happen during thetransform in `preprocessing_exc_tuple` in IPython 7.17 and above.\n  and should_run_async(code)\n"
    },
    {
     "output_type": "execute_result",
     "data": {
      "text/plain": "category_id  category_name       \n1            Film & Animation         78\n2            Autos & Vehicles         14\n10           Music                   288\n15           Pets & Animals           21\n17           Sports                  171\n19           Travel & Events          10\n20           Gaming                   67\n22           People & Blogs          250\n23           Comedy                  124\n24           Entertainment           327\n25           News & Politics          69\n26           Howto & Style           256\n27           Education                46\n28           Science & Technology     51\n29           Others                    4\ndtype: int64"
     },
     "metadata": {},
     "execution_count": 9
    }
   ],
   "source": [
    "#Count videos per category\n",
    "videos.groupby(['category_id', 'category_name']).size()"
   ]
  },
  {
   "cell_type": "markdown",
   "metadata": {},
   "source": [
    "339 music videos"
   ]
  },
  {
   "cell_type": "markdown",
   "metadata": {},
   "source": [
    "# Explore the number of comments for a given category"
   ]
  },
  {
   "cell_type": "code",
   "execution_count": 10,
   "metadata": {
    "tags": []
   },
   "outputs": [
    {
     "output_type": "stream",
     "name": "stderr",
     "text": "/Users/stefanoperenzoni/Library/Python/3.9/lib/python/site-packages/ipykernel/ipkernel.py:283: DeprecationWarning: `should_run_async` will not call `transform_cell` automatically in the future. Please pass the result to `transformed_cell` argument and any exception that happen during thetransform in `preprocessing_exc_tuple` in IPython 7.17 and above.\n  and should_run_async(code)\n"
    },
    {
     "output_type": "execute_result",
     "data": {
      "text/plain": "       video_id                                              title  \\\n9   QBGaO89cBMI                                   Radiohead - Lift   \n12  eM_FR7I2Ttw  Harry Styles - The Chain (Fleetwood Mac cover)...   \n16  -Ifnaxi2LQg          Fergie - You Already Know ft. Nicki Minaj   \n42  qZVm-2nM0sA  Rudimental - Sun Comes Up feat. James Arthur [...   \n47  3-yamPXZQtU        Bryson Tiller - Run Me Dry (Official Video)   \n\n       channel_title  category_id category_name  \n9          Radiohead           10         Music  \n12     BBCRadio1VEVO           10         Music  \n16        FergieVEVO           10         Music  \n42        Rudimental           10         Music  \n47  BrysonTillerVEVO           10         Music  ",
      "text/html": "<div>\n<style scoped>\n    .dataframe tbody tr th:only-of-type {\n        vertical-align: middle;\n    }\n\n    .dataframe tbody tr th {\n        vertical-align: top;\n    }\n\n    .dataframe thead th {\n        text-align: right;\n    }\n</style>\n<table border=\"1\" class=\"dataframe\">\n  <thead>\n    <tr style=\"text-align: right;\">\n      <th></th>\n      <th>video_id</th>\n      <th>title</th>\n      <th>channel_title</th>\n      <th>category_id</th>\n      <th>category_name</th>\n    </tr>\n  </thead>\n  <tbody>\n    <tr>\n      <th>9</th>\n      <td>QBGaO89cBMI</td>\n      <td>Radiohead - Lift</td>\n      <td>Radiohead</td>\n      <td>10</td>\n      <td>Music</td>\n    </tr>\n    <tr>\n      <th>12</th>\n      <td>eM_FR7I2Ttw</td>\n      <td>Harry Styles - The Chain (Fleetwood Mac cover)...</td>\n      <td>BBCRadio1VEVO</td>\n      <td>10</td>\n      <td>Music</td>\n    </tr>\n    <tr>\n      <th>16</th>\n      <td>-Ifnaxi2LQg</td>\n      <td>Fergie - You Already Know ft. Nicki Minaj</td>\n      <td>FergieVEVO</td>\n      <td>10</td>\n      <td>Music</td>\n    </tr>\n    <tr>\n      <th>42</th>\n      <td>qZVm-2nM0sA</td>\n      <td>Rudimental - Sun Comes Up feat. James Arthur [...</td>\n      <td>Rudimental</td>\n      <td>10</td>\n      <td>Music</td>\n    </tr>\n    <tr>\n      <th>47</th>\n      <td>3-yamPXZQtU</td>\n      <td>Bryson Tiller - Run Me Dry (Official Video)</td>\n      <td>BrysonTillerVEVO</td>\n      <td>10</td>\n      <td>Music</td>\n    </tr>\n  </tbody>\n</table>\n</div>"
     },
     "metadata": {},
     "execution_count": 10
    }
   ],
   "source": [
    "category = 'Music'\n",
    "inv_mapping = {v: k for k, v in categories_mapping.items()}\n",
    "\n",
    "category_id = inv_mapping[category]\n",
    "\n",
    "category_videos = videos[videos['category_id']== category_id] \n",
    "category_videos.head()"
   ]
  },
  {
   "cell_type": "code",
   "execution_count": 11,
   "metadata": {
    "tags": []
   },
   "outputs": [
    {
     "output_type": "stream",
     "name": "stderr",
     "text": "/Users/stefanoperenzoni/Library/Python/3.9/lib/python/site-packages/ipykernel/ipkernel.py:283: DeprecationWarning: `should_run_async` will not call `transform_cell` automatically in the future. Please pass the result to `transformed_cell` argument and any exception that happen during thetransform in `preprocessing_exc_tuple` in IPython 7.17 and above.\n  and should_run_async(code)\nb'Skipping line 113225: expected 4 fields, saw 5\\n'\nb'Skipping line 158379: expected 4 fields, saw 7\\nSkipping line 241590: expected 4 fields, saw 5\\nSkipping line 245637: expected 4 fields, saw 7\\n'\nb'Skipping line 521402: expected 4 fields, saw 5\\n'\n"
    },
    {
     "output_type": "execute_result",
     "data": {
      "text/plain": "               likes        replies\ncount  718452.000000  718452.000000\nmean        5.237454       0.381250\nstd       203.883893       8.967958\nmin         0.000000       0.000000\n25%         0.000000       0.000000\n50%         0.000000       0.000000\n75%         0.000000       0.000000\nmax     60630.000000     521.000000",
      "text/html": "<div>\n<style scoped>\n    .dataframe tbody tr th:only-of-type {\n        vertical-align: middle;\n    }\n\n    .dataframe tbody tr th {\n        vertical-align: top;\n    }\n\n    .dataframe thead th {\n        text-align: right;\n    }\n</style>\n<table border=\"1\" class=\"dataframe\">\n  <thead>\n    <tr style=\"text-align: right;\">\n      <th></th>\n      <th>likes</th>\n      <th>replies</th>\n    </tr>\n  </thead>\n  <tbody>\n    <tr>\n      <th>count</th>\n      <td>718452.000000</td>\n      <td>718452.000000</td>\n    </tr>\n    <tr>\n      <th>mean</th>\n      <td>5.237454</td>\n      <td>0.381250</td>\n    </tr>\n    <tr>\n      <th>std</th>\n      <td>203.883893</td>\n      <td>8.967958</td>\n    </tr>\n    <tr>\n      <th>min</th>\n      <td>0.000000</td>\n      <td>0.000000</td>\n    </tr>\n    <tr>\n      <th>25%</th>\n      <td>0.000000</td>\n      <td>0.000000</td>\n    </tr>\n    <tr>\n      <th>50%</th>\n      <td>0.000000</td>\n      <td>0.000000</td>\n    </tr>\n    <tr>\n      <th>75%</th>\n      <td>0.000000</td>\n      <td>0.000000</td>\n    </tr>\n    <tr>\n      <th>max</th>\n      <td>60630.000000</td>\n      <td>521.000000</td>\n    </tr>\n  </tbody>\n</table>\n</div>"
     },
     "metadata": {},
     "execution_count": 11
    }
   ],
   "source": [
    "comments = pd.read_csv(\"../data/GBcomments.csv\", error_bad_lines=False)\n",
    "\n",
    "comments.describe()"
   ]
  },
  {
   "cell_type": "code",
   "execution_count": 12,
   "metadata": {
    "tags": []
   },
   "outputs": [
    {
     "output_type": "stream",
     "name": "stderr",
     "text": "/Users/stefanoperenzoni/Library/Python/3.9/lib/python/site-packages/ipykernel/ipkernel.py:283: DeprecationWarning: `should_run_async` will not call `transform_cell` automatically in the future. Please pass the result to `transformed_cell` argument and any exception that happen during thetransform in `preprocessing_exc_tuple` in IPython 7.17 and above.\n  and should_run_async(code)\n"
    },
    {
     "output_type": "execute_result",
     "data": {
      "text/plain": "      video_id                                       comment_text  likes  \\\n0  jt2OHQh0HoQ  It's more accurate to call it the M+ (1000) be...      0   \n1  jt2OHQh0HoQ              To be there with a samsung phone\\n😂😂😂      1   \n2  jt2OHQh0HoQ  Thank gosh, a place I can watch it without hav...      0   \n3  jt2OHQh0HoQ  What happened to the home button on the iPhone...      0   \n4  jt2OHQh0HoQ  Power is the disease.  Care is the cure.  Keep...      0   \n\n   replies  \n0        0  \n1        0  \n2        0  \n3        0  \n4        0  ",
      "text/html": "<div>\n<style scoped>\n    .dataframe tbody tr th:only-of-type {\n        vertical-align: middle;\n    }\n\n    .dataframe tbody tr th {\n        vertical-align: top;\n    }\n\n    .dataframe thead th {\n        text-align: right;\n    }\n</style>\n<table border=\"1\" class=\"dataframe\">\n  <thead>\n    <tr style=\"text-align: right;\">\n      <th></th>\n      <th>video_id</th>\n      <th>comment_text</th>\n      <th>likes</th>\n      <th>replies</th>\n    </tr>\n  </thead>\n  <tbody>\n    <tr>\n      <th>0</th>\n      <td>jt2OHQh0HoQ</td>\n      <td>It's more accurate to call it the M+ (1000) be...</td>\n      <td>0</td>\n      <td>0</td>\n    </tr>\n    <tr>\n      <th>1</th>\n      <td>jt2OHQh0HoQ</td>\n      <td>To be there with a samsung phone\\n😂😂😂</td>\n      <td>1</td>\n      <td>0</td>\n    </tr>\n    <tr>\n      <th>2</th>\n      <td>jt2OHQh0HoQ</td>\n      <td>Thank gosh, a place I can watch it without hav...</td>\n      <td>0</td>\n      <td>0</td>\n    </tr>\n    <tr>\n      <th>3</th>\n      <td>jt2OHQh0HoQ</td>\n      <td>What happened to the home button on the iPhone...</td>\n      <td>0</td>\n      <td>0</td>\n    </tr>\n    <tr>\n      <th>4</th>\n      <td>jt2OHQh0HoQ</td>\n      <td>Power is the disease.  Care is the cure.  Keep...</td>\n      <td>0</td>\n      <td>0</td>\n    </tr>\n  </tbody>\n</table>\n</div>"
     },
     "metadata": {},
     "execution_count": 12
    }
   ],
   "source": [
    "comments.head()"
   ]
  },
  {
   "cell_type": "code",
   "execution_count": 13,
   "metadata": {
    "tags": []
   },
   "outputs": [
    {
     "output_type": "stream",
     "name": "stderr",
     "text": "/Users/stefanoperenzoni/Library/Python/3.9/lib/python/site-packages/ipykernel/ipkernel.py:283: DeprecationWarning: `should_run_async` will not call `transform_cell` automatically in the future. Please pass the result to `transformed_cell` argument and any exception that happen during thetransform in `preprocessing_exc_tuple` in IPython 7.17 and above.\n  and should_run_async(code)\n"
    }
   ],
   "source": [
    "#Join the two on video_id\n",
    "comments_category = comments.merge(category_videos, how='right')"
   ]
  },
  {
   "cell_type": "code",
   "execution_count": 14,
   "metadata": {
    "tags": []
   },
   "outputs": [
    {
     "output_type": "stream",
     "name": "stderr",
     "text": "/Users/stefanoperenzoni/Library/Python/3.9/lib/python/site-packages/ipykernel/ipkernel.py:283: DeprecationWarning: `should_run_async` will not call `transform_cell` automatically in the future. Please pass the result to `transformed_cell` argument and any exception that happen during thetransform in `preprocessing_exc_tuple` in IPython 7.17 and above.\n  and should_run_async(code)\n"
    },
    {
     "output_type": "execute_result",
     "data": {
      "text/plain": "(121156, 8)"
     },
     "metadata": {},
     "execution_count": 14
    }
   ],
   "source": [
    "comments_category.shape"
   ]
  },
  {
   "cell_type": "code",
   "execution_count": 15,
   "metadata": {
    "tags": []
   },
   "outputs": [
    {
     "output_type": "stream",
     "name": "stderr",
     "text": "/Users/stefanoperenzoni/Library/Python/3.9/lib/python/site-packages/ipykernel/ipkernel.py:283: DeprecationWarning: `should_run_async` will not call `transform_cell` automatically in the future. Please pass the result to `transformed_cell` argument and any exception that happen during thetransform in `preprocessing_exc_tuple` in IPython 7.17 and above.\n  and should_run_async(code)\n"
    },
    {
     "output_type": "execute_result",
     "data": {
      "text/plain": "      video_id                                       comment_text  likes  \\\n0  QBGaO89cBMI                      I didn't really like the song    0.0   \n1  QBGaO89cBMI                    alright... I'll take the stairs    0.0   \n2  QBGaO89cBMI  a fable on a realistic ground  is a cry of pro...    0.0   \n3  QBGaO89cBMI               hope you will exist for many years..    0.0   \n4  QBGaO89cBMI  Would this song exist if he lived on the first...    0.0   \n\n   replies             title channel_title  category_id category_name  \n0      0.0  Radiohead - Lift     Radiohead           10         Music  \n1      0.0  Radiohead - Lift     Radiohead           10         Music  \n2      0.0  Radiohead - Lift     Radiohead           10         Music  \n3      0.0  Radiohead - Lift     Radiohead           10         Music  \n4      0.0  Radiohead - Lift     Radiohead           10         Music  ",
      "text/html": "<div>\n<style scoped>\n    .dataframe tbody tr th:only-of-type {\n        vertical-align: middle;\n    }\n\n    .dataframe tbody tr th {\n        vertical-align: top;\n    }\n\n    .dataframe thead th {\n        text-align: right;\n    }\n</style>\n<table border=\"1\" class=\"dataframe\">\n  <thead>\n    <tr style=\"text-align: right;\">\n      <th></th>\n      <th>video_id</th>\n      <th>comment_text</th>\n      <th>likes</th>\n      <th>replies</th>\n      <th>title</th>\n      <th>channel_title</th>\n      <th>category_id</th>\n      <th>category_name</th>\n    </tr>\n  </thead>\n  <tbody>\n    <tr>\n      <th>0</th>\n      <td>QBGaO89cBMI</td>\n      <td>I didn't really like the song</td>\n      <td>0.0</td>\n      <td>0.0</td>\n      <td>Radiohead - Lift</td>\n      <td>Radiohead</td>\n      <td>10</td>\n      <td>Music</td>\n    </tr>\n    <tr>\n      <th>1</th>\n      <td>QBGaO89cBMI</td>\n      <td>alright... I'll take the stairs</td>\n      <td>0.0</td>\n      <td>0.0</td>\n      <td>Radiohead - Lift</td>\n      <td>Radiohead</td>\n      <td>10</td>\n      <td>Music</td>\n    </tr>\n    <tr>\n      <th>2</th>\n      <td>QBGaO89cBMI</td>\n      <td>a fable on a realistic ground  is a cry of pro...</td>\n      <td>0.0</td>\n      <td>0.0</td>\n      <td>Radiohead - Lift</td>\n      <td>Radiohead</td>\n      <td>10</td>\n      <td>Music</td>\n    </tr>\n    <tr>\n      <th>3</th>\n      <td>QBGaO89cBMI</td>\n      <td>hope you will exist for many years..</td>\n      <td>0.0</td>\n      <td>0.0</td>\n      <td>Radiohead - Lift</td>\n      <td>Radiohead</td>\n      <td>10</td>\n      <td>Music</td>\n    </tr>\n    <tr>\n      <th>4</th>\n      <td>QBGaO89cBMI</td>\n      <td>Would this song exist if he lived on the first...</td>\n      <td>0.0</td>\n      <td>0.0</td>\n      <td>Radiohead - Lift</td>\n      <td>Radiohead</td>\n      <td>10</td>\n      <td>Music</td>\n    </tr>\n  </tbody>\n</table>\n</div>"
     },
     "metadata": {},
     "execution_count": 15
    }
   ],
   "source": [
    "comments_category.head()"
   ]
  },
  {
   "cell_type": "markdown",
   "metadata": {},
   "source": [
    "Check for missing data in comment_text and remove them"
   ]
  },
  {
   "cell_type": "code",
   "execution_count": 16,
   "metadata": {
    "tags": []
   },
   "outputs": [
    {
     "output_type": "stream",
     "name": "stderr",
     "text": "/Users/stefanoperenzoni/Library/Python/3.9/lib/python/site-packages/ipykernel/ipkernel.py:283: DeprecationWarning: `should_run_async` will not call `transform_cell` automatically in the future. Please pass the result to `transformed_cell` argument and any exception that happen during thetransform in `preprocessing_exc_tuple` in IPython 7.17 and above.\n  and should_run_async(code)\n11\n['ZXvbz8cqafM' 'NPovS8i2WDo' '7YAAyUFL1GQ' 'V_dsWL6VcjU' 'I6rh8WdBSfQ'\n '_209r9TMB4M' 's7eVr-OUYkQ' '2spUxnYdQXE' '8I1B4n_8Cto' '5gH8iXNW8wE']\n"
    },
    {
     "output_type": "execute_result",
     "data": {
      "text/plain": "           video_id                                       comment_text  likes  \\\n16686   NPovS8i2WDo                     Every time I get more shooketh      6   \n16687   NPovS8i2WDo             When she mentioned her grandma i cried      4   \n16688   NPovS8i2WDo                    NO DON'T EAT KIT KATS LIKE THAT      0   \n16689   NPovS8i2WDo  I was sad watching this as I didn't think I'd ...      1   \n16690   NPovS8i2WDo             This was so Amazing what a great idea!      0   \n...             ...                                                ...    ...   \n716697  8I1B4n_8Cto                                    Burn this video      0   \n716698  8I1B4n_8Cto  4:03 yellow slime looks too much like human fa...      0   \n716699  8I1B4n_8Cto                                     what is a beck      0   \n716700  8I1B4n_8Cto  BECK IS SO COOL his vids keep getting better a...      1   \n716701  8I1B4n_8Cto  You watch alot of the DYI slime videos on OuTu...      0   \n\n        replies  \n16686         0  \n16687         0  \n16688         0  \n16689         0  \n16690         0  \n...         ...  \n716697        0  \n716698        0  \n716699        0  \n716700        0  \n716701        1  \n\n[2300 rows x 4 columns]",
      "text/html": "<div>\n<style scoped>\n    .dataframe tbody tr th:only-of-type {\n        vertical-align: middle;\n    }\n\n    .dataframe tbody tr th {\n        vertical-align: top;\n    }\n\n    .dataframe thead th {\n        text-align: right;\n    }\n</style>\n<table border=\"1\" class=\"dataframe\">\n  <thead>\n    <tr style=\"text-align: right;\">\n      <th></th>\n      <th>video_id</th>\n      <th>comment_text</th>\n      <th>likes</th>\n      <th>replies</th>\n    </tr>\n  </thead>\n  <tbody>\n    <tr>\n      <th>16686</th>\n      <td>NPovS8i2WDo</td>\n      <td>Every time I get more shooketh</td>\n      <td>6</td>\n      <td>0</td>\n    </tr>\n    <tr>\n      <th>16687</th>\n      <td>NPovS8i2WDo</td>\n      <td>When she mentioned her grandma i cried</td>\n      <td>4</td>\n      <td>0</td>\n    </tr>\n    <tr>\n      <th>16688</th>\n      <td>NPovS8i2WDo</td>\n      <td>NO DON'T EAT KIT KATS LIKE THAT</td>\n      <td>0</td>\n      <td>0</td>\n    </tr>\n    <tr>\n      <th>16689</th>\n      <td>NPovS8i2WDo</td>\n      <td>I was sad watching this as I didn't think I'd ...</td>\n      <td>1</td>\n      <td>0</td>\n    </tr>\n    <tr>\n      <th>16690</th>\n      <td>NPovS8i2WDo</td>\n      <td>This was so Amazing what a great idea!</td>\n      <td>0</td>\n      <td>0</td>\n    </tr>\n    <tr>\n      <th>...</th>\n      <td>...</td>\n      <td>...</td>\n      <td>...</td>\n      <td>...</td>\n    </tr>\n    <tr>\n      <th>716697</th>\n      <td>8I1B4n_8Cto</td>\n      <td>Burn this video</td>\n      <td>0</td>\n      <td>0</td>\n    </tr>\n    <tr>\n      <th>716698</th>\n      <td>8I1B4n_8Cto</td>\n      <td>4:03 yellow slime looks too much like human fa...</td>\n      <td>0</td>\n      <td>0</td>\n    </tr>\n    <tr>\n      <th>716699</th>\n      <td>8I1B4n_8Cto</td>\n      <td>what is a beck</td>\n      <td>0</td>\n      <td>0</td>\n    </tr>\n    <tr>\n      <th>716700</th>\n      <td>8I1B4n_8Cto</td>\n      <td>BECK IS SO COOL his vids keep getting better a...</td>\n      <td>1</td>\n      <td>0</td>\n    </tr>\n    <tr>\n      <th>716701</th>\n      <td>8I1B4n_8Cto</td>\n      <td>You watch alot of the DYI slime videos on OuTu...</td>\n      <td>0</td>\n      <td>1</td>\n    </tr>\n  </tbody>\n</table>\n<p>2300 rows × 4 columns</p>\n</div>"
     },
     "metadata": {},
     "execution_count": 16
    }
   ],
   "source": [
    "print(comments_category['comment_text'].isna().sum())\n",
    "video_nan_comment = comments_category[comments_category['comment_text'].isna()]['video_id'].unique()\n",
    "print(video_nan_comment)\n",
    "comments[comments['video_id'].isin(video_nan_comment)]"
   ]
  },
  {
   "cell_type": "markdown",
   "metadata": {},
   "source": [
    "13 comments have no text. They regard 11 different videos. These videos have other comments with a regular text section.\n",
    "We just remove the 13 comments without text and keep the others"
   ]
  },
  {
   "cell_type": "code",
   "execution_count": 17,
   "metadata": {
    "tags": []
   },
   "outputs": [
    {
     "output_type": "stream",
     "name": "stdout",
     "text": "0\n/Users/stefanoperenzoni/Library/Python/3.9/lib/python/site-packages/ipykernel/ipkernel.py:283: DeprecationWarning: `should_run_async` will not call `transform_cell` automatically in the future. Please pass the result to `transformed_cell` argument and any exception that happen during thetransform in `preprocessing_exc_tuple` in IPython 7.17 and above.\n  and should_run_async(code)\n"
    }
   ],
   "source": [
    "comments_category = comments_category.dropna(subset=['comment_text'])\n",
    "print(comments_category['comment_text'].isna().sum())"
   ]
  },
  {
   "cell_type": "markdown",
   "metadata": {},
   "source": [
    "Check for duplicates text"
   ]
  },
  {
   "cell_type": "code",
   "execution_count": 18,
   "metadata": {
    "tags": []
   },
   "outputs": [
    {
     "output_type": "stream",
     "name": "stderr",
     "text": "/Users/stefanoperenzoni/Library/Python/3.9/lib/python/site-packages/ipykernel/ipkernel.py:283: DeprecationWarning: `should_run_async` will not call `transform_cell` automatically in the future. Please pass the result to `transformed_cell` argument and any exception that happen during thetransform in `preprocessing_exc_tuple` in IPython 7.17 and above.\n  and should_run_async(code)\n"
    },
    {
     "output_type": "execute_result",
     "data": {
      "text/plain": "comment_text\n 'Literally' 'like' my bestfriend\\nCamila wut?🤔                                                                                                                          6\n How To Make An Amazing and Iconic Theme Song Even Better by Trent and Atticus.                                                                                          1\n I be like send me the addy, hop out the Porsche wit a bhaddie, got a nice  face and a fattie,, do what I say like I'm daddy I loveeeee this verse😍😍😍 you bad asffff😍    1\n I dont mind if i sell my soul to get a song on the radio boy whatt?                                                                                                     2\n I gess i don'f fit the mold of rap \\nCuz i'm respectin' women \\nThat's all i wanna hear for the rest of my life                                                         1\n                                                                                                                                                                        ..\n🤵Amen👰                                                                                                                                                                   2\n🦀 ass nigga, let them crackers pump n up to promote the fuc shyt...                                                                                                      2\n🦈❤️                                                                                                                                                                      4\n🦋🦋🦋🦋🦋🦋🦋🦋🦋🦋🦋 Sam                                                                                                                                                          1\n🧐🧐🧐                                                                                                                                                                      1\nLength: 75048, dtype: int64"
     },
     "metadata": {},
     "execution_count": 18
    }
   ],
   "source": [
    "comments_category.pivot_table(columns=['comment_text'], aggfunc='size')"
   ]
  },
  {
   "cell_type": "code",
   "execution_count": 19,
   "metadata": {
    "tags": []
   },
   "outputs": [
    {
     "output_type": "stream",
     "name": "stderr",
     "text": "/Users/stefanoperenzoni/Library/Python/3.9/lib/python/site-packages/ipykernel/ipkernel.py:283: DeprecationWarning: `should_run_async` will not call `transform_cell` automatically in the future. Please pass the result to `transformed_cell` argument and any exception that happen during thetransform in `preprocessing_exc_tuple` in IPython 7.17 and above.\n  and should_run_async(code)\n"
    },
    {
     "output_type": "execute_result",
     "data": {
      "text/plain": "Series([], Name: video_id, dtype: object)"
     },
     "metadata": {},
     "execution_count": 19
    }
   ],
   "source": [
    "comments_category[comments_category['comment_text'].isna()]['video_id']"
   ]
  },
  {
   "cell_type": "markdown",
   "metadata": {},
   "source": [
    "# Explore some stats about the comments text"
   ]
  },
  {
   "cell_type": "code",
   "execution_count": 20,
   "metadata": {
    "tags": []
   },
   "outputs": [
    {
     "output_type": "stream",
     "name": "stderr",
     "text": "/Users/stefanoperenzoni/Library/Python/3.9/lib/python/site-packages/ipykernel/ipkernel.py:283: DeprecationWarning: `should_run_async` will not call `transform_cell` automatically in the future. Please pass the result to `transformed_cell` argument and any exception that happen during thetransform in `preprocessing_exc_tuple` in IPython 7.17 and above.\n  and should_run_async(code)\n"
    },
    {
     "output_type": "execute_result",
     "data": {
      "text/plain": "count    121145.000000\nmean         67.242882\nstd         169.378058\nmin           1.000000\n25%          19.000000\n50%          36.000000\n75%          67.000000\nmax        6921.000000\nName: comment_text, dtype: float64"
     },
     "metadata": {},
     "execution_count": 20
    }
   ],
   "source": [
    "# Average lenght in number of characters\n",
    "comments_len = comments_category['comment_text'].apply(lambda x: len(str(x)))\n",
    "comments_len.describe()"
   ]
  },
  {
   "cell_type": "code",
   "execution_count": 21,
   "metadata": {
    "tags": []
   },
   "outputs": [
    {
     "output_type": "stream",
     "name": "stdout",
     "text": "ONCE👑👑\n/Users/stefanoperenzoni/Library/Python/3.9/lib/python/site-packages/ipykernel/ipkernel.py:283: DeprecationWarning: `should_run_async` will not call `transform_cell` automatically in the future. Please pass the result to `transformed_cell` argument and any exception that happen during thetransform in `preprocessing_exc_tuple` in IPython 7.17 and above.\n  and should_run_async(code)\n"
    }
   ],
   "source": [
    "print(comments_category.loc[115887]['comment_text'])"
   ]
  },
  {
   "cell_type": "code",
   "execution_count": 22,
   "metadata": {
    "tags": []
   },
   "outputs": [
    {
     "output_type": "stream",
     "name": "stdout",
     "text": "Unique comments: 75048\nTotal comments: 121145\n/Users/stefanoperenzoni/Library/Python/3.9/lib/python/site-packages/ipykernel/ipkernel.py:283: DeprecationWarning: `should_run_async` will not call `transform_cell` automatically in the future. Please pass the result to `transformed_cell` argument and any exception that happen during thetransform in `preprocessing_exc_tuple` in IPython 7.17 and above.\n  and should_run_async(code)\n"
    }
   ],
   "source": [
    "print(f\"Unique comments: {comments_category['comment_text'].nunique()}\\nTotal comments: {comments_category.shape[0]}\")"
   ]
  },
  {
   "cell_type": "code",
   "execution_count": 23,
   "metadata": {
    "tags": []
   },
   "outputs": [
    {
     "output_type": "stream",
     "name": "stderr",
     "text": "/Users/stefanoperenzoni/Library/Python/3.9/lib/python/site-packages/ipykernel/ipkernel.py:283: DeprecationWarning: `should_run_async` will not call `transform_cell` automatically in the future. Please pass the result to `transformed_cell` argument and any exception that happen during thetransform in `preprocessing_exc_tuple` in IPython 7.17 and above.\n  and should_run_async(code)\n"
    },
    {
     "output_type": "execute_result",
     "data": {
      "text/plain": "76914    Featuring Sandra Prescott , Kimberly O'Brien ,...\n84821    (The Great and terrible Day of the Lord. When ...\n84905    (The Great and terrible Day of the Lord. When ...\nName: comment_text, dtype: object"
     },
     "metadata": {},
     "execution_count": 23
    }
   ],
   "source": [
    "comments_category[comments_category['comment_text'].apply(lambda x: len(str(x))) >6000]['comment_text']"
   ]
  },
  {
   "cell_type": "code",
   "execution_count": 24,
   "metadata": {
    "tags": []
   },
   "outputs": [
    {
     "output_type": "stream",
     "name": "stderr",
     "text": "/Users/stefanoperenzoni/Library/Python/3.9/lib/python/site-packages/ipykernel/ipkernel.py:283: DeprecationWarning: `should_run_async` will not call `transform_cell` automatically in the future. Please pass the result to `transformed_cell` argument and any exception that happen during thetransform in `preprocessing_exc_tuple` in IPython 7.17 and above.\n  and should_run_async(code)\nUnique comments: 75048\nTotal comments: 75048\n"
    },
    {
     "output_type": "execute_result",
     "data": {
      "text/plain": "              likes       replies  category_id\ncount  75048.000000  75048.000000      75048.0\nmean       0.876546      0.097338         10.0\nstd       42.459609      2.724910          0.0\nmin        0.000000      0.000000         10.0\n25%        0.000000      0.000000         10.0\n50%        0.000000      0.000000         10.0\n75%        0.000000      0.000000         10.0\nmax    10244.000000    504.000000         10.0",
      "text/html": "<div>\n<style scoped>\n    .dataframe tbody tr th:only-of-type {\n        vertical-align: middle;\n    }\n\n    .dataframe tbody tr th {\n        vertical-align: top;\n    }\n\n    .dataframe thead th {\n        text-align: right;\n    }\n</style>\n<table border=\"1\" class=\"dataframe\">\n  <thead>\n    <tr style=\"text-align: right;\">\n      <th></th>\n      <th>likes</th>\n      <th>replies</th>\n      <th>category_id</th>\n    </tr>\n  </thead>\n  <tbody>\n    <tr>\n      <th>count</th>\n      <td>75048.000000</td>\n      <td>75048.000000</td>\n      <td>75048.0</td>\n    </tr>\n    <tr>\n      <th>mean</th>\n      <td>0.876546</td>\n      <td>0.097338</td>\n      <td>10.0</td>\n    </tr>\n    <tr>\n      <th>std</th>\n      <td>42.459609</td>\n      <td>2.724910</td>\n      <td>0.0</td>\n    </tr>\n    <tr>\n      <th>min</th>\n      <td>0.000000</td>\n      <td>0.000000</td>\n      <td>10.0</td>\n    </tr>\n    <tr>\n      <th>25%</th>\n      <td>0.000000</td>\n      <td>0.000000</td>\n      <td>10.0</td>\n    </tr>\n    <tr>\n      <th>50%</th>\n      <td>0.000000</td>\n      <td>0.000000</td>\n      <td>10.0</td>\n    </tr>\n    <tr>\n      <th>75%</th>\n      <td>0.000000</td>\n      <td>0.000000</td>\n      <td>10.0</td>\n    </tr>\n    <tr>\n      <th>max</th>\n      <td>10244.000000</td>\n      <td>504.000000</td>\n      <td>10.0</td>\n    </tr>\n  </tbody>\n</table>\n</div>"
     },
     "metadata": {},
     "execution_count": 24
    }
   ],
   "source": [
    "#Keep only uniques\n",
    "comments_category = comments_category.drop_duplicates(subset='comment_text')\n",
    "print(f\"Unique comments: {comments_category['comment_text'].nunique()}\\nTotal comments: {comments_category.shape[0]}\")\n",
    "comments_category.describe()"
   ]
  },
  {
   "cell_type": "code",
   "execution_count": 25,
   "metadata": {
    "tags": []
   },
   "outputs": [
    {
     "output_type": "stream",
     "name": "stderr",
     "text": "/Users/stefanoperenzoni/Library/Python/3.9/lib/python/site-packages/ipykernel/ipkernel.py:283: DeprecationWarning: `should_run_async` will not call `transform_cell` automatically in the future. Please pass the result to `transformed_cell` argument and any exception that happen during thetransform in `preprocessing_exc_tuple` in IPython 7.17 and above.\n  and should_run_async(code)\n"
    }
   ],
   "source": [
    "# Only keep english comments\n",
    "from langdetect import detect, LangDetectException\n",
    "'''\n",
    "filt = [detect(text) == 'en' for text in comments_category['comment_text']]\n",
    "'''\n",
    "\n",
    "filt = []\n",
    "for text in comments_category['comment_text']:\n",
    "    try:\n",
    "        en = detect(text)\n",
    "    except LangDetectException:\n",
    "        filt.append(False)\n",
    "    else:\n",
    "        if en == 'en':\n",
    "            filt.append(True)\n",
    "        else:\n",
    "            filt.append(False)"
   ]
  },
  {
   "cell_type": "code",
   "execution_count": 26,
   "metadata": {
    "tags": []
   },
   "outputs": [
    {
     "output_type": "stream",
     "name": "stderr",
     "text": "/Users/stefanoperenzoni/Library/Python/3.9/lib/python/site-packages/ipykernel/ipkernel.py:283: DeprecationWarning: `should_run_async` will not call `transform_cell` automatically in the future. Please pass the result to `transformed_cell` argument and any exception that happen during thetransform in `preprocessing_exc_tuple` in IPython 7.17 and above.\n  and should_run_async(code)\n"
    },
    {
     "output_type": "execute_result",
     "data": {
      "text/plain": "count                                                 51765\nunique                                                51765\ntop       Are you guys going to go on tour again because...\nfreq                                                      1\nName: comment_text, dtype: object"
     },
     "metadata": {},
     "execution_count": 26
    }
   ],
   "source": [
    "comments_category_filtered = comments_category[filt]\n",
    "comments_category_filtered['comment_text'].describe()"
   ]
  },
  {
   "cell_type": "code",
   "execution_count": 119,
   "metadata": {
    "tags": []
   },
   "outputs": [
    {
     "output_type": "stream",
     "name": "stderr",
     "text": "/Users/stefanoperenzoni/Library/Python/3.9/lib/python/site-packages/ipykernel/ipkernel.py:283: DeprecationWarning: `should_run_async` will not call `transform_cell` automatically in the future. Please pass the result to `transformed_cell` argument and any exception that happen during thetransform in `preprocessing_exc_tuple` in IPython 7.17 and above.\n  and should_run_async(code)\n"
    }
   ],
   "source": [
    "comments_category_filtered.to_csv(\"../data/GB_comments_filtered.csv\")"
   ]
  },
  {
   "cell_type": "markdown",
   "metadata": {},
   "source": [
    "# Create document term matrix"
   ]
  },
  {
   "cell_type": "code",
   "execution_count": 3,
   "metadata": {
    "tags": []
   },
   "outputs": [
    {
     "output_type": "stream",
     "name": "stderr",
     "text": "/Users/stefanoperenzoni/Library/Python/3.9/lib/python/site-packages/ipykernel/ipkernel.py:283: DeprecationWarning: `should_run_async` will not call `transform_cell` automatically in the future. Please pass the result to `transformed_cell` argument and any exception that happen during thetransform in `preprocessing_exc_tuple` in IPython 7.17 and above.\n  and should_run_async(code)\n"
    }
   ],
   "source": [
    "comments_category_filtered = pd.read_csv(\"../data/GB_comments_filtered.csv\")"
   ]
  },
  {
   "cell_type": "code",
   "execution_count": 106,
   "metadata": {
    "tags": []
   },
   "outputs": [
    {
     "output_type": "stream",
     "name": "stderr",
     "text": "/Users/stefanoperenzoni/Library/Python/3.9/lib/python/site-packages/ipykernel/ipkernel.py:283: DeprecationWarning: `should_run_async` will not call `transform_cell` automatically in the future. Please pass the result to `transformed_cell` argument and any exception that happen during thetransform in `preprocessing_exc_tuple` in IPython 7.17 and above.\n  and should_run_async(code)\n"
    },
    {
     "output_type": "execute_result",
     "data": {
      "text/plain": "<51787x13596 sparse matrix of type '<class 'numpy.int64'>'\n\twith 337284 stored elements in Compressed Sparse Row format>"
     },
     "metadata": {},
     "execution_count": 106
    }
   ],
   "source": [
    "\n",
    "#Bag of words\n",
    "cv = CountVectorizer(max_df=0.8, min_df=2, stop_words='english')\n",
    "dtm = cv.fit_transform(comments_category_filtered['comment_text'])\n",
    "'''\n",
    "\n",
    "#TF_IDF\n",
    "cv = TfidfVectorizer(stop_words='english')\n",
    "dtm = cv.fit_transform(comments_category_filtered['comment_text'])\n",
    "'''\n",
    "dtm"
   ]
  },
  {
   "cell_type": "code",
   "execution_count": 107,
   "metadata": {
    "tags": []
   },
   "outputs": [
    {
     "output_type": "stream",
     "name": "stderr",
     "text": "/Users/stefanoperenzoni/Library/Python/3.9/lib/python/site-packages/ipykernel/ipkernel.py:283: DeprecationWarning: `should_run_async` will not call `transform_cell` automatically in the future. Please pass the result to `transformed_cell` argument and any exception that happen during thetransform in `preprocessing_exc_tuple` in IPython 7.17 and above.\n  and should_run_async(code)\n"
    },
    {
     "output_type": "execute_result",
     "data": {
      "text/plain": "\"\\nlda_model = gensim.models.ldamodel.LdaModel(\\n   corpus=dtm, id2word=id2word, num_topics=5, random_state=42, \\n   update_every=1, chunksize=5, passes=10, alpha='auto', per_word_topics=True)\\n   \""
     },
     "metadata": {},
     "execution_count": 107
    }
   ],
   "source": [
    "# LDA for Topic Modelling\n",
    "LDA = LatentDirichletAllocation(n_components=3,random_state=1, learning_method=\"online\")\n",
    "LDA.fit(dtm)\n",
    "\n",
    "'''\n",
    "lda_model = gensim.models.ldamodel.LdaModel(\n",
    "   corpus=dtm, id2word=id2word, num_topics=5, random_state=42, \n",
    "   update_every=1, chunksize=5, passes=10, alpha='auto', per_word_topics=True)\n",
    "   '''"
   ]
  },
  {
   "cell_type": "code",
   "execution_count": 108,
   "metadata": {
    "tags": []
   },
   "outputs": [
    {
     "output_type": "stream",
     "name": "stderr",
     "text": "/Users/stefanoperenzoni/Library/Python/3.9/lib/python/site-packages/ipykernel/ipkernel.py:283: DeprecationWarning: `should_run_async` will not call `transform_cell` automatically in the future. Please pass the result to `transformed_cell` argument and any exception that happen during thetransform in `preprocessing_exc_tuple` in IPython 7.17 and above.\n  and should_run_async(code)\ntopic #0 : \n['think', 'time', 'did', 'better', 'im', 'sounds', 'make', 'god', 'people', 'thank', 'shit', 'beautiful', 'new', 'great', 'video', 'really', 'good', 'music', 'song', 'like']\ntopic #1 : \n['tell', 'heart', 'oh', 'want', 'way', 'nyou', 'little', 'girl', 'time', 'nand', 'let', 'right', 'll', 'got', 'just', 'fuck', 'don', 'like', 'know', 'ni']\ntopic #2 : \n['album', 'don', 'perfect', 'day', 'views', 'hear', 'awesome', 'voice', 'wait', 'omg', 'fucking', 'man', 'guys', 'songs', 'video', 'best', 'amazing', 'just', 'song', 'love']\n"
    }
   ],
   "source": [
    "for index,topic in enumerate(LDA.components_):\n",
    "    print(f'topic #{index} : ')\n",
    "    print([cv.get_feature_names()[i] for i in topic.argsort()[-20:]])"
   ]
  },
  {
   "cell_type": "code",
   "execution_count": 109,
   "metadata": {
    "tags": []
   },
   "outputs": [
    {
     "output_type": "stream",
     "name": "stderr",
     "text": "/Users/stefanoperenzoni/Library/Python/3.9/lib/python/site-packages/ipykernel/ipkernel.py:283: DeprecationWarning: `should_run_async` will not call `transform_cell` automatically in the future. Please pass the result to `transformed_cell` argument and any exception that happen during thetransform in `preprocessing_exc_tuple` in IPython 7.17 and above.\n  and should_run_async(code)\n"
    },
    {
     "output_type": "execute_result",
     "data": {
      "text/plain": "<IPython.core.display.HTML object>",
      "text/html": "\n<link rel=\"stylesheet\" type=\"text/css\" href=\"https://cdn.jsdelivr.net/gh/bmabey/pyLDAvis@3.3.1/pyLDAvis/js/ldavis.v1.0.0.css\">\n\n\n<div id=\"ldavis_el274515315574352478466962\"></div>\n<script type=\"text/javascript\">\n\nvar ldavis_el274515315574352478466962_data = {\"mdsDat\": {\"x\": [-0.029431850075210614, -0.23959966887118486, 0.26903151894639543], \"y\": [-0.2785887531785686, 0.16347510698660792, 0.11511364619196082], \"topics\": [1, 2, 3], \"cluster\": [1, 1, 1], \"Freq\": [37.53721642302125, 32.85377699869673, 29.609006578282028]}, \"tinfo\": {\"Term\": [\"love\", \"song\", \"music\", \"ni\", \"know\", \"good\", \"like\", \"amazing\", \"best\", \"really\", \"great\", \"fuck\", \"new\", \"shit\", \"songs\", \"video\", \"ll\", \"guys\", \"don\", \"beautiful\", \"let\", \"nand\", \"girl\", \"fucking\", \"omg\", \"thank\", \"just\", \"wait\", \"little\", \"nyou\", \"music\", \"great\", \"new\", \"shit\", \"thank\", \"sounds\", \"god\", \"im\", \"sound\", \"makes\", \"really\", \"chester\", \"com\", \"youtube\", \"does\", \"looks\", \"nice\", \"https\", \"damn\", \"heard\", \"year\", \"pretty\", \"sad\", \"job\", \"www\", \"reminds\", \"watch\", \"youtu\", \"smith\", \"original\", \"good\", \"sam\", \"track\", \"doesn\", \"old\", \"thought\", \"cool\", \"beautiful\", \"sing\", \"like\", \"live\", \"listen\", \"video\", \"song\", \"make\", \"did\", \"people\", \"better\", \"think\", \"time\", \"feel\", \"ni\", \"know\", \"fuck\", \"ll\", \"nand\", \"nyou\", \"let\", \"girl\", \"little\", \"baby\", \"heart\", \"wanna\", \"yeah\", \"nbut\", \"blm\", \"cause\", \"niggerfaggot\", \"chorus\", \"crying\", \"ass\", \"cute\", \"nigga\", \"ain\", \"eyes\", \"nwe\", \"yes\", \"hey\", \"rip\", \"nit\", \"tho\", \"finally\", \"tell\", \"takes\", \"right\", \"don\", \"got\", \"oh\", \"gonna\", \"said\", \"want\", \"way\", \"time\", \"just\", \"like\", \"say\", \"ve\", \"need\", \"real\", \"love\", \"life\", \"amazing\", \"omg\", \"fucking\", \"views\", \"perfect\", \"listening\", \"hear\", \"happy\", \"loved\", \"fan\", \"guy\", \"mv\", \"watching\", \"10\", \"wait\", \"million\", \"best\", \"talented\", \"absolutely\", \"taylor\", \"lit\", \"talent\", \"wtf\", \"ok\", \"incredible\", \"holy\", \"rap\", \"imagine\", \"comments\", \"comeback\", \"awesome\", \"proud\", \"saw\", \"songs\", \"love\", \"guys\", \"kind\", \"man\", \"check\", \"different\", \"twice\", \"song\", \"times\", \"just\", \"hard\", \"favorite\", \"day\", \"video\", \"voice\", \"stop\", \"album\", \"don\", \"people\", \"wow\"], \"Freq\": [7511.0, 7941.0, 3042.0, 2424.0, 2198.0, 2783.0, 5792.0, 1626.0, 1601.0, 1945.0, 1816.0, 1359.0, 1532.0, 1367.0, 1137.0, 3171.0, 993.0, 1020.0, 2059.0, 1663.0, 881.0, 861.0, 853.0, 773.0, 767.0, 955.0, 3973.0, 734.0, 787.0, 780.0, 3042.210440509567, 1815.7117503801676, 1532.1236383363498, 1366.9131552098204, 954.5617634653935, 846.8433377526266, 873.5171126966272, 794.6552065043958, 700.2584224395019, 667.9509452833596, 1943.369665192829, 634.7987872287806, 586.5771627662768, 587.761067381109, 594.6827980660174, 556.0134501033101, 552.1296151442708, 490.4376609953835, 581.6229074823855, 545.9254435393568, 389.18190628467903, 374.5813123952472, 393.18916516132674, 368.97000421858826, 306.0762897181182, 324.2126171913219, 712.4410705217986, 264.0737442880086, 255.4397791072659, 264.4620576597975, 2727.0318327065934, 412.7169109437054, 353.537200138158, 360.4391676038635, 671.671661364657, 571.9348356025363, 467.6962841856353, 1464.2924623012786, 443.9645186544453, 4306.269239058604, 538.6695000563479, 643.6421686427562, 1922.7932262656914, 3079.2278910937403, 870.4771755390949, 754.9308438301648, 876.5997250314181, 764.4200582602292, 735.712709836593, 736.5094799732601, 654.1503051152202, 2423.8601206198123, 2197.2472803312953, 1358.938520730409, 992.294611903819, 860.8997824694667, 779.9749731140416, 881.1915322907946, 852.3740877237836, 786.9126501333533, 598.3442832282236, 661.6310228382197, 556.6820961323309, 545.7775745413409, 434.3776415036057, 418.5835978280617, 453.47133498314787, 410.1482288284577, 369.19286075522984, 402.4057410494586, 382.5675598533024, 392.74687616088664, 362.4499009295472, 335.4441804736959, 346.45191450116425, 319.61678862398196, 363.1254420394828, 352.07677587796127, 449.07235534436705, 304.79944833064854, 358.76189152207354, 333.7586001390594, 613.0749528178342, 376.0163289935953, 928.2501210277186, 1448.3923872498149, 1128.651853175427, 667.184162939696, 580.1884588065626, 451.02012622050955, 769.5379962932335, 773.366830416774, 860.3043530006836, 1280.7205628401127, 1475.606901934005, 519.1536097487158, 572.4636958854502, 515.0855952410554, 483.6189617052824, 553.8416658607482, 454.5063153134069, 1626.1113340428851, 767.2666789744237, 772.4828763612079, 677.9625739740138, 614.3340676011895, 553.4724718927313, 694.531502645154, 534.5950835714253, 448.2601453431146, 481.4762441969706, 455.92544189983784, 386.34964943974967, 429.10206364855145, 395.33593142593355, 733.4310097705187, 355.55499295914177, 1597.9249807236329, 284.5147833204525, 269.28555368460894, 244.65679148470278, 238.45931323920416, 232.38966805280714, 230.9657365317527, 230.90438913877736, 206.37433372889728, 222.7027366121543, 259.68360048620553, 200.6229699477767, 199.80900033401073, 188.44834992974734, 704.8876691506421, 402.8031496012942, 351.1496047395341, 1113.021643109111, 6955.926183030666, 977.9838074443599, 273.4380597134665, 801.5218800884311, 365.94073712383283, 379.6561567795542, 344.4842251720705, 4861.695644010145, 380.5249578606108, 2142.051688803241, 470.0098893814384, 417.82921949455715, 614.8271317793863, 1248.1239575970192, 717.9213886031645, 466.59747765547843, 578.3430372330813, 611.1317627393912, 518.3397301532144, 425.8807431911464], \"Total\": [7511.0, 7941.0, 3042.0, 2424.0, 2198.0, 2783.0, 5792.0, 1626.0, 1601.0, 1945.0, 1816.0, 1359.0, 1532.0, 1367.0, 1137.0, 3171.0, 993.0, 1020.0, 2059.0, 1663.0, 881.0, 861.0, 853.0, 773.0, 767.0, 955.0, 3973.0, 734.0, 787.0, 780.0, 3042.952176272104, 1816.449901301291, 1532.9872322243866, 1367.7879425384458, 955.3154977994019, 847.5458405355475, 874.3170823379369, 795.4480511084356, 701.0103146426959, 668.7005719994229, 1945.565190186575, 635.5225018846377, 587.2709955859708, 588.4805319273225, 595.4267042154739, 556.7655739705665, 552.8818929937877, 491.129420423834, 582.4798099013921, 546.7752105126854, 389.9602187189457, 375.3784700211147, 394.0277629535133, 369.784222295176, 306.76315756857394, 324.9426935787672, 714.1688281341299, 264.7845195739344, 256.1369423531099, 265.1883980277058, 2783.5692927113664, 414.35145811691694, 354.6763282595625, 361.7392751087533, 679.9668269270295, 593.0087633478802, 478.6495342168072, 1663.7010504031323, 453.25637190208573, 5792.928329969928, 565.1066402839454, 734.7195857288799, 3171.287376505507, 7941.2895836202815, 1248.7929492847948, 1040.6648265295855, 1395.371532218202, 1109.511146101287, 1284.3514910888302, 1816.7712542137765, 1073.4347208499178, 2424.5217734307726, 2198.0253090012593, 1359.62578941877, 993.0008820824845, 861.5519991283599, 780.6253326563345, 881.9263419680016, 853.1056547665576, 787.638695068149, 599.0205566713939, 662.4057880087845, 557.3777666426239, 546.4765252747533, 435.0355571764122, 419.2180876026222, 454.16637277665495, 410.7797830277761, 369.8618519629092, 403.16166079161127, 383.29431841830626, 393.4942473390625, 363.1580884631177, 336.12135030787204, 347.15253010913295, 320.27782126144325, 363.89683782306423, 352.8517030763818, 450.0623083065024, 305.47422258774225, 359.57212016856226, 334.71880605231894, 619.8125322907105, 377.5538082931386, 1025.4791611235048, 2059.940867478489, 1569.6706145517298, 894.1246848937562, 730.7014757599366, 507.02601483807615, 1187.581239379309, 1266.9035303361036, 1816.7712542137765, 3973.5082308724805, 5792.928329969928, 841.8481228752314, 1343.5062854917057, 1038.4251401665783, 903.7748794158513, 7511.333761704996, 1111.7210401622674, 1626.8220523023463, 767.9748368017763, 773.2253899973374, 678.6559625528952, 615.1179014543488, 554.2155136576247, 695.4681837241728, 535.4129604373775, 448.99152766252735, 482.27396986511957, 456.7051261010388, 387.07020734049115, 429.9258971174437, 396.1050159807967, 734.9015817386124, 356.30663717626777, 1601.6031169451844, 285.2622152524877, 270.0015208069658, 245.38306067788787, 239.1774416673834, 233.13921157716126, 231.711101342995, 231.6633141507272, 207.08414804876827, 223.47730787469678, 260.59953079877033, 201.3574156783641, 200.57250989442966, 189.17958410616077, 709.2410652228182, 404.73737078472993, 352.92084389882285, 1137.3709181035886, 7511.333761704996, 1020.2749818809856, 276.1819671046128, 867.7069895833224, 376.90393164023976, 394.98922276180144, 357.9148022111801, 7941.2895836202815, 416.27399597759927, 3973.5082308724805, 565.4154957252375, 478.8832610975757, 921.5856526356686, 3171.287376505507, 1271.9534886092324, 595.5539491703097, 1121.3235409114052, 2059.940867478489, 1395.371532218202, 702.3355132853093], \"Category\": [\"Default\", \"Default\", \"Default\", \"Default\", \"Default\", \"Default\", \"Default\", \"Default\", \"Default\", \"Default\", \"Default\", \"Default\", \"Default\", \"Default\", \"Default\", \"Default\", \"Default\", \"Default\", \"Default\", \"Default\", \"Default\", \"Default\", \"Default\", \"Default\", \"Default\", \"Default\", \"Default\", \"Default\", \"Default\", \"Default\", \"Topic1\", \"Topic1\", \"Topic1\", \"Topic1\", \"Topic1\", \"Topic1\", \"Topic1\", \"Topic1\", \"Topic1\", \"Topic1\", \"Topic1\", \"Topic1\", \"Topic1\", \"Topic1\", \"Topic1\", \"Topic1\", \"Topic1\", \"Topic1\", \"Topic1\", \"Topic1\", \"Topic1\", \"Topic1\", \"Topic1\", \"Topic1\", \"Topic1\", \"Topic1\", \"Topic1\", \"Topic1\", \"Topic1\", \"Topic1\", \"Topic1\", \"Topic1\", \"Topic1\", \"Topic1\", \"Topic1\", \"Topic1\", \"Topic1\", \"Topic1\", \"Topic1\", \"Topic1\", \"Topic1\", \"Topic1\", \"Topic1\", \"Topic1\", \"Topic1\", \"Topic1\", \"Topic1\", \"Topic1\", \"Topic1\", \"Topic1\", \"Topic1\", \"Topic2\", \"Topic2\", \"Topic2\", \"Topic2\", \"Topic2\", \"Topic2\", \"Topic2\", \"Topic2\", \"Topic2\", \"Topic2\", \"Topic2\", \"Topic2\", \"Topic2\", \"Topic2\", \"Topic2\", \"Topic2\", \"Topic2\", \"Topic2\", \"Topic2\", \"Topic2\", \"Topic2\", \"Topic2\", \"Topic2\", \"Topic2\", \"Topic2\", \"Topic2\", \"Topic2\", \"Topic2\", \"Topic2\", \"Topic2\", \"Topic2\", \"Topic2\", \"Topic2\", \"Topic2\", \"Topic2\", \"Topic2\", \"Topic2\", \"Topic2\", \"Topic2\", \"Topic2\", \"Topic2\", \"Topic2\", \"Topic2\", \"Topic2\", \"Topic2\", \"Topic2\", \"Topic2\", \"Topic2\", \"Topic2\", \"Topic2\", \"Topic3\", \"Topic3\", \"Topic3\", \"Topic3\", \"Topic3\", \"Topic3\", \"Topic3\", \"Topic3\", \"Topic3\", \"Topic3\", \"Topic3\", \"Topic3\", \"Topic3\", \"Topic3\", \"Topic3\", \"Topic3\", \"Topic3\", \"Topic3\", \"Topic3\", \"Topic3\", \"Topic3\", \"Topic3\", \"Topic3\", \"Topic3\", \"Topic3\", \"Topic3\", \"Topic3\", \"Topic3\", \"Topic3\", \"Topic3\", \"Topic3\", \"Topic3\", \"Topic3\", \"Topic3\", \"Topic3\", \"Topic3\", \"Topic3\", \"Topic3\", \"Topic3\", \"Topic3\", \"Topic3\", \"Topic3\", \"Topic3\", \"Topic3\", \"Topic3\", \"Topic3\", \"Topic3\", \"Topic3\", \"Topic3\", \"Topic3\", \"Topic3\", \"Topic3\", \"Topic3\", \"Topic3\"], \"logprob\": [30.0, 29.0, 28.0, 27.0, 26.0, 25.0, 24.0, 23.0, 22.0, 21.0, 20.0, 19.0, 18.0, 17.0, 16.0, 15.0, 14.0, 13.0, 12.0, 11.0, 10.0, 9.0, 8.0, 7.0, 6.0, 5.0, 4.0, 3.0, 2.0, 1.0, -3.8633, -4.3794, -4.5492, -4.6633, -5.0224, -5.1421, -5.1111, -5.2057, -5.3322, -5.3794, -4.3114, -5.4303, -5.5093, -5.5073, -5.4956, -5.5628, -5.5698, -5.6883, -5.5178, -5.5811, -5.9196, -5.9578, -5.9093, -5.9729, -6.1598, -6.1022, -5.3149, -6.3074, -6.3406, -6.3059, -3.9726, -5.8609, -6.0156, -5.9963, -5.3738, -5.5346, -5.7358, -4.5945, -5.7879, -3.5158, -5.5945, -5.4165, -4.3221, -3.8512, -5.1146, -5.257, -5.1076, -5.2445, -5.2828, -5.2817, -5.4003, -3.9572, -4.0554, -4.5359, -4.8503, -4.9924, -5.0911, -4.9691, -5.0023, -5.0822, -5.3562, -5.2556, -5.4284, -5.4481, -5.6764, -5.7135, -5.6334, -5.7338, -5.839, -5.7529, -5.8034, -5.7772, -5.8575, -5.9349, -5.9026, -5.9832, -5.8556, -5.8865, -5.6432, -6.0307, -5.8677, -5.9399, -5.3319, -5.8207, -4.9171, -4.4721, -4.7216, -5.2473, -5.387, -5.6388, -5.1046, -5.0996, -4.9931, -4.5952, -4.4535, -5.4982, -5.4004, -5.506, -5.5691, -5.4335, -5.6311, -4.2524, -5.0035, -4.9968, -5.1273, -5.2258, -5.3302, -5.1031, -5.3649, -5.541, -5.4695, -5.524, -5.6896, -5.5847, -5.6666, -5.0486, -5.7727, -4.2699, -5.9956, -6.0506, -6.1465, -6.1722, -6.1979, -6.2041, -6.2044, -6.3167, -6.2405, -6.0869, -6.3449, -6.349, -6.4075, -5.0883, -5.6479, -5.7852, -4.6315, -2.799, -4.7609, -6.0353, -4.9599, -5.7439, -5.7071, -5.8043, -3.1572, -5.7048, -3.9768, -5.4936, -5.6113, -5.225, -4.517, -5.07, -5.5009, -5.2862, -5.2311, -5.3957, -5.5922], \"loglift\": [30.0, 29.0, 28.0, 27.0, 26.0, 25.0, 24.0, 23.0, 22.0, 21.0, 20.0, 19.0, 18.0, 17.0, 16.0, 15.0, 14.0, 13.0, 12.0, 11.0, 10.0, 9.0, 8.0, 7.0, 6.0, 5.0, 4.0, 3.0, 2.0, 1.0, 0.9796, 0.9794, 0.9793, 0.9792, 0.979, 0.979, 0.9789, 0.9788, 0.9788, 0.9787, 0.9787, 0.9787, 0.9787, 0.9786, 0.9786, 0.9785, 0.9785, 0.9784, 0.9784, 0.9783, 0.9778, 0.9777, 0.9777, 0.9776, 0.9776, 0.9776, 0.9774, 0.9771, 0.9771, 0.9771, 0.9593, 0.9759, 0.9766, 0.9762, 0.9676, 0.9437, 0.9567, 0.8522, 0.9591, 0.6833, 0.9319, 0.8475, 0.4795, 0.0324, 0.6189, 0.6588, 0.515, 0.6073, 0.4227, 0.0769, 0.4846, 1.1128, 1.1127, 1.1126, 1.1124, 1.1123, 1.1123, 1.1123, 1.1122, 1.1122, 1.112, 1.1119, 1.1119, 1.1118, 1.1116, 1.1116, 1.1116, 1.1116, 1.1113, 1.1112, 1.1112, 1.1112, 1.1112, 1.1111, 1.1111, 1.111, 1.111, 1.1109, 1.1109, 1.1109, 1.1108, 1.1102, 1.1022, 1.109, 1.0135, 0.7609, 0.7833, 0.8203, 0.8825, 0.9961, 0.6792, 0.6195, 0.3656, -0.0191, -0.2545, 0.6297, 0.26, 0.412, 0.4878, -1.4942, 0.2187, 1.2167, 1.2162, 1.2161, 1.2161, 1.2158, 1.2157, 1.2157, 1.2156, 1.2155, 1.2154, 1.2154, 1.2152, 1.2152, 1.2151, 1.2151, 1.215, 1.2148, 1.2145, 1.2144, 1.2141, 1.2141, 1.2139, 1.2139, 1.2138, 1.2137, 1.2136, 1.2136, 1.2134, 1.2133, 1.2132, 1.2109, 1.2123, 1.2121, 1.1955, 1.1403, 1.1748, 1.2071, 1.1377, 1.1876, 1.1775, 1.1788, 0.7264, 1.1273, 0.5992, 1.0323, 1.0807, 0.8123, 0.2846, 0.6451, 0.9731, 0.555, 0.002, 0.2268, 0.7168]}, \"token.table\": {\"Topic\": [3, 3, 2, 1, 3, 3, 2, 1, 3, 2, 1, 2, 3, 2, 3, 1, 3, 2, 2, 1, 3, 1, 2, 1, 3, 3, 1, 2, 2, 2, 1, 2, 3, 1, 2, 1, 2, 3, 1, 1, 2, 3, 2, 3, 2, 3, 1, 3, 1, 2, 1, 2, 2, 3, 2, 1, 1, 2, 1, 2, 1, 2, 3, 1, 3, 1, 3, 3, 1, 2, 3, 2, 3, 1, 2, 2, 3, 1, 1, 3, 3, 1, 1, 2, 3, 1, 3, 2, 2, 1, 2, 3, 1, 2, 3, 1, 2, 3, 3, 3, 2, 1, 2, 3, 2, 1, 1, 2, 3, 3, 1, 2, 1, 2, 3, 3, 1, 3, 2, 2, 1, 2, 3, 1, 2, 1, 2, 2, 2, 2, 2, 1, 2, 3, 1, 2, 3, 1, 1, 3, 3, 1, 2, 3, 3, 1, 2, 1, 2, 3, 1, 1, 2, 1, 2, 1, 1, 2, 3, 1, 3, 2, 3, 1, 2, 3, 1, 2, 1, 2, 3, 1, 1, 3, 1, 3, 1, 1, 1, 2, 3, 2, 3, 3, 3, 3, 1, 2, 1, 1, 2, 3, 2, 1, 2, 1, 2, 3, 2, 3, 1, 2, 2, 3, 1, 2, 3, 1, 3, 3, 1, 2, 3, 1, 2, 3, 2, 1, 2, 1, 2, 3, 1, 2, 1, 3, 3, 1, 2, 1, 2, 1, 1], \"Freq\": [0.9972102954110275, 0.9962906845710627, 0.9966638527816072, 0.4842491753616916, 0.5154622897956864, 0.9994946882474436, 0.9992321346699821, 0.0056398313579647886, 0.994020276841294, 0.9982962910704352, 0.8799657845051293, 0.0006010695249351976, 0.11901176593716913, 0.0018731232277582263, 0.997750305985882, 0.688591550147667, 0.3109477549750591, 0.9994797753029471, 0.9974318380959734, 0.029185155888741588, 0.9710697322981292, 0.9991778388914819, 0.9976698003367062, 0.9995385510471185, 0.9937647388763745, 0.9971456213280125, 0.9777508731221632, 0.022981323940905546, 0.9971186228637655, 0.998743952821662, 0.999176263463152, 0.33203641910533443, 0.6673280972215054, 0.7254977594638016, 0.2738633926452761, 0.037975719679434805, 0.0025317146452956533, 0.9620515652123484, 0.9992833639934975, 0.9951919096751924, 0.002764421971319979, 0.002764421971319979, 0.7029327991208081, 0.2966104559826062, 0.9966800469270074, 0.9973584104788491, 0.1273796871918036, 0.8728640860028508, 0.6092592193050917, 0.39033579952421016, 0.0029875823584399764, 0.9978525077189521, 0.9995397340770967, 0.9984152227627424, 0.9987039650242852, 0.9996373371350712, 0.20528219112189222, 0.7937578056713166, 0.979677426080432, 0.020118054954346973, 0.027394282342655715, 0.7192591805781001, 0.2535563807529529, 0.999752318354077, 0.9984560582731826, 0.04116537281211045, 0.9585651097677146, 0.9992287066845746, 0.02652916326737748, 0.1432574816438384, 0.831247115711161, 0.0014378802990599588, 0.9993268078466714, 0.9985822134987457, 0.9993874026825696, 0.997586229373541, 0.9978641774449672, 0.9977003608888685, 0.9994367311506877, 0.998224968883515, 0.9947646980274272, 0.9978792434941964, 0.138668392761581, 0.3223851381625867, 0.5390702310259646, 0.007241602415129572, 0.9884787296651866, 0.9995335317582283, 0.9989496379414924, 0.3553049602644433, 0.409275333975498, 0.236570138100123, 0.7433200886886085, 0.2547934163735221, 0.0018988669241929155, 0.8765248844715615, 0.008166380911225728, 0.11569039624236449, 0.9978067852168144, 0.9950771207385819, 0.9991891014596563, 0.9538022765564607, 0.0017695775075259011, 0.044239437688147525, 0.9989920632493443, 0.9986249617319066, 0.00026626429652168996, 0.07375521013650813, 0.9260672233024377, 0.9977916561862775, 0.6966727354588798, 0.302692291957996, 0.998952338268041, 0.07606254276192193, 0.9242751408342633, 0.9991394008859956, 0.99968708799319, 0.9972351079463222, 0.999359296793556, 0.9976196033649904, 0.2628981035226159, 0.49594330884302995, 0.24074917905001453, 0.9993560075363745, 0.9997847932584106, 0.9984049161222981, 0.99681106245487, 0.9981017005704894, 0.9984475855811171, 0.9991325616605327, 0.9991989336879362, 0.2538795805944818, 0.7459809702930368, 0.9971367320149119, 0.9882835064718761, 0.011765279838950905, 0.9987306396576273, 0.9955186650828457, 0.6285064441624703, 0.37122729541181254, 0.9981826224668381, 0.998991764175784, 0.004941475990028486, 0.9957074119907401, 0.9976994171979793, 0.4647174972062336, 0.5355315920186121, 0.9986815192831812, 0.0005139894592296352, 0.0005139894592296352, 0.9970988928281943, 0.0945899279842291, 0.9049428161790166, 0.0022219145694799616, 0.9976396416965027, 0.9973916483807905, 0.09072512781161843, 0.8895007096313025, 0.019722853872090964, 0.9967383773112352, 0.0024134101145550486, 0.002833496568104901, 0.9945572954048202, 0.010690764468609348, 0.6165007510231391, 0.3729888936825928, 0.9994239293139378, 0.0007311074830387255, 0.9795780655807629, 0.006618770713383533, 0.013237541426767066, 0.9955611933887206, 0.3877204032895049, 0.6122431311443887, 0.02110129564418329, 0.978572585499, 0.9985587734993445, 0.9993559752057746, 0.010074654039921728, 0.20653040781839543, 0.7841439061072412, 0.9958845381532154, 0.00264862909083302, 0.9951135994264774, 0.9990807922028664, 0.9984389277856848, 0.009680346374774208, 0.9890087212894314, 0.999669744916597, 0.5730518515426364, 0.20321539844107078, 0.22423768103842293, 0.9984088861831277, 0.9645725920991901, 0.035412630129515725, 0.4056647188195099, 0.4733672431272436, 0.12109394591627161, 0.08407923708470956, 0.9152625522649811, 0.9980931113647157, 0.002819472066002022, 0.036321493047190664, 0.9611225852487376, 0.29177384894521213, 0.4257516367261769, 0.2820976753832536, 0.6063783478742898, 0.3935310338778542, 0.9990334387538162, 0.4135371337949897, 0.022799575817594488, 0.5644860495528566, 0.0013607264222159166, 0.0013607264222159166, 0.9974124674842668, 0.999322243072415, 0.35197592058499366, 0.648376695814462, 0.9969631436591874, 0.0014002291343527913, 0.9978463797513674, 0.3891377584757455, 0.6101490614639985, 0.3929745752268129, 0.6065477139370372, 0.9969310864310192, 0.9975122254751099, 0.9991280041269592, 0.9975376495528182, 0.9975354613455029, 0.9970371395759965, 0.9991834361525117], \"Term\": [\"10\", \"absolutely\", \"ain\", \"album\", \"album\", \"amazing\", \"ass\", \"awesome\", \"awesome\", \"baby\", \"beautiful\", \"beautiful\", \"beautiful\", \"best\", \"best\", \"better\", \"better\", \"blm\", \"cause\", \"check\", \"check\", \"chester\", \"chorus\", \"com\", \"comeback\", \"comments\", \"cool\", \"cool\", \"crying\", \"cute\", \"damn\", \"day\", \"day\", \"did\", \"did\", \"different\", \"different\", \"different\", \"does\", \"doesn\", \"doesn\", \"doesn\", \"don\", \"don\", \"eyes\", \"fan\", \"favorite\", \"favorite\", \"feel\", \"feel\", \"finally\", \"finally\", \"fuck\", \"fucking\", \"girl\", \"god\", \"gonna\", \"gonna\", \"good\", \"good\", \"got\", \"got\", \"got\", \"great\", \"guy\", \"guys\", \"guys\", \"happy\", \"hard\", \"hard\", \"hard\", \"hear\", \"hear\", \"heard\", \"heart\", \"hey\", \"holy\", \"https\", \"im\", \"imagine\", \"incredible\", \"job\", \"just\", \"just\", \"just\", \"kind\", \"kind\", \"know\", \"let\", \"life\", \"life\", \"life\", \"like\", \"like\", \"like\", \"listen\", \"listen\", \"listen\", \"listening\", \"lit\", \"little\", \"live\", \"live\", \"live\", \"ll\", \"looks\", \"love\", \"love\", \"love\", \"loved\", \"make\", \"make\", \"makes\", \"man\", \"man\", \"million\", \"music\", \"mv\", \"nand\", \"nbut\", \"need\", \"need\", \"need\", \"new\", \"ni\", \"nice\", \"nigga\", \"niggerfaggot\", \"nit\", \"nwe\", \"nyou\", \"oh\", \"oh\", \"ok\", \"old\", \"old\", \"omg\", \"original\", \"people\", \"people\", \"perfect\", \"pretty\", \"proud\", \"proud\", \"rap\", \"real\", \"real\", \"really\", \"really\", \"really\", \"reminds\", \"right\", \"right\", \"rip\", \"rip\", \"sad\", \"said\", \"said\", \"said\", \"sam\", \"sam\", \"saw\", \"saw\", \"say\", \"say\", \"say\", \"shit\", \"shit\", \"sing\", \"sing\", \"sing\", \"smith\", \"song\", \"song\", \"songs\", \"songs\", \"sound\", \"sounds\", \"stop\", \"stop\", \"stop\", \"takes\", \"takes\", \"talent\", \"talented\", \"taylor\", \"tell\", \"tell\", \"thank\", \"think\", \"think\", \"think\", \"tho\", \"thought\", \"thought\", \"time\", \"time\", \"time\", \"times\", \"times\", \"track\", \"track\", \"twice\", \"twice\", \"ve\", \"ve\", \"ve\", \"video\", \"video\", \"views\", \"voice\", \"voice\", \"voice\", \"wait\", \"wait\", \"wait\", \"wanna\", \"want\", \"want\", \"watch\", \"watch\", \"watching\", \"way\", \"way\", \"wow\", \"wow\", \"wtf\", \"www\", \"yeah\", \"year\", \"yes\", \"youtu\", \"youtube\"]}, \"R\": 30, \"lambda.step\": 0.01, \"plot.opts\": {\"xlab\": \"PC1\", \"ylab\": \"PC2\"}, \"topic.order\": [1, 2, 3]};\n\nfunction LDAvis_load_lib(url, callback){\n  var s = document.createElement('script');\n  s.src = url;\n  s.async = true;\n  s.onreadystatechange = s.onload = callback;\n  s.onerror = function(){console.warn(\"failed to load library \" + url);};\n  document.getElementsByTagName(\"head\")[0].appendChild(s);\n}\n\nif(typeof(LDAvis) !== \"undefined\"){\n   // already loaded: just create the visualization\n   !function(LDAvis){\n       new LDAvis(\"#\" + \"ldavis_el274515315574352478466962\", ldavis_el274515315574352478466962_data);\n   }(LDAvis);\n}else if(typeof define === \"function\" && define.amd){\n   // require.js is available: use it to load d3/LDAvis\n   require.config({paths: {d3: \"https://d3js.org/d3.v5\"}});\n   require([\"d3\"], function(d3){\n      window.d3 = d3;\n      LDAvis_load_lib(\"https://cdn.jsdelivr.net/gh/bmabey/pyLDAvis@3.3.1/pyLDAvis/js/ldavis.v3.0.0.js\", function(){\n        new LDAvis(\"#\" + \"ldavis_el274515315574352478466962\", ldavis_el274515315574352478466962_data);\n      });\n    });\n}else{\n    // require.js not available: dynamically load d3 & LDAvis\n    LDAvis_load_lib(\"https://d3js.org/d3.v5.js\", function(){\n         LDAvis_load_lib(\"https://cdn.jsdelivr.net/gh/bmabey/pyLDAvis@3.3.1/pyLDAvis/js/ldavis.v3.0.0.js\", function(){\n                 new LDAvis(\"#\" + \"ldavis_el274515315574352478466962\", ldavis_el274515315574352478466962_data);\n            })\n         });\n}\n</script>"
     },
     "metadata": {},
     "execution_count": 109
    }
   ],
   "source": [
    "pyLDAvis.enable_notebook()\n",
    "vis = pyLDAvis.sklearn.prepare(LDA, dtm, cv)\n",
    "pyLDAvis.display(vis)"
   ]
  },
  {
   "cell_type": "code",
   "execution_count": 113,
   "metadata": {
    "tags": []
   },
   "outputs": [
    {
     "output_type": "stream",
     "name": "stderr",
     "text": "/Users/stefanoperenzoni/Library/Python/3.9/lib/python/site-packages/ipykernel/ipkernel.py:283: DeprecationWarning: `should_run_async` will not call `transform_cell` automatically in the future. Please pass the result to `transformed_cell` argument and any exception that happen during thetransform in `preprocessing_exc_tuple` in IPython 7.17 and above.\n  and should_run_async(code)\ntopic #0 : \n['think', 'time', 'did', 'better', 'im', 'sounds', 'make', 'god', 'people', 'thank', 'shit', 'beautiful', 'new', 'great', 'video', 'really', 'good', 'music', 'song', 'like']\ntopic #1 : \n['tell', 'heart', 'oh', 'want', 'way', 'nyou', 'little', 'girl', 'time', 'nand', 'let', 'right', 'll', 'got', 'just', 'fuck', 'don', 'like', 'know', 'ni']\ntopic #2 : \n['album', 'don', 'perfect', 'day', 'views', 'hear', 'awesome', 'voice', 'wait', 'omg', 'fucking', 'man', 'guys', 'songs', 'video', 'best', 'amazing', 'just', 'song', 'love']\n"
    },
    {
     "output_type": "execute_result",
     "data": {
      "text/plain": "<IPython.core.display.HTML object>",
      "text/html": "\n<link rel=\"stylesheet\" type=\"text/css\" href=\"https://cdn.jsdelivr.net/gh/bmabey/pyLDAvis@3.3.1/pyLDAvis/js/ldavis.v1.0.0.css\">\n\n\n<div id=\"ldavis_el2745153123749285428027926\"></div>\n<script type=\"text/javascript\">\n\nvar ldavis_el2745153123749285428027926_data = {\"mdsDat\": {\"x\": [-0.029431850075210614, -0.23959966887118486, 0.26903151894639543], \"y\": [-0.2785887531785686, 0.16347510698660792, 0.11511364619196082], \"topics\": [1, 2, 3], \"cluster\": [1, 1, 1], \"Freq\": [37.53721642302125, 32.85377699869673, 29.609006578282028]}, \"tinfo\": {\"Term\": [\"love\", \"song\", \"music\", \"ni\", \"know\", \"good\", \"like\", \"amazing\", \"best\", \"really\", \"great\", \"fuck\", \"new\", \"shit\", \"songs\", \"video\", \"ll\", \"guys\", \"don\", \"beautiful\", \"let\", \"nand\", \"girl\", \"fucking\", \"omg\", \"thank\", \"just\", \"wait\", \"little\", \"nyou\", \"music\", \"great\", \"new\", \"shit\", \"thank\", \"sounds\", \"god\", \"im\", \"sound\", \"makes\", \"really\", \"chester\", \"com\", \"youtube\", \"does\", \"looks\", \"nice\", \"https\", \"damn\", \"heard\", \"year\", \"pretty\", \"sad\", \"job\", \"www\", \"reminds\", \"watch\", \"youtu\", \"smith\", \"original\", \"good\", \"sam\", \"track\", \"doesn\", \"old\", \"thought\", \"cool\", \"beautiful\", \"sing\", \"like\", \"live\", \"listen\", \"video\", \"song\", \"make\", \"did\", \"people\", \"better\", \"think\", \"time\", \"feel\", \"ni\", \"know\", \"fuck\", \"ll\", \"nand\", \"nyou\", \"let\", \"girl\", \"little\", \"baby\", \"heart\", \"wanna\", \"yeah\", \"nbut\", \"blm\", \"cause\", \"niggerfaggot\", \"chorus\", \"crying\", \"ass\", \"cute\", \"nigga\", \"ain\", \"eyes\", \"nwe\", \"yes\", \"hey\", \"rip\", \"nit\", \"tho\", \"finally\", \"tell\", \"takes\", \"right\", \"don\", \"got\", \"oh\", \"gonna\", \"said\", \"want\", \"way\", \"time\", \"just\", \"like\", \"say\", \"ve\", \"need\", \"real\", \"love\", \"life\", \"amazing\", \"omg\", \"fucking\", \"views\", \"perfect\", \"listening\", \"hear\", \"happy\", \"loved\", \"fan\", \"guy\", \"mv\", \"watching\", \"10\", \"wait\", \"million\", \"best\", \"talented\", \"absolutely\", \"taylor\", \"lit\", \"talent\", \"wtf\", \"ok\", \"incredible\", \"holy\", \"rap\", \"imagine\", \"comments\", \"comeback\", \"awesome\", \"proud\", \"saw\", \"songs\", \"love\", \"guys\", \"kind\", \"man\", \"check\", \"different\", \"twice\", \"song\", \"times\", \"just\", \"hard\", \"favorite\", \"day\", \"video\", \"voice\", \"stop\", \"album\", \"don\", \"people\", \"wow\"], \"Freq\": [7511.0, 7941.0, 3042.0, 2424.0, 2198.0, 2783.0, 5792.0, 1626.0, 1601.0, 1945.0, 1816.0, 1359.0, 1532.0, 1367.0, 1137.0, 3171.0, 993.0, 1020.0, 2059.0, 1663.0, 881.0, 861.0, 853.0, 773.0, 767.0, 955.0, 3973.0, 734.0, 787.0, 780.0, 3042.210440509567, 1815.7117503801676, 1532.1236383363498, 1366.9131552098204, 954.5617634653935, 846.8433377526266, 873.5171126966272, 794.6552065043958, 700.2584224395019, 667.9509452833596, 1943.369665192829, 634.7987872287806, 586.5771627662768, 587.761067381109, 594.6827980660174, 556.0134501033101, 552.1296151442708, 490.4376609953835, 581.6229074823855, 545.9254435393568, 389.18190628467903, 374.5813123952472, 393.18916516132674, 368.97000421858826, 306.0762897181182, 324.2126171913219, 712.4410705217986, 264.0737442880086, 255.4397791072659, 264.4620576597975, 2727.0318327065934, 412.7169109437054, 353.537200138158, 360.4391676038635, 671.671661364657, 571.9348356025363, 467.6962841856353, 1464.2924623012786, 443.9645186544453, 4306.269239058604, 538.6695000563479, 643.6421686427562, 1922.7932262656914, 3079.2278910937403, 870.4771755390949, 754.9308438301648, 876.5997250314181, 764.4200582602292, 735.712709836593, 736.5094799732601, 654.1503051152202, 2423.8601206198123, 2197.2472803312953, 1358.938520730409, 992.294611903819, 860.8997824694667, 779.9749731140416, 881.1915322907946, 852.3740877237836, 786.9126501333533, 598.3442832282236, 661.6310228382197, 556.6820961323309, 545.7775745413409, 434.3776415036057, 418.5835978280617, 453.47133498314787, 410.1482288284577, 369.19286075522984, 402.4057410494586, 382.5675598533024, 392.74687616088664, 362.4499009295472, 335.4441804736959, 346.45191450116425, 319.61678862398196, 363.1254420394828, 352.07677587796127, 449.07235534436705, 304.79944833064854, 358.76189152207354, 333.7586001390594, 613.0749528178342, 376.0163289935953, 928.2501210277186, 1448.3923872498149, 1128.651853175427, 667.184162939696, 580.1884588065626, 451.02012622050955, 769.5379962932335, 773.366830416774, 860.3043530006836, 1280.7205628401127, 1475.606901934005, 519.1536097487158, 572.4636958854502, 515.0855952410554, 483.6189617052824, 553.8416658607482, 454.5063153134069, 1626.1113340428851, 767.2666789744237, 772.4828763612079, 677.9625739740138, 614.3340676011895, 553.4724718927313, 694.531502645154, 534.5950835714253, 448.2601453431146, 481.4762441969706, 455.92544189983784, 386.34964943974967, 429.10206364855145, 395.33593142593355, 733.4310097705187, 355.55499295914177, 1597.9249807236329, 284.5147833204525, 269.28555368460894, 244.65679148470278, 238.45931323920416, 232.38966805280714, 230.9657365317527, 230.90438913877736, 206.37433372889728, 222.7027366121543, 259.68360048620553, 200.6229699477767, 199.80900033401073, 188.44834992974734, 704.8876691506421, 402.8031496012942, 351.1496047395341, 1113.021643109111, 6955.926183030666, 977.9838074443599, 273.4380597134665, 801.5218800884311, 365.94073712383283, 379.6561567795542, 344.4842251720705, 4861.695644010145, 380.5249578606108, 2142.051688803241, 470.0098893814384, 417.82921949455715, 614.8271317793863, 1248.1239575970192, 717.9213886031645, 466.59747765547843, 578.3430372330813, 611.1317627393912, 518.3397301532144, 425.8807431911464], \"Total\": [7511.0, 7941.0, 3042.0, 2424.0, 2198.0, 2783.0, 5792.0, 1626.0, 1601.0, 1945.0, 1816.0, 1359.0, 1532.0, 1367.0, 1137.0, 3171.0, 993.0, 1020.0, 2059.0, 1663.0, 881.0, 861.0, 853.0, 773.0, 767.0, 955.0, 3973.0, 734.0, 787.0, 780.0, 3042.952176272104, 1816.449901301291, 1532.9872322243866, 1367.7879425384458, 955.3154977994019, 847.5458405355475, 874.3170823379369, 795.4480511084356, 701.0103146426959, 668.7005719994229, 1945.565190186575, 635.5225018846377, 587.2709955859708, 588.4805319273225, 595.4267042154739, 556.7655739705665, 552.8818929937877, 491.129420423834, 582.4798099013921, 546.7752105126854, 389.9602187189457, 375.3784700211147, 394.0277629535133, 369.784222295176, 306.76315756857394, 324.9426935787672, 714.1688281341299, 264.7845195739344, 256.1369423531099, 265.1883980277058, 2783.5692927113664, 414.35145811691694, 354.6763282595625, 361.7392751087533, 679.9668269270295, 593.0087633478802, 478.6495342168072, 1663.7010504031323, 453.25637190208573, 5792.928329969928, 565.1066402839454, 734.7195857288799, 3171.287376505507, 7941.2895836202815, 1248.7929492847948, 1040.6648265295855, 1395.371532218202, 1109.511146101287, 1284.3514910888302, 1816.7712542137765, 1073.4347208499178, 2424.5217734307726, 2198.0253090012593, 1359.62578941877, 993.0008820824845, 861.5519991283599, 780.6253326563345, 881.9263419680016, 853.1056547665576, 787.638695068149, 599.0205566713939, 662.4057880087845, 557.3777666426239, 546.4765252747533, 435.0355571764122, 419.2180876026222, 454.16637277665495, 410.7797830277761, 369.8618519629092, 403.16166079161127, 383.29431841830626, 393.4942473390625, 363.1580884631177, 336.12135030787204, 347.15253010913295, 320.27782126144325, 363.89683782306423, 352.8517030763818, 450.0623083065024, 305.47422258774225, 359.57212016856226, 334.71880605231894, 619.8125322907105, 377.5538082931386, 1025.4791611235048, 2059.940867478489, 1569.6706145517298, 894.1246848937562, 730.7014757599366, 507.02601483807615, 1187.581239379309, 1266.9035303361036, 1816.7712542137765, 3973.5082308724805, 5792.928329969928, 841.8481228752314, 1343.5062854917057, 1038.4251401665783, 903.7748794158513, 7511.333761704996, 1111.7210401622674, 1626.8220523023463, 767.9748368017763, 773.2253899973374, 678.6559625528952, 615.1179014543488, 554.2155136576247, 695.4681837241728, 535.4129604373775, 448.99152766252735, 482.27396986511957, 456.7051261010388, 387.07020734049115, 429.9258971174437, 396.1050159807967, 734.9015817386124, 356.30663717626777, 1601.6031169451844, 285.2622152524877, 270.0015208069658, 245.38306067788787, 239.1774416673834, 233.13921157716126, 231.711101342995, 231.6633141507272, 207.08414804876827, 223.47730787469678, 260.59953079877033, 201.3574156783641, 200.57250989442966, 189.17958410616077, 709.2410652228182, 404.73737078472993, 352.92084389882285, 1137.3709181035886, 7511.333761704996, 1020.2749818809856, 276.1819671046128, 867.7069895833224, 376.90393164023976, 394.98922276180144, 357.9148022111801, 7941.2895836202815, 416.27399597759927, 3973.5082308724805, 565.4154957252375, 478.8832610975757, 921.5856526356686, 3171.287376505507, 1271.9534886092324, 595.5539491703097, 1121.3235409114052, 2059.940867478489, 1395.371532218202, 702.3355132853093], \"Category\": [\"Default\", \"Default\", \"Default\", \"Default\", \"Default\", \"Default\", \"Default\", \"Default\", \"Default\", \"Default\", \"Default\", \"Default\", \"Default\", \"Default\", \"Default\", \"Default\", \"Default\", \"Default\", \"Default\", \"Default\", \"Default\", \"Default\", \"Default\", \"Default\", \"Default\", \"Default\", \"Default\", \"Default\", \"Default\", \"Default\", \"Topic1\", \"Topic1\", \"Topic1\", \"Topic1\", \"Topic1\", \"Topic1\", \"Topic1\", \"Topic1\", \"Topic1\", \"Topic1\", \"Topic1\", \"Topic1\", \"Topic1\", \"Topic1\", \"Topic1\", \"Topic1\", \"Topic1\", \"Topic1\", \"Topic1\", \"Topic1\", \"Topic1\", \"Topic1\", \"Topic1\", \"Topic1\", \"Topic1\", \"Topic1\", \"Topic1\", \"Topic1\", \"Topic1\", \"Topic1\", \"Topic1\", \"Topic1\", \"Topic1\", \"Topic1\", \"Topic1\", \"Topic1\", \"Topic1\", \"Topic1\", \"Topic1\", \"Topic1\", \"Topic1\", \"Topic1\", \"Topic1\", \"Topic1\", \"Topic1\", \"Topic1\", \"Topic1\", \"Topic1\", \"Topic1\", \"Topic1\", \"Topic1\", \"Topic2\", \"Topic2\", \"Topic2\", \"Topic2\", \"Topic2\", \"Topic2\", \"Topic2\", \"Topic2\", \"Topic2\", \"Topic2\", \"Topic2\", \"Topic2\", \"Topic2\", \"Topic2\", \"Topic2\", \"Topic2\", \"Topic2\", \"Topic2\", \"Topic2\", \"Topic2\", \"Topic2\", \"Topic2\", \"Topic2\", \"Topic2\", \"Topic2\", \"Topic2\", \"Topic2\", \"Topic2\", \"Topic2\", \"Topic2\", \"Topic2\", \"Topic2\", \"Topic2\", \"Topic2\", \"Topic2\", \"Topic2\", \"Topic2\", \"Topic2\", \"Topic2\", \"Topic2\", \"Topic2\", \"Topic2\", \"Topic2\", \"Topic2\", \"Topic2\", \"Topic2\", \"Topic2\", \"Topic2\", \"Topic2\", \"Topic2\", \"Topic3\", \"Topic3\", \"Topic3\", \"Topic3\", \"Topic3\", \"Topic3\", \"Topic3\", \"Topic3\", \"Topic3\", \"Topic3\", \"Topic3\", \"Topic3\", \"Topic3\", \"Topic3\", \"Topic3\", \"Topic3\", \"Topic3\", \"Topic3\", \"Topic3\", \"Topic3\", \"Topic3\", \"Topic3\", \"Topic3\", \"Topic3\", \"Topic3\", \"Topic3\", \"Topic3\", \"Topic3\", \"Topic3\", \"Topic3\", \"Topic3\", \"Topic3\", \"Topic3\", \"Topic3\", \"Topic3\", \"Topic3\", \"Topic3\", \"Topic3\", \"Topic3\", \"Topic3\", \"Topic3\", \"Topic3\", \"Topic3\", \"Topic3\", \"Topic3\", \"Topic3\", \"Topic3\", \"Topic3\", \"Topic3\", \"Topic3\", \"Topic3\", \"Topic3\", \"Topic3\", \"Topic3\"], \"logprob\": [30.0, 29.0, 28.0, 27.0, 26.0, 25.0, 24.0, 23.0, 22.0, 21.0, 20.0, 19.0, 18.0, 17.0, 16.0, 15.0, 14.0, 13.0, 12.0, 11.0, 10.0, 9.0, 8.0, 7.0, 6.0, 5.0, 4.0, 3.0, 2.0, 1.0, -3.8633, -4.3794, -4.5492, -4.6633, -5.0224, -5.1421, -5.1111, -5.2057, -5.3322, -5.3794, -4.3114, -5.4303, -5.5093, -5.5073, -5.4956, -5.5628, -5.5698, -5.6883, -5.5178, -5.5811, -5.9196, -5.9578, -5.9093, -5.9729, -6.1598, -6.1022, -5.3149, -6.3074, -6.3406, -6.3059, -3.9726, -5.8609, -6.0156, -5.9963, -5.3738, -5.5346, -5.7358, -4.5945, -5.7879, -3.5158, -5.5945, -5.4165, -4.3221, -3.8512, -5.1146, -5.257, -5.1076, -5.2445, -5.2828, -5.2817, -5.4003, -3.9572, -4.0554, -4.5359, -4.8503, -4.9924, -5.0911, -4.9691, -5.0023, -5.0822, -5.3562, -5.2556, -5.4284, -5.4481, -5.6764, -5.7135, -5.6334, -5.7338, -5.839, -5.7529, -5.8034, -5.7772, -5.8575, -5.9349, -5.9026, -5.9832, -5.8556, -5.8865, -5.6432, -6.0307, -5.8677, -5.9399, -5.3319, -5.8207, -4.9171, -4.4721, -4.7216, -5.2473, -5.387, -5.6388, -5.1046, -5.0996, -4.9931, -4.5952, -4.4535, -5.4982, -5.4004, -5.506, -5.5691, -5.4335, -5.6311, -4.2524, -5.0035, -4.9968, -5.1273, -5.2258, -5.3302, -5.1031, -5.3649, -5.541, -5.4695, -5.524, -5.6896, -5.5847, -5.6666, -5.0486, -5.7727, -4.2699, -5.9956, -6.0506, -6.1465, -6.1722, -6.1979, -6.2041, -6.2044, -6.3167, -6.2405, -6.0869, -6.3449, -6.349, -6.4075, -5.0883, -5.6479, -5.7852, -4.6315, -2.799, -4.7609, -6.0353, -4.9599, -5.7439, -5.7071, -5.8043, -3.1572, -5.7048, -3.9768, -5.4936, -5.6113, -5.225, -4.517, -5.07, -5.5009, -5.2862, -5.2311, -5.3957, -5.5922], \"loglift\": [30.0, 29.0, 28.0, 27.0, 26.0, 25.0, 24.0, 23.0, 22.0, 21.0, 20.0, 19.0, 18.0, 17.0, 16.0, 15.0, 14.0, 13.0, 12.0, 11.0, 10.0, 9.0, 8.0, 7.0, 6.0, 5.0, 4.0, 3.0, 2.0, 1.0, 0.9796, 0.9794, 0.9793, 0.9792, 0.979, 0.979, 0.9789, 0.9788, 0.9788, 0.9787, 0.9787, 0.9787, 0.9787, 0.9786, 0.9786, 0.9785, 0.9785, 0.9784, 0.9784, 0.9783, 0.9778, 0.9777, 0.9777, 0.9776, 0.9776, 0.9776, 0.9774, 0.9771, 0.9771, 0.9771, 0.9593, 0.9759, 0.9766, 0.9762, 0.9676, 0.9437, 0.9567, 0.8522, 0.9591, 0.6833, 0.9319, 0.8475, 0.4795, 0.0324, 0.6189, 0.6588, 0.515, 0.6073, 0.4227, 0.0769, 0.4846, 1.1128, 1.1127, 1.1126, 1.1124, 1.1123, 1.1123, 1.1123, 1.1122, 1.1122, 1.112, 1.1119, 1.1119, 1.1118, 1.1116, 1.1116, 1.1116, 1.1116, 1.1113, 1.1112, 1.1112, 1.1112, 1.1112, 1.1111, 1.1111, 1.111, 1.111, 1.1109, 1.1109, 1.1109, 1.1108, 1.1102, 1.1022, 1.109, 1.0135, 0.7609, 0.7833, 0.8203, 0.8825, 0.9961, 0.6792, 0.6195, 0.3656, -0.0191, -0.2545, 0.6297, 0.26, 0.412, 0.4878, -1.4942, 0.2187, 1.2167, 1.2162, 1.2161, 1.2161, 1.2158, 1.2157, 1.2157, 1.2156, 1.2155, 1.2154, 1.2154, 1.2152, 1.2152, 1.2151, 1.2151, 1.215, 1.2148, 1.2145, 1.2144, 1.2141, 1.2141, 1.2139, 1.2139, 1.2138, 1.2137, 1.2136, 1.2136, 1.2134, 1.2133, 1.2132, 1.2109, 1.2123, 1.2121, 1.1955, 1.1403, 1.1748, 1.2071, 1.1377, 1.1876, 1.1775, 1.1788, 0.7264, 1.1273, 0.5992, 1.0323, 1.0807, 0.8123, 0.2846, 0.6451, 0.9731, 0.555, 0.002, 0.2268, 0.7168]}, \"token.table\": {\"Topic\": [3, 3, 2, 1, 3, 3, 2, 1, 3, 2, 1, 2, 3, 2, 3, 1, 3, 2, 2, 1, 3, 1, 2, 1, 3, 3, 1, 2, 2, 2, 1, 2, 3, 1, 2, 1, 2, 3, 1, 1, 2, 3, 2, 3, 2, 3, 1, 3, 1, 2, 1, 2, 2, 3, 2, 1, 1, 2, 1, 2, 1, 2, 3, 1, 3, 1, 3, 3, 1, 2, 3, 2, 3, 1, 2, 2, 3, 1, 1, 3, 3, 1, 1, 2, 3, 1, 3, 2, 2, 1, 2, 3, 1, 2, 3, 1, 2, 3, 3, 3, 2, 1, 2, 3, 2, 1, 1, 2, 3, 3, 1, 2, 1, 2, 3, 3, 1, 3, 2, 2, 1, 2, 3, 1, 2, 1, 2, 2, 2, 2, 2, 1, 2, 3, 1, 2, 3, 1, 1, 3, 3, 1, 2, 3, 3, 1, 2, 1, 2, 3, 1, 1, 2, 1, 2, 1, 1, 2, 3, 1, 3, 2, 3, 1, 2, 3, 1, 2, 1, 2, 3, 1, 1, 3, 1, 3, 1, 1, 1, 2, 3, 2, 3, 3, 3, 3, 1, 2, 1, 1, 2, 3, 2, 1, 2, 1, 2, 3, 2, 3, 1, 2, 2, 3, 1, 2, 3, 1, 3, 3, 1, 2, 3, 1, 2, 3, 2, 1, 2, 1, 2, 3, 1, 2, 1, 3, 3, 1, 2, 1, 2, 1, 1], \"Freq\": [0.9972102954110275, 0.9962906845710627, 0.9966638527816072, 0.4842491753616916, 0.5154622897956864, 0.9994946882474436, 0.9992321346699821, 0.0056398313579647886, 0.994020276841294, 0.9982962910704352, 0.8799657845051293, 0.0006010695249351976, 0.11901176593716913, 0.0018731232277582263, 0.997750305985882, 0.688591550147667, 0.3109477549750591, 0.9994797753029471, 0.9974318380959734, 0.029185155888741588, 0.9710697322981292, 0.9991778388914819, 0.9976698003367062, 0.9995385510471185, 0.9937647388763745, 0.9971456213280125, 0.9777508731221632, 0.022981323940905546, 0.9971186228637655, 0.998743952821662, 0.999176263463152, 0.33203641910533443, 0.6673280972215054, 0.7254977594638016, 0.2738633926452761, 0.037975719679434805, 0.0025317146452956533, 0.9620515652123484, 0.9992833639934975, 0.9951919096751924, 0.002764421971319979, 0.002764421971319979, 0.7029327991208081, 0.2966104559826062, 0.9966800469270074, 0.9973584104788491, 0.1273796871918036, 0.8728640860028508, 0.6092592193050917, 0.39033579952421016, 0.0029875823584399764, 0.9978525077189521, 0.9995397340770967, 0.9984152227627424, 0.9987039650242852, 0.9996373371350712, 0.20528219112189222, 0.7937578056713166, 0.979677426080432, 0.020118054954346973, 0.027394282342655715, 0.7192591805781001, 0.2535563807529529, 0.999752318354077, 0.9984560582731826, 0.04116537281211045, 0.9585651097677146, 0.9992287066845746, 0.02652916326737748, 0.1432574816438384, 0.831247115711161, 0.0014378802990599588, 0.9993268078466714, 0.9985822134987457, 0.9993874026825696, 0.997586229373541, 0.9978641774449672, 0.9977003608888685, 0.9994367311506877, 0.998224968883515, 0.9947646980274272, 0.9978792434941964, 0.138668392761581, 0.3223851381625867, 0.5390702310259646, 0.007241602415129572, 0.9884787296651866, 0.9995335317582283, 0.9989496379414924, 0.3553049602644433, 0.409275333975498, 0.236570138100123, 0.7433200886886085, 0.2547934163735221, 0.0018988669241929155, 0.8765248844715615, 0.008166380911225728, 0.11569039624236449, 0.9978067852168144, 0.9950771207385819, 0.9991891014596563, 0.9538022765564607, 0.0017695775075259011, 0.044239437688147525, 0.9989920632493443, 0.9986249617319066, 0.00026626429652168996, 0.07375521013650813, 0.9260672233024377, 0.9977916561862775, 0.6966727354588798, 0.302692291957996, 0.998952338268041, 0.07606254276192193, 0.9242751408342633, 0.9991394008859956, 0.99968708799319, 0.9972351079463222, 0.999359296793556, 0.9976196033649904, 0.2628981035226159, 0.49594330884302995, 0.24074917905001453, 0.9993560075363745, 0.9997847932584106, 0.9984049161222981, 0.99681106245487, 0.9981017005704894, 0.9984475855811171, 0.9991325616605327, 0.9991989336879362, 0.2538795805944818, 0.7459809702930368, 0.9971367320149119, 0.9882835064718761, 0.011765279838950905, 0.9987306396576273, 0.9955186650828457, 0.6285064441624703, 0.37122729541181254, 0.9981826224668381, 0.998991764175784, 0.004941475990028486, 0.9957074119907401, 0.9976994171979793, 0.4647174972062336, 0.5355315920186121, 0.9986815192831812, 0.0005139894592296352, 0.0005139894592296352, 0.9970988928281943, 0.0945899279842291, 0.9049428161790166, 0.0022219145694799616, 0.9976396416965027, 0.9973916483807905, 0.09072512781161843, 0.8895007096313025, 0.019722853872090964, 0.9967383773112352, 0.0024134101145550486, 0.002833496568104901, 0.9945572954048202, 0.010690764468609348, 0.6165007510231391, 0.3729888936825928, 0.9994239293139378, 0.0007311074830387255, 0.9795780655807629, 0.006618770713383533, 0.013237541426767066, 0.9955611933887206, 0.3877204032895049, 0.6122431311443887, 0.02110129564418329, 0.978572585499, 0.9985587734993445, 0.9993559752057746, 0.010074654039921728, 0.20653040781839543, 0.7841439061072412, 0.9958845381532154, 0.00264862909083302, 0.9951135994264774, 0.9990807922028664, 0.9984389277856848, 0.009680346374774208, 0.9890087212894314, 0.999669744916597, 0.5730518515426364, 0.20321539844107078, 0.22423768103842293, 0.9984088861831277, 0.9645725920991901, 0.035412630129515725, 0.4056647188195099, 0.4733672431272436, 0.12109394591627161, 0.08407923708470956, 0.9152625522649811, 0.9980931113647157, 0.002819472066002022, 0.036321493047190664, 0.9611225852487376, 0.29177384894521213, 0.4257516367261769, 0.2820976753832536, 0.6063783478742898, 0.3935310338778542, 0.9990334387538162, 0.4135371337949897, 0.022799575817594488, 0.5644860495528566, 0.0013607264222159166, 0.0013607264222159166, 0.9974124674842668, 0.999322243072415, 0.35197592058499366, 0.648376695814462, 0.9969631436591874, 0.0014002291343527913, 0.9978463797513674, 0.3891377584757455, 0.6101490614639985, 0.3929745752268129, 0.6065477139370372, 0.9969310864310192, 0.9975122254751099, 0.9991280041269592, 0.9975376495528182, 0.9975354613455029, 0.9970371395759965, 0.9991834361525117], \"Term\": [\"10\", \"absolutely\", \"ain\", \"album\", \"album\", \"amazing\", \"ass\", \"awesome\", \"awesome\", \"baby\", \"beautiful\", \"beautiful\", \"beautiful\", \"best\", \"best\", \"better\", \"better\", \"blm\", \"cause\", \"check\", \"check\", \"chester\", \"chorus\", \"com\", \"comeback\", \"comments\", \"cool\", \"cool\", \"crying\", \"cute\", \"damn\", \"day\", \"day\", \"did\", \"did\", \"different\", \"different\", \"different\", \"does\", \"doesn\", \"doesn\", \"doesn\", \"don\", \"don\", \"eyes\", \"fan\", \"favorite\", \"favorite\", \"feel\", \"feel\", \"finally\", \"finally\", \"fuck\", \"fucking\", \"girl\", \"god\", \"gonna\", \"gonna\", \"good\", \"good\", \"got\", \"got\", \"got\", \"great\", \"guy\", \"guys\", \"guys\", \"happy\", \"hard\", \"hard\", \"hard\", \"hear\", \"hear\", \"heard\", \"heart\", \"hey\", \"holy\", \"https\", \"im\", \"imagine\", \"incredible\", \"job\", \"just\", \"just\", \"just\", \"kind\", \"kind\", \"know\", \"let\", \"life\", \"life\", \"life\", \"like\", \"like\", \"like\", \"listen\", \"listen\", \"listen\", \"listening\", \"lit\", \"little\", \"live\", \"live\", \"live\", \"ll\", \"looks\", \"love\", \"love\", \"love\", \"loved\", \"make\", \"make\", \"makes\", \"man\", \"man\", \"million\", \"music\", \"mv\", \"nand\", \"nbut\", \"need\", \"need\", \"need\", \"new\", \"ni\", \"nice\", \"nigga\", \"niggerfaggot\", \"nit\", \"nwe\", \"nyou\", \"oh\", \"oh\", \"ok\", \"old\", \"old\", \"omg\", \"original\", \"people\", \"people\", \"perfect\", \"pretty\", \"proud\", \"proud\", \"rap\", \"real\", \"real\", \"really\", \"really\", \"really\", \"reminds\", \"right\", \"right\", \"rip\", \"rip\", \"sad\", \"said\", \"said\", \"said\", \"sam\", \"sam\", \"saw\", \"saw\", \"say\", \"say\", \"say\", \"shit\", \"shit\", \"sing\", \"sing\", \"sing\", \"smith\", \"song\", \"song\", \"songs\", \"songs\", \"sound\", \"sounds\", \"stop\", \"stop\", \"stop\", \"takes\", \"takes\", \"talent\", \"talented\", \"taylor\", \"tell\", \"tell\", \"thank\", \"think\", \"think\", \"think\", \"tho\", \"thought\", \"thought\", \"time\", \"time\", \"time\", \"times\", \"times\", \"track\", \"track\", \"twice\", \"twice\", \"ve\", \"ve\", \"ve\", \"video\", \"video\", \"views\", \"voice\", \"voice\", \"voice\", \"wait\", \"wait\", \"wait\", \"wanna\", \"want\", \"want\", \"watch\", \"watch\", \"watching\", \"way\", \"way\", \"wow\", \"wow\", \"wtf\", \"www\", \"yeah\", \"year\", \"yes\", \"youtu\", \"youtube\"]}, \"R\": 30, \"lambda.step\": 0.01, \"plot.opts\": {\"xlab\": \"PC1\", \"ylab\": \"PC2\"}, \"topic.order\": [1, 2, 3]};\n\nfunction LDAvis_load_lib(url, callback){\n  var s = document.createElement('script');\n  s.src = url;\n  s.async = true;\n  s.onreadystatechange = s.onload = callback;\n  s.onerror = function(){console.warn(\"failed to load library \" + url);};\n  document.getElementsByTagName(\"head\")[0].appendChild(s);\n}\n\nif(typeof(LDAvis) !== \"undefined\"){\n   // already loaded: just create the visualization\n   !function(LDAvis){\n       new LDAvis(\"#\" + \"ldavis_el2745153123749285428027926\", ldavis_el2745153123749285428027926_data);\n   }(LDAvis);\n}else if(typeof define === \"function\" && define.amd){\n   // require.js is available: use it to load d3/LDAvis\n   require.config({paths: {d3: \"https://d3js.org/d3.v5\"}});\n   require([\"d3\"], function(d3){\n      window.d3 = d3;\n      LDAvis_load_lib(\"https://cdn.jsdelivr.net/gh/bmabey/pyLDAvis@3.3.1/pyLDAvis/js/ldavis.v3.0.0.js\", function(){\n        new LDAvis(\"#\" + \"ldavis_el2745153123749285428027926\", ldavis_el2745153123749285428027926_data);\n      });\n    });\n}else{\n    // require.js not available: dynamically load d3 & LDAvis\n    LDAvis_load_lib(\"https://d3js.org/d3.v5.js\", function(){\n         LDAvis_load_lib(\"https://cdn.jsdelivr.net/gh/bmabey/pyLDAvis@3.3.1/pyLDAvis/js/ldavis.v3.0.0.js\", function(){\n                 new LDAvis(\"#\" + \"ldavis_el2745153123749285428027926\", ldavis_el2745153123749285428027926_data);\n            })\n         });\n}\n</script>"
     },
     "metadata": {},
     "execution_count": 113
    }
   ],
   "source": [
    "# Bag of words\n",
    "vect = CountVectorizer(max_df=0.8, min_df=2, stop_words='english')\n",
    "LDA = LatentDirichletAllocation(n_components=3,random_state=1, learning_method=\"online\")\n",
    "\n",
    "dtm = vect.fit_transform(comments_category_filtered['comment_text'])\n",
    "\n",
    "LDA.fit(dtm)\n",
    "\n",
    "for index,topic in enumerate(LDA.components_):\n",
    "    print(f'topic #{index} : ')\n",
    "    print([vect.get_feature_names()[i] for i in topic.argsort()[-20:]])\n",
    "\n",
    "pyLDAvis.enable_notebook()\n",
    "vis = pyLDAvis.sklearn.prepare(LDA, dtm, cv)\n",
    "pyLDAvis.display(vis)"
   ]
  },
  {
   "cell_type": "code",
   "execution_count": 114,
   "metadata": {
    "tags": []
   },
   "outputs": [
    {
     "output_type": "stream",
     "name": "stderr",
     "text": "/Users/stefanoperenzoni/Library/Python/3.9/lib/python/site-packages/ipykernel/ipkernel.py:283: DeprecationWarning: `should_run_async` will not call `transform_cell` automatically in the future. Please pass the result to `transformed_cell` argument and any exception that happen during thetransform in `preprocessing_exc_tuple` in IPython 7.17 and above.\n  and should_run_async(code)\ntopic #0 : \n['think', 'time', 'did', 'better', 'im', 'sounds', 'make', 'god', 'people', 'thank', 'shit', 'beautiful', 'new', 'great', 'video', 'really', 'good', 'music', 'song', 'like']\ntopic #1 : \n['tell', 'heart', 'oh', 'want', 'way', 'nyou', 'little', 'girl', 'time', 'nand', 'let', 'right', 'll', 'got', 'just', 'fuck', 'don', 'like', 'know', 'ni']\ntopic #2 : \n['album', 'don', 'perfect', 'day', 'views', 'hear', 'awesome', 'voice', 'wait', 'omg', 'fucking', 'man', 'guys', 'songs', 'video', 'best', 'amazing', 'just', 'song', 'love']\n"
    },
    {
     "output_type": "execute_result",
     "data": {
      "text/plain": "<IPython.core.display.HTML object>",
      "text/html": "\n<link rel=\"stylesheet\" type=\"text/css\" href=\"https://cdn.jsdelivr.net/gh/bmabey/pyLDAvis@3.3.1/pyLDAvis/js/ldavis.v1.0.0.css\">\n\n\n<div id=\"ldavis_el2745153227584001769966983\"></div>\n<script type=\"text/javascript\">\n\nvar ldavis_el2745153227584001769966983_data = {\"mdsDat\": {\"x\": [-0.029431850075210614, -0.23959966887118486, 0.26903151894639543], \"y\": [-0.2785887531785686, 0.16347510698660792, 0.11511364619196082], \"topics\": [1, 2, 3], \"cluster\": [1, 1, 1], \"Freq\": [37.53721642302125, 32.85377699869673, 29.609006578282028]}, \"tinfo\": {\"Term\": [\"love\", \"song\", \"music\", \"ni\", \"know\", \"good\", \"like\", \"amazing\", \"best\", \"really\", \"great\", \"fuck\", \"new\", \"shit\", \"songs\", \"video\", \"ll\", \"guys\", \"don\", \"beautiful\", \"let\", \"nand\", \"girl\", \"fucking\", \"omg\", \"thank\", \"just\", \"wait\", \"little\", \"nyou\", \"music\", \"great\", \"new\", \"shit\", \"thank\", \"sounds\", \"god\", \"im\", \"sound\", \"makes\", \"really\", \"chester\", \"com\", \"youtube\", \"does\", \"looks\", \"nice\", \"https\", \"damn\", \"heard\", \"year\", \"pretty\", \"sad\", \"job\", \"www\", \"reminds\", \"watch\", \"youtu\", \"smith\", \"original\", \"good\", \"sam\", \"track\", \"doesn\", \"old\", \"thought\", \"cool\", \"beautiful\", \"sing\", \"like\", \"live\", \"listen\", \"video\", \"song\", \"make\", \"did\", \"people\", \"better\", \"think\", \"time\", \"feel\", \"ni\", \"know\", \"fuck\", \"ll\", \"nand\", \"nyou\", \"let\", \"girl\", \"little\", \"baby\", \"heart\", \"wanna\", \"yeah\", \"nbut\", \"blm\", \"cause\", \"niggerfaggot\", \"chorus\", \"crying\", \"ass\", \"cute\", \"nigga\", \"ain\", \"eyes\", \"nwe\", \"yes\", \"hey\", \"rip\", \"nit\", \"tho\", \"finally\", \"tell\", \"takes\", \"right\", \"don\", \"got\", \"oh\", \"gonna\", \"said\", \"want\", \"way\", \"time\", \"just\", \"like\", \"say\", \"ve\", \"need\", \"real\", \"love\", \"life\", \"amazing\", \"omg\", \"fucking\", \"views\", \"perfect\", \"listening\", \"hear\", \"happy\", \"loved\", \"fan\", \"guy\", \"mv\", \"watching\", \"10\", \"wait\", \"million\", \"best\", \"talented\", \"absolutely\", \"taylor\", \"lit\", \"talent\", \"wtf\", \"ok\", \"incredible\", \"holy\", \"rap\", \"imagine\", \"comments\", \"comeback\", \"awesome\", \"proud\", \"saw\", \"songs\", \"love\", \"guys\", \"kind\", \"man\", \"check\", \"different\", \"twice\", \"song\", \"times\", \"just\", \"hard\", \"favorite\", \"day\", \"video\", \"voice\", \"stop\", \"album\", \"don\", \"people\", \"wow\"], \"Freq\": [7511.0, 7941.0, 3042.0, 2424.0, 2198.0, 2783.0, 5792.0, 1626.0, 1601.0, 1945.0, 1816.0, 1359.0, 1532.0, 1367.0, 1137.0, 3171.0, 993.0, 1020.0, 2059.0, 1663.0, 881.0, 861.0, 853.0, 773.0, 767.0, 955.0, 3973.0, 734.0, 787.0, 780.0, 3042.210440509567, 1815.7117503801676, 1532.1236383363498, 1366.9131552098204, 954.5617634653935, 846.8433377526266, 873.5171126966272, 794.6552065043958, 700.2584224395019, 667.9509452833596, 1943.369665192829, 634.7987872287806, 586.5771627662768, 587.761067381109, 594.6827980660174, 556.0134501033101, 552.1296151442708, 490.4376609953835, 581.6229074823855, 545.9254435393568, 389.18190628467903, 374.5813123952472, 393.18916516132674, 368.97000421858826, 306.0762897181182, 324.2126171913219, 712.4410705217986, 264.0737442880086, 255.4397791072659, 264.4620576597975, 2727.0318327065934, 412.7169109437054, 353.537200138158, 360.4391676038635, 671.671661364657, 571.9348356025363, 467.6962841856353, 1464.2924623012786, 443.9645186544453, 4306.269239058604, 538.6695000563479, 643.6421686427562, 1922.7932262656914, 3079.2278910937403, 870.4771755390949, 754.9308438301648, 876.5997250314181, 764.4200582602292, 735.712709836593, 736.5094799732601, 654.1503051152202, 2423.8601206198123, 2197.2472803312953, 1358.938520730409, 992.294611903819, 860.8997824694667, 779.9749731140416, 881.1915322907946, 852.3740877237836, 786.9126501333533, 598.3442832282236, 661.6310228382197, 556.6820961323309, 545.7775745413409, 434.3776415036057, 418.5835978280617, 453.47133498314787, 410.1482288284577, 369.19286075522984, 402.4057410494586, 382.5675598533024, 392.74687616088664, 362.4499009295472, 335.4441804736959, 346.45191450116425, 319.61678862398196, 363.1254420394828, 352.07677587796127, 449.07235534436705, 304.79944833064854, 358.76189152207354, 333.7586001390594, 613.0749528178342, 376.0163289935953, 928.2501210277186, 1448.3923872498149, 1128.651853175427, 667.184162939696, 580.1884588065626, 451.02012622050955, 769.5379962932335, 773.366830416774, 860.3043530006836, 1280.7205628401127, 1475.606901934005, 519.1536097487158, 572.4636958854502, 515.0855952410554, 483.6189617052824, 553.8416658607482, 454.5063153134069, 1626.1113340428851, 767.2666789744237, 772.4828763612079, 677.9625739740138, 614.3340676011895, 553.4724718927313, 694.531502645154, 534.5950835714253, 448.2601453431146, 481.4762441969706, 455.92544189983784, 386.34964943974967, 429.10206364855145, 395.33593142593355, 733.4310097705187, 355.55499295914177, 1597.9249807236329, 284.5147833204525, 269.28555368460894, 244.65679148470278, 238.45931323920416, 232.38966805280714, 230.9657365317527, 230.90438913877736, 206.37433372889728, 222.7027366121543, 259.68360048620553, 200.6229699477767, 199.80900033401073, 188.44834992974734, 704.8876691506421, 402.8031496012942, 351.1496047395341, 1113.021643109111, 6955.926183030666, 977.9838074443599, 273.4380597134665, 801.5218800884311, 365.94073712383283, 379.6561567795542, 344.4842251720705, 4861.695644010145, 380.5249578606108, 2142.051688803241, 470.0098893814384, 417.82921949455715, 614.8271317793863, 1248.1239575970192, 717.9213886031645, 466.59747765547843, 578.3430372330813, 611.1317627393912, 518.3397301532144, 425.8807431911464], \"Total\": [7511.0, 7941.0, 3042.0, 2424.0, 2198.0, 2783.0, 5792.0, 1626.0, 1601.0, 1945.0, 1816.0, 1359.0, 1532.0, 1367.0, 1137.0, 3171.0, 993.0, 1020.0, 2059.0, 1663.0, 881.0, 861.0, 853.0, 773.0, 767.0, 955.0, 3973.0, 734.0, 787.0, 780.0, 3042.952176272104, 1816.449901301291, 1532.9872322243866, 1367.7879425384458, 955.3154977994019, 847.5458405355475, 874.3170823379369, 795.4480511084356, 701.0103146426959, 668.7005719994229, 1945.565190186575, 635.5225018846377, 587.2709955859708, 588.4805319273225, 595.4267042154739, 556.7655739705665, 552.8818929937877, 491.129420423834, 582.4798099013921, 546.7752105126854, 389.9602187189457, 375.3784700211147, 394.0277629535133, 369.784222295176, 306.76315756857394, 324.9426935787672, 714.1688281341299, 264.7845195739344, 256.1369423531099, 265.1883980277058, 2783.5692927113664, 414.35145811691694, 354.6763282595625, 361.7392751087533, 679.9668269270295, 593.0087633478802, 478.6495342168072, 1663.7010504031323, 453.25637190208573, 5792.928329969928, 565.1066402839454, 734.7195857288799, 3171.287376505507, 7941.2895836202815, 1248.7929492847948, 1040.6648265295855, 1395.371532218202, 1109.511146101287, 1284.3514910888302, 1816.7712542137765, 1073.4347208499178, 2424.5217734307726, 2198.0253090012593, 1359.62578941877, 993.0008820824845, 861.5519991283599, 780.6253326563345, 881.9263419680016, 853.1056547665576, 787.638695068149, 599.0205566713939, 662.4057880087845, 557.3777666426239, 546.4765252747533, 435.0355571764122, 419.2180876026222, 454.16637277665495, 410.7797830277761, 369.8618519629092, 403.16166079161127, 383.29431841830626, 393.4942473390625, 363.1580884631177, 336.12135030787204, 347.15253010913295, 320.27782126144325, 363.89683782306423, 352.8517030763818, 450.0623083065024, 305.47422258774225, 359.57212016856226, 334.71880605231894, 619.8125322907105, 377.5538082931386, 1025.4791611235048, 2059.940867478489, 1569.6706145517298, 894.1246848937562, 730.7014757599366, 507.02601483807615, 1187.581239379309, 1266.9035303361036, 1816.7712542137765, 3973.5082308724805, 5792.928329969928, 841.8481228752314, 1343.5062854917057, 1038.4251401665783, 903.7748794158513, 7511.333761704996, 1111.7210401622674, 1626.8220523023463, 767.9748368017763, 773.2253899973374, 678.6559625528952, 615.1179014543488, 554.2155136576247, 695.4681837241728, 535.4129604373775, 448.99152766252735, 482.27396986511957, 456.7051261010388, 387.07020734049115, 429.9258971174437, 396.1050159807967, 734.9015817386124, 356.30663717626777, 1601.6031169451844, 285.2622152524877, 270.0015208069658, 245.38306067788787, 239.1774416673834, 233.13921157716126, 231.711101342995, 231.6633141507272, 207.08414804876827, 223.47730787469678, 260.59953079877033, 201.3574156783641, 200.57250989442966, 189.17958410616077, 709.2410652228182, 404.73737078472993, 352.92084389882285, 1137.3709181035886, 7511.333761704996, 1020.2749818809856, 276.1819671046128, 867.7069895833224, 376.90393164023976, 394.98922276180144, 357.9148022111801, 7941.2895836202815, 416.27399597759927, 3973.5082308724805, 565.4154957252375, 478.8832610975757, 921.5856526356686, 3171.287376505507, 1271.9534886092324, 595.5539491703097, 1121.3235409114052, 2059.940867478489, 1395.371532218202, 702.3355132853093], \"Category\": [\"Default\", \"Default\", \"Default\", \"Default\", \"Default\", \"Default\", \"Default\", \"Default\", \"Default\", \"Default\", \"Default\", \"Default\", \"Default\", \"Default\", \"Default\", \"Default\", \"Default\", \"Default\", \"Default\", \"Default\", \"Default\", \"Default\", \"Default\", \"Default\", \"Default\", \"Default\", \"Default\", \"Default\", \"Default\", \"Default\", \"Topic1\", \"Topic1\", \"Topic1\", \"Topic1\", \"Topic1\", \"Topic1\", \"Topic1\", \"Topic1\", \"Topic1\", \"Topic1\", \"Topic1\", \"Topic1\", \"Topic1\", \"Topic1\", \"Topic1\", \"Topic1\", \"Topic1\", \"Topic1\", \"Topic1\", \"Topic1\", \"Topic1\", \"Topic1\", \"Topic1\", \"Topic1\", \"Topic1\", \"Topic1\", \"Topic1\", \"Topic1\", \"Topic1\", \"Topic1\", \"Topic1\", \"Topic1\", \"Topic1\", \"Topic1\", \"Topic1\", \"Topic1\", \"Topic1\", \"Topic1\", \"Topic1\", \"Topic1\", \"Topic1\", \"Topic1\", \"Topic1\", \"Topic1\", \"Topic1\", \"Topic1\", \"Topic1\", \"Topic1\", \"Topic1\", \"Topic1\", \"Topic1\", \"Topic2\", \"Topic2\", \"Topic2\", \"Topic2\", \"Topic2\", \"Topic2\", \"Topic2\", \"Topic2\", \"Topic2\", \"Topic2\", \"Topic2\", \"Topic2\", \"Topic2\", \"Topic2\", \"Topic2\", \"Topic2\", \"Topic2\", \"Topic2\", \"Topic2\", \"Topic2\", \"Topic2\", \"Topic2\", \"Topic2\", \"Topic2\", \"Topic2\", \"Topic2\", \"Topic2\", \"Topic2\", \"Topic2\", \"Topic2\", \"Topic2\", \"Topic2\", \"Topic2\", \"Topic2\", \"Topic2\", \"Topic2\", \"Topic2\", \"Topic2\", \"Topic2\", \"Topic2\", \"Topic2\", \"Topic2\", \"Topic2\", \"Topic2\", \"Topic2\", \"Topic2\", \"Topic2\", \"Topic2\", \"Topic2\", \"Topic2\", \"Topic3\", \"Topic3\", \"Topic3\", \"Topic3\", \"Topic3\", \"Topic3\", \"Topic3\", \"Topic3\", \"Topic3\", \"Topic3\", \"Topic3\", \"Topic3\", \"Topic3\", \"Topic3\", \"Topic3\", \"Topic3\", \"Topic3\", \"Topic3\", \"Topic3\", \"Topic3\", \"Topic3\", \"Topic3\", \"Topic3\", \"Topic3\", \"Topic3\", \"Topic3\", \"Topic3\", \"Topic3\", \"Topic3\", \"Topic3\", \"Topic3\", \"Topic3\", \"Topic3\", \"Topic3\", \"Topic3\", \"Topic3\", \"Topic3\", \"Topic3\", \"Topic3\", \"Topic3\", \"Topic3\", \"Topic3\", \"Topic3\", \"Topic3\", \"Topic3\", \"Topic3\", \"Topic3\", \"Topic3\", \"Topic3\", \"Topic3\", \"Topic3\", \"Topic3\", \"Topic3\", \"Topic3\"], \"logprob\": [30.0, 29.0, 28.0, 27.0, 26.0, 25.0, 24.0, 23.0, 22.0, 21.0, 20.0, 19.0, 18.0, 17.0, 16.0, 15.0, 14.0, 13.0, 12.0, 11.0, 10.0, 9.0, 8.0, 7.0, 6.0, 5.0, 4.0, 3.0, 2.0, 1.0, -3.8633, -4.3794, -4.5492, -4.6633, -5.0224, -5.1421, -5.1111, -5.2057, -5.3322, -5.3794, -4.3114, -5.4303, -5.5093, -5.5073, -5.4956, -5.5628, -5.5698, -5.6883, -5.5178, -5.5811, -5.9196, -5.9578, -5.9093, -5.9729, -6.1598, -6.1022, -5.3149, -6.3074, -6.3406, -6.3059, -3.9726, -5.8609, -6.0156, -5.9963, -5.3738, -5.5346, -5.7358, -4.5945, -5.7879, -3.5158, -5.5945, -5.4165, -4.3221, -3.8512, -5.1146, -5.257, -5.1076, -5.2445, -5.2828, -5.2817, -5.4003, -3.9572, -4.0554, -4.5359, -4.8503, -4.9924, -5.0911, -4.9691, -5.0023, -5.0822, -5.3562, -5.2556, -5.4284, -5.4481, -5.6764, -5.7135, -5.6334, -5.7338, -5.839, -5.7529, -5.8034, -5.7772, -5.8575, -5.9349, -5.9026, -5.9832, -5.8556, -5.8865, -5.6432, -6.0307, -5.8677, -5.9399, -5.3319, -5.8207, -4.9171, -4.4721, -4.7216, -5.2473, -5.387, -5.6388, -5.1046, -5.0996, -4.9931, -4.5952, -4.4535, -5.4982, -5.4004, -5.506, -5.5691, -5.4335, -5.6311, -4.2524, -5.0035, -4.9968, -5.1273, -5.2258, -5.3302, -5.1031, -5.3649, -5.541, -5.4695, -5.524, -5.6896, -5.5847, -5.6666, -5.0486, -5.7727, -4.2699, -5.9956, -6.0506, -6.1465, -6.1722, -6.1979, -6.2041, -6.2044, -6.3167, -6.2405, -6.0869, -6.3449, -6.349, -6.4075, -5.0883, -5.6479, -5.7852, -4.6315, -2.799, -4.7609, -6.0353, -4.9599, -5.7439, -5.7071, -5.8043, -3.1572, -5.7048, -3.9768, -5.4936, -5.6113, -5.225, -4.517, -5.07, -5.5009, -5.2862, -5.2311, -5.3957, -5.5922], \"loglift\": [30.0, 29.0, 28.0, 27.0, 26.0, 25.0, 24.0, 23.0, 22.0, 21.0, 20.0, 19.0, 18.0, 17.0, 16.0, 15.0, 14.0, 13.0, 12.0, 11.0, 10.0, 9.0, 8.0, 7.0, 6.0, 5.0, 4.0, 3.0, 2.0, 1.0, 0.9796, 0.9794, 0.9793, 0.9792, 0.979, 0.979, 0.9789, 0.9788, 0.9788, 0.9787, 0.9787, 0.9787, 0.9787, 0.9786, 0.9786, 0.9785, 0.9785, 0.9784, 0.9784, 0.9783, 0.9778, 0.9777, 0.9777, 0.9776, 0.9776, 0.9776, 0.9774, 0.9771, 0.9771, 0.9771, 0.9593, 0.9759, 0.9766, 0.9762, 0.9676, 0.9437, 0.9567, 0.8522, 0.9591, 0.6833, 0.9319, 0.8475, 0.4795, 0.0324, 0.6189, 0.6588, 0.515, 0.6073, 0.4227, 0.0769, 0.4846, 1.1128, 1.1127, 1.1126, 1.1124, 1.1123, 1.1123, 1.1123, 1.1122, 1.1122, 1.112, 1.1119, 1.1119, 1.1118, 1.1116, 1.1116, 1.1116, 1.1116, 1.1113, 1.1112, 1.1112, 1.1112, 1.1112, 1.1111, 1.1111, 1.111, 1.111, 1.1109, 1.1109, 1.1109, 1.1108, 1.1102, 1.1022, 1.109, 1.0135, 0.7609, 0.7833, 0.8203, 0.8825, 0.9961, 0.6792, 0.6195, 0.3656, -0.0191, -0.2545, 0.6297, 0.26, 0.412, 0.4878, -1.4942, 0.2187, 1.2167, 1.2162, 1.2161, 1.2161, 1.2158, 1.2157, 1.2157, 1.2156, 1.2155, 1.2154, 1.2154, 1.2152, 1.2152, 1.2151, 1.2151, 1.215, 1.2148, 1.2145, 1.2144, 1.2141, 1.2141, 1.2139, 1.2139, 1.2138, 1.2137, 1.2136, 1.2136, 1.2134, 1.2133, 1.2132, 1.2109, 1.2123, 1.2121, 1.1955, 1.1403, 1.1748, 1.2071, 1.1377, 1.1876, 1.1775, 1.1788, 0.7264, 1.1273, 0.5992, 1.0323, 1.0807, 0.8123, 0.2846, 0.6451, 0.9731, 0.555, 0.002, 0.2268, 0.7168]}, \"token.table\": {\"Topic\": [3, 3, 2, 1, 3, 3, 2, 1, 3, 2, 1, 2, 3, 2, 3, 1, 3, 2, 2, 1, 3, 1, 2, 1, 3, 3, 1, 2, 2, 2, 1, 2, 3, 1, 2, 1, 2, 3, 1, 1, 2, 3, 2, 3, 2, 3, 1, 3, 1, 2, 1, 2, 2, 3, 2, 1, 1, 2, 1, 2, 1, 2, 3, 1, 3, 1, 3, 3, 1, 2, 3, 2, 3, 1, 2, 2, 3, 1, 1, 3, 3, 1, 1, 2, 3, 1, 3, 2, 2, 1, 2, 3, 1, 2, 3, 1, 2, 3, 3, 3, 2, 1, 2, 3, 2, 1, 1, 2, 3, 3, 1, 2, 1, 2, 3, 3, 1, 3, 2, 2, 1, 2, 3, 1, 2, 1, 2, 2, 2, 2, 2, 1, 2, 3, 1, 2, 3, 1, 1, 3, 3, 1, 2, 3, 3, 1, 2, 1, 2, 3, 1, 1, 2, 1, 2, 1, 1, 2, 3, 1, 3, 2, 3, 1, 2, 3, 1, 2, 1, 2, 3, 1, 1, 3, 1, 3, 1, 1, 1, 2, 3, 2, 3, 3, 3, 3, 1, 2, 1, 1, 2, 3, 2, 1, 2, 1, 2, 3, 2, 3, 1, 2, 2, 3, 1, 2, 3, 1, 3, 3, 1, 2, 3, 1, 2, 3, 2, 1, 2, 1, 2, 3, 1, 2, 1, 3, 3, 1, 2, 1, 2, 1, 1], \"Freq\": [0.9972102954110275, 0.9962906845710627, 0.9966638527816072, 0.4842491753616916, 0.5154622897956864, 0.9994946882474436, 0.9992321346699821, 0.0056398313579647886, 0.994020276841294, 0.9982962910704352, 0.8799657845051293, 0.0006010695249351976, 0.11901176593716913, 0.0018731232277582263, 0.997750305985882, 0.688591550147667, 0.3109477549750591, 0.9994797753029471, 0.9974318380959734, 0.029185155888741588, 0.9710697322981292, 0.9991778388914819, 0.9976698003367062, 0.9995385510471185, 0.9937647388763745, 0.9971456213280125, 0.9777508731221632, 0.022981323940905546, 0.9971186228637655, 0.998743952821662, 0.999176263463152, 0.33203641910533443, 0.6673280972215054, 0.7254977594638016, 0.2738633926452761, 0.037975719679434805, 0.0025317146452956533, 0.9620515652123484, 0.9992833639934975, 0.9951919096751924, 0.002764421971319979, 0.002764421971319979, 0.7029327991208081, 0.2966104559826062, 0.9966800469270074, 0.9973584104788491, 0.1273796871918036, 0.8728640860028508, 0.6092592193050917, 0.39033579952421016, 0.0029875823584399764, 0.9978525077189521, 0.9995397340770967, 0.9984152227627424, 0.9987039650242852, 0.9996373371350712, 0.20528219112189222, 0.7937578056713166, 0.979677426080432, 0.020118054954346973, 0.027394282342655715, 0.7192591805781001, 0.2535563807529529, 0.999752318354077, 0.9984560582731826, 0.04116537281211045, 0.9585651097677146, 0.9992287066845746, 0.02652916326737748, 0.1432574816438384, 0.831247115711161, 0.0014378802990599588, 0.9993268078466714, 0.9985822134987457, 0.9993874026825696, 0.997586229373541, 0.9978641774449672, 0.9977003608888685, 0.9994367311506877, 0.998224968883515, 0.9947646980274272, 0.9978792434941964, 0.138668392761581, 0.3223851381625867, 0.5390702310259646, 0.007241602415129572, 0.9884787296651866, 0.9995335317582283, 0.9989496379414924, 0.3553049602644433, 0.409275333975498, 0.236570138100123, 0.7433200886886085, 0.2547934163735221, 0.0018988669241929155, 0.8765248844715615, 0.008166380911225728, 0.11569039624236449, 0.9978067852168144, 0.9950771207385819, 0.9991891014596563, 0.9538022765564607, 0.0017695775075259011, 0.044239437688147525, 0.9989920632493443, 0.9986249617319066, 0.00026626429652168996, 0.07375521013650813, 0.9260672233024377, 0.9977916561862775, 0.6966727354588798, 0.302692291957996, 0.998952338268041, 0.07606254276192193, 0.9242751408342633, 0.9991394008859956, 0.99968708799319, 0.9972351079463222, 0.999359296793556, 0.9976196033649904, 0.2628981035226159, 0.49594330884302995, 0.24074917905001453, 0.9993560075363745, 0.9997847932584106, 0.9984049161222981, 0.99681106245487, 0.9981017005704894, 0.9984475855811171, 0.9991325616605327, 0.9991989336879362, 0.2538795805944818, 0.7459809702930368, 0.9971367320149119, 0.9882835064718761, 0.011765279838950905, 0.9987306396576273, 0.9955186650828457, 0.6285064441624703, 0.37122729541181254, 0.9981826224668381, 0.998991764175784, 0.004941475990028486, 0.9957074119907401, 0.9976994171979793, 0.4647174972062336, 0.5355315920186121, 0.9986815192831812, 0.0005139894592296352, 0.0005139894592296352, 0.9970988928281943, 0.0945899279842291, 0.9049428161790166, 0.0022219145694799616, 0.9976396416965027, 0.9973916483807905, 0.09072512781161843, 0.8895007096313025, 0.019722853872090964, 0.9967383773112352, 0.0024134101145550486, 0.002833496568104901, 0.9945572954048202, 0.010690764468609348, 0.6165007510231391, 0.3729888936825928, 0.9994239293139378, 0.0007311074830387255, 0.9795780655807629, 0.006618770713383533, 0.013237541426767066, 0.9955611933887206, 0.3877204032895049, 0.6122431311443887, 0.02110129564418329, 0.978572585499, 0.9985587734993445, 0.9993559752057746, 0.010074654039921728, 0.20653040781839543, 0.7841439061072412, 0.9958845381532154, 0.00264862909083302, 0.9951135994264774, 0.9990807922028664, 0.9984389277856848, 0.009680346374774208, 0.9890087212894314, 0.999669744916597, 0.5730518515426364, 0.20321539844107078, 0.22423768103842293, 0.9984088861831277, 0.9645725920991901, 0.035412630129515725, 0.4056647188195099, 0.4733672431272436, 0.12109394591627161, 0.08407923708470956, 0.9152625522649811, 0.9980931113647157, 0.002819472066002022, 0.036321493047190664, 0.9611225852487376, 0.29177384894521213, 0.4257516367261769, 0.2820976753832536, 0.6063783478742898, 0.3935310338778542, 0.9990334387538162, 0.4135371337949897, 0.022799575817594488, 0.5644860495528566, 0.0013607264222159166, 0.0013607264222159166, 0.9974124674842668, 0.999322243072415, 0.35197592058499366, 0.648376695814462, 0.9969631436591874, 0.0014002291343527913, 0.9978463797513674, 0.3891377584757455, 0.6101490614639985, 0.3929745752268129, 0.6065477139370372, 0.9969310864310192, 0.9975122254751099, 0.9991280041269592, 0.9975376495528182, 0.9975354613455029, 0.9970371395759965, 0.9991834361525117], \"Term\": [\"10\", \"absolutely\", \"ain\", \"album\", \"album\", \"amazing\", \"ass\", \"awesome\", \"awesome\", \"baby\", \"beautiful\", \"beautiful\", \"beautiful\", \"best\", \"best\", \"better\", \"better\", \"blm\", \"cause\", \"check\", \"check\", \"chester\", \"chorus\", \"com\", \"comeback\", \"comments\", \"cool\", \"cool\", \"crying\", \"cute\", \"damn\", \"day\", \"day\", \"did\", \"did\", \"different\", \"different\", \"different\", \"does\", \"doesn\", \"doesn\", \"doesn\", \"don\", \"don\", \"eyes\", \"fan\", \"favorite\", \"favorite\", \"feel\", \"feel\", \"finally\", \"finally\", \"fuck\", \"fucking\", \"girl\", \"god\", \"gonna\", \"gonna\", \"good\", \"good\", \"got\", \"got\", \"got\", \"great\", \"guy\", \"guys\", \"guys\", \"happy\", \"hard\", \"hard\", \"hard\", \"hear\", \"hear\", \"heard\", \"heart\", \"hey\", \"holy\", \"https\", \"im\", \"imagine\", \"incredible\", \"job\", \"just\", \"just\", \"just\", \"kind\", \"kind\", \"know\", \"let\", \"life\", \"life\", \"life\", \"like\", \"like\", \"like\", \"listen\", \"listen\", \"listen\", \"listening\", \"lit\", \"little\", \"live\", \"live\", \"live\", \"ll\", \"looks\", \"love\", \"love\", \"love\", \"loved\", \"make\", \"make\", \"makes\", \"man\", \"man\", \"million\", \"music\", \"mv\", \"nand\", \"nbut\", \"need\", \"need\", \"need\", \"new\", \"ni\", \"nice\", \"nigga\", \"niggerfaggot\", \"nit\", \"nwe\", \"nyou\", \"oh\", \"oh\", \"ok\", \"old\", \"old\", \"omg\", \"original\", \"people\", \"people\", \"perfect\", \"pretty\", \"proud\", \"proud\", \"rap\", \"real\", \"real\", \"really\", \"really\", \"really\", \"reminds\", \"right\", \"right\", \"rip\", \"rip\", \"sad\", \"said\", \"said\", \"said\", \"sam\", \"sam\", \"saw\", \"saw\", \"say\", \"say\", \"say\", \"shit\", \"shit\", \"sing\", \"sing\", \"sing\", \"smith\", \"song\", \"song\", \"songs\", \"songs\", \"sound\", \"sounds\", \"stop\", \"stop\", \"stop\", \"takes\", \"takes\", \"talent\", \"talented\", \"taylor\", \"tell\", \"tell\", \"thank\", \"think\", \"think\", \"think\", \"tho\", \"thought\", \"thought\", \"time\", \"time\", \"time\", \"times\", \"times\", \"track\", \"track\", \"twice\", \"twice\", \"ve\", \"ve\", \"ve\", \"video\", \"video\", \"views\", \"voice\", \"voice\", \"voice\", \"wait\", \"wait\", \"wait\", \"wanna\", \"want\", \"want\", \"watch\", \"watch\", \"watching\", \"way\", \"way\", \"wow\", \"wow\", \"wtf\", \"www\", \"yeah\", \"year\", \"yes\", \"youtu\", \"youtube\"]}, \"R\": 30, \"lambda.step\": 0.01, \"plot.opts\": {\"xlab\": \"PC1\", \"ylab\": \"PC2\"}, \"topic.order\": [1, 2, 3]};\n\nfunction LDAvis_load_lib(url, callback){\n  var s = document.createElement('script');\n  s.src = url;\n  s.async = true;\n  s.onreadystatechange = s.onload = callback;\n  s.onerror = function(){console.warn(\"failed to load library \" + url);};\n  document.getElementsByTagName(\"head\")[0].appendChild(s);\n}\n\nif(typeof(LDAvis) !== \"undefined\"){\n   // already loaded: just create the visualization\n   !function(LDAvis){\n       new LDAvis(\"#\" + \"ldavis_el2745153227584001769966983\", ldavis_el2745153227584001769966983_data);\n   }(LDAvis);\n}else if(typeof define === \"function\" && define.amd){\n   // require.js is available: use it to load d3/LDAvis\n   require.config({paths: {d3: \"https://d3js.org/d3.v5\"}});\n   require([\"d3\"], function(d3){\n      window.d3 = d3;\n      LDAvis_load_lib(\"https://cdn.jsdelivr.net/gh/bmabey/pyLDAvis@3.3.1/pyLDAvis/js/ldavis.v3.0.0.js\", function(){\n        new LDAvis(\"#\" + \"ldavis_el2745153227584001769966983\", ldavis_el2745153227584001769966983_data);\n      });\n    });\n}else{\n    // require.js not available: dynamically load d3 & LDAvis\n    LDAvis_load_lib(\"https://d3js.org/d3.v5.js\", function(){\n         LDAvis_load_lib(\"https://cdn.jsdelivr.net/gh/bmabey/pyLDAvis@3.3.1/pyLDAvis/js/ldavis.v3.0.0.js\", function(){\n                 new LDAvis(\"#\" + \"ldavis_el2745153227584001769966983\", ldavis_el2745153227584001769966983_data);\n            })\n         });\n}\n</script>"
     },
     "metadata": {},
     "execution_count": 114
    }
   ],
   "source": [
    "# tf-idf\n",
    "vect = TfidfVectorizer(stop_words='english')\n",
    "LDA = LatentDirichletAllocation(n_components=3,random_state=1, learning_method=\"online\")\n",
    "\n",
    "dtm = cv.fit_transform(comments_category_filtered['comment_text'])\n",
    "\n",
    "LDA.fit(dtm)\n",
    "\n",
    "for index,topic in enumerate(LDA.components_):\n",
    "    print(f'topic #{index+1} : ')\n",
    "    print([vect.get_feature_names()[i] for i in topic.argsort()[-20:]])\n",
    "\n",
    "pyLDAvis.enable_notebook()\n",
    "vis = pyLDAvis.sklearn.prepare(LDA, dtm, cv)\n",
    "pyLDAvis.display(vis)"
   ]
  },
  {
   "cell_type": "code",
   "execution_count": 115,
   "metadata": {
    "tags": []
   },
   "outputs": [
    {
     "output_type": "stream",
     "name": "stderr",
     "text": "/Users/stefanoperenzoni/Library/Python/3.9/lib/python/site-packages/ipykernel/ipkernel.py:283: DeprecationWarning: `should_run_async` will not call `transform_cell` automatically in the future. Please pass the result to `transformed_cell` argument and any exception that happen during thetransform in `preprocessing_exc_tuple` in IPython 7.17 and above.\n  and should_run_async(code)\ntopic #0 : \n['damn', 'right', 'com', 'youtube', 'makes', 'watch', 'look', 'sound', 'fucking', 'im', 'think', 'god', 'thank', 'time', 'people', 'way', 'like', 'shit', 'amazing', 'good']\ntopic #1 : \n['crying', 'tho', 'big', 'ass', 'black', 'rip', 'nigga', 'dance', 'lot', 'tell', 'baby', 'long', 'wanna', 'need', 'little', 'll', 'real', 'just', 'new', 'know']\ntopic #2 : \n['mv', 'fan', 'awesome', 'come', 'happy', 'yeah', 'life', 'nyou', 'nand', 'wait', 'omg', 'best', 'let', 'day', 'like', 'fuck', 'got', 'don', 'ni', 'just']\ntopic #3 : \n['hard', 'lyrics', 'lol', 'hear', 'views', 'album', 'world', 'best', 'say', 'sounds', 'good', 'want', 'make', 'really', 'voice', 'great', 'music', 'song', 'like', 'video']\ntopic #4 : \n['takes', 'cute', 'times', 'proud', 've', 'twice', 'guys', 'favorite', 'really', 'thanks', 'listening', 'perfect', 'stop', 'heart', 'girl', 'better', 'songs', 'beautiful', 'song', 'love']\n"
    },
    {
     "output_type": "execute_result",
     "data": {
      "text/plain": "<IPython.core.display.HTML object>",
      "text/html": "\n<link rel=\"stylesheet\" type=\"text/css\" href=\"https://cdn.jsdelivr.net/gh/bmabey/pyLDAvis@3.3.1/pyLDAvis/js/ldavis.v1.0.0.css\">\n\n\n<div id=\"ldavis_el2745153268129928554644112\"></div>\n<script type=\"text/javascript\">\n\nvar ldavis_el2745153268129928554644112_data = {\"mdsDat\": {\"x\": [0.12791051691645208, -0.006637774866951575, -0.20102967601900054, 0.3004346348176859, -0.220677700848186], \"y\": [-0.03337643462490178, -0.20589052988043519, -0.17346115948176577, 0.11343349746258202, 0.29929462652452066], \"topics\": [1, 2, 3, 4, 5], \"cluster\": [1, 1, 1, 1, 1], \"Freq\": [23.0594244569608, 22.05784981413159, 19.88632520196946, 17.74284095804067, 17.253559568897472]}, \"tinfo\": {\"Term\": [\"love\", \"song\", \"video\", \"just\", \"ni\", \"know\", \"don\", \"music\", \"new\", \"beautiful\", \"got\", \"amazing\", \"good\", \"fuck\", \"shit\", \"like\", \"songs\", \"voice\", \"real\", \"way\", \"great\", \"better\", \"girl\", \"thank\", \"people\", \"let\", \"god\", \"day\", \"wait\", \"omg\", \"video\", \"voice\", \"sounds\", \"say\", \"world\", \"views\", \"thing\", \"work\", \"dont\", \"10\", \"videos\", \"check\", \"million\", \"pretty\", \"waiting\", \"talk\", \"rest\", \"bitch\", \"trying\", \"youtu\", \"dude\", \"original\", \"comment\", \"streaming\", \"girls\", \"pop\", \"glad\", \"talent\", \"went\", \"vibes\", \"beat\", \"music\", \"tom\", \"hard\", \"great\", \"want\", \"end\", \"lyrics\", \"make\", \"like\", \"album\", \"hear\", \"lol\", \"song\", \"really\", \"best\", \"good\", \"does\", \"think\", \"thought\", \"need\", \"amazing\", \"shit\", \"way\", \"thank\", \"god\", \"im\", \"fucking\", \"sound\", \"look\", \"watch\", \"makes\", \"youtube\", \"com\", \"damn\", \"hope\", \"nice\", \"looks\", \"cool\", \"miss\", \"doing\", \"year\", \"mind\", \"track\", \"job\", \"doesn\", \"sure\", \"finally\", \"fighting\", \"www\", \"play\", \"chester\", \"people\", \"good\", \"think\", \"time\", \"old\", \"right\", \"like\", \"did\", \"oh\", \"really\", \"man\", \"life\", \"great\", \"ni\", \"don\", \"got\", \"let\", \"wait\", \"nand\", \"yeah\", \"happy\", \"fuck\", \"fan\", \"mv\", \"feels\", \"loved\", \"niggerfaggot\", \"chorus\", \"saw\", \"nbut\", \"rock\", \"omg\", \"hey\", \"trending\", \"boy\", \"forever\", \"gotta\", \"kind\", \"chance\", \"rap\", \"lit\", \"eminem\", \"hell\", \"blm\", \"hate\", \"nyou\", \"day\", \"just\", \"life\", \"best\", \"awesome\", \"come\", \"like\", \"oh\", \"wow\", \"time\", \"beautiful\", \"girl\", \"heart\", \"stop\", \"perfect\", \"listening\", \"thanks\", \"favorite\", \"twice\", \"proud\", \"times\", \"cute\", \"days\", \"sam\", \"high\", \"version\", \"yes\", \"21\", \"reminds\", \"love\", \"face\", \"art\", \"boys\", \"soon\", \"started\", \"holy\", \"gorgeous\", \"smith\", \"king\", \"honestly\", \"songs\", \"talented\", \"better\", \"song\", \"takes\", \"sing\", \"guys\", \"really\", \"ve\", \"time\", \"listen\", \"new\", \"real\", \"little\", \"baby\", \"wanna\", \"lot\", \"dance\", \"rip\", \"black\", \"ass\", \"big\", \"nigga\", \"tho\", \"crying\", \"ain\", \"white\", \"legend\", \"isn\", \"sorry\", \"needs\", \"used\", \"respect\", \"dead\", \"literally\", \"imagine\", \"verse\", \"50\", \"drop\", \"long\", \"reason\", \"know\", \"ll\", \"tell\", \"need\", \"just\", \"live\", \"help\", \"make\", \"album\", \"cause\"], \"Freq\": [7487.0, 7885.0, 3118.0, 4023.0, 2275.0, 2025.0, 2053.0, 2980.0, 1659.0, 1660.0, 1548.0, 1605.0, 2649.0, 1415.0, 1471.0, 5695.0, 1102.0, 1190.0, 973.0, 1125.0, 1869.0, 1071.0, 827.0, 941.0, 1436.0, 865.0, 872.0, 940.0, 810.0, 812.0, 3117.4153972697454, 1189.3517631686525, 849.8701946847482, 818.9393547957577, 748.8121005829056, 668.4812820498349, 505.58914775312076, 490.75772686232426, 456.3814874904782, 395.2227578432653, 374.33915925594346, 369.20590690648254, 361.0377973737838, 363.0782857078135, 346.80041430686316, 291.0764503205629, 272.8523284461225, 266.36189360753235, 255.54243939734056, 247.66358440981398, 249.65300725288256, 249.27158225707947, 238.8213352105416, 236.52326526825968, 231.31702938571752, 229.03366423447588, 226.20693915975733, 218.97718664869944, 213.25844488331185, 207.63442253478658, 473.2242659490369, 2505.963087466065, 478.80293062294936, 508.98621189551955, 1385.9321863239707, 892.1246758742282, 446.984259580681, 523.6856696924397, 929.0260168972464, 3001.943104839577, 745.8883432367641, 551.6616858870467, 527.6136002772519, 2552.2579451776355, 939.8594743641581, 785.5360557786472, 868.4188582423792, 411.2784832514552, 412.27724513077857, 381.95607861912043, 387.91462447735785, 1604.4105692202575, 1470.7878562443912, 1124.935218446053, 940.9018293480837, 871.6367861671182, 814.0686061925525, 787.9849834459319, 765.2449439269584, 750.8238190148516, 707.9773289776341, 682.5001924775796, 618.7997838149943, 597.4136029017006, 584.2193433650391, 583.9494524962226, 552.4919661849945, 537.3034554003558, 494.53634537523334, 423.5612650572157, 423.07406707173976, 406.3933748091536, 395.7988135565056, 390.3471759257581, 388.44808341365353, 358.4161415080561, 334.9386477178538, 327.66599539385965, 326.0786375074813, 319.3842528867474, 323.3946681296924, 454.09469267522593, 1117.2831676737385, 1779.307549493155, 858.1145070636819, 1006.8017104938635, 497.03331838090804, 587.3766850008399, 1202.0501757196387, 556.0025041001379, 509.73173807201965, 542.9905866322391, 461.9095237494962, 471.9729858163511, 483.0548934533536, 2274.428201347671, 2052.427051237241, 1547.8373631479587, 864.3373104641211, 809.7027363158122, 770.6030740755493, 612.365916015342, 597.9509500386572, 1413.595030457688, 495.05765839352574, 484.9201571276607, 452.64542365463365, 447.13911381271396, 454.3657964350309, 355.68218213150453, 352.73927314326585, 411.1065181263086, 334.36023841114445, 810.9068954811125, 321.14476783990426, 317.55080175975246, 310.2016016008398, 293.28157339917936, 288.0374140819216, 289.4979418220347, 279.30860615286457, 273.12431771428334, 256.8511549201413, 255.90720765747307, 249.93512434986513, 463.34182390514394, 365.62271131560146, 734.8531966156639, 882.1672720245658, 2960.6985961983382, 662.0065831357588, 813.590951820498, 505.009222156273, 523.5594551501832, 1243.6237891979463, 414.6606515758295, 366.61918282373006, 387.5920831409242, 1660.1994545628095, 826.5299713388225, 606.1155545894339, 603.0885249358545, 588.1503989845097, 583.853867399253, 577.0882646342899, 474.6126348603243, 446.19736321650487, 431.07729085721104, 405.2928937584759, 395.29457973294603, 366.01304859961766, 353.2931495722596, 360.4223571304901, 347.24414955684875, 346.79174753099466, 357.67954033941106, 325.4860544165656, 7466.3540302238425, 265.78339060712943, 256.9588717538743, 258.5338238707108, 244.89273665410457, 244.1369017393313, 236.33870454360166, 235.39785611863473, 227.61311625319888, 225.66042280258566, 227.81251995583412, 1089.3729557964743, 285.2345421495026, 1017.0108616799367, 5323.814636700371, 366.1243014263418, 308.4385132883536, 458.6382528035445, 502.60162577585595, 438.32763884666184, 337.7724540446045, 300.6058700734452, 1658.8159506902678, 972.2606387834355, 667.9135170031581, 565.6688857212375, 569.5214262432892, 465.29883926360714, 449.8705321127045, 413.138908288111, 406.7179840707612, 376.5994506202321, 374.21108141462923, 413.3956322306299, 370.31104404698215, 364.83038896780363, 347.9169825798668, 339.8524509862061, 314.1842386430842, 282.3903936655651, 297.0565023035795, 272.36323579499987, 266.2027329646804, 254.85274550891094, 248.1634706340126, 244.62428931699608, 244.32614280068435, 240.46055472652705, 233.5038463154688, 230.1465047407419, 568.2085699055472, 219.7685452179243, 1994.5062597032868, 702.3730739417543, 493.4776225947428, 661.0212263618383, 1062.5340493959097, 335.38472874479316, 284.1284869045882, 352.90481477626645, 313.37374499507104, 279.28737651708497], \"Total\": [7487.0, 7885.0, 3118.0, 4023.0, 2275.0, 2025.0, 2053.0, 2980.0, 1659.0, 1660.0, 1548.0, 1605.0, 2649.0, 1415.0, 1471.0, 5695.0, 1102.0, 1190.0, 973.0, 1125.0, 1869.0, 1071.0, 827.0, 941.0, 1436.0, 865.0, 872.0, 940.0, 810.0, 812.0, 3118.4682597100773, 1190.1478283279125, 850.662494238584, 819.7670934508207, 749.6275065069456, 669.271285035189, 506.38997744496896, 491.55890921486656, 457.182744975637, 396.0208989362724, 375.1335028201129, 370.0022639043979, 361.83083287992486, 363.87602654188214, 347.6033655147462, 291.8949755916678, 273.6619125739356, 267.173551034081, 256.3399274563832, 248.45289474009996, 250.45282425853534, 250.0766521325698, 239.61891231751144, 237.32396043019105, 232.1180132442958, 229.83166564071777, 227.00568333203998, 219.7755712455064, 214.06420869727847, 208.42992563538405, 476.4983217426767, 2980.0777703824983, 506.31556516934916, 575.4782071841294, 1869.5879872480139, 1146.214792692091, 510.2660505995359, 630.7456895518144, 1282.5318705461436, 5695.82990178762, 1102.7825764360234, 739.3291810886159, 730.7102440622485, 7885.756366521838, 1985.8596126202865, 1627.324964820611, 2649.2653168931147, 578.4652920324053, 1270.996802506695, 582.1213796883948, 1059.548225741945, 1605.2012471627431, 1471.5800784818387, 1125.7319146823102, 941.690434473003, 872.4260022156365, 814.8608704790591, 788.7776780958745, 766.0397329035484, 751.624851931239, 708.7662420299193, 683.2952381440987, 619.5873150324605, 598.1982247238323, 585.0107017777626, 584.7440633428373, 553.2838460151823, 538.0923231562758, 495.32775409276894, 424.34869769205625, 423.8962817193833, 407.186175915687, 396.5987873245677, 391.142593919512, 389.24031995305535, 359.2109579249212, 335.73457487616906, 328.4567088641914, 326.8734302981908, 320.1661186558788, 324.1882578496932, 461.31805870428366, 1436.8495478307477, 2649.2653168931147, 1270.996802506695, 1733.57865827094, 634.2399430093541, 975.0399335821088, 5695.82990178762, 1034.467034746866, 924.9805319473151, 1985.8596126202865, 910.3209249831916, 1134.5692118902125, 1869.5879872480139, 2275.2103311622627, 2053.215417406308, 1548.7076249818745, 865.1394871231905, 810.4863994977463, 771.3859517735464, 613.1487090410023, 598.7399509086115, 1415.6485008953455, 495.84769833370177, 485.7178807348438, 453.4308684951028, 447.9239670510208, 455.31887604824703, 356.4633941071903, 353.52416312822623, 412.05588363094023, 335.14855139403477, 812.8479046373714, 321.9276561672748, 318.3331648756361, 310.9879151685256, 294.06590499868787, 288.8241419724054, 290.2910111481418, 280.096370980872, 273.91254285503504, 257.63289007708977, 256.6971498981258, 250.72159238125602, 464.9610310800504, 367.365114417042, 773.3191910918059, 940.5844751985197, 4023.8236212071147, 1134.5692118902125, 1627.324964820611, 765.710199836596, 820.9773297915522, 5695.82990178762, 924.9805319473151, 709.3085903650428, 1733.57865827094, 1660.9866978777811, 827.3383294395665, 606.9182289416835, 603.8875677798748, 588.9419182211622, 584.6710409553453, 577.8977609660691, 475.4025640924853, 447.0143749877009, 431.8682840876454, 406.0915623337265, 396.08171448959314, 366.8067553403984, 354.07786258532747, 361.227171601738, 348.0357136975478, 347.58533665863933, 358.50222217066334, 326.30709460738706, 7487.590378086415, 266.58731904402805, 257.7483821462758, 259.3314887248605, 245.6957027827014, 244.93942414000583, 237.13011643273927, 236.19944052781398, 228.3989696468939, 226.45842016537205, 228.62471997899573, 1102.864190543936, 286.64390495177196, 1071.8567041609986, 7885.756366521838, 434.5774784391299, 421.18153549666636, 1061.256798984898, 1985.8596126202865, 1353.8567808042526, 1733.57865827094, 752.4123472559354, 1659.6078887155065, 973.0514560978455, 668.7078584731138, 566.4557054276419, 570.3144519181062, 466.0939140442406, 450.66292234169185, 413.92613477308817, 407.5041845031432, 377.38358463049394, 375.0013571135425, 414.268857105744, 371.0973216430402, 365.61574562304344, 348.70171238047595, 340.63527161678496, 314.96963547747356, 283.17989979490244, 297.9092108805584, 273.1495407586588, 266.99559200141374, 255.63982446372435, 248.95126635086632, 245.41399277153712, 245.11602263676323, 241.25028904886688, 234.28931327369668, 230.93322810764099, 570.1680796384812, 220.56288945215388, 2025.1765156958186, 892.29515093366, 646.6690037578883, 1059.548225741945, 4023.8236212071147, 546.4597221981539, 375.58523609981415, 1282.5318705461436, 1102.7825764360234, 403.09348080382887], \"Category\": [\"Default\", \"Default\", \"Default\", \"Default\", \"Default\", \"Default\", \"Default\", \"Default\", \"Default\", \"Default\", \"Default\", \"Default\", \"Default\", \"Default\", \"Default\", \"Default\", \"Default\", \"Default\", \"Default\", \"Default\", \"Default\", \"Default\", \"Default\", \"Default\", \"Default\", \"Default\", \"Default\", \"Default\", \"Default\", \"Default\", \"Topic1\", \"Topic1\", \"Topic1\", \"Topic1\", \"Topic1\", \"Topic1\", \"Topic1\", \"Topic1\", \"Topic1\", \"Topic1\", \"Topic1\", \"Topic1\", \"Topic1\", \"Topic1\", \"Topic1\", \"Topic1\", \"Topic1\", \"Topic1\", \"Topic1\", \"Topic1\", \"Topic1\", \"Topic1\", \"Topic1\", \"Topic1\", \"Topic1\", \"Topic1\", \"Topic1\", \"Topic1\", \"Topic1\", \"Topic1\", \"Topic1\", \"Topic1\", \"Topic1\", \"Topic1\", \"Topic1\", \"Topic1\", \"Topic1\", \"Topic1\", \"Topic1\", \"Topic1\", \"Topic1\", \"Topic1\", \"Topic1\", \"Topic1\", \"Topic1\", \"Topic1\", \"Topic1\", \"Topic1\", \"Topic1\", \"Topic1\", \"Topic1\", \"Topic2\", \"Topic2\", \"Topic2\", \"Topic2\", \"Topic2\", \"Topic2\", \"Topic2\", \"Topic2\", \"Topic2\", \"Topic2\", \"Topic2\", \"Topic2\", \"Topic2\", \"Topic2\", \"Topic2\", \"Topic2\", \"Topic2\", \"Topic2\", \"Topic2\", \"Topic2\", \"Topic2\", \"Topic2\", \"Topic2\", \"Topic2\", \"Topic2\", \"Topic2\", \"Topic2\", \"Topic2\", \"Topic2\", \"Topic2\", \"Topic2\", \"Topic2\", \"Topic2\", \"Topic2\", \"Topic2\", \"Topic2\", \"Topic2\", \"Topic2\", \"Topic2\", \"Topic2\", \"Topic2\", \"Topic2\", \"Topic2\", \"Topic2\", \"Topic3\", \"Topic3\", \"Topic3\", \"Topic3\", \"Topic3\", \"Topic3\", \"Topic3\", \"Topic3\", \"Topic3\", \"Topic3\", \"Topic3\", \"Topic3\", \"Topic3\", \"Topic3\", \"Topic3\", \"Topic3\", \"Topic3\", \"Topic3\", \"Topic3\", \"Topic3\", \"Topic3\", \"Topic3\", \"Topic3\", \"Topic3\", \"Topic3\", \"Topic3\", \"Topic3\", \"Topic3\", \"Topic3\", \"Topic3\", \"Topic3\", \"Topic3\", \"Topic3\", \"Topic3\", \"Topic3\", \"Topic3\", \"Topic3\", \"Topic3\", \"Topic3\", \"Topic3\", \"Topic3\", \"Topic3\", \"Topic3\", \"Topic4\", \"Topic4\", \"Topic4\", \"Topic4\", \"Topic4\", \"Topic4\", \"Topic4\", \"Topic4\", \"Topic4\", \"Topic4\", \"Topic4\", \"Topic4\", \"Topic4\", \"Topic4\", \"Topic4\", \"Topic4\", \"Topic4\", \"Topic4\", \"Topic4\", \"Topic4\", \"Topic4\", \"Topic4\", \"Topic4\", \"Topic4\", \"Topic4\", \"Topic4\", \"Topic4\", \"Topic4\", \"Topic4\", \"Topic4\", \"Topic4\", \"Topic4\", \"Topic4\", \"Topic4\", \"Topic4\", \"Topic4\", \"Topic4\", \"Topic4\", \"Topic4\", \"Topic4\", \"Topic4\", \"Topic5\", \"Topic5\", \"Topic5\", \"Topic5\", \"Topic5\", \"Topic5\", \"Topic5\", \"Topic5\", \"Topic5\", \"Topic5\", \"Topic5\", \"Topic5\", \"Topic5\", \"Topic5\", \"Topic5\", \"Topic5\", \"Topic5\", \"Topic5\", \"Topic5\", \"Topic5\", \"Topic5\", \"Topic5\", \"Topic5\", \"Topic5\", \"Topic5\", \"Topic5\", \"Topic5\", \"Topic5\", \"Topic5\", \"Topic5\", \"Topic5\", \"Topic5\", \"Topic5\", \"Topic5\", \"Topic5\", \"Topic5\", \"Topic5\", \"Topic5\", \"Topic5\", \"Topic5\"], \"logprob\": [30.0, 29.0, 28.0, 27.0, 26.0, 25.0, 24.0, 23.0, 22.0, 21.0, 20.0, 19.0, 18.0, 17.0, 16.0, 15.0, 14.0, 13.0, 12.0, 11.0, 10.0, 9.0, 8.0, 7.0, 6.0, 5.0, 4.0, 3.0, 2.0, 1.0, -3.3516, -4.3152, -4.6513, -4.6883, -4.7779, -4.8914, -5.1706, -5.2004, -5.273, -5.4169, -5.4712, -5.485, -5.5074, -5.5017, -5.5476, -5.7228, -5.7874, -5.8115, -5.853, -5.8843, -5.8763, -5.8778, -5.9206, -5.9303, -5.9526, -5.9625, -5.9749, -6.0074, -6.0339, -6.0606, -5.2368, -3.5699, -5.2251, -5.1639, -4.1622, -4.6028, -5.2938, -5.1355, -4.5622, -3.3893, -4.7818, -5.0834, -5.128, -3.5516, -4.5506, -4.73, -4.6297, -5.3771, -5.3747, -5.4511, -5.4356, -3.9714, -4.0584, -4.3265, -4.5051, -4.5816, -4.6499, -4.6825, -4.7118, -4.7308, -4.7895, -4.8262, -4.9242, -4.9593, -4.9817, -4.9821, -5.0375, -5.0654, -5.1483, -5.3033, -5.3044, -5.3446, -5.371, -5.3849, -5.3898, -5.4703, -5.538, -5.56, -5.5648, -5.5856, -5.5731, -5.2336, -4.3333, -3.868, -4.5972, -4.4374, -5.1433, -4.9763, -4.2602, -5.0312, -5.1181, -5.0549, -5.2166, -5.195, -5.1718, -3.5188, -3.6215, -3.9037, -4.4864, -4.5517, -4.6011, -4.831, -4.8548, -3.9944, -5.0436, -5.0643, -5.1332, -5.1454, -5.1294, -5.3743, -5.3826, -5.2295, -5.4361, -4.5502, -5.4764, -5.4877, -5.5111, -5.5672, -5.5852, -5.5802, -5.616, -5.6384, -5.6998, -5.7035, -5.7271, -5.1099, -5.3467, -4.6486, -4.4659, -3.2551, -4.753, -4.5469, -5.0237, -4.9877, -4.1225, -5.2209, -5.344, -5.2884, -3.7196, -4.417, -4.7272, -4.7322, -4.7573, -4.7646, -4.7763, -4.9718, -5.0335, -5.068, -5.1297, -5.1546, -5.2316, -5.267, -5.247, -5.2842, -5.2855, -5.2546, -5.3489, -2.2161, -5.5516, -5.5854, -5.5792, -5.6334, -5.6365, -5.669, -5.673, -5.7066, -5.7152, -5.7057, -4.1409, -5.481, -4.2096, -2.5543, -5.2313, -5.4027, -5.006, -4.9145, -5.0513, -5.3119, -5.4285, -3.6924, -4.2267, -4.6021, -4.7683, -4.7615, -4.9636, -4.9973, -5.0825, -5.0982, -5.1751, -5.1815, -5.0819, -5.192, -5.2069, -5.2543, -5.2778, -5.3563, -5.463, -5.4124, -5.4992, -5.522, -5.5656, -5.5922, -5.6066, -5.6078, -5.6237, -5.6531, -5.6676, -4.7638, -5.7137, -3.5082, -4.5518, -4.9048, -4.6125, -4.1379, -5.291, -5.4569, -5.2401, -5.3589, -5.4741], \"loglift\": [30.0, 29.0, 28.0, 27.0, 26.0, 25.0, 24.0, 23.0, 22.0, 21.0, 20.0, 19.0, 18.0, 17.0, 16.0, 15.0, 14.0, 13.0, 12.0, 11.0, 10.0, 9.0, 8.0, 7.0, 6.0, 5.0, 4.0, 3.0, 2.0, 1.0, 1.4668, 1.4664, 1.4662, 1.4661, 1.466, 1.4659, 1.4655, 1.4655, 1.4653, 1.4651, 1.465, 1.4649, 1.4649, 1.4649, 1.4648, 1.4643, 1.4641, 1.4641, 1.464, 1.4639, 1.4639, 1.4639, 1.4638, 1.4637, 1.4636, 1.4636, 1.4636, 1.4635, 1.4633, 1.4633, 1.4602, 1.2938, 1.4112, 1.3443, 1.1678, 1.2165, 1.3347, 1.2811, 1.1446, 0.8266, 1.0761, 1.1743, 1.1414, 0.339, 0.719, 0.7388, 0.3517, 1.126, 0.3412, 1.0457, 0.4623, 1.511, 1.511, 1.5108, 1.5107, 1.5106, 1.5105, 1.5105, 1.5105, 1.5104, 1.5104, 1.5103, 1.5102, 1.5102, 1.5101, 1.5101, 1.5101, 1.51, 1.5099, 1.5096, 1.5096, 1.5096, 1.5095, 1.5095, 1.5095, 1.5093, 1.5091, 1.5091, 1.5091, 1.5091, 1.5091, 1.4957, 1.2599, 1.1134, 1.1187, 0.9681, 1.2677, 1.0047, -0.0442, 0.8906, 0.9156, 0.2148, 0.8331, 0.6344, 0.1582, 1.6148, 1.6148, 1.6146, 1.6142, 1.6142, 1.6141, 1.6139, 1.6138, 1.6137, 1.6135, 1.6135, 1.6134, 1.6134, 1.613, 1.6129, 1.6129, 1.6128, 1.6128, 1.6127, 1.6127, 1.6127, 1.6126, 1.6125, 1.6124, 1.6124, 1.6123, 1.6123, 1.6121, 1.6121, 1.612, 1.6116, 1.6104, 1.5641, 1.551, 1.3083, 1.0764, 0.9219, 1.1989, 1.1653, 0.0934, 0.8128, 0.9552, 0.1171, 1.7287, 1.7282, 1.7279, 1.7279, 1.7278, 1.7278, 1.7278, 1.7275, 1.7274, 1.7274, 1.7272, 1.7272, 1.727, 1.727, 1.727, 1.7269, 1.7269, 1.7269, 1.7267, 1.7263, 1.7262, 1.7261, 1.7261, 1.7259, 1.7259, 1.7258, 1.7258, 1.7257, 1.7257, 1.7256, 1.7169, 1.7243, 1.6767, 1.3363, 1.5578, 1.4176, 0.8902, 0.3552, 0.6014, 0.0936, 0.8117, 1.7567, 1.7563, 1.756, 1.7558, 1.7558, 1.7554, 1.7554, 1.7552, 1.7552, 1.7551, 1.755, 1.755, 1.755, 1.755, 1.7549, 1.7549, 1.7547, 1.7544, 1.7543, 1.7543, 1.7542, 1.7541, 1.754, 1.7539, 1.7539, 1.7539, 1.7538, 1.7537, 1.7537, 1.7535, 1.7419, 1.5178, 1.4868, 1.2853, 0.4256, 1.269, 1.4781, 0.4668, 0.499, 1.3902]}, \"token.table\": {\"Topic\": [1, 4, 5, 5, 1, 3, 5, 2, 4, 5, 2, 3, 5, 1, 2, 4, 1, 3, 4, 1, 2, 4, 5, 1, 5, 3, 5, 3, 4, 2, 5, 3, 1, 2, 3, 3, 2, 2, 3, 1, 2, 5, 4, 2, 5, 1, 3, 4, 5, 1, 2, 5, 1, 2, 3, 4, 5, 2, 2, 3, 1, 5, 1, 3, 1, 3, 4, 3, 4, 3, 2, 2, 3, 2, 3, 2, 4, 1, 1, 2, 1, 2, 5, 4, 3, 3, 1, 2, 2, 3, 4, 3, 1, 5, 2, 3, 1, 4, 4, 3, 2, 5, 3, 4, 4, 4, 2, 2, 5, 5, 2, 3, 5, 3, 4, 3, 5, 5, 3, 2, 3, 1, 2, 3, 4, 5, 1, 2, 3, 4, 5, 4, 3, 5, 5, 2, 5, 2, 5, 1, 3, 5, 3, 5, 2, 2, 5, 2, 3, 4, 3, 1, 3, 1, 5, 2, 1, 2, 3, 1, 2, 2, 1, 2, 4, 3, 3, 3, 1, 2, 5, 5, 5, 3, 2, 5, 3, 3, 5, 2, 3, 1, 2, 3, 4, 1, 2, 3, 4, 2, 1, 1, 4, 3, 5, 1, 2, 4, 5, 4, 5, 1, 2, 3, 5, 5, 3, 4, 3, 1, 2, 2, 4, 5, 4, 1, 2, 4, 4, 5, 4, 5, 2, 1, 4, 4, 1, 2, 1, 4, 1, 2, 4, 1, 2, 3, 4, 5, 2, 4, 1, 1, 2, 5, 1, 2, 1, 2, 3, 4, 4, 1, 5, 2, 3, 1, 4, 5, 2, 3, 4, 5, 5, 4, 1, 1, 1, 1, 1, 3, 1, 5, 1, 2, 4, 5, 2, 2, 1, 5, 1, 1, 2, 3, 2, 3, 2, 4, 1, 2], \"Freq\": [0.9974221084316143, 0.9985991100205112, 0.9987651452400703, 0.9979876428604678, 0.6764706080240454, 0.038992273652860523, 0.2838274803103568, 0.9992516532335952, 0.9970964622937921, 0.9989835683211565, 0.33955405067803, 0.6595184445861737, 0.9991955144536891, 0.9926582705897422, 0.006295929834607244, 0.9994059567851796, 0.48300125481491957, 0.5002074063859345, 0.017206151571014947, 0.050379868680551644, 0.0009329605311213268, 0.9488208601503892, 0.9973297240275338, 0.9956075328956072, 0.9987627501205713, 0.9957823754057514, 0.002150717873446547, 0.9968233004552918, 0.9987217567504416, 0.3051401371084433, 0.6921471402703714, 0.9960857365733351, 0.9972911952110194, 0.9841366307557131, 0.015173912809008793, 0.9987000232987431, 0.9979969436980769, 0.36176394794653943, 0.6382636657373288, 0.997417097375472, 0.9993383086450117, 0.9983158667797686, 0.9972689613026264, 0.998272336258651, 0.9985290062509531, 0.061663786219476484, 0.9377148180272113, 0.9978005984659423, 0.9961789053544093, 0.21750330599472173, 0.5374748361469568, 0.24457038407406487, 0.710500708790971, 0.05186136560518037, 0.0017287121868393455, 0.008643560934196728, 0.22646129647595428, 0.9966288391314212, 0.9978856108014257, 0.9994080419443551, 0.9974129710960548, 0.9959588833738297, 0.998191977831051, 0.9972841541154528, 0.8760136001107626, 0.12346500404245647, 0.99779689804401, 0.9982904058311646, 0.9991532143011181, 0.9990497592355527, 0.9973279250705878, 0.9986095310223052, 0.9963752853337668, 0.0007063900391711197, 0.9988355153879633, 0.9990140718766892, 0.9995910627762217, 0.9951834274786803, 0.9955697878692801, 0.9995117038986062, 0.32763800381380215, 0.6715069225630806, 0.00037746313803433426, 0.99492191630457, 0.9995430867838061, 0.9971465613408309, 0.7413398082644705, 0.2583456907588306, 0.3524123476596187, 0.21483961301174617, 0.4325060630368048, 0.9987641531060545, 0.8844817990425499, 0.11468722738076285, 0.0027220875384067504, 0.9962840390568707, 0.7466227684767083, 0.2529319885962762, 0.9984870631694739, 0.9971219376265019, 0.24228854399328992, 0.7561532581768609, 0.9971184328233273, 0.9966027705050632, 0.9952341927303873, 0.9972674871770073, 0.9987275401504999, 0.9989435368536557, 0.9954469617091615, 0.9958333914385978, 0.9968134854241079, 0.7358672443778049, 0.26417658925147136, 0.9955527002264531, 0.9979756982980041, 0.014813523545967289, 0.9850993158068246, 0.9969214953815988, 0.9986828862395594, 0.4160169296447236, 0.5834813716627267, 0.5270522560826177, 0.21103158288184762, 0.21840539858986557, 0.04336505904477234, 0.0001755670406670945, 0.07708539102465196, 0.4425764691587777, 0.029239286250730055, 0.4000465982486249, 0.051833280171748736, 0.9988522760521047, 0.9975434422332475, 0.9983130840794293, 0.9989414533354968, 0.3842918178036387, 0.6130369474486618, 0.2118133218613128, 0.786735195484876, 0.7225846418474737, 0.0013685315186505185, 0.2764433667674047, 0.0017538687901189707, 0.9961974727875753, 0.9991686651530567, 0.9979700079163579, 0.9976530179620908, 0.00026710862894601013, 0.002403977660514091, 0.9971165118554559, 0.9979372234598121, 0.8307627125796704, 0.16805505254474248, 0.7243484714375181, 0.2752368249918664, 0.9995679200913201, 0.2021265192859292, 0.5075133255983657, 0.2900076146276376, 0.9977038085082136, 0.9984901937582636, 0.9991782755692364, 0.8409176515142927, 0.15502951117302602, 0.004026740549948728, 0.9985220211910715, 0.999499664503017, 0.997437523227102, 0.3661938084302905, 0.009437984753358001, 0.6238507921969639, 0.9957915332551319, 0.9996337154579465, 0.9994680354841549, 0.9976795888323349, 0.9969371168409598, 0.997103401335579, 0.9504484156953286, 0.04913882965499658, 0.5513629556357501, 0.44865809135065937, 0.21442988808731367, 0.7836151057308448, 0.9977266292662762, 0.0012302424528560741, 0.9956947115078978, 0.7773952406404459, 0.22201350202712825, 0.9984006602484552, 0.9963346672159727, 0.9963814140301369, 0.9975925137190061, 0.9979894701240224, 0.9966684882498499, 0.99891942395106, 0.47334665251573155, 0.27343322586813, 0.25329081512277973, 0.9974479412490831, 0.9959942807588669, 0.9974971643597919, 0.9975812762261655, 0.6020266245337, 0.3097309039338627, 0.08717591667012692, 0.9977625602848299, 0.9965730080310434, 0.9969558599979751, 0.9985173202205244, 0.9990642543998789, 0.999605812493441, 0.002374273123869921, 0.7312761221519356, 0.2635443167495612, 0.998253189812937, 0.323621461453495, 0.0011412982574770592, 0.6751413247564293, 0.9874289231051212, 0.011787489440189694, 0.9971684373197333, 0.9969480269580421, 0.9986427167431545, 0.9992212020124656, 0.9961646674752168, 0.9985302433313245, 0.9986349442778394, 0.9978120368554833, 0.15647382428614412, 0.8421973483636581, 0.996471076193268, 0.0034886490964050002, 0.9942649924754251, 0.9969339123092007, 0.13298921009085235, 0.08195846668389739, 0.021649406293859686, 0.7623683787766304, 0.9992668137556379, 0.9984465055469876, 0.9992298871179548, 0.32415502477066993, 0.6750607069253272, 0.9970430354005743, 0.6562205294787176, 0.3435709578422605, 0.000576841434467931, 0.5808793245092064, 0.2238144765735572, 0.19497240485016065, 0.9973120290225843, 0.9460503151622194, 0.053326426950688774, 0.9970788302341035, 0.9989534082137931, 0.9986739191987911, 0.9977307777009883, 0.9962711294446821, 0.28806592065692666, 0.2245436919992454, 0.32352018781470226, 0.1632373550389251, 0.9948174609290784, 0.9970241166156647, 0.9979373133005087, 0.9995291727900371, 0.9969784015248128, 0.9981004936807918, 0.9990355581881579, 0.9993998671685944, 0.998264212678572, 0.9994486341402561, 0.7782136521768125, 0.003489747319178531, 0.10730973006473983, 0.11079947738391836, 0.9989189072722696, 0.9993498321645108, 0.9950285537981577, 0.998135038647731, 0.9988629862985104, 0.9991629089094268, 0.48215967583867986, 0.5174052661777646, 0.9963577699577507, 0.9981265408797827, 0.9970868954157899, 0.9983159915079669, 0.9981771404170044, 0.9990520867386871], \"Term\": [\"10\", \"21\", \"50\", \"ain\", \"album\", \"album\", \"album\", \"amazing\", \"art\", \"ass\", \"awesome\", \"awesome\", \"baby\", \"beat\", \"beat\", \"beautiful\", \"best\", \"best\", \"best\", \"better\", \"better\", \"better\", \"big\", \"bitch\", \"black\", \"blm\", \"blm\", \"boy\", \"boys\", \"cause\", \"cause\", \"chance\", \"check\", \"chester\", \"chester\", \"chorus\", \"com\", \"come\", \"come\", \"comment\", \"cool\", \"crying\", \"cute\", \"damn\", \"dance\", \"day\", \"day\", \"days\", \"dead\", \"did\", \"did\", \"did\", \"does\", \"does\", \"does\", \"does\", \"does\", \"doesn\", \"doing\", \"don\", \"dont\", \"drop\", \"dude\", \"eminem\", \"end\", \"end\", \"face\", \"fan\", \"favorite\", \"feels\", \"fighting\", \"finally\", \"forever\", \"fuck\", \"fuck\", \"fucking\", \"girl\", \"girls\", \"glad\", \"god\", \"good\", \"good\", \"good\", \"gorgeous\", \"got\", \"gotta\", \"great\", \"great\", \"guys\", \"guys\", \"guys\", \"happy\", \"hard\", \"hard\", \"hate\", \"hate\", \"hear\", \"hear\", \"heart\", \"hell\", \"help\", \"help\", \"hey\", \"high\", \"holy\", \"honestly\", \"hope\", \"im\", \"imagine\", \"isn\", \"job\", \"just\", \"just\", \"kind\", \"king\", \"know\", \"know\", \"legend\", \"let\", \"life\", \"life\", \"like\", \"like\", \"like\", \"like\", \"like\", \"listen\", \"listen\", \"listen\", \"listen\", \"listen\", \"listening\", \"lit\", \"literally\", \"little\", \"live\", \"live\", \"ll\", \"ll\", \"lol\", \"lol\", \"lol\", \"long\", \"long\", \"look\", \"looks\", \"lot\", \"love\", \"love\", \"love\", \"loved\", \"lyrics\", \"lyrics\", \"make\", \"make\", \"makes\", \"man\", \"man\", \"man\", \"million\", \"mind\", \"miss\", \"music\", \"music\", \"music\", \"mv\", \"nand\", \"nbut\", \"need\", \"need\", \"need\", \"needs\", \"new\", \"ni\", \"nice\", \"nigga\", \"niggerfaggot\", \"nyou\", \"nyou\", \"oh\", \"oh\", \"old\", \"old\", \"omg\", \"omg\", \"original\", \"people\", \"people\", \"perfect\", \"play\", \"pop\", \"pretty\", \"proud\", \"rap\", \"real\", \"really\", \"really\", \"really\", \"reason\", \"reminds\", \"respect\", \"rest\", \"right\", \"right\", \"right\", \"rip\", \"rock\", \"sam\", \"saw\", \"say\", \"shit\", \"sing\", \"sing\", \"sing\", \"smith\", \"song\", \"song\", \"song\", \"songs\", \"songs\", \"soon\", \"sorry\", \"sound\", \"sounds\", \"started\", \"stop\", \"streaming\", \"sure\", \"takes\", \"takes\", \"talent\", \"talented\", \"talented\", \"talk\", \"tell\", \"tell\", \"tell\", \"tell\", \"thank\", \"thanks\", \"thing\", \"think\", \"think\", \"tho\", \"thought\", \"thought\", \"time\", \"time\", \"time\", \"time\", \"times\", \"tom\", \"tom\", \"track\", \"trending\", \"trying\", \"twice\", \"used\", \"ve\", \"ve\", \"ve\", \"ve\", \"verse\", \"version\", \"vibes\", \"video\", \"videos\", \"views\", \"voice\", \"wait\", \"waiting\", \"wanna\", \"want\", \"want\", \"want\", \"want\", \"watch\", \"way\", \"went\", \"white\", \"work\", \"world\", \"wow\", \"wow\", \"www\", \"yeah\", \"year\", \"yes\", \"youtu\", \"youtube\"]}, \"R\": 30, \"lambda.step\": 0.01, \"plot.opts\": {\"xlab\": \"PC1\", \"ylab\": \"PC2\"}, \"topic.order\": [4, 1, 3, 5, 2]};\n\nfunction LDAvis_load_lib(url, callback){\n  var s = document.createElement('script');\n  s.src = url;\n  s.async = true;\n  s.onreadystatechange = s.onload = callback;\n  s.onerror = function(){console.warn(\"failed to load library \" + url);};\n  document.getElementsByTagName(\"head\")[0].appendChild(s);\n}\n\nif(typeof(LDAvis) !== \"undefined\"){\n   // already loaded: just create the visualization\n   !function(LDAvis){\n       new LDAvis(\"#\" + \"ldavis_el2745153268129928554644112\", ldavis_el2745153268129928554644112_data);\n   }(LDAvis);\n}else if(typeof define === \"function\" && define.amd){\n   // require.js is available: use it to load d3/LDAvis\n   require.config({paths: {d3: \"https://d3js.org/d3.v5\"}});\n   require([\"d3\"], function(d3){\n      window.d3 = d3;\n      LDAvis_load_lib(\"https://cdn.jsdelivr.net/gh/bmabey/pyLDAvis@3.3.1/pyLDAvis/js/ldavis.v3.0.0.js\", function(){\n        new LDAvis(\"#\" + \"ldavis_el2745153268129928554644112\", ldavis_el2745153268129928554644112_data);\n      });\n    });\n}else{\n    // require.js not available: dynamically load d3 & LDAvis\n    LDAvis_load_lib(\"https://d3js.org/d3.v5.js\", function(){\n         LDAvis_load_lib(\"https://cdn.jsdelivr.net/gh/bmabey/pyLDAvis@3.3.1/pyLDAvis/js/ldavis.v3.0.0.js\", function(){\n                 new LDAvis(\"#\" + \"ldavis_el2745153268129928554644112\", ldavis_el2745153268129928554644112_data);\n            })\n         });\n}\n</script>"
     },
     "metadata": {},
     "execution_count": 115
    }
   ],
   "source": [
    "#Bag of words parameter tuning\n",
    "\n",
    "'''\n",
    "n_components=5,\n",
    "max_iter=10, \n",
    "learning_method='online',\n",
    "random_state=1,\n",
    "batch_size=128,\n",
    "evaluate_every = -1,\n",
    "n_jobs = -1\n",
    "\n",
    "Saw 'lyrics' for the first time.\n",
    "'''\n",
    "\n",
    "# Bag of words\n",
    "vect = CountVectorizer(max_df=0.8, min_df=2, stop_words='english')\n",
    "LDA = LatentDirichletAllocation(n_components=5,\n",
    "max_iter=10, \n",
    "learning_method='online',\n",
    "random_state=1,\n",
    "batch_size=128,\n",
    "evaluate_every = -1,\n",
    "n_jobs = -1)\n",
    "\n",
    "dtm = vect.fit_transform(comments_category_filtered['comment_text'])\n",
    "\n",
    "LDA.fit(dtm)\n",
    "\n",
    "for index,topic in enumerate(LDA.components_):\n",
    "    print(f'topic #{index+1} : ')\n",
    "    print([vect.get_feature_names()[i] for i in topic.argsort()[-20:]])\n",
    "\n",
    "pyLDAvis.enable_notebook()\n",
    "vis = pyLDAvis.sklearn.prepare(LDA, dtm, cv)\n",
    "pyLDAvis.display(vis)"
   ]
  },
  {
   "cell_type": "code",
   "execution_count": 2,
   "metadata": {
    "tags": []
   },
   "outputs": [
    {
     "output_type": "error",
     "ename": "NameError",
     "evalue": "name 'CountVectorizer' is not defined",
     "traceback": [
      "\u001b[0;31m---------------------------------------------------------------------------\u001b[0m",
      "\u001b[0;31mNameError\u001b[0m                                 Traceback (most recent call last)",
      "\u001b[0;32m<ipython-input-2-c20252456e71>\u001b[0m in \u001b[0;36m<module>\u001b[0;34m\u001b[0m\n\u001b[1;32m     12\u001b[0m \u001b[0;34m\u001b[0m\u001b[0m\n\u001b[1;32m     13\u001b[0m \u001b[0;31m# Bag of words\u001b[0m\u001b[0;34m\u001b[0m\u001b[0;34m\u001b[0m\u001b[0m\n\u001b[0;32m---> 14\u001b[0;31m \u001b[0mvect\u001b[0m \u001b[0;34m=\u001b[0m \u001b[0mCountVectorizer\u001b[0m\u001b[0;34m(\u001b[0m\u001b[0mmax_df\u001b[0m\u001b[0;34m=\u001b[0m\u001b[0;36m0.8\u001b[0m\u001b[0;34m,\u001b[0m \u001b[0mmin_df\u001b[0m\u001b[0;34m=\u001b[0m\u001b[0;36m2\u001b[0m\u001b[0;34m,\u001b[0m \u001b[0mstop_words\u001b[0m\u001b[0;34m=\u001b[0m\u001b[0;34m'english'\u001b[0m\u001b[0;34m)\u001b[0m\u001b[0;34m\u001b[0m\u001b[0;34m\u001b[0m\u001b[0m\n\u001b[0m\u001b[1;32m     15\u001b[0m LDA = LatentDirichletAllocation(n_components=3,\n\u001b[1;32m     16\u001b[0m \u001b[0mmax_iter\u001b[0m\u001b[0;34m=\u001b[0m\u001b[0;36m10\u001b[0m\u001b[0;34m,\u001b[0m\u001b[0;34m\u001b[0m\u001b[0;34m\u001b[0m\u001b[0m\n",
      "\u001b[0;31mNameError\u001b[0m: name 'CountVectorizer' is not defined"
     ]
    }
   ],
   "source": [
    "#Bag of words parameter tuning\n",
    "\n",
    "'''\n",
    "n_components=4,\n",
    "max_iter=10, \n",
    "learning_method='online',\n",
    "random_state=1,\n",
    "batch_size=128,\n",
    "evaluate_every = -1,\n",
    "n_jobs = -1\n",
    "'''\n",
    "\n",
    "# Bag of words\n",
    "vect = CountVectorizer(max_df=0.8, min_df=2, stop_words='english')\n",
    "LDA = LatentDirichletAllocation(n_components=3,\n",
    "max_iter=10, \n",
    "learning_method='online',\n",
    "random_state=1,\n",
    "batch_size=128,\n",
    "evaluate_every = -1,\n",
    "n_jobs = -1)\n",
    "\n",
    "dtm = vect.fit_transform(comments_category_filtered['comment_text'])\n",
    "\n",
    "LDA.fit(dtm)\n",
    "\n",
    "for index,topic in enumerate(LDA.components_):\n",
    "    print(f'topic #{index+1} : ')\n",
    "    print([cv.get_feature_names()[i] for i in topic.argsort()[-20:]])\n",
    "\n",
    "pyLDAvis.enable_notebook()\n",
    "vis = pyLDAvis.sklearn.prepare(LDA, dtm, cv)\n",
    "pyLDAvis.display(vis)"
   ]
  },
  {
   "cell_type": "code",
   "execution_count": 6,
   "metadata": {
    "tags": []
   },
   "outputs": [
    {
     "output_type": "stream",
     "name": "stderr",
     "text": "/Users/stefanoperenzoni/Library/Python/3.9/lib/python/site-packages/ipykernel/ipkernel.py:283: DeprecationWarning: `should_run_async` will not call `transform_cell` automatically in the future. Please pass the result to `transformed_cell` argument and any exception that happen during thetransform in `preprocessing_exc_tuple` in IPython 7.17 and above.\n  and should_run_async(code)\nINFO:guidedlda:n_documents: 51787\nINFO:guidedlda:vocab_size: 13596\nINFO:guidedlda:n_words: 385947\nINFO:guidedlda:n_topics: 3\nINFO:guidedlda:n_iter: 100\nWARNING:guidedlda:all zero row in document-term matrix found\nINFO:guidedlda:<0> log likelihood: -3871594\nINFO:guidedlda:<20> log likelihood: -3131628\nINFO:guidedlda:<40> log likelihood: -3106314\nINFO:guidedlda:<60> log likelihood: -3093068\nINFO:guidedlda:<80> log likelihood: -3082529\nINFO:guidedlda:<99> log likelihood: -3074038\ntopic #1 : \n['guys', 'shit', 'album', 'don', 'songs', 'voice', 'new', 'best', 'fuck', 'beautiful', 'really', 'great', 'amazing', 'good', 'just', 'music', 'video', 'like', 'love', 'song']\ntopic #2 : \nWARNING:guidedlda:all zero row in document-term matrix found\n['voice', 'album', 'think', 'don', 'new', 'beautiful', 'know', 'really', 'amazing', 'time', 'best', 'great', 'people', 'good', 'video', 'music', 'just', 'like', 'love', 'song']\ntopic #3 : \n['oh', 'right', 'let', 'little', 'want', 've', 'time', 'got', 'way', 'll', 'nyou', 'good', 'nand', 'don', 'know', 'just', 'song', 'like', 'love', 'ni']\n"
    },
    {
     "output_type": "execute_result",
     "data": {
      "text/plain": "<IPython.core.display.HTML object>",
      "text/html": "\n<link rel=\"stylesheet\" type=\"text/css\" href=\"https://cdn.jsdelivr.net/gh/bmabey/pyLDAvis@3.3.1/pyLDAvis/js/ldavis.v1.0.0.css\">\n\n\n<div id=\"ldavis_el374949919108483326951853\"></div>\n<script type=\"text/javascript\">\n\nvar ldavis_el374949919108483326951853_data = {\"mdsDat\": {\"x\": [-0.06529368103973028, -0.0841767782053413, 0.14947045924507157], \"y\": [-0.06279010997141064, 0.057715486532384605, 0.005074623439026065], \"topics\": [1, 2, 3], \"cluster\": [1, 1, 1], \"Freq\": [36.899991491531566, 36.8282341889656, 26.27177431950284]}, \"tinfo\": {\"Term\": [\"ni\", \"nand\", \"nyou\", \"ll\", \"nbut\", \"know\", \"baby\", \"blm\", \"niggerfaggot\", \"way\", \"chorus\", \"nwe\", \"yeah\", \"little\", \"goodbyes\", \"nso\", \"wanna\", \"com\", \"let\", \"nit\", \"don\", \"noh\", \"cause\", \"nthe\", \"nif\", \"song\", \"nbaby\", \"oh\", \"got\", \"ooh\", \"mp3\", \"plain\", \"frequencies\", \"joey\", \"wav\", \"culture\", \"format\", \"320\", \"mac\", \"nsuck\", \"36\", \"barton\", \"consider\", \"stanton\", \"cohen\", \"file\", \"leonard\", \"releasing\", \"compression\", \"differences\", \"evil\", \"exist\", \"murder\", \"dean\", \"gimme\", \"oct\", \"29\", \"kevin\", \"59\", \"files\", \"test\", \"difference\", \"quality\", \"16\", \"jesus\", \"people\", \"music\", \"god\", \"years\", \"george\", \"musical\", \"younger\", \"song\", \"tom\", \"bless\", \"michael\", \"just\", \"petty\", \"like\", \"best\", \"video\", \"peace\", \"sound\", \"love\", \"thank\", \"great\", \"hear\", \"album\", \"rock\", \"time\", \"amazing\", \"good\", \"new\", \"think\", \"did\", \"chester\", \"beautiful\", \"songs\", \"voice\", \"really\", \"better\", \"fucking\", \"shit\", \"know\", \"life\", \"don\", \"ve\", \"got\", \"make\", \"blm\", \"niggerfaggot\", \"lento\", \"cnco\", \"reggaet\\u00f3n\", \"harmony\", \"mu\\u00e9vete\", \"nyoutube\", \"enormous\", \"bieber\", \"phenomenal\", \"dolla\", \"fifth\", \"links\", \"perrie\", \"hannah\", \"lipa\", \"jyp\", \"del\", \"giveaway\", \"gmail\", \"tt\", \"vocalist\", \"clarkson\", \"disappointing\", \"atm\", \"hunter\", \"loop\", \"contact\", \"swish\", \"dua\", \"soundcloud\", \"com\", \"https\", \"fuck\", \"youtu\", \"song\", \"youtube\", \"bts\", \"video\", \"fighting\", \"amazing\", \"www\", \"love\", \"great\", \"views\", \"songs\", \"music\", \"like\", \"beautiful\", \"awesome\", \"guys\", \"really\", \"voice\", \"good\", \"new\", \"best\", \"album\", \"watch\", \"just\", \"make\", \"shit\", \"better\", \"sounds\", \"don\", \"thank\", \"time\", \"people\", \"know\", \"think\", \"nbaby\", \"vous\", \"nwhen\", \"nthat\", \"et\", \"dry\", \"dawn\", \"nto\", \"neven\", \"dusk\", \"nwhatever\", \"nyeah\", \"nthere\", \"quicker\", \"ncause\", \"nooh\", \"adrenaline\", \"nnever\", \"nthink\", \"nwith\", \"nis\", \"veins\", \"neverybody\", \"sporty\", \"ngot\", \"chains\", \"nscary\", \"zig\", \"ntell\", \"ice\", \"nyou\", \"nand\", \"nbut\", \"ni\", \"goodbyes\", \"nlet\", \"ndo\", \"noh\", \"ooh\", \"sun\", \"njust\", \"nso\", \"mustang\", \"nwe\", \"nif\", \"nmy\", \"chorus\", \"nit\", \"ll\", \"baby\", \"nthe\", \"yeah\", \"know\", \"wanna\", \"cause\", \"way\", \"little\", \"let\", \"love\", \"don\", \"like\", \"got\", \"oh\", \"just\", \"right\", \"time\", \"want\", \"ve\", \"good\", \"song\", \"gonna\", \"feel\", \"life\", \"girl\", \"really\", \"video\"], \"Freq\": [2453.0, 885.0, 770.0, 1014.0, 423.0, 2250.0, 601.0, 369.0, 361.0, 1372.0, 370.0, 292.0, 490.0, 860.0, 239.0, 254.0, 522.0, 639.0, 880.0, 287.0, 2093.0, 215.0, 472.0, 300.0, 221.0, 8627.0, 180.0, 846.0, 1584.0, 190.0, 89.47479685834475, 43.7903989304589, 36.17633260914459, 34.27281602881602, 34.27281602881602, 33.321057738651724, 32.36929944848744, 30.46578286815886, 30.46578286815886, 30.46578286815886, 28.562266287830287, 28.562266287830287, 28.562266287830287, 28.562266287830287, 27.610507997665998, 27.610507997665998, 27.610507997665998, 27.610507997665998, 25.706991417337427, 25.706991417337427, 25.706991417337427, 25.706991417337427, 25.706991417337427, 24.75523312717314, 24.75523312717314, 23.80347483700885, 22.85171654684456, 22.85171654684456, 21.89995825668027, 21.89995825668027, 84.71600540752328, 121.83457872393052, 111.36523753212337, 75.19842250588042, 158.95315204033776, 786.1618652586036, 1502.8358577523127, 511.1037194011244, 331.22140256007395, 119.93106214360196, 61.87380644358038, 41.88688235013032, 3113.210884710288, 270.30887198955946, 127.54512846491625, 97.08886317965903, 1597.0599284785771, 149.43556913869486, 2038.675775114807, 751.8985668126893, 1286.7867258850192, 162.76018520099493, 361.67766784533114, 2459.3529393674226, 481.5992124060315, 777.596040647125, 355.9671181043454, 547.2705344273674, 188.45765903543068, 733.8151592995678, 692.8895528225034, 1036.4742955718116, 630.0735056716604, 558.6916339093387, 471.1298712142243, 368.33997587648116, 636.7358137028104, 505.39316966013865, 533.9459183650673, 680.5166950503677, 485.4062455666886, 375.0022839076312, 511.1037194011244, 642.4463634437961, 440.67360592896705, 573.9197665519673, 461.6122883125814, 486.3580038568529, 411.1690989338741, 369.5436102264301, 361.9355831931517, 77.17799994758626, 69.5699729143078, 60.87508487627526, 51.09333583348866, 46.745891814472394, 43.48530880021019, 42.39844779545613, 40.224725785948, 36.9641427716858, 33.703559757423605, 33.703559757423605, 33.703559757423605, 33.703559757423605, 32.616698752669535, 30.442976743161402, 29.356115738407336, 28.26925473365327, 28.26925473365327, 28.26925473365327, 28.26925473365327, 28.26925473365327, 27.182393728899203, 27.182393728899203, 26.095532724145137, 26.095532724145137, 26.095532724145137, 25.00867171939107, 25.00867171939107, 70.65683391906187, 100.00208104742165, 471.70854467331236, 393.45455233101956, 845.5887303087112, 230.4254016179096, 4317.0227794932, 411.9311894118387, 143.47652123758428, 1752.0308082736028, 193.47212745627138, 965.1434408316585, 228.2516796084015, 3432.3179216233893, 949.9273867651017, 446.7107415639688, 677.1252745718309, 1467.2732250280371, 2422.6240482068615, 873.847116432317, 434.75527051167415, 569.5260351011783, 945.5799427460854, 689.0807456241256, 1281.4199932150918, 735.8157688285505, 783.6376530377294, 583.6552281629812, 419.5392164451172, 1360.7608465621386, 566.2654520869162, 577.1340621344567, 526.0515949110156, 427.14724347839564, 652.1274714624874, 442.36329754495256, 485.83773773511524, 464.1005176400339, 494.53262577314774, 444.5370195544607, 180.89462150239473, 168.45279260693346, 165.58160132336548, 156.96802747266153, 126.34198711460307, 125.38492335341375, 117.72841326389914, 108.15777565200587, 105.28658436843789, 102.4153930848699, 93.80181923416596, 86.14530914465135, 68.91816144324346, 63.1757788761075, 59.34752383135018, 55.51926878659287, 53.60514126421422, 53.60514126421422, 53.60514126421422, 52.648077503024886, 51.69101374183556, 50.73394998064623, 49.776886219456905, 46.905694935888924, 45.94863117469959, 43.07743989113161, 43.07743989113161, 43.07743989113161, 41.16331236875296, 40.20624860756364, 751.3046231712337, 851.7963180961132, 410.5899241878333, 2285.4778323577257, 232.5760646066184, 179.93755774120538, 95.71594675654462, 208.64947057688522, 184.72287654715203, 178.98049398001606, 166.53866508455482, 238.31844717375435, 142.61207105482163, 269.90155129300217, 206.73534305450656, 156.01096371147221, 321.58299439722583, 250.76027606921562, 725.4639016191219, 444.08715582945973, 246.9320210244583, 351.25197099409496, 1113.0747249007993, 360.82260860598825, 331.15363200911906, 708.2367539177139, 491.9403438889261, 485.2408975606008, 2147.660650746462, 867.1093382751424, 1620.3185183311427, 689.0954786939275, 454.6148572025423, 1183.8974432288096, 480.4555787546542, 672.8253947537089, 504.3821727843873, 520.6522567246059, 758.9611332607484, 1197.2963358854602, 356.9943535612309, 398.148095292372, 397.19103153118266, 350.29490723290564, 402.9334140983187, 407.7187329042653], \"Total\": [2453.0, 885.0, 770.0, 1014.0, 423.0, 2250.0, 601.0, 369.0, 361.0, 1372.0, 370.0, 292.0, 490.0, 860.0, 239.0, 254.0, 522.0, 639.0, 880.0, 287.0, 2093.0, 215.0, 472.0, 300.0, 221.0, 8627.0, 180.0, 846.0, 1584.0, 190.0, 89.49523610600417, 43.81083817811833, 36.19677185680402, 34.29325527647545, 34.29325527647545, 33.34149698631116, 32.38973869614687, 30.486222115818297, 30.486222115818297, 30.486222115818297, 28.582705535489723, 28.582705535489723, 28.582705535489723, 28.582705535489723, 27.630947245325434, 27.630947245325434, 27.630947245325434, 27.630947245325434, 25.727430664996863, 25.727430664996863, 25.727430664996863, 25.727430664996863, 25.727430664996863, 24.775672374832574, 24.775672374832574, 23.823914084668285, 22.872155794503996, 22.872155794503996, 21.920397504339707, 21.920397504339707, 94.82627124133495, 140.94781013914033, 135.29661888437226, 89.91572684583782, 216.4787311466854, 1439.7705782517362, 3247.667144162867, 903.0885350726976, 544.1509261403044, 161.6087801715177, 73.84971674353454, 46.25476561680602, 8627.530000088947, 441.38718456458895, 179.08590972294718, 129.60098725151943, 4141.718218269525, 224.20547515239912, 6081.618341652811, 1729.829734009464, 3446.5362670628874, 252.48655079412663, 695.4113913279201, 8039.331511737274, 1012.021946618014, 1874.920817272995, 700.9416641592205, 1225.684645585704, 313.1418570804934, 1892.478291788392, 1783.4179170075759, 3076.8554220476517, 1579.3240638830428, 1343.9529230848118, 1080.2257660686762, 781.0236336946177, 1755.600823637207, 1263.8784345706742, 1401.0500942080196, 2029.030051894772, 1226.8067573829146, 834.6492555670347, 1381.1088630971271, 2250.053714117743, 1122.6330893157626, 2093.156576289597, 1349.6344332541094, 1584.124088948357, 1259.7779312092537, 369.5626984469436, 361.9546714136652, 77.19708816809978, 69.58906113482132, 60.8941730967888, 51.1124240540022, 46.76498003498593, 43.50439702072373, 42.41753601596967, 40.24381400646154, 36.98323099219934, 33.72264797793714, 33.72264797793714, 33.72264797793714, 33.72264797793714, 32.63578697318307, 30.46206496367494, 29.375203958920874, 28.288342954166808, 28.288342954166808, 28.288342954166808, 28.288342954166808, 28.288342954166808, 27.20148194941274, 27.20148194941274, 26.114620944658675, 26.114620944658675, 26.114620944658675, 25.02775993990461, 25.02775993990461, 76.38647188056113, 111.44226874990665, 639.2370919627406, 534.371005793023, 1296.068600764578, 305.6333947614019, 8627.530000088947, 622.3206925848102, 184.4477432902874, 3446.5362670628874, 267.74427872267455, 1783.4179170075759, 327.26424094805105, 8039.331511737274, 1874.920817272995, 758.1617040381811, 1263.8784345706742, 3247.667144162867, 6081.618341652811, 1755.600823637207, 753.9476306118017, 1076.5755503933733, 2029.030051894772, 1401.0500942080196, 3076.8554220476517, 1579.3240638830428, 1729.829734009464, 1225.684645585704, 785.5534242491711, 4141.718218269525, 1259.7779312092537, 1381.1088630971271, 1226.8067573829146, 891.3198864739721, 2093.156576289597, 1012.021946618014, 1892.478291788392, 1439.7705782517362, 2250.053714117743, 1343.9529230848118, 180.91500769534392, 168.47317879988265, 165.60198751631467, 156.98841366561072, 126.36237330755226, 125.40530954636294, 117.74879945684833, 108.17816184495506, 105.30697056138708, 102.4357792778191, 93.82220542711515, 86.16569533760054, 68.93854763619265, 63.19616506905668, 59.36791002429936, 55.53965497954205, 53.6255274571634, 53.6255274571634, 53.6255274571634, 52.66846369597407, 51.711399934784744, 50.75433617359541, 49.79727241240609, 46.926081128838106, 45.969017367648775, 43.09782608408079, 43.09782608408079, 43.09782608408079, 41.183698561702144, 40.22663480051282, 770.894546737792, 885.5214740125101, 423.9349264430825, 2453.886964453324, 239.11761682809197, 184.30538795317082, 96.82319395424787, 215.33216480098443, 190.17756776387154, 184.71142991395098, 171.99335630127433, 254.2364402942452, 149.29476527892083, 292.34674973005326, 221.161167026474, 166.22444637901316, 370.1249355244462, 287.6169515733208, 1014.7040615493337, 601.9099618827684, 300.6501403223411, 490.82003109147735, 2250.053714117743, 522.5875505345439, 472.2500969832399, 1372.0666104066872, 860.515317878149, 880.7413483916391, 8039.331511737274, 2093.156576289597, 6081.618341652811, 1584.124088948357, 846.7135830166928, 4141.718218269525, 1016.6811538154174, 1892.478291788392, 1179.437633160384, 1349.6344332541094, 3076.8554220476517, 8627.530000088947, 712.7043732242456, 1123.418814634147, 1122.6330893157626, 811.1843960800286, 2029.030051894772, 3446.5362670628874], \"Category\": [\"Default\", \"Default\", \"Default\", \"Default\", \"Default\", \"Default\", \"Default\", \"Default\", \"Default\", \"Default\", \"Default\", \"Default\", \"Default\", \"Default\", \"Default\", \"Default\", \"Default\", \"Default\", \"Default\", \"Default\", \"Default\", \"Default\", \"Default\", \"Default\", \"Default\", \"Default\", \"Default\", \"Default\", \"Default\", \"Default\", \"Topic1\", \"Topic1\", \"Topic1\", \"Topic1\", \"Topic1\", \"Topic1\", \"Topic1\", \"Topic1\", \"Topic1\", \"Topic1\", \"Topic1\", \"Topic1\", \"Topic1\", \"Topic1\", \"Topic1\", \"Topic1\", \"Topic1\", \"Topic1\", \"Topic1\", \"Topic1\", \"Topic1\", \"Topic1\", \"Topic1\", \"Topic1\", \"Topic1\", \"Topic1\", \"Topic1\", \"Topic1\", \"Topic1\", \"Topic1\", \"Topic1\", \"Topic1\", \"Topic1\", \"Topic1\", \"Topic1\", \"Topic1\", \"Topic1\", \"Topic1\", \"Topic1\", \"Topic1\", \"Topic1\", \"Topic1\", \"Topic1\", \"Topic1\", \"Topic1\", \"Topic1\", \"Topic1\", \"Topic1\", \"Topic1\", \"Topic1\", \"Topic1\", \"Topic1\", \"Topic1\", \"Topic1\", \"Topic1\", \"Topic1\", \"Topic1\", \"Topic1\", \"Topic1\", \"Topic1\", \"Topic1\", \"Topic1\", \"Topic1\", \"Topic1\", \"Topic1\", \"Topic1\", \"Topic1\", \"Topic1\", \"Topic1\", \"Topic1\", \"Topic1\", \"Topic1\", \"Topic1\", \"Topic1\", \"Topic1\", \"Topic1\", \"Topic1\", \"Topic1\", \"Topic1\", \"Topic2\", \"Topic2\", \"Topic2\", \"Topic2\", \"Topic2\", \"Topic2\", \"Topic2\", \"Topic2\", \"Topic2\", \"Topic2\", \"Topic2\", \"Topic2\", \"Topic2\", \"Topic2\", \"Topic2\", \"Topic2\", \"Topic2\", \"Topic2\", \"Topic2\", \"Topic2\", \"Topic2\", \"Topic2\", \"Topic2\", \"Topic2\", \"Topic2\", \"Topic2\", \"Topic2\", \"Topic2\", \"Topic2\", \"Topic2\", \"Topic2\", \"Topic2\", \"Topic2\", \"Topic2\", \"Topic2\", \"Topic2\", \"Topic2\", \"Topic2\", \"Topic2\", \"Topic2\", \"Topic2\", \"Topic2\", \"Topic2\", \"Topic2\", \"Topic2\", \"Topic2\", \"Topic2\", \"Topic2\", \"Topic2\", \"Topic2\", \"Topic2\", \"Topic2\", \"Topic2\", \"Topic2\", \"Topic2\", \"Topic2\", \"Topic2\", \"Topic2\", \"Topic2\", \"Topic2\", \"Topic2\", \"Topic2\", \"Topic2\", \"Topic2\", \"Topic2\", \"Topic2\", \"Topic2\", \"Topic2\", \"Topic2\", \"Topic2\", \"Topic3\", \"Topic3\", \"Topic3\", \"Topic3\", \"Topic3\", \"Topic3\", \"Topic3\", \"Topic3\", \"Topic3\", \"Topic3\", \"Topic3\", \"Topic3\", \"Topic3\", \"Topic3\", \"Topic3\", \"Topic3\", \"Topic3\", \"Topic3\", \"Topic3\", \"Topic3\", \"Topic3\", \"Topic3\", \"Topic3\", \"Topic3\", \"Topic3\", \"Topic3\", \"Topic3\", \"Topic3\", \"Topic3\", \"Topic3\", \"Topic3\", \"Topic3\", \"Topic3\", \"Topic3\", \"Topic3\", \"Topic3\", \"Topic3\", \"Topic3\", \"Topic3\", \"Topic3\", \"Topic3\", \"Topic3\", \"Topic3\", \"Topic3\", \"Topic3\", \"Topic3\", \"Topic3\", \"Topic3\", \"Topic3\", \"Topic3\", \"Topic3\", \"Topic3\", \"Topic3\", \"Topic3\", \"Topic3\", \"Topic3\", \"Topic3\", \"Topic3\", \"Topic3\", \"Topic3\", \"Topic3\", \"Topic3\", \"Topic3\", \"Topic3\", \"Topic3\", \"Topic3\", \"Topic3\", \"Topic3\", \"Topic3\", \"Topic3\", \"Topic3\", \"Topic3\", \"Topic3\", \"Topic3\", \"Topic3\", \"Topic3\"], \"logprob\": [30.0, 29.0, 28.0, 27.0, 26.0, 25.0, 24.0, 23.0, 22.0, 21.0, 20.0, 19.0, 18.0, 17.0, 16.0, 15.0, 14.0, 13.0, 12.0, 11.0, 10.0, 9.0, 8.0, 7.0, 6.0, 5.0, 4.0, 3.0, 2.0, 1.0, -7.3725, -8.0871, -8.2781, -8.3321, -8.3321, -8.3603, -8.3893, -8.4499, -8.4499, -8.4499, -8.5144, -8.5144, -8.5144, -8.5144, -8.5483, -8.5483, -8.5483, -8.5483, -8.6197, -8.6197, -8.6197, -8.6197, -8.6197, -8.6575, -8.6575, -8.6967, -8.7375, -8.7375, -8.78, -8.78, -7.4272, -7.0638, -7.1537, -7.5464, -6.7979, -5.1993, -4.5514, -5.6299, -6.0637, -7.0796, -7.7414, -8.1315, -3.8231, -6.2669, -7.018, -7.2909, -4.4906, -6.8596, -4.2464, -5.2439, -4.7066, -6.7742, -5.9757, -4.0588, -5.6894, -5.2103, -5.9917, -5.5616, -6.6276, -5.2682, -5.3256, -4.9229, -5.4207, -5.5409, -5.7114, -5.9575, -5.4101, -5.6412, -5.5862, -5.3436, -5.6815, -5.9396, -5.6299, -5.4012, -5.7782, -5.514, -5.7318, -5.6796, -5.8475, -5.9523, -5.9731, -7.5184, -7.6222, -7.7557, -7.9309, -8.0198, -8.0921, -8.1174, -8.1701, -8.2546, -8.3469, -8.3469, -8.3469, -8.3469, -8.3797, -8.4487, -8.485, -8.5228, -8.5228, -8.5228, -8.5228, -8.5228, -8.562, -8.562, -8.6028, -8.6028, -8.6028, -8.6453, -8.6453, -7.6067, -7.2594, -5.7082, -5.8896, -5.1245, -6.4246, -3.4942, -5.8437, -6.8984, -4.396, -6.5994, -4.9923, -6.4341, -3.7236, -5.0082, -5.7626, -5.3467, -4.5734, -4.0719, -5.0916, -5.7898, -5.5197, -5.0128, -5.3292, -4.7088, -5.2636, -5.2006, -5.4952, -5.8254, -4.6488, -5.5255, -5.5065, -5.5992, -5.8074, -5.3843, -5.7724, -5.6787, -5.7244, -5.6609, -5.7675, -6.3289, -6.4001, -6.4173, -6.4707, -6.6878, -6.6954, -6.7584, -6.8432, -6.8701, -6.8977, -6.9856, -7.0707, -7.2939, -7.3809, -7.4434, -7.5101, -7.5451, -7.5451, -7.5451, -7.5632, -7.5815, -7.6002, -7.6192, -7.6786, -7.6993, -7.7638, -7.7638, -7.7638, -7.8092, -7.8328, -4.905, -4.7794, -5.5092, -3.7924, -6.0776, -6.3342, -6.9654, -6.1861, -6.3079, -6.3395, -6.4116, -6.0532, -6.5667, -5.9287, -6.1953, -6.4769, -5.7535, -6.0023, -4.94, -5.4308, -6.0177, -5.6653, -4.5119, -5.6384, -5.7242, -4.964, -5.3284, -5.3421, -3.8546, -4.7616, -4.1364, -4.9914, -5.4073, -4.4502, -5.352, -5.0153, -5.3034, -5.2717, -4.8948, -4.439, -5.6491, -5.54, -5.5424, -5.668, -5.528, -5.5162], \"loglift\": [30.0, 29.0, 28.0, 27.0, 26.0, 25.0, 24.0, 23.0, 22.0, 21.0, 20.0, 19.0, 18.0, 17.0, 16.0, 15.0, 14.0, 13.0, 12.0, 11.0, 10.0, 9.0, 8.0, 7.0, 6.0, 5.0, 4.0, 3.0, 2.0, 1.0, 0.9967, 0.9965, 0.9964, 0.9964, 0.9964, 0.9963, 0.9963, 0.9963, 0.9963, 0.9963, 0.9962, 0.9962, 0.9962, 0.9962, 0.9962, 0.9962, 0.9962, 0.9962, 0.9962, 0.9962, 0.9962, 0.9962, 0.9962, 0.9961, 0.9961, 0.9961, 0.9961, 0.9961, 0.996, 0.996, 0.8842, 0.8512, 0.8023, 0.8182, 0.6881, 0.3919, 0.2264, 0.4277, 0.5005, 0.6987, 0.82, 0.8978, -0.0223, 0.5066, 0.6576, 0.7081, 0.044, 0.5913, -0.096, 0.1638, 0.0117, 0.5579, 0.3432, -0.1875, 0.2544, 0.1168, 0.3194, 0.1906, 0.4892, 0.0496, 0.0515, -0.0911, 0.078, 0.1192, 0.1672, 0.2454, -0.0173, 0.0804, 0.0323, -0.0955, 0.0698, 0.1969, 0.0029, -0.2565, 0.0618, -0.297, -0.0759, -0.1839, -0.1227, 0.9989, 0.9989, 0.9987, 0.9986, 0.9986, 0.9985, 0.9985, 0.9985, 0.9985, 0.9984, 0.9984, 0.9983, 0.9983, 0.9983, 0.9983, 0.9983, 0.9983, 0.9983, 0.9982, 0.9982, 0.9982, 0.9982, 0.9982, 0.9982, 0.9982, 0.9982, 0.9982, 0.9982, 0.9981, 0.9981, 0.9209, 0.8906, 0.695, 0.6928, 0.5718, 0.7164, 0.3065, 0.5863, 0.7477, 0.3223, 0.674, 0.3849, 0.6386, 0.1478, 0.319, 0.4699, 0.3748, 0.2044, 0.0785, 0.3012, 0.4484, 0.3622, 0.2354, 0.2893, 0.123, 0.2351, 0.2071, 0.257, 0.3717, -0.1142, 0.1993, 0.1263, 0.1521, 0.2633, -0.1673, 0.1713, -0.3609, -0.1332, -0.5162, -0.1074, 1.3366, 1.3366, 1.3366, 1.3365, 1.3365, 1.3365, 1.3365, 1.3365, 1.3365, 1.3365, 1.3365, 1.3364, 1.3364, 1.3364, 1.3363, 1.3363, 1.3363, 1.3363, 1.3363, 1.3363, 1.3363, 1.3363, 1.3363, 1.3362, 1.3362, 1.3362, 1.3362, 1.3362, 1.3362, 1.3362, 1.3109, 1.2978, 1.3047, 1.2656, 1.3089, 1.3127, 1.3252, 1.3051, 1.3076, 1.3052, 1.3044, 1.272, 1.2909, 1.2568, 1.2692, 1.2733, 1.1961, 1.1995, 1.0011, 1.0326, 1.1398, 1.0021, 0.6328, 0.9663, 0.9817, 0.6754, 0.7775, 0.7406, 0.0167, 0.4554, 0.014, 0.5043, 0.7148, 0.0844, 0.5871, 0.3025, 0.4872, 0.3842, -0.063, -0.6382, 0.6453, 0.2994, 0.2977, 0.497, -0.2799, -0.7979]}, \"token.table\": {\"Topic\": [1, 2, 3, 1, 1, 1, 1, 3, 1, 2, 3, 1, 2, 3, 2, 1, 2, 3, 1, 2, 3, 1, 1, 2, 3, 1, 2, 3, 1, 2, 3, 2, 1, 2, 3, 2, 1, 2, 3, 1, 2, 3, 3, 1, 2, 3, 1, 2, 3, 2, 2, 1, 1, 2, 1, 1, 2, 1, 3, 1, 2, 1, 2, 3, 1, 2, 3, 1, 2, 2, 1, 2, 3, 3, 1, 2, 3, 2, 3, 1, 1, 1, 2, 3, 2, 1, 2, 3, 1, 1, 1, 1, 1, 2, 3, 1, 2, 3, 1, 2, 3, 1, 1, 2, 3, 2, 2, 1, 2, 3, 1, 2, 3, 1, 2, 3, 2, 3, 1, 2, 3, 1, 2, 3, 1, 2, 3, 2, 2, 1, 2, 3, 1, 2, 3, 2, 3, 1, 2, 3, 1, 1, 2, 3, 2, 1, 1, 2, 3, 2, 1, 1, 2, 3, 1, 2, 3, 1, 2, 3, 2, 2, 1, 2, 3, 1, 2, 3, 2, 1, 2, 3, 1, 1, 2, 3, 1, 2, 3, 1, 1, 1, 2, 3, 1, 2, 1, 3, 2, 1, 2, 3, 3, 1, 3, 3, 2, 3, 3, 3, 1, 2, 3, 3, 1, 2, 3, 1, 2, 3, 2, 3, 1, 2, 3, 2, 3, 2, 3, 1, 2, 3, 3, 1, 3, 3, 3, 1, 2, 3, 1, 3, 3, 1, 2, 3, 3, 3, 3, 1, 2, 3, 3, 3, 3, 3, 1, 2, 3, 2, 1, 1, 2, 3, 2, 3, 1, 2, 3, 1, 2, 3, 2, 1, 2, 3, 2, 1, 1, 2, 3, 1, 2, 3, 2, 1, 1, 2, 3, 1, 2, 3, 1, 2, 3, 1, 2, 3, 1, 2, 3, 1, 2, 3, 1, 2, 1, 2, 3, 3, 1, 1, 3, 2, 1, 2, 3, 1, 2, 3, 1, 2, 3, 1, 2, 3, 1, 2, 3, 2, 1, 2, 3, 3, 1, 2, 3, 1, 2, 3, 2, 1, 2, 3, 3, 1, 2, 3, 1, 2, 3, 1, 2, 3, 1, 1, 2, 3, 1, 2, 3, 1, 2, 3, 1, 2, 3, 1, 2, 1, 2, 1, 2, 3, 3], \"Freq\": [0.834114371655905, 0.12233677450953273, 0.044486099821648264, 1.0055895127090173, 0.9840510866196828, 1.0145995439092406, 1.0036314348608202, 1.0069831022759772, 0.44628118820776397, 0.47646839837903865, 0.07750770179111074, 0.3885797004679617, 0.5410958310989654, 0.07009013356204215, 0.9956108516795409, 0.34352518594670917, 0.5769631501421564, 0.0795811241575388, 0.14952402468714904, 0.11131232948932207, 0.7376518551232687, 1.0145995439092406, 0.3628387452452206, 0.49783526427680186, 0.13955336355585407, 0.43472486639305613, 0.453223796877867, 0.11214976606416607, 0.3953352857581468, 0.4287553820799695, 0.1752517246144362, 0.9939415780417236, 0.7147407643517066, 0.2624438744103923, 0.02791956110748854, 1.0011832946206263, 0.19517723208650217, 0.7752873385658281, 0.02710794890090308, 0.14822654446693379, 0.1503440665307471, 0.7008998031222154, 0.9977301387803195, 0.47117652286548983, 0.3508216501770223, 0.1779715670606062, 0.07024655056855185, 0.062141179349103556, 0.8699765108874498, 0.9925929789491822, 1.0059052221495348, 1.0133565002820162, 0.2628132849490409, 0.7383801815234958, 1.0105945027528138, 1.0145995439092406, 0.9988908340190547, 0.9897575988729191, 1.0021333596971724, 1.0090543506458094, 0.9898070044387547, 0.4360199643396173, 0.3814017522461196, 0.1823692844477805, 0.8655686092573166, 0.05675859732834863, 0.07804307132647936, 1.0105945027528138, 0.9925929789491822, 1.0082245030771104, 0.2742269768549721, 0.3114912698770763, 0.41420694936108154, 0.9967680033020205, 0.07854793986796088, 0.9294839551042037, 0.9957458294270676, 0.9901565235705235, 0.9971322689019912, 1.0105945027528138, 1.0105945027528138, 0.35249543166050806, 0.2928560530714827, 0.35427571161838944, 1.0082245030771104, 0.26517840208843724, 0.7208370648319491, 0.01120472121500439, 1.0133565002820162, 1.0036314348608202, 0.9879672170312003, 0.9945638285761378, 0.17591661418654694, 0.6527432263237664, 0.17128722960269044, 0.4492905223347221, 0.44449809009648505, 0.10663161730077404, 0.7425339135203067, 0.17325791315473826, 0.08044117396469991, 1.0090543506458094, 0.27367390333541164, 0.2946309139511864, 0.4314678656188922, 0.9898070044387547, 0.9898070044387547, 0.5658359952037981, 0.2890082089005701, 0.1450577600228915, 0.26518709173197813, 0.2329156467063935, 0.500908951049292, 0.3367074034666668, 0.4163341542864866, 0.24668042396833986, 0.02927429644396501, 0.974415867349121, 0.3067941478767853, 0.25818684461235636, 0.4349406746648252, 0.41495085703489765, 0.506688064502767, 0.07840331103358605, 0.3548287901024873, 0.5294565716188947, 0.11610889728484532, 1.0111599278153214, 0.9978004554453646, 0.5078881998361761, 0.33668993022847626, 0.15550509489366066, 0.25076210824937983, 0.7354440935970618, 0.013099513117504917, 0.9956108516795409, 0.9943660512086899, 0.7344832407219813, 0.04157452305973479, 0.22635018110300054, 0.9914486019448665, 0.3855887619190211, 0.3286075798195289, 0.2858716932449098, 0.9872271879560199, 1.0055895127090173, 0.28532652175005135, 0.21999474807831063, 0.4946548578003227, 0.9974469481585806, 1.0133565002820162, 0.1918838036940339, 0.25660200967367847, 0.5506724543882038, 0.3928264757177134, 0.25386745029376034, 0.35363290444429074, 0.3352726010501109, 0.3984136892321818, 0.26637646576811164, 1.0082245030771104, 0.9848314628628775, 0.15920692770212783, 0.26960589216710695, 0.571750426492313, 0.14289880714442205, 0.14289880714442205, 0.7144940357221102, 0.9956108516795409, 0.30587120289913483, 0.42690116647004095, 0.2671863943990816, 0.9840510866196828, 0.3262479757884657, 0.4492855335675708, 0.22384897608843632, 0.7484510886614623, 0.06172792483805874, 0.19289976511893356, 0.9944663411422527, 1.0105945027528138, 0.4627937326340197, 0.4517088528104503, 0.08559990530422985, 0.8395428274330927, 0.16249216014834053, 0.0468871094503696, 0.9578366644861218, 1.0050255546958053, 0.016939171369872493, 0.020327005643846992, 0.9621449338087575, 1.0004697913442273, 0.03066508369355923, 0.9694884152348341, 0.9938028806446315, 0.010328103826780727, 0.9914979673709499, 0.9970849929520275, 1.0040710580674979, 0.39890483176140273, 0.4660221526609403, 0.13486782407171236, 1.0006739894417023, 0.03137878847535018, 0.03708402274359567, 0.9311757359243529, 0.027129536711486844, 0.04069430506723026, 0.935969016546296, 1.0001252327706056, 1.0055809756761414, 0.08344431671608825, 0.04519900488788114, 0.8726884789890896, 0.02907089033858777, 0.9709677373088316, 0.02170310941216943, 0.9766399235476244, 0.03007981141714472, 0.03007981141714472, 0.9384901162149152, 1.0069831022759772, 0.032507916346216005, 0.9705935023370207, 1.0082885826465346, 0.9977301387803195, 0.011800039351274329, 0.051133503855522094, 0.9361364552010968, 0.9840510866196828, 0.9955395321907059, 1.0000738037548043, 0.14302338244012688, 0.03658737690328827, 0.821552917737473, 1.0008914078685216, 1.0069831022759772, 0.9983530701398827, 0.03420595580157394, 0.04104714696188873, 0.9235608066424964, 1.0018950159194773, 1.0024034281813563, 1.0062947783314833, 0.9980770150237709, 0.010377554276202551, 0.015566331414303825, 0.9741929076785144, 0.9884058381389942, 1.0073911413005403, 0.19250901753490174, 0.27045745408277605, 0.537371797413376, 0.026291218563737787, 0.972775086858298, 0.6455789406894291, 0.24555763388186874, 0.1108969959466504, 0.5459203097165749, 0.32227356705914856, 0.13196546926990996, 1.0082245030771104, 0.6645689624605299, 0.2185495245675568, 0.115965053852173, 1.0004534219253098, 1.004317694656117, 0.820419615177991, 0.1773880249033494, 0.996895933972539, 0.33562834585129026, 0.4662326214028203, 0.19861706810289279, 1.0017378822608034, 1.0133565002820162, 0.3058972804137012, 0.22130832184270988, 0.47212441993111437, 0.600366880853218, 0.28740967700420006, 0.10857698909047558, 0.36999255717908147, 0.4177802455818591, 0.21214837427293712, 0.36082169519757173, 0.5003749624696168, 0.13874191106697506, 0.39956374457132265, 0.5356527823263078, 0.06408844219856859, 0.5205551771430496, 0.3767554044515994, 0.1035358363378441, 0.09870581533731755, 0.8973255939756141, 0.38931028608900325, 0.4790648189049118, 0.13126600424326623, 1.0015752193531555, 1.0145995439092406, 0.0324831008172864, 0.9690791743823775, 0.9988908340190547, 0.8963760663294787, 0.042182403121387234, 0.06327360468208085, 0.4762742563150462, 0.4367494217660797, 0.08695463600772628, 0.4159371882736131, 0.3311127885183503, 0.2537291255837246, 0.38785121244712933, 0.2568061161434671, 0.3556183460175995, 0.6117078371143565, 0.28546365732003304, 0.10195130618572609, 0.9898070044387547, 0.34231491774114703, 0.27192548660389815, 0.38603045918428047, 1.0048402529699993, 0.3734183830587606, 0.5083364468678698, 0.11837972050347655, 0.36140047504457085, 0.5895839866603035, 0.04880225392937636, 0.9898070044387547, 0.3811426887643568, 0.49177399355550905, 0.12704756292145228, 0.9971913701441777, 0.17796061139396116, 0.13012173736332644, 0.6907933410023653, 0.24587989381254957, 0.32642675557872963, 0.4273222982121551, 0.34625270745904585, 0.5346549159294091, 0.11966086213658203, 0.9914486019448665, 0.25800496660659406, 0.22593655267809082, 0.5160099332131881, 0.2963965745814481, 0.6966847320058779, 0.0061112695789989286, 0.05704738646818075, 0.228189545872723, 0.7151297375118373, 0.6082871205380521, 0.22787795452180803, 0.163557564132588, 0.9080145459593442, 0.08647757580565182, 0.24539203269508578, 0.7525355669315964, 0.3294121542842037, 0.6620380856833752, 0.009641331344903522, 0.9977301387803195], \"Term\": [\"16\", \"16\", \"16\", \"29\", \"320\", \"36\", \"59\", \"adrenaline\", \"album\", \"album\", \"album\", \"amazing\", \"amazing\", \"amazing\", \"atm\", \"awesome\", \"awesome\", \"awesome\", \"baby\", \"baby\", \"baby\", \"barton\", \"beautiful\", \"beautiful\", \"beautiful\", \"best\", \"best\", \"best\", \"better\", \"better\", \"better\", \"bieber\", \"bless\", \"bless\", \"bless\", \"blm\", \"bts\", \"bts\", \"bts\", \"cause\", \"cause\", \"cause\", \"chains\", \"chester\", \"chester\", \"chester\", \"chorus\", \"chorus\", \"chorus\", \"clarkson\", \"cnco\", \"cohen\", \"com\", \"com\", \"compression\", \"consider\", \"contact\", \"culture\", \"dawn\", \"dean\", \"del\", \"did\", \"did\", \"did\", \"difference\", \"difference\", \"difference\", \"differences\", \"disappointing\", \"dolla\", \"don\", \"don\", \"don\", \"dry\", \"dua\", \"dua\", \"dusk\", \"enormous\", \"et\", \"evil\", \"exist\", \"feel\", \"feel\", \"feel\", \"fifth\", \"fighting\", \"fighting\", \"fighting\", \"file\", \"files\", \"format\", \"frequencies\", \"fuck\", \"fuck\", \"fuck\", \"fucking\", \"fucking\", \"fucking\", \"george\", \"george\", \"george\", \"gimme\", \"girl\", \"girl\", \"girl\", \"giveaway\", \"gmail\", \"god\", \"god\", \"god\", \"gonna\", \"gonna\", \"gonna\", \"good\", \"good\", \"good\", \"goodbyes\", \"goodbyes\", \"got\", \"got\", \"got\", \"great\", \"great\", \"great\", \"guys\", \"guys\", \"guys\", \"hannah\", \"harmony\", \"hear\", \"hear\", \"hear\", \"https\", \"https\", \"https\", \"hunter\", \"ice\", \"jesus\", \"jesus\", \"jesus\", \"joey\", \"just\", \"just\", \"just\", \"jyp\", \"kevin\", \"know\", \"know\", \"know\", \"lento\", \"leonard\", \"let\", \"let\", \"let\", \"life\", \"life\", \"life\", \"like\", \"like\", \"like\", \"links\", \"lipa\", \"little\", \"little\", \"little\", \"ll\", \"ll\", \"ll\", \"loop\", \"love\", \"love\", \"love\", \"mac\", \"make\", \"make\", \"make\", \"michael\", \"michael\", \"michael\", \"mp3\", \"murder\", \"music\", \"music\", \"music\", \"musical\", \"musical\", \"mustang\", \"mustang\", \"mu\\u00e9vete\", \"nand\", \"nand\", \"nand\", \"nbaby\", \"nbut\", \"nbut\", \"ncause\", \"ndo\", \"ndo\", \"neven\", \"neverybody\", \"new\", \"new\", \"new\", \"ngot\", \"ni\", \"ni\", \"ni\", \"nif\", \"nif\", \"nif\", \"niggerfaggot\", \"nis\", \"nit\", \"nit\", \"nit\", \"njust\", \"njust\", \"nlet\", \"nlet\", \"nmy\", \"nmy\", \"nmy\", \"nnever\", \"noh\", \"noh\", \"nooh\", \"nscary\", \"nso\", \"nso\", \"nso\", \"nsuck\", \"ntell\", \"nthat\", \"nthe\", \"nthe\", \"nthe\", \"nthere\", \"nthink\", \"nto\", \"nwe\", \"nwe\", \"nwe\", \"nwhatever\", \"nwhen\", \"nwith\", \"nyeah\", \"nyou\", \"nyou\", \"nyou\", \"nyoutube\", \"oct\", \"oh\", \"oh\", \"oh\", \"ooh\", \"ooh\", \"peace\", \"peace\", \"peace\", \"people\", \"people\", \"people\", \"perrie\", \"petty\", \"petty\", \"petty\", \"phenomenal\", \"plain\", \"quality\", \"quality\", \"quicker\", \"really\", \"really\", \"really\", \"reggaet\\u00f3n\", \"releasing\", \"right\", \"right\", \"right\", \"rock\", \"rock\", \"rock\", \"shit\", \"shit\", \"shit\", \"song\", \"song\", \"song\", \"songs\", \"songs\", \"songs\", \"sound\", \"sound\", \"sound\", \"soundcloud\", \"soundcloud\", \"sounds\", \"sounds\", \"sounds\", \"sporty\", \"stanton\", \"sun\", \"sun\", \"swish\", \"test\", \"test\", \"test\", \"thank\", \"thank\", \"thank\", \"think\", \"think\", \"think\", \"time\", \"time\", \"time\", \"tom\", \"tom\", \"tom\", \"tt\", \"ve\", \"ve\", \"ve\", \"veins\", \"video\", \"video\", \"video\", \"views\", \"views\", \"views\", \"vocalist\", \"voice\", \"voice\", \"voice\", \"vous\", \"wanna\", \"wanna\", \"wanna\", \"want\", \"want\", \"want\", \"watch\", \"watch\", \"watch\", \"wav\", \"way\", \"way\", \"way\", \"www\", \"www\", \"www\", \"yeah\", \"yeah\", \"yeah\", \"years\", \"years\", \"years\", \"younger\", \"younger\", \"youtu\", \"youtu\", \"youtube\", \"youtube\", \"youtube\", \"zig\"]}, \"R\": 30, \"lambda.step\": 0.01, \"plot.opts\": {\"xlab\": \"PC1\", \"ylab\": \"PC2\"}, \"topic.order\": [2, 1, 3]};\n\nfunction LDAvis_load_lib(url, callback){\n  var s = document.createElement('script');\n  s.src = url;\n  s.async = true;\n  s.onreadystatechange = s.onload = callback;\n  s.onerror = function(){console.warn(\"failed to load library \" + url);};\n  document.getElementsByTagName(\"head\")[0].appendChild(s);\n}\n\nif(typeof(LDAvis) !== \"undefined\"){\n   // already loaded: just create the visualization\n   !function(LDAvis){\n       new LDAvis(\"#\" + \"ldavis_el374949919108483326951853\", ldavis_el374949919108483326951853_data);\n   }(LDAvis);\n}else if(typeof define === \"function\" && define.amd){\n   // require.js is available: use it to load d3/LDAvis\n   require.config({paths: {d3: \"https://d3js.org/d3.v5\"}});\n   require([\"d3\"], function(d3){\n      window.d3 = d3;\n      LDAvis_load_lib(\"https://cdn.jsdelivr.net/gh/bmabey/pyLDAvis@3.3.1/pyLDAvis/js/ldavis.v3.0.0.js\", function(){\n        new LDAvis(\"#\" + \"ldavis_el374949919108483326951853\", ldavis_el374949919108483326951853_data);\n      });\n    });\n}else{\n    // require.js not available: dynamically load d3 & LDAvis\n    LDAvis_load_lib(\"https://d3js.org/d3.v5.js\", function(){\n         LDAvis_load_lib(\"https://cdn.jsdelivr.net/gh/bmabey/pyLDAvis@3.3.1/pyLDAvis/js/ldavis.v3.0.0.js\", function(){\n                 new LDAvis(\"#\" + \"ldavis_el374949919108483326951853\", ldavis_el374949919108483326951853_data);\n            })\n         });\n}\n</script>"
     },
     "metadata": {},
     "execution_count": 6
    }
   ],
   "source": [
    "#Guided LDA\n",
    "import guidedlda\n",
    "\n",
    "vect = CountVectorizer(max_df=0.8, min_df=2, stop_words='english')\n",
    "dtm = vect.fit_transform(comments_category_filtered['comment_text'])\n",
    "\n",
    "vocab = vect.vocabulary_\n",
    "word2id = dict((v, idx) for idx, v in enumerate(vocab))\n",
    "\n",
    "#Create topics\n",
    "seed_topic_list = [\n",
    "    [\"lyrics\", \"text\"],\n",
    "    [\"video\", \"look\"],\n",
    "    [\"voice\", \"hear\"]\n",
    "]\n",
    "\n",
    "guidedLDA = guidedlda.GuidedLDA(n_topics=3, n_iter=100, random_state=1, refresh=20)\n",
    "\n",
    "seed_topics = {}\n",
    "for t_id, st in enumerate(seed_topic_list):\n",
    "    for word in st:\n",
    "        seed_topics[word2id[word]] = t_id\n",
    "\n",
    "#model.fit(X, seed_topics=seed_topics, seed_confidence=0.15)\n",
    "guidedLDA.fit(dtm, seed_topics=seed_topics, seed_confidence=0.15)\n",
    "\n",
    "for index,topic in enumerate(guidedLDA.components_):\n",
    "    print(f'topic #{index+1} : ')\n",
    "    print([vect.get_feature_names()[i] for i in topic.argsort()[-20:]])\n",
    "\n",
    "pyLDAvis.enable_notebook()\n",
    "vis = pyLDAvis.sklearn.prepare(guidedLDA, dtm, vect)\n",
    "pyLDAvis.display(vis)"
   ]
  },
  {
   "cell_type": "code",
   "execution_count": null,
   "metadata": {},
   "outputs": [],
   "source": []
  }
 ]
}